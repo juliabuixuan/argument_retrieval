{
  "cells": [
    {
      "attachments": {},
      "cell_type": "markdown",
      "metadata": {
        "id": "qI8hd_MWhX55"
      },
      "source": [
        "#### Indexing Dataset 2022\n",
        "\n",
        "Download dataset 2022, split into sentences, DELETE DUPLICATES, extract stance and index them.\n",
        "\n",
        "Final output: **index22sent**, \n",
        "\n",
        "**merged_retreived_sent22.csv** after loading the retreived sentences from notebook 2"
      ]
    },
    {
      "cell_type": "code",
      "execution_count": 3,
      "metadata": {
        "id": "Q_R6VZtSsDTO"
      },
      "outputs": [],
      "source": [
        "import warnings\n",
        "warnings.filterwarnings(\"ignore\")"
      ]
    },
    {
      "cell_type": "code",
      "execution_count": 4,
      "metadata": {},
      "outputs": [],
      "source": [
        "import pyterrier as pt\n",
        "import pandas as pd\n",
        "import os\n",
        "import matplotlib.pyplot as plt\n",
        "import string\n",
        "import re"
      ]
    },
    {
      "cell_type": "code",
      "execution_count": 5,
      "metadata": {
        "colab": {
          "base_uri": "https://localhost:8080/"
        },
        "id": "TAyRw6IUeDRX",
        "outputId": "d76efc38-bd4a-48d6-bc3e-5168b64c1e34"
      },
      "outputs": [
        {
          "name": "stderr",
          "output_type": "stream",
          "text": [
            "PyTerrier 0.10.0 has loaded Terrier 5.8 (built by craigm on 2023-11-01 18:05) and terrier-helper 0.0.8\n",
            "\n",
            "No etc/terrier.properties, using terrier.default.properties for bootstrap configuration.\n"
          ]
        }
      ],
      "source": [
        "if not pt.started():\n",
        "  pt.init()\n"
      ]
    },
    {
      "cell_type": "markdown",
      "metadata": {},
      "source": [
        "The corpus is a pre-processed version of the args.me corpus (version 2020-04-01) where each argument is split into sentences.\n",
        "These sentences and the complete arguments will be indexed. \n",
        "Duplicate sentences are an expected part of this dataset. This is because in some of the debate portals from which the args.me corpus was derived, individual arguments are mapped to the same conclusion (which is essentially the discussion topic/title on the corresponding portal). Moreover, we opted to preserve the duplicates to reflect the common information retrieval scenario where filtering out such documents is part of the pipeline."
      ]
    },
    {
      "cell_type": "code",
      "execution_count": 6,
      "metadata": {
        "id": "aCckD00Yd7ds"
      },
      "outputs": [],
      "source": [
        "dataset = pt.get_dataset('irds:argsme/2020-04-01/processed/touche-2022-task-1')"
      ]
    },
    {
      "cell_type": "code",
      "execution_count": 7,
      "metadata": {
        "colab": {
          "base_uri": "https://localhost:8080/",
          "height": 35
        },
        "id": "gBpHVZIwqJiN",
        "outputId": "1b9f7353-c29f-402a-958f-b0880fe28f4d"
      },
      "outputs": [
        {
          "data": {
            "text/plain": [
              "'https://ir-datasets.com/argsme.html#argsme/2020-04-01/processed/touche-2022-task-1'"
            ]
          },
          "execution_count": 7,
          "metadata": {},
          "output_type": "execute_result"
        }
      ],
      "source": [
        "dataset.info_url() #information source"
      ]
    },
    {
      "cell_type": "code",
      "execution_count": 8,
      "metadata": {
        "colab": {
          "base_uri": "https://localhost:8080/",
          "height": 35
        },
        "id": "XgzwtU4tssCm",
        "outputId": "a1c2f7f3-14d0-4560-c15b-a81a5af44ab9"
      },
      "outputs": [
        {
          "data": {
            "text/plain": [
              "'en'"
            ]
          },
          "execution_count": 8,
          "metadata": {},
          "output_type": "execute_result"
        }
      ],
      "source": [
        "dataset.get_corpus_lang() #language enghlish ok"
      ]
    },
    {
      "cell_type": "code",
      "execution_count": 9,
      "metadata": {},
      "outputs": [
        {
          "name": "stderr",
          "output_type": "stream",
          "text": [
            "argsme/2020-04-01/processed/touche-2022-task-1 documents:   0%|          | 0/365408 [00:00<?, ?it/s]"
          ]
        },
        {
          "name": "stderr",
          "output_type": "stream",
          "text": [
            "argsme/2020-04-01/processed/touche-2022-task-1 documents: 100%|██████████| 365408/365408 [04:29<00:00, 1355.84it/s]"
          ]
        },
        {
          "name": "stdout",
          "output_type": "stream",
          "text": [
            "[{'conclusion': 'the War in Iraq was Worth the Cost', 'premises': [ArgsMePremise(text='His removal provides stability and security not only for Iraq but for the Middle East as a region', stance=<ArgsMeStance.PRO: 1>, annotations=[])], 'premises_texts': 'His removal provides stability and security not only for Iraq but for the Middle East as a region', 'aspects': [], 'aspects_names': '', 'source_id': 'Sf9294c83', 'source_title': 'This House Believes that the War in Iraq was Worth the Cost | idebate.org', 'source_url': 'https://idebate.org/debatabase/international-middle-east-politics-terrorism-warpeace/house-believes-war-iraq-was-worth', 'source_previous_argument_id': None, 'source_next_argument_id': None, 'source_domain': <ArgsMeSourceDomain.idebate: 4>, 'source_text': \"idebate.org Educational and informative news and resources on debate, advocacy and activism for youth. \\xa0 \\xa0 News Debatabase Events Community Media About Search form Search This House Believes that the War in Iraq was Worth the Cost The war in Iraq is likely to be remembered for decades, if not centuries, as the defining conflict of the early 21st century. The effect it had not only in the nation and country itself in radicalizing an entire generation as well as the toxic effect it had on those politicians most closely associated with it may well stand as a legacy to how not to fight a war. However, as the original reasons for going in fade into history – and they were never that clear in the first place – the issue of what has been accomplished becomes an interesting one. It would be foolish to assert that everything went according to plan, and proposition will have to demonstrate benefits from some unusual sources. However unlikely it may seem, such benefits do exist. The first and most obvious one is that Saddam Hussein, and his genocidal regime, is no longer in power. Instead there is, by the standards of the region, a democratic, relatively stable and relatively transparent nation state. It may not be Switzerland but the difference between the country the allies entered and the one they are leaving could not be clearer. Equally, although it will come as little consolation to the families of those who have died the knowledge gained about how wars in the 21st century need to be fought can be used to save lives in the future. Especially given the instability of the Middle East as a whole and the growing scarcity of oil, it seems unlikely that this is the last desert war the West will be fighting in the decades to come. Equally, the impact it had on the West is instructive. When Britain and France chose to intervene in Libya, Sarkosy and Cameron did so in the shadow of Baghdad and the difference in their approach could not have been more different from the gung-ho, militaristic approach taken by Blair and Bush. Instead they adopted very clear goals, were very clear on the need for indigenous allies, and refused to put boots on the ground. It seems that they acknowledged that their electorates would not stomach another war conducted along the lines of Iraq. It would stretch credulity to suggest that there is a direct link between the fall of Baghdad and the Arab Spring. However, that synchronicity of the two events may ultimately prove beneficial. The Middle East would have been a lonely place for a democratic state and now there are at least a handful to build upon. Although the cost in lives – lost and broken – is almost too ghastly to contemplate and the effects on the economies of all concerned has been devastating, there are some positives that have come out of the conflict. Benefits that would not be available with Saddam left in power. The balance of probability now seems to be that the future generations living in a free and democratic Iraq will give thanks to those who died to start the nation on its long road to freedom. \\xa0 POINTS FOR POINTS AGAINST Title\\xa0 Saddam Hussein is gone and Iraq is now functioning as one of very few democracies in the Middle East Point\\xa0 It's important to be clear that this debate is looking at the results of the Iraq war and, by any definition Iraq is in a much more stable and secure position than it was in 2003 when American, British and other international troops arrived in the country. Whatever one thinks of the initial justifications for the war there is no doubt that the country, the region and the world are better and safer places without Saddam Hussein[i]. It is easy to criticize the allies but it is worth bearing in mind that the alternative was leaving in power a man who had committed genocide was a vicious and brutal dictator under whose regime extra-judicial execution and detention, mass-murder and torture were commonplace[ii]. [i]\\xa0Richard Miniter. “Was the Iraq War Worth It?”. Hudson New York. 2 September 2010. [ii]\\xa0Interview with Donald Rumsfeld. Inside Politics. NPR. 14 February 2011. Counterpoint\\xa0 In the unlikely event that something resembling a democratic government survives in Iraq after the international troops leave then that would, of course, be welcome. However, some context is required to establish whether the price was worth paying. Over a trillion dollars, 4,000 American dead, tens of thousands of Iraqis, US reputation destroyed in the region to establish a puppet government whose only real chance of survival is a continued American presence in the country. The alternatives are all unpleasant – a theocratic regime allied to a nuclear Iran, a simple meltdown of the state or the emergence of a new strongman along the lines of Saddam's regime. Assuming the US can't sign up in perpetuity then one of these outcomes seems likely and those lives and resources will have been squandered for no reason whatsoever[i]. [i]\\xa0Francis Fukuyama. “Iraq May Be Stable, But The War Was Still A Mistake”. Wall Street Journal. 15 August 2008. Title\\xa0 Although there has been a huge cost in human life the alternatives may well have been worse Saddam had made quite clear his intention to hand over power to his sons Point\\xa0 Without intervention there is little doubt that Saddam or one of his still more murderous sons would be running Iraq. Even though there were no WMDs, it seems reasonable to assume that neither Saddam nor his sons would have ignored Iran’s attempts to secure fissile material and develop a bomb. Iraq had attempted to build a nuclear reactor in the 1970’s but it was destroyed by Israel in 1981[i]\\xa0and Iraq and Iran had fought a far for most of the 1980s for political dominance in the Gulf and the Shi’ite, Sunni religious divide.[ii]So we would now be watching an arms race in the Middle East between the two with Israel on a hair trigger. This wasn’t just about removing one tyrant; the regime had dynastic ambitions, and a failure to act would have created the equivalent of North Korea. However, this particular hermit kingdom would have been sitting on top of the second largest reserves of oil in the world. It would, therefore, have the capacity to create the sort of fear and chaos Kim Jong Il can only dream of. [i]\\xa0BBC On This Day, ‘1981: Israel bombs Baghdad nuclear reactor’. [ii]\\xa0Pipes, Daniel, ‘A Border Adrift: Origins of the Iraq-Iran War’,\\xa0The Iraq-Iran War: Old Conflict, New Weapons, 1983 Counterpoint\\xa0 There is little evidence that the Ba’ath Party would have tolerated a handover of power to Saddam’s sons. Even in North Korea, the issue of Kim Il Sung’s succession became fraught, and hotly contested amongst the North Korean political elite.. However, the issue of who should run Iraq was and should remain a matter for the Iraqi people. The current puppet regime has little power outside\\xa0Baghdad\\xa0and, frankly, not that much inside, this lack of central control is as damaging as too much would be as is shown by the failure of Somalia and resulting civil war and piratical attacks.[i] In many ways the war has encouraged the world’s rogue states to pursue nuclear weapons as, in an era of ‘pre-emptive defense, they are the only surety against invasion and overthrow[ii]. Iran is continuing to persue nuclear weapons even without the threat of Iraq on its borders, instead it is worried about Israel and the United States. One more threatening state would therefore have made little difference.[iii] If the aim of the war was to insure against future threats then leaving a nation bitter and resentful, where barely a family has not lost someone to the conflict, a radicalized younger generation, emboldened militant clerics and a weak central government seems a very strange way to go about doing it. The West will almost certainly have to return to Iraq within a generation, if not a decade. [i]\\xa0Blair, David, ‘Somalia: Analysis of a failed state’,\\xa0The Telegraph, 18 November 2008 [ii]\\xa0Francis Fukuyama. “Iraq May Be Stable, But The War Was Still A Mistake”. Wall Street Journal. 15 August 2008. [iii]\\xa0BBC News, ‘Q&A: Iran nuclear issue’, 23 January 2012 Title\\xa0 His removal provides stability and security not only for Iraq but for the Middle East as a region Point\\xa0 The Middle East is a tinder box at the best of times. Having an unpredictable megalomaniac sitting in the middle of it was dangerous, not only for Iraqis but for other peoples in the region. Hussain was a danger to the Middle East as he had proved many times, through his invasion of Iran[i]\\xa0which was followed only a couple of years later in 1990 by an invasion of Kuwait which sparked the Gulf War[ii]\\xa0and his use of scud missiles on Israel which was otherwise uninvolved in the conflict.[iii] It was better to remove this threat than risk being drawn into a multi-player conflict when he next attacked a neighbor. [i]\\xa0Pipes, Daniel, ‘A Border Adrift: Origins of the Iraq-Iran War’, The Iraq-Iran War: Old Conflict, New Weapons, 1983 [ii]\\xa0BBC on this day, ‘1990: Iraq invades Kuwait’. [iii]\\xa0CBC Digital Archives, ‘Scud vs. Patriot missiles’, 19 January 1991 Counterpoint\\xa0 By empowering the Shi’a majority, the outcome of the war has provided an obvious link to Iran, an equally obvious threat to Israel and has implication for nations “from Lebanon to Pakistan.[i]” The weakness of this government represents a far greater threat to security and regional stability than any dictator, however bloodthirsty. Iraq looks set to join the other lawless regions of Asia such as the Pashtun Valley as an obvious place for terrorists and Criminals to base themselves. [i]\\xa0Vali Nasr. “Regional Implications of Shi’a Revival in Iraq”. The Washington Quarterly • 27:3 pp. 7–24. The Centre for International and Strategic Studies and the Massachusetts Institute for Technology. Summer 2004. Title\\xa0 The war was illegal and the removal of Saddam should have been left to the Iraqis Yet another puppet regime is not what the Middle East needs Point\\xa0 Events from the Arab Spring have demonstrated, more graphically than anything else could have done, that Arab peoples are more than capable of dealing with their own dictators and do not need to be patronized by fading imperial powers. Imagine what the situation in Iraq would be now following a genuinely democratic uprising rather than the imposition of yet another puppet regime by the West. Since the creation of the state of Iraq as a modern state by the British in 1932, a succession of rulers, of various stripes of dictatorial ruthlessness, have been brought in to ensure that the oil wealth continues to flow to Washington, London and other foreign capitals. The allies were never interested in Iraqi freedom, this was yet another grab for oil and the results look set to be the same round of misery and tyranny for the people of Iraq. Counterpoint\\xa0 The sands of Iraq are as soaked in blood as they are in oil. For once the Iraqis have actually got something out of their mineral wealth, which has otherwise served as a curse for over a century. There has been a functioning civilization around the Tigis-Euphrates Valleys for at least ten thousand years it was only with the discovery of oil and the importation of the Industrial Age that this began to function as a curse. For once their oil wealth has worked to their advantage, leading to the removal of a dictator rather than the imposition of one. As the troops step back it seems likely that Iraq has the opportunity to become that rarest of things; a Middle Eastern, oil producing state that is democratic and stable. As a result they can negotiate with oil consuming nations on an even footing. Title\\xa0 An entire generation has been turned against the West and fundamentalist clerics have gained enormously in influence Point\\xa0 The aftermath of the war has been to create an entire people with no reason to love the West and more than100,000 reasons to hate it as a result of an estimated 105-115000 dead.[i]\\xa0The country is teetering on the brink of civil war, with the leader of the sunni block having said Iraq is heading towards a “sectarian autocracy that carries with it the threat of devastating civil war”[ii]\\xa0unemployment is rife and the reputation of the ‘liberators’ lies in tatters[iii]. It is not hard to see how this combination is likely to lead to chaos in Iraq and insecurity for the West. Millions of young people with a perfectly justifiable grudge, little education, no job and a desire to do something to make things\\xa0right.[iv] It is difficult to imagine a situation more likely to produce violence, terrorism and instability. [i]\\xa0Iraq Body Count [ii]\\xa0Loney, Jim, ‘Iraq on the brink of ‘devastating civil war’: Former PM Allawi’,\\xa0National Post, 28 December 2011 [iii]\\xa0Malou Innocent. “The Iraq War: Still a Massive Mistake.” Christian Science Monitor. 5 April 2010. [iv]\\xa0Benmelech, Efraim et al., ‘Economic Conditions and the Quality of Suicide Terrorism’,\\xa0Journal of Politics, Vol. 74, No. 1, January 2012, pp. 113-128 Counterpoint\\xa0 Iraq now has a professionally trained army and police force accountable to a democratically elected government and, through them, to the people. Unusually among Arab nations the security forces should now act as upholders of the law rather than the personal armies of local and national strong men used to settle grudges and silence dissent. The torture chambers are closed and the courts are functioning. There is, of course, work still to be done in terms of creating jobs but at least those jobs will go to people on the basis of ability rather than political loyalty. Iraq still faces problems but is better equipped to deal with them than it has been in a century and more. Title\\xa0 Even if the outcome is a stable democratic Iraq, the war was still a costly, illegal, ideologically-driven mistake Point\\xa0 The cost of the Iraq war has been astonishing both in the lives and treasure spent and the resentment and chaos stored up for the future. Even if the result had been Switzerland on Sinai, it would still not have been worth it. There have been more than 100,000 Iraqi\\xa0deaths[i]. \\xa0It has been the most expensive US war other than WWII in constant 2011 dollars, costing more than $400 billion more than Vietnam,[ii]and what is left is a failed state in the making. The war was poorly conceived, recklessly enacted and devastatingly badly\\xa0concluded. The secretary of defense Donald Rumsfeld wanted the war fought “on the cheap” using a much smaller force than the pentagon or independent analysts thought was necessary.[iii]\\xa0With the allies now withdrawing from Iraq the world’s best hope is that the US and its allies will be sufficiently cowed by public opinion as to never try such folly again. That, perhaps, would be a benefit. [i]\\xa0Iraq Body Count [ii]\\xa0Daggett, Stephen, ‘Costs of Major U.S. Wars’,\\xa0Congressional Research Service, 29 June 2010 [iii]\\xa0Weinraub, Bernard, and Shanker, Thom, ‘A NATION AT WAR: UNDER FIRE; Rumsfeld’s Design for War Criticized on the Battlefield’,\\xa0The New York Times,\\xa01 April 2003 How do you feel now, please vote FOR AGAINST Bibliography\\xa0 BBC On This Day, ‘1981: Israel bombs Baghdad nuclear reactor’. BBC on this day, ‘1990: Iraq invades Kuwait’. BBC News, ‘Q&A: Iran nuclear issue’, 23 January 2012 Benmelech, Efraim et al., ‘Economic Conditions and the Quality of Suicide Terrorism’, Journal of Politics, Vol. 74, No. 1, January 2012, pp. 113-128 Blair, David, ‘Somalia: Analysis of a failed state’, The Telegraph, 18 November 2008 CBC Digital Archives, ‘Scud vs. Patriot missiles’, 19 January 1991 Daggett, Stephen, ‘Costs of Major U.S. Wars’, Congressional Research Service, 29 June 2010 Fukuyama, Francis. “Iraq May Be Stable, But The War Was Still A Mistake”. Wall Street Journal. 15 August 2008. Innocent. Malou, \\xa0“The Iraq War: Still a Massive Mistake.” Christian Science Monitor. 5 April 2010. Inside Politics, Interview with Donald Rumsfeld. NPR. 14 February 2011. Iraq Body Count Loney, Jim, ‘Iraq on the brink of ‘devastating civil war’: Former PM Allawi’, National Post, 28 December 2011 Miniter, Richard. “Was the Iraq War Worth It?”. Hudson New York. 2 September 2010. Nasr, Vali. “Regional Implications of Shi’a Revival in Iraq”. The Washington Quarterly • 27:3 pp. 7–24. The Centre for International and Strategic Studies and the Massachusetts Institute for Technology. Summer 2004. Pipes, Daniel, ‘A Border Adrift: Origins of the Iraq-Iran War’, The Iraq-Iran War: Old Conflict, New Weapons, 1983 Weinraub, Bernard, and Shanker, Thom, ‘A NATION AT WAR: UNDER FIRE; Rumsfeld’s Design for War Criticized on the Battlefield’, The New York Times, 1 April 2003 11187 reads Voting Results 50 50 There is no votes yet. You can be the first! Video Debate Related Debates This House would have a second Brexit referendum b... THBT intellectual migration (brain drain) is cause... This House believes that leaving the EU would incr... About Us The International Debate Education Association (IDEA) is a global network of organizations that value debate as a way to give young people a voice, with entities in the Netherlands, USA, UK, Macedonia, Kyrgyzstan and Tunisia. Twitter Facebook Youtube Offices contact IDEA Central Asia IDEA Middle East and North Africa IDEA Netherlands IDEA Southeast Europe IDEA United Kingdom Latest tweet Tweets by idebate Photos IDebate is a product of IDEA, the world's leading provider of debate resources, training and events to give young people a voice. Store | Privacy Policy | Terms & Conditions | Contact X Username or e-mail * Password * Create new account Request new password Or log in with... Login with Facebook Login with Twitter \", 'source_text_conclusion_start': 196, 'source_text_conclusion_end': 230, 'source_text_premise_start': 8137, 'source_text_premise_end': 8234, 'topic': 'the War in Iraq was Worth the Cost', 'acquisition': datetime.datetime(2019, 4, 19, 12, 40, 25, tzinfo=datetime.timezone.utc), 'date': None, 'author': None, 'author_image_url': None, 'author_organization': None, 'author_role': None, 'mode': <ArgsMeMode.discussion: 2>, 'sentences': [ArgsMeSentence(id='Sf9294c83-Af186e851__PREMISE__1', text='His removal provides stability and security not only for Iraq but for the Middle East as a region'), ArgsMeSentence(id='Sf9294c83-Af186e851__CONC__1', text='the War in Iraq was Worth the Cost')], 'docno': 'Sf9294c83-Af186e851'}, {'conclusion': 'Saddam Hussein is gone and Iraq is now functioning as one of very few democracies in the Middle East', 'premises': [ArgsMePremise(text=\"It's important to be clear that this debate is looking at the results of the Iraq war and, by any definition Iraq is in a much more stable and secure position than it was in 2003 when American, British and other international troops arrived in the country. Whatever one thinks of the initial justifications for the war there is no doubt that the country, the region and the world are better and safer places without Saddam Hussein[i]. It is easy to criticize the allies but it is worth bearing in mind that the alternative was leaving in power a man who had committed genocide was a vicious and brutal dictator under whose regime extra-judicial execution and detention, mass-murder and torture were commonplace[ii]. [i]\\xa0Richard Miniter. “Was the Iraq War Worth It?”. Hudson New York. 2 September 2010. [ii]\\xa0Interview with Donald Rumsfeld. Inside Politics. NPR. 14 February 2011.\", stance=<ArgsMeStance.PRO: 1>, annotations=[])], 'premises_texts': \"It's important to be clear that this debate is looking at the results of the Iraq war and, by any definition Iraq is in a much more stable and secure position than it was in 2003 when American, British and other international troops arrived in the country. Whatever one thinks of the initial justifications for the war there is no doubt that the country, the region and the world are better and safer places without Saddam Hussein[i]. It is easy to criticize the allies but it is worth bearing in mind that the alternative was leaving in power a man who had committed genocide was a vicious and brutal dictator under whose regime extra-judicial execution and detention, mass-murder and torture were commonplace[ii]. [i]\\xa0Richard Miniter. “Was the Iraq War Worth It?”. Hudson New York. 2 September 2010. [ii]\\xa0Interview with Donald Rumsfeld. Inside Politics. NPR. 14 February 2011.\", 'aspects': [ArgsMeAspect(name='Donald Rumsfeld', weight=1.0, normalized_weight=0.25, rank=1), ArgsMeAspect(name='Genocide', weight=1.0, normalized_weight=0.25, rank=1), ArgsMeAspect(name='Saddam Hussein', weight=1.0, normalized_weight=0.25, rank=1), ArgsMeAspect(name='Torture', weight=1.0, normalized_weight=0.25, rank=1)], 'aspects_names': 'Donald Rumsfeld Genocide Saddam Hussein Torture', 'source_id': 'Sf9294c83', 'source_title': 'This House Believes that the War in Iraq was Worth the Cost | idebate.org', 'source_url': 'https://idebate.org/debatabase/international-middle-east-politics-terrorism-warpeace/house-believes-war-iraq-was-worth', 'source_previous_argument_id': None, 'source_next_argument_id': None, 'source_domain': <ArgsMeSourceDomain.idebate: 4>, 'source_text': \"idebate.org Educational and informative news and resources on debate, advocacy and activism for youth. \\xa0 \\xa0 News Debatabase Events Community Media About Search form Search This House Believes that the War in Iraq was Worth the Cost The war in Iraq is likely to be remembered for decades, if not centuries, as the defining conflict of the early 21st century. The effect it had not only in the nation and country itself in radicalizing an entire generation as well as the toxic effect it had on those politicians most closely associated with it may well stand as a legacy to how not to fight a war. However, as the original reasons for going in fade into history – and they were never that clear in the first place – the issue of what has been accomplished becomes an interesting one. It would be foolish to assert that everything went according to plan, and proposition will have to demonstrate benefits from some unusual sources. However unlikely it may seem, such benefits do exist. The first and most obvious one is that Saddam Hussein, and his genocidal regime, is no longer in power. Instead there is, by the standards of the region, a democratic, relatively stable and relatively transparent nation state. It may not be Switzerland but the difference between the country the allies entered and the one they are leaving could not be clearer. Equally, although it will come as little consolation to the families of those who have died the knowledge gained about how wars in the 21st century need to be fought can be used to save lives in the future. Especially given the instability of the Middle East as a whole and the growing scarcity of oil, it seems unlikely that this is the last desert war the West will be fighting in the decades to come. Equally, the impact it had on the West is instructive. When Britain and France chose to intervene in Libya, Sarkosy and Cameron did so in the shadow of Baghdad and the difference in their approach could not have been more different from the gung-ho, militaristic approach taken by Blair and Bush. Instead they adopted very clear goals, were very clear on the need for indigenous allies, and refused to put boots on the ground. It seems that they acknowledged that their electorates would not stomach another war conducted along the lines of Iraq. It would stretch credulity to suggest that there is a direct link between the fall of Baghdad and the Arab Spring. However, that synchronicity of the two events may ultimately prove beneficial. The Middle East would have been a lonely place for a democratic state and now there are at least a handful to build upon. Although the cost in lives – lost and broken – is almost too ghastly to contemplate and the effects on the economies of all concerned has been devastating, there are some positives that have come out of the conflict. Benefits that would not be available with Saddam left in power. The balance of probability now seems to be that the future generations living in a free and democratic Iraq will give thanks to those who died to start the nation on its long road to freedom. \\xa0 POINTS FOR POINTS AGAINST Title\\xa0 Saddam Hussein is gone and Iraq is now functioning as one of very few democracies in the Middle East Point\\xa0 It's important to be clear that this debate is looking at the results of the Iraq war and, by any definition Iraq is in a much more stable and secure position than it was in 2003 when American, British and other international troops arrived in the country. Whatever one thinks of the initial justifications for the war there is no doubt that the country, the region and the world are better and safer places without Saddam Hussein[i]. It is easy to criticize the allies but it is worth bearing in mind that the alternative was leaving in power a man who had committed genocide was a vicious and brutal dictator under whose regime extra-judicial execution and detention, mass-murder and torture were commonplace[ii]. [i]\\xa0Richard Miniter. “Was the Iraq War Worth It?”. Hudson New York. 2 September 2010. [ii]\\xa0Interview with Donald Rumsfeld. Inside Politics. NPR. 14 February 2011. Counterpoint\\xa0 In the unlikely event that something resembling a democratic government survives in Iraq after the international troops leave then that would, of course, be welcome. However, some context is required to establish whether the price was worth paying. Over a trillion dollars, 4,000 American dead, tens of thousands of Iraqis, US reputation destroyed in the region to establish a puppet government whose only real chance of survival is a continued American presence in the country. The alternatives are all unpleasant – a theocratic regime allied to a nuclear Iran, a simple meltdown of the state or the emergence of a new strongman along the lines of Saddam's regime. Assuming the US can't sign up in perpetuity then one of these outcomes seems likely and those lives and resources will have been squandered for no reason whatsoever[i]. [i]\\xa0Francis Fukuyama. “Iraq May Be Stable, But The War Was Still A Mistake”. Wall Street Journal. 15 August 2008. Title\\xa0 Although there has been a huge cost in human life the alternatives may well have been worse Saddam had made quite clear his intention to hand over power to his sons Point\\xa0 Without intervention there is little doubt that Saddam or one of his still more murderous sons would be running Iraq. Even though there were no WMDs, it seems reasonable to assume that neither Saddam nor his sons would have ignored Iran’s attempts to secure fissile material and develop a bomb. Iraq had attempted to build a nuclear reactor in the 1970’s but it was destroyed by Israel in 1981[i]\\xa0and Iraq and Iran had fought a far for most of the 1980s for political dominance in the Gulf and the Shi’ite, Sunni religious divide.[ii]So we would now be watching an arms race in the Middle East between the two with Israel on a hair trigger. This wasn’t just about removing one tyrant; the regime had dynastic ambitions, and a failure to act would have created the equivalent of North Korea. However, this particular hermit kingdom would have been sitting on top of the second largest reserves of oil in the world. It would, therefore, have the capacity to create the sort of fear and chaos Kim Jong Il can only dream of. [i]\\xa0BBC On This Day, ‘1981: Israel bombs Baghdad nuclear reactor’. [ii]\\xa0Pipes, Daniel, ‘A Border Adrift: Origins of the Iraq-Iran War’,\\xa0The Iraq-Iran War: Old Conflict, New Weapons, 1983 Counterpoint\\xa0 There is little evidence that the Ba’ath Party would have tolerated a handover of power to Saddam’s sons. Even in North Korea, the issue of Kim Il Sung’s succession became fraught, and hotly contested amongst the North Korean political elite.. However, the issue of who should run Iraq was and should remain a matter for the Iraqi people. The current puppet regime has little power outside\\xa0Baghdad\\xa0and, frankly, not that much inside, this lack of central control is as damaging as too much would be as is shown by the failure of Somalia and resulting civil war and piratical attacks.[i] In many ways the war has encouraged the world’s rogue states to pursue nuclear weapons as, in an era of ‘pre-emptive defense, they are the only surety against invasion and overthrow[ii]. Iran is continuing to persue nuclear weapons even without the threat of Iraq on its borders, instead it is worried about Israel and the United States. One more threatening state would therefore have made little difference.[iii] If the aim of the war was to insure against future threats then leaving a nation bitter and resentful, where barely a family has not lost someone to the conflict, a radicalized younger generation, emboldened militant clerics and a weak central government seems a very strange way to go about doing it. The West will almost certainly have to return to Iraq within a generation, if not a decade. [i]\\xa0Blair, David, ‘Somalia: Analysis of a failed state’,\\xa0The Telegraph, 18 November 2008 [ii]\\xa0Francis Fukuyama. “Iraq May Be Stable, But The War Was Still A Mistake”. Wall Street Journal. 15 August 2008. [iii]\\xa0BBC News, ‘Q&A: Iran nuclear issue’, 23 January 2012 Title\\xa0 His removal provides stability and security not only for Iraq but for the Middle East as a region Point\\xa0 The Middle East is a tinder box at the best of times. Having an unpredictable megalomaniac sitting in the middle of it was dangerous, not only for Iraqis but for other peoples in the region. Hussain was a danger to the Middle East as he had proved many times, through his invasion of Iran[i]\\xa0which was followed only a couple of years later in 1990 by an invasion of Kuwait which sparked the Gulf War[ii]\\xa0and his use of scud missiles on Israel which was otherwise uninvolved in the conflict.[iii] It was better to remove this threat than risk being drawn into a multi-player conflict when he next attacked a neighbor. [i]\\xa0Pipes, Daniel, ‘A Border Adrift: Origins of the Iraq-Iran War’, The Iraq-Iran War: Old Conflict, New Weapons, 1983 [ii]\\xa0BBC on this day, ‘1990: Iraq invades Kuwait’. [iii]\\xa0CBC Digital Archives, ‘Scud vs. Patriot missiles’, 19 January 1991 Counterpoint\\xa0 By empowering the Shi’a majority, the outcome of the war has provided an obvious link to Iran, an equally obvious threat to Israel and has implication for nations “from Lebanon to Pakistan.[i]” The weakness of this government represents a far greater threat to security and regional stability than any dictator, however bloodthirsty. Iraq looks set to join the other lawless regions of Asia such as the Pashtun Valley as an obvious place for terrorists and Criminals to base themselves. [i]\\xa0Vali Nasr. “Regional Implications of Shi’a Revival in Iraq”. The Washington Quarterly • 27:3 pp. 7–24. The Centre for International and Strategic Studies and the Massachusetts Institute for Technology. Summer 2004. Title\\xa0 The war was illegal and the removal of Saddam should have been left to the Iraqis Yet another puppet regime is not what the Middle East needs Point\\xa0 Events from the Arab Spring have demonstrated, more graphically than anything else could have done, that Arab peoples are more than capable of dealing with their own dictators and do not need to be patronized by fading imperial powers. Imagine what the situation in Iraq would be now following a genuinely democratic uprising rather than the imposition of yet another puppet regime by the West. Since the creation of the state of Iraq as a modern state by the British in 1932, a succession of rulers, of various stripes of dictatorial ruthlessness, have been brought in to ensure that the oil wealth continues to flow to Washington, London and other foreign capitals. The allies were never interested in Iraqi freedom, this was yet another grab for oil and the results look set to be the same round of misery and tyranny for the people of Iraq. Counterpoint\\xa0 The sands of Iraq are as soaked in blood as they are in oil. For once the Iraqis have actually got something out of their mineral wealth, which has otherwise served as a curse for over a century. There has been a functioning civilization around the Tigis-Euphrates Valleys for at least ten thousand years it was only with the discovery of oil and the importation of the Industrial Age that this began to function as a curse. For once their oil wealth has worked to their advantage, leading to the removal of a dictator rather than the imposition of one. As the troops step back it seems likely that Iraq has the opportunity to become that rarest of things; a Middle Eastern, oil producing state that is democratic and stable. As a result they can negotiate with oil consuming nations on an even footing. Title\\xa0 An entire generation has been turned against the West and fundamentalist clerics have gained enormously in influence Point\\xa0 The aftermath of the war has been to create an entire people with no reason to love the West and more than100,000 reasons to hate it as a result of an estimated 105-115000 dead.[i]\\xa0The country is teetering on the brink of civil war, with the leader of the sunni block having said Iraq is heading towards a “sectarian autocracy that carries with it the threat of devastating civil war”[ii]\\xa0unemployment is rife and the reputation of the ‘liberators’ lies in tatters[iii]. It is not hard to see how this combination is likely to lead to chaos in Iraq and insecurity for the West. Millions of young people with a perfectly justifiable grudge, little education, no job and a desire to do something to make things\\xa0right.[iv] It is difficult to imagine a situation more likely to produce violence, terrorism and instability. [i]\\xa0Iraq Body Count [ii]\\xa0Loney, Jim, ‘Iraq on the brink of ‘devastating civil war’: Former PM Allawi’,\\xa0National Post, 28 December 2011 [iii]\\xa0Malou Innocent. “The Iraq War: Still a Massive Mistake.” Christian Science Monitor. 5 April 2010. [iv]\\xa0Benmelech, Efraim et al., ‘Economic Conditions and the Quality of Suicide Terrorism’,\\xa0Journal of Politics, Vol. 74, No. 1, January 2012, pp. 113-128 Counterpoint\\xa0 Iraq now has a professionally trained army and police force accountable to a democratically elected government and, through them, to the people. Unusually among Arab nations the security forces should now act as upholders of the law rather than the personal armies of local and national strong men used to settle grudges and silence dissent. The torture chambers are closed and the courts are functioning. There is, of course, work still to be done in terms of creating jobs but at least those jobs will go to people on the basis of ability rather than political loyalty. Iraq still faces problems but is better equipped to deal with them than it has been in a century and more. Title\\xa0 Even if the outcome is a stable democratic Iraq, the war was still a costly, illegal, ideologically-driven mistake Point\\xa0 The cost of the Iraq war has been astonishing both in the lives and treasure spent and the resentment and chaos stored up for the future. Even if the result had been Switzerland on Sinai, it would still not have been worth it. There have been more than 100,000 Iraqi\\xa0deaths[i]. \\xa0It has been the most expensive US war other than WWII in constant 2011 dollars, costing more than $400 billion more than Vietnam,[ii]and what is left is a failed state in the making. The war was poorly conceived, recklessly enacted and devastatingly badly\\xa0concluded. The secretary of defense Donald Rumsfeld wanted the war fought “on the cheap” using a much smaller force than the pentagon or independent analysts thought was necessary.[iii]\\xa0With the allies now withdrawing from Iraq the world’s best hope is that the US and its allies will be sufficiently cowed by public opinion as to never try such folly again. That, perhaps, would be a benefit. [i]\\xa0Iraq Body Count [ii]\\xa0Daggett, Stephen, ‘Costs of Major U.S. Wars’,\\xa0Congressional Research Service, 29 June 2010 [iii]\\xa0Weinraub, Bernard, and Shanker, Thom, ‘A NATION AT WAR: UNDER FIRE; Rumsfeld’s Design for War Criticized on the Battlefield’,\\xa0The New York Times,\\xa01 April 2003 How do you feel now, please vote FOR AGAINST Bibliography\\xa0 BBC On This Day, ‘1981: Israel bombs Baghdad nuclear reactor’. BBC on this day, ‘1990: Iraq invades Kuwait’. BBC News, ‘Q&A: Iran nuclear issue’, 23 January 2012 Benmelech, Efraim et al., ‘Economic Conditions and the Quality of Suicide Terrorism’, Journal of Politics, Vol. 74, No. 1, January 2012, pp. 113-128 Blair, David, ‘Somalia: Analysis of a failed state’, The Telegraph, 18 November 2008 CBC Digital Archives, ‘Scud vs. Patriot missiles’, 19 January 1991 Daggett, Stephen, ‘Costs of Major U.S. Wars’, Congressional Research Service, 29 June 2010 Fukuyama, Francis. “Iraq May Be Stable, But The War Was Still A Mistake”. Wall Street Journal. 15 August 2008. Innocent. Malou, \\xa0“The Iraq War: Still a Massive Mistake.” Christian Science Monitor. 5 April 2010. Inside Politics, Interview with Donald Rumsfeld. NPR. 14 February 2011. Iraq Body Count Loney, Jim, ‘Iraq on the brink of ‘devastating civil war’: Former PM Allawi’, National Post, 28 December 2011 Miniter, Richard. “Was the Iraq War Worth It?”. Hudson New York. 2 September 2010. Nasr, Vali. “Regional Implications of Shi’a Revival in Iraq”. The Washington Quarterly • 27:3 pp. 7–24. The Centre for International and Strategic Studies and the Massachusetts Institute for Technology. Summer 2004. Pipes, Daniel, ‘A Border Adrift: Origins of the Iraq-Iran War’, The Iraq-Iran War: Old Conflict, New Weapons, 1983 Weinraub, Bernard, and Shanker, Thom, ‘A NATION AT WAR: UNDER FIRE; Rumsfeld’s Design for War Criticized on the Battlefield’, The New York Times, 1 April 2003 11187 reads Voting Results 50 50 There is no votes yet. You can be the first! Video Debate Related Debates This House would have a second Brexit referendum b... THBT intellectual migration (brain drain) is cause... This House believes that leaving the EU would incr... About Us The International Debate Education Association (IDEA) is a global network of organizations that value debate as a way to give young people a voice, with entities in the Netherlands, USA, UK, Macedonia, Kyrgyzstan and Tunisia. Twitter Facebook Youtube Offices contact IDEA Central Asia IDEA Middle East and North Africa IDEA Netherlands IDEA Southeast Europe IDEA United Kingdom Latest tweet Tweets by idebate Photos IDebate is a product of IDEA, the world's leading provider of debate resources, training and events to give young people a voice. Store | Privacy Policy | Terms & Conditions | Contact X Username or e-mail * Password * Create new account Request new password Or log in with... Login with Facebook Login with Twitter \", 'source_text_conclusion_start': 3120, 'source_text_conclusion_end': 3220, 'source_text_premise_start': 3228, 'source_text_premise_end': 4106, 'topic': 'the War in Iraq was Worth the Cost', 'acquisition': datetime.datetime(2019, 4, 19, 12, 40, 25, tzinfo=datetime.timezone.utc), 'date': None, 'author': None, 'author_image_url': None, 'author_organization': None, 'author_role': None, 'mode': <ArgsMeMode.discussion: 2>, 'sentences': [ArgsMeSentence(id='Sf9294c83-A9a4e056e__PREMISE__1', text=\"It's important to be clear that this debate is looking at the results of the Iraq war and, by any definition Iraq is in a much more stable and secure position than it was in 2003 when American, British and other international troops arrived in the country.\"), ArgsMeSentence(id='Sf9294c83-A9a4e056e__PREMISE__2', text='Whatever one thinks of the initial justifications for the war there is no doubt that the country, the region and the world are better and safer places without Saddam Hussein[i].'), ArgsMeSentence(id='Sf9294c83-A9a4e056e__PREMISE__3', text='It is easy to criticize the allies but it is worth bearing in mind that the alternative was leaving in power a man who had committed genocide was a vicious and brutal dictator under whose regime extra-judicial execution and detention, mass-murder and torture were commonplace[ii].'), ArgsMeSentence(id='Sf9294c83-A9a4e056e__PREMISE__4', text='[i] Richard Miniter.'), ArgsMeSentence(id='Sf9294c83-A9a4e056e__PREMISE__5', text='“Was the Iraq War Worth It?”.'), ArgsMeSentence(id='Sf9294c83-A9a4e056e__PREMISE__6', text='Hudson New York.'), ArgsMeSentence(id='Sf9294c83-A9a4e056e__PREMISE__7', text='2 September 2010.'), ArgsMeSentence(id='Sf9294c83-A9a4e056e__PREMISE__8', text='[ii] Interview with Donald Rumsfeld.'), ArgsMeSentence(id='Sf9294c83-A9a4e056e__PREMISE__9', text='Inside Politics.'), ArgsMeSentence(id='Sf9294c83-A9a4e056e__PREMISE__10', text='14 February 2011.'), ArgsMeSentence(id='Sf9294c83-A9a4e056e__CONC__1', text='Saddam Hussein is gone and Iraq is now functioning as one of very few democracies in the Middle East')], 'docno': 'Sf9294c83-A9a4e056e'}, {'conclusion': 'His removal provides stability and security not only for Iraq but for the Middle East as a region', 'premises': [ArgsMePremise(text='The Middle East is a tinder box at the best of times. Having an unpredictable megalomaniac sitting in the middle of it was dangerous, not only for Iraqis but for other peoples in the region. Hussain was a danger to the Middle East as he had proved many times, through his invasion of Iran[i]\\xa0which was followed only a couple of years later in 1990 by an invasion of Kuwait which sparked the Gulf War[ii]\\xa0and his use of scud missiles on Israel which was otherwise uninvolved in the conflict.[iii] It was better to remove this threat than risk being drawn into a multi-player conflict when he next attacked a neighbor. [i]\\xa0Pipes, Daniel, ‘A Border Adrift: Origins of the Iraq-Iran War’, The Iraq-Iran War: Old Conflict, New Weapons, 1983 [ii]\\xa0BBC on this day, ‘1990: Iraq invades Kuwait’. [iii]\\xa0CBC Digital Archives, ‘Scud vs. Patriot missiles’, 19 January 1991', stance=<ArgsMeStance.PRO: 1>, annotations=[])], 'premises_texts': 'The Middle East is a tinder box at the best of times. Having an unpredictable megalomaniac sitting in the middle of it was dangerous, not only for Iraqis but for other peoples in the region. Hussain was a danger to the Middle East as he had proved many times, through his invasion of Iran[i]\\xa0which was followed only a couple of years later in 1990 by an invasion of Kuwait which sparked the Gulf War[ii]\\xa0and his use of scud missiles on Israel which was otherwise uninvolved in the conflict.[iii] It was better to remove this threat than risk being drawn into a multi-player conflict when he next attacked a neighbor. [i]\\xa0Pipes, Daniel, ‘A Border Adrift: Origins of the Iraq-Iran War’, The Iraq-Iran War: Old Conflict, New Weapons, 1983 [ii]\\xa0BBC on this day, ‘1990: Iraq invades Kuwait’. [iii]\\xa0CBC Digital Archives, ‘Scud vs. Patriot missiles’, 19 January 1991', 'aspects': [ArgsMeAspect(name='Israel', weight=1.0, normalized_weight=1.0, rank=1)], 'aspects_names': 'Israel', 'source_id': 'Sf9294c83', 'source_title': 'This House Believes that the War in Iraq was Worth the Cost | idebate.org', 'source_url': 'https://idebate.org/debatabase/international-middle-east-politics-terrorism-warpeace/house-believes-war-iraq-was-worth', 'source_previous_argument_id': None, 'source_next_argument_id': None, 'source_domain': <ArgsMeSourceDomain.idebate: 4>, 'source_text': \"idebate.org Educational and informative news and resources on debate, advocacy and activism for youth. \\xa0 \\xa0 News Debatabase Events Community Media About Search form Search This House Believes that the War in Iraq was Worth the Cost The war in Iraq is likely to be remembered for decades, if not centuries, as the defining conflict of the early 21st century. The effect it had not only in the nation and country itself in radicalizing an entire generation as well as the toxic effect it had on those politicians most closely associated with it may well stand as a legacy to how not to fight a war. However, as the original reasons for going in fade into history – and they were never that clear in the first place – the issue of what has been accomplished becomes an interesting one. It would be foolish to assert that everything went according to plan, and proposition will have to demonstrate benefits from some unusual sources. However unlikely it may seem, such benefits do exist. The first and most obvious one is that Saddam Hussein, and his genocidal regime, is no longer in power. Instead there is, by the standards of the region, a democratic, relatively stable and relatively transparent nation state. It may not be Switzerland but the difference between the country the allies entered and the one they are leaving could not be clearer. Equally, although it will come as little consolation to the families of those who have died the knowledge gained about how wars in the 21st century need to be fought can be used to save lives in the future. Especially given the instability of the Middle East as a whole and the growing scarcity of oil, it seems unlikely that this is the last desert war the West will be fighting in the decades to come. Equally, the impact it had on the West is instructive. When Britain and France chose to intervene in Libya, Sarkosy and Cameron did so in the shadow of Baghdad and the difference in their approach could not have been more different from the gung-ho, militaristic approach taken by Blair and Bush. Instead they adopted very clear goals, were very clear on the need for indigenous allies, and refused to put boots on the ground. It seems that they acknowledged that their electorates would not stomach another war conducted along the lines of Iraq. It would stretch credulity to suggest that there is a direct link between the fall of Baghdad and the Arab Spring. However, that synchronicity of the two events may ultimately prove beneficial. The Middle East would have been a lonely place for a democratic state and now there are at least a handful to build upon. Although the cost in lives – lost and broken – is almost too ghastly to contemplate and the effects on the economies of all concerned has been devastating, there are some positives that have come out of the conflict. Benefits that would not be available with Saddam left in power. The balance of probability now seems to be that the future generations living in a free and democratic Iraq will give thanks to those who died to start the nation on its long road to freedom. \\xa0 POINTS FOR POINTS AGAINST Title\\xa0 Saddam Hussein is gone and Iraq is now functioning as one of very few democracies in the Middle East Point\\xa0 It's important to be clear that this debate is looking at the results of the Iraq war and, by any definition Iraq is in a much more stable and secure position than it was in 2003 when American, British and other international troops arrived in the country. Whatever one thinks of the initial justifications for the war there is no doubt that the country, the region and the world are better and safer places without Saddam Hussein[i]. It is easy to criticize the allies but it is worth bearing in mind that the alternative was leaving in power a man who had committed genocide was a vicious and brutal dictator under whose regime extra-judicial execution and detention, mass-murder and torture were commonplace[ii]. [i]\\xa0Richard Miniter. “Was the Iraq War Worth It?”. Hudson New York. 2 September 2010. [ii]\\xa0Interview with Donald Rumsfeld. Inside Politics. NPR. 14 February 2011. Counterpoint\\xa0 In the unlikely event that something resembling a democratic government survives in Iraq after the international troops leave then that would, of course, be welcome. However, some context is required to establish whether the price was worth paying. Over a trillion dollars, 4,000 American dead, tens of thousands of Iraqis, US reputation destroyed in the region to establish a puppet government whose only real chance of survival is a continued American presence in the country. The alternatives are all unpleasant – a theocratic regime allied to a nuclear Iran, a simple meltdown of the state or the emergence of a new strongman along the lines of Saddam's regime. Assuming the US can't sign up in perpetuity then one of these outcomes seems likely and those lives and resources will have been squandered for no reason whatsoever[i]. [i]\\xa0Francis Fukuyama. “Iraq May Be Stable, But The War Was Still A Mistake”. Wall Street Journal. 15 August 2008. Title\\xa0 Although there has been a huge cost in human life the alternatives may well have been worse Saddam had made quite clear his intention to hand over power to his sons Point\\xa0 Without intervention there is little doubt that Saddam or one of his still more murderous sons would be running Iraq. Even though there were no WMDs, it seems reasonable to assume that neither Saddam nor his sons would have ignored Iran’s attempts to secure fissile material and develop a bomb. Iraq had attempted to build a nuclear reactor in the 1970’s but it was destroyed by Israel in 1981[i]\\xa0and Iraq and Iran had fought a far for most of the 1980s for political dominance in the Gulf and the Shi’ite, Sunni religious divide.[ii]So we would now be watching an arms race in the Middle East between the two with Israel on a hair trigger. This wasn’t just about removing one tyrant; the regime had dynastic ambitions, and a failure to act would have created the equivalent of North Korea. However, this particular hermit kingdom would have been sitting on top of the second largest reserves of oil in the world. It would, therefore, have the capacity to create the sort of fear and chaos Kim Jong Il can only dream of. [i]\\xa0BBC On This Day, ‘1981: Israel bombs Baghdad nuclear reactor’. [ii]\\xa0Pipes, Daniel, ‘A Border Adrift: Origins of the Iraq-Iran War’,\\xa0The Iraq-Iran War: Old Conflict, New Weapons, 1983 Counterpoint\\xa0 There is little evidence that the Ba’ath Party would have tolerated a handover of power to Saddam’s sons. Even in North Korea, the issue of Kim Il Sung’s succession became fraught, and hotly contested amongst the North Korean political elite.. However, the issue of who should run Iraq was and should remain a matter for the Iraqi people. The current puppet regime has little power outside\\xa0Baghdad\\xa0and, frankly, not that much inside, this lack of central control is as damaging as too much would be as is shown by the failure of Somalia and resulting civil war and piratical attacks.[i] In many ways the war has encouraged the world’s rogue states to pursue nuclear weapons as, in an era of ‘pre-emptive defense, they are the only surety against invasion and overthrow[ii]. Iran is continuing to persue nuclear weapons even without the threat of Iraq on its borders, instead it is worried about Israel and the United States. One more threatening state would therefore have made little difference.[iii] If the aim of the war was to insure against future threats then leaving a nation bitter and resentful, where barely a family has not lost someone to the conflict, a radicalized younger generation, emboldened militant clerics and a weak central government seems a very strange way to go about doing it. The West will almost certainly have to return to Iraq within a generation, if not a decade. [i]\\xa0Blair, David, ‘Somalia: Analysis of a failed state’,\\xa0The Telegraph, 18 November 2008 [ii]\\xa0Francis Fukuyama. “Iraq May Be Stable, But The War Was Still A Mistake”. Wall Street Journal. 15 August 2008. [iii]\\xa0BBC News, ‘Q&A: Iran nuclear issue’, 23 January 2012 Title\\xa0 His removal provides stability and security not only for Iraq but for the Middle East as a region Point\\xa0 The Middle East is a tinder box at the best of times. Having an unpredictable megalomaniac sitting in the middle of it was dangerous, not only for Iraqis but for other peoples in the region. Hussain was a danger to the Middle East as he had proved many times, through his invasion of Iran[i]\\xa0which was followed only a couple of years later in 1990 by an invasion of Kuwait which sparked the Gulf War[ii]\\xa0and his use of scud missiles on Israel which was otherwise uninvolved in the conflict.[iii] It was better to remove this threat than risk being drawn into a multi-player conflict when he next attacked a neighbor. [i]\\xa0Pipes, Daniel, ‘A Border Adrift: Origins of the Iraq-Iran War’, The Iraq-Iran War: Old Conflict, New Weapons, 1983 [ii]\\xa0BBC on this day, ‘1990: Iraq invades Kuwait’. [iii]\\xa0CBC Digital Archives, ‘Scud vs. Patriot missiles’, 19 January 1991 Counterpoint\\xa0 By empowering the Shi’a majority, the outcome of the war has provided an obvious link to Iran, an equally obvious threat to Israel and has implication for nations “from Lebanon to Pakistan.[i]” The weakness of this government represents a far greater threat to security and regional stability than any dictator, however bloodthirsty. Iraq looks set to join the other lawless regions of Asia such as the Pashtun Valley as an obvious place for terrorists and Criminals to base themselves. [i]\\xa0Vali Nasr. “Regional Implications of Shi’a Revival in Iraq”. The Washington Quarterly • 27:3 pp. 7–24. The Centre for International and Strategic Studies and the Massachusetts Institute for Technology. Summer 2004. Title\\xa0 The war was illegal and the removal of Saddam should have been left to the Iraqis Yet another puppet regime is not what the Middle East needs Point\\xa0 Events from the Arab Spring have demonstrated, more graphically than anything else could have done, that Arab peoples are more than capable of dealing with their own dictators and do not need to be patronized by fading imperial powers. Imagine what the situation in Iraq would be now following a genuinely democratic uprising rather than the imposition of yet another puppet regime by the West. Since the creation of the state of Iraq as a modern state by the British in 1932, a succession of rulers, of various stripes of dictatorial ruthlessness, have been brought in to ensure that the oil wealth continues to flow to Washington, London and other foreign capitals. The allies were never interested in Iraqi freedom, this was yet another grab for oil and the results look set to be the same round of misery and tyranny for the people of Iraq. Counterpoint\\xa0 The sands of Iraq are as soaked in blood as they are in oil. For once the Iraqis have actually got something out of their mineral wealth, which has otherwise served as a curse for over a century. There has been a functioning civilization around the Tigis-Euphrates Valleys for at least ten thousand years it was only with the discovery of oil and the importation of the Industrial Age that this began to function as a curse. For once their oil wealth has worked to their advantage, leading to the removal of a dictator rather than the imposition of one. As the troops step back it seems likely that Iraq has the opportunity to become that rarest of things; a Middle Eastern, oil producing state that is democratic and stable. As a result they can negotiate with oil consuming nations on an even footing. Title\\xa0 An entire generation has been turned against the West and fundamentalist clerics have gained enormously in influence Point\\xa0 The aftermath of the war has been to create an entire people with no reason to love the West and more than100,000 reasons to hate it as a result of an estimated 105-115000 dead.[i]\\xa0The country is teetering on the brink of civil war, with the leader of the sunni block having said Iraq is heading towards a “sectarian autocracy that carries with it the threat of devastating civil war”[ii]\\xa0unemployment is rife and the reputation of the ‘liberators’ lies in tatters[iii]. It is not hard to see how this combination is likely to lead to chaos in Iraq and insecurity for the West. Millions of young people with a perfectly justifiable grudge, little education, no job and a desire to do something to make things\\xa0right.[iv] It is difficult to imagine a situation more likely to produce violence, terrorism and instability. [i]\\xa0Iraq Body Count [ii]\\xa0Loney, Jim, ‘Iraq on the brink of ‘devastating civil war’: Former PM Allawi’,\\xa0National Post, 28 December 2011 [iii]\\xa0Malou Innocent. “The Iraq War: Still a Massive Mistake.” Christian Science Monitor. 5 April 2010. [iv]\\xa0Benmelech, Efraim et al., ‘Economic Conditions and the Quality of Suicide Terrorism’,\\xa0Journal of Politics, Vol. 74, No. 1, January 2012, pp. 113-128 Counterpoint\\xa0 Iraq now has a professionally trained army and police force accountable to a democratically elected government and, through them, to the people. Unusually among Arab nations the security forces should now act as upholders of the law rather than the personal armies of local and national strong men used to settle grudges and silence dissent. The torture chambers are closed and the courts are functioning. There is, of course, work still to be done in terms of creating jobs but at least those jobs will go to people on the basis of ability rather than political loyalty. Iraq still faces problems but is better equipped to deal with them than it has been in a century and more. Title\\xa0 Even if the outcome is a stable democratic Iraq, the war was still a costly, illegal, ideologically-driven mistake Point\\xa0 The cost of the Iraq war has been astonishing both in the lives and treasure spent and the resentment and chaos stored up for the future. Even if the result had been Switzerland on Sinai, it would still not have been worth it. There have been more than 100,000 Iraqi\\xa0deaths[i]. \\xa0It has been the most expensive US war other than WWII in constant 2011 dollars, costing more than $400 billion more than Vietnam,[ii]and what is left is a failed state in the making. The war was poorly conceived, recklessly enacted and devastatingly badly\\xa0concluded. The secretary of defense Donald Rumsfeld wanted the war fought “on the cheap” using a much smaller force than the pentagon or independent analysts thought was necessary.[iii]\\xa0With the allies now withdrawing from Iraq the world’s best hope is that the US and its allies will be sufficiently cowed by public opinion as to never try such folly again. That, perhaps, would be a benefit. [i]\\xa0Iraq Body Count [ii]\\xa0Daggett, Stephen, ‘Costs of Major U.S. Wars’,\\xa0Congressional Research Service, 29 June 2010 [iii]\\xa0Weinraub, Bernard, and Shanker, Thom, ‘A NATION AT WAR: UNDER FIRE; Rumsfeld’s Design for War Criticized on the Battlefield’,\\xa0The New York Times,\\xa01 April 2003 How do you feel now, please vote FOR AGAINST Bibliography\\xa0 BBC On This Day, ‘1981: Israel bombs Baghdad nuclear reactor’. BBC on this day, ‘1990: Iraq invades Kuwait’. BBC News, ‘Q&A: Iran nuclear issue’, 23 January 2012 Benmelech, Efraim et al., ‘Economic Conditions and the Quality of Suicide Terrorism’, Journal of Politics, Vol. 74, No. 1, January 2012, pp. 113-128 Blair, David, ‘Somalia: Analysis of a failed state’, The Telegraph, 18 November 2008 CBC Digital Archives, ‘Scud vs. Patriot missiles’, 19 January 1991 Daggett, Stephen, ‘Costs of Major U.S. Wars’, Congressional Research Service, 29 June 2010 Fukuyama, Francis. “Iraq May Be Stable, But The War Was Still A Mistake”. Wall Street Journal. 15 August 2008. Innocent. Malou, \\xa0“The Iraq War: Still a Massive Mistake.” Christian Science Monitor. 5 April 2010. Inside Politics, Interview with Donald Rumsfeld. NPR. 14 February 2011. Iraq Body Count Loney, Jim, ‘Iraq on the brink of ‘devastating civil war’: Former PM Allawi’, National Post, 28 December 2011 Miniter, Richard. “Was the Iraq War Worth It?”. Hudson New York. 2 September 2010. Nasr, Vali. “Regional Implications of Shi’a Revival in Iraq”. The Washington Quarterly • 27:3 pp. 7–24. The Centre for International and Strategic Studies and the Massachusetts Institute for Technology. Summer 2004. Pipes, Daniel, ‘A Border Adrift: Origins of the Iraq-Iran War’, The Iraq-Iran War: Old Conflict, New Weapons, 1983 Weinraub, Bernard, and Shanker, Thom, ‘A NATION AT WAR: UNDER FIRE; Rumsfeld’s Design for War Criticized on the Battlefield’, The New York Times, 1 April 2003 11187 reads Voting Results 50 50 There is no votes yet. You can be the first! Video Debate Related Debates This House would have a second Brexit referendum b... THBT intellectual migration (brain drain) is cause... This House believes that leaving the EU would incr... About Us The International Debate Education Association (IDEA) is a global network of organizations that value debate as a way to give young people a voice, with entities in the Netherlands, USA, UK, Macedonia, Kyrgyzstan and Tunisia. Twitter Facebook Youtube Offices contact IDEA Central Asia IDEA Middle East and North Africa IDEA Netherlands IDEA Southeast Europe IDEA United Kingdom Latest tweet Tweets by idebate Photos IDebate is a product of IDEA, the world's leading provider of debate resources, training and events to give young people a voice. Store | Privacy Policy | Terms & Conditions | Contact X Username or e-mail * Password * Create new account Request new password Or log in with... Login with Facebook Login with Twitter \", 'source_text_conclusion_start': 8137, 'source_text_conclusion_end': 8234, 'source_text_premise_start': 8242, 'source_text_premise_end': 9101, 'topic': 'the War in Iraq was Worth the Cost', 'acquisition': datetime.datetime(2019, 4, 19, 12, 40, 25, tzinfo=datetime.timezone.utc), 'date': None, 'author': None, 'author_image_url': None, 'author_organization': None, 'author_role': None, 'mode': <ArgsMeMode.discussion: 2>, 'sentences': [ArgsMeSentence(id='Sf9294c83-Aa87ac5ae__PREMISE__1', text='The Middle East is a tinder box at the best of times.'), ArgsMeSentence(id='Sf9294c83-Aa87ac5ae__PREMISE__2', text='Having an unpredictable megalomaniac sitting in the middle of it was dangerous, not only for Iraqis but for other peoples in the region.'), ArgsMeSentence(id='Sf9294c83-Aa87ac5ae__PREMISE__3', text='Hussain was a danger to the Middle East as he had proved many times, through his invasion of Iran[i] which was followed only a couple of years later in 1990 by an invasion of Kuwait which sparked the Gulf War[ii] and his use of scud missiles on Israel which was otherwise uninvolved in the conflict.'), ArgsMeSentence(id='Sf9294c83-Aa87ac5ae__PREMISE__4', text='[iii] It was better to remove this threat than risk being drawn into a multi-player conflict when he next attacked a neighbor.'), ArgsMeSentence(id='Sf9294c83-Aa87ac5ae__PREMISE__5', text='[i] Pipes, Daniel, ‘A Border Adrift: Origins of the Iraq-Iran War’, The Iraq-Iran War: Old Conflict, New Weapons, 1983 [ii] BBC on this day, ‘1990: Iraq invades Kuwait’.'), ArgsMeSentence(id='Sf9294c83-Aa87ac5ae__PREMISE__6', text='[iii] CBC Digital Archives, ‘Scud vs. Patriot missiles’, 19 January 1991'), ArgsMeSentence(id='Sf9294c83-Aa87ac5ae__CONC__1', text='His removal provides stability and security not only for Iraq but for the Middle East as a region')], 'docno': 'Sf9294c83-Aa87ac5ae'}, {'conclusion': 'An entire generation has been turned against the West and fundamentalist clerics have gained enormously in influence', 'premises': [ArgsMePremise(text='The aftermath of the war has been to create an entire people with no reason to love the West and more than100,000 reasons to hate it as a result of an estimated 105-115000 dead.[i]\\xa0The country is teetering on the brink of civil war, with the leader of the sunni block having said Iraq is heading towards a “sectarian autocracy that carries with it the threat of devastating civil war”[ii]\\xa0unemployment is rife and the reputation of the ‘liberators’ lies in tatters[iii]. It is not hard to see how this combination is likely to lead to chaos in Iraq and insecurity for the West. Millions of young people with a perfectly justifiable grudge, little education, no job and a desire to do something to make things\\xa0right.[iv] It is difficult to imagine a situation more likely to produce violence, terrorism and instability. [i]\\xa0Iraq Body Count [ii]\\xa0Loney, Jim, ‘Iraq on the brink of ‘devastating civil war’: Former PM Allawi’,\\xa0National Post, 28 December 2011 [iii]\\xa0Malou Innocent. “The Iraq War: Still a Massive Mistake.” Christian Science Monitor. 5 April 2010. [iv]\\xa0Benmelech, Efraim et al., ‘Economic Conditions and the Quality of Suicide Terrorism’,\\xa0Journal of Politics, Vol. 74, No. 1, January 2012, pp. 113-128', stance=<ArgsMeStance.PRO: 1>, annotations=[])], 'premises_texts': 'The aftermath of the war has been to create an entire people with no reason to love the West and more than100,000 reasons to hate it as a result of an estimated 105-115000 dead.[i]\\xa0The country is teetering on the brink of civil war, with the leader of the sunni block having said Iraq is heading towards a “sectarian autocracy that carries with it the threat of devastating civil war”[ii]\\xa0unemployment is rife and the reputation of the ‘liberators’ lies in tatters[iii]. It is not hard to see how this combination is likely to lead to chaos in Iraq and insecurity for the West. Millions of young people with a perfectly justifiable grudge, little education, no job and a desire to do something to make things\\xa0right.[iv] It is difficult to imagine a situation more likely to produce violence, terrorism and instability. [i]\\xa0Iraq Body Count [ii]\\xa0Loney, Jim, ‘Iraq on the brink of ‘devastating civil war’: Former PM Allawi’,\\xa0National Post, 28 December 2011 [iii]\\xa0Malou Innocent. “The Iraq War: Still a Massive Mistake.” Christian Science Monitor. 5 April 2010. [iv]\\xa0Benmelech, Efraim et al., ‘Economic Conditions and the Quality of Suicide Terrorism’,\\xa0Journal of Politics, Vol. 74, No. 1, January 2012, pp. 113-128', 'aspects': [ArgsMeAspect(name='Christian Science', weight=1.0, normalized_weight=0.5, rank=1), ArgsMeAspect(name='Terrorism', weight=1.0, normalized_weight=0.5, rank=1)], 'aspects_names': 'Christian Science Terrorism', 'source_id': 'Sf9294c83', 'source_title': 'This House Believes that the War in Iraq was Worth the Cost | idebate.org', 'source_url': 'https://idebate.org/debatabase/international-middle-east-politics-terrorism-warpeace/house-believes-war-iraq-was-worth', 'source_previous_argument_id': None, 'source_next_argument_id': None, 'source_domain': <ArgsMeSourceDomain.idebate: 4>, 'source_text': \"idebate.org Educational and informative news and resources on debate, advocacy and activism for youth. \\xa0 \\xa0 News Debatabase Events Community Media About Search form Search This House Believes that the War in Iraq was Worth the Cost The war in Iraq is likely to be remembered for decades, if not centuries, as the defining conflict of the early 21st century. The effect it had not only in the nation and country itself in radicalizing an entire generation as well as the toxic effect it had on those politicians most closely associated with it may well stand as a legacy to how not to fight a war. However, as the original reasons for going in fade into history – and they were never that clear in the first place – the issue of what has been accomplished becomes an interesting one. It would be foolish to assert that everything went according to plan, and proposition will have to demonstrate benefits from some unusual sources. However unlikely it may seem, such benefits do exist. The first and most obvious one is that Saddam Hussein, and his genocidal regime, is no longer in power. Instead there is, by the standards of the region, a democratic, relatively stable and relatively transparent nation state. It may not be Switzerland but the difference between the country the allies entered and the one they are leaving could not be clearer. Equally, although it will come as little consolation to the families of those who have died the knowledge gained about how wars in the 21st century need to be fought can be used to save lives in the future. Especially given the instability of the Middle East as a whole and the growing scarcity of oil, it seems unlikely that this is the last desert war the West will be fighting in the decades to come. Equally, the impact it had on the West is instructive. When Britain and France chose to intervene in Libya, Sarkosy and Cameron did so in the shadow of Baghdad and the difference in their approach could not have been more different from the gung-ho, militaristic approach taken by Blair and Bush. Instead they adopted very clear goals, were very clear on the need for indigenous allies, and refused to put boots on the ground. It seems that they acknowledged that their electorates would not stomach another war conducted along the lines of Iraq. It would stretch credulity to suggest that there is a direct link between the fall of Baghdad and the Arab Spring. However, that synchronicity of the two events may ultimately prove beneficial. The Middle East would have been a lonely place for a democratic state and now there are at least a handful to build upon. Although the cost in lives – lost and broken – is almost too ghastly to contemplate and the effects on the economies of all concerned has been devastating, there are some positives that have come out of the conflict. Benefits that would not be available with Saddam left in power. The balance of probability now seems to be that the future generations living in a free and democratic Iraq will give thanks to those who died to start the nation on its long road to freedom. \\xa0 POINTS FOR POINTS AGAINST Title\\xa0 Saddam Hussein is gone and Iraq is now functioning as one of very few democracies in the Middle East Point\\xa0 It's important to be clear that this debate is looking at the results of the Iraq war and, by any definition Iraq is in a much more stable and secure position than it was in 2003 when American, British and other international troops arrived in the country. Whatever one thinks of the initial justifications for the war there is no doubt that the country, the region and the world are better and safer places without Saddam Hussein[i]. It is easy to criticize the allies but it is worth bearing in mind that the alternative was leaving in power a man who had committed genocide was a vicious and brutal dictator under whose regime extra-judicial execution and detention, mass-murder and torture were commonplace[ii]. [i]\\xa0Richard Miniter. “Was the Iraq War Worth It?”. Hudson New York. 2 September 2010. [ii]\\xa0Interview with Donald Rumsfeld. Inside Politics. NPR. 14 February 2011. Counterpoint\\xa0 In the unlikely event that something resembling a democratic government survives in Iraq after the international troops leave then that would, of course, be welcome. However, some context is required to establish whether the price was worth paying. Over a trillion dollars, 4,000 American dead, tens of thousands of Iraqis, US reputation destroyed in the region to establish a puppet government whose only real chance of survival is a continued American presence in the country. The alternatives are all unpleasant – a theocratic regime allied to a nuclear Iran, a simple meltdown of the state or the emergence of a new strongman along the lines of Saddam's regime. Assuming the US can't sign up in perpetuity then one of these outcomes seems likely and those lives and resources will have been squandered for no reason whatsoever[i]. [i]\\xa0Francis Fukuyama. “Iraq May Be Stable, But The War Was Still A Mistake”. Wall Street Journal. 15 August 2008. Title\\xa0 Although there has been a huge cost in human life the alternatives may well have been worse Saddam had made quite clear his intention to hand over power to his sons Point\\xa0 Without intervention there is little doubt that Saddam or one of his still more murderous sons would be running Iraq. Even though there were no WMDs, it seems reasonable to assume that neither Saddam nor his sons would have ignored Iran’s attempts to secure fissile material and develop a bomb. Iraq had attempted to build a nuclear reactor in the 1970’s but it was destroyed by Israel in 1981[i]\\xa0and Iraq and Iran had fought a far for most of the 1980s for political dominance in the Gulf and the Shi’ite, Sunni religious divide.[ii]So we would now be watching an arms race in the Middle East between the two with Israel on a hair trigger. This wasn’t just about removing one tyrant; the regime had dynastic ambitions, and a failure to act would have created the equivalent of North Korea. However, this particular hermit kingdom would have been sitting on top of the second largest reserves of oil in the world. It would, therefore, have the capacity to create the sort of fear and chaos Kim Jong Il can only dream of. [i]\\xa0BBC On This Day, ‘1981: Israel bombs Baghdad nuclear reactor’. [ii]\\xa0Pipes, Daniel, ‘A Border Adrift: Origins of the Iraq-Iran War’,\\xa0The Iraq-Iran War: Old Conflict, New Weapons, 1983 Counterpoint\\xa0 There is little evidence that the Ba’ath Party would have tolerated a handover of power to Saddam’s sons. Even in North Korea, the issue of Kim Il Sung’s succession became fraught, and hotly contested amongst the North Korean political elite.. However, the issue of who should run Iraq was and should remain a matter for the Iraqi people. The current puppet regime has little power outside\\xa0Baghdad\\xa0and, frankly, not that much inside, this lack of central control is as damaging as too much would be as is shown by the failure of Somalia and resulting civil war and piratical attacks.[i] In many ways the war has encouraged the world’s rogue states to pursue nuclear weapons as, in an era of ‘pre-emptive defense, they are the only surety against invasion and overthrow[ii]. Iran is continuing to persue nuclear weapons even without the threat of Iraq on its borders, instead it is worried about Israel and the United States. One more threatening state would therefore have made little difference.[iii] If the aim of the war was to insure against future threats then leaving a nation bitter and resentful, where barely a family has not lost someone to the conflict, a radicalized younger generation, emboldened militant clerics and a weak central government seems a very strange way to go about doing it. The West will almost certainly have to return to Iraq within a generation, if not a decade. [i]\\xa0Blair, David, ‘Somalia: Analysis of a failed state’,\\xa0The Telegraph, 18 November 2008 [ii]\\xa0Francis Fukuyama. “Iraq May Be Stable, But The War Was Still A Mistake”. Wall Street Journal. 15 August 2008. [iii]\\xa0BBC News, ‘Q&A: Iran nuclear issue’, 23 January 2012 Title\\xa0 His removal provides stability and security not only for Iraq but for the Middle East as a region Point\\xa0 The Middle East is a tinder box at the best of times. Having an unpredictable megalomaniac sitting in the middle of it was dangerous, not only for Iraqis but for other peoples in the region. Hussain was a danger to the Middle East as he had proved many times, through his invasion of Iran[i]\\xa0which was followed only a couple of years later in 1990 by an invasion of Kuwait which sparked the Gulf War[ii]\\xa0and his use of scud missiles on Israel which was otherwise uninvolved in the conflict.[iii] It was better to remove this threat than risk being drawn into a multi-player conflict when he next attacked a neighbor. [i]\\xa0Pipes, Daniel, ‘A Border Adrift: Origins of the Iraq-Iran War’, The Iraq-Iran War: Old Conflict, New Weapons, 1983 [ii]\\xa0BBC on this day, ‘1990: Iraq invades Kuwait’. [iii]\\xa0CBC Digital Archives, ‘Scud vs. Patriot missiles’, 19 January 1991 Counterpoint\\xa0 By empowering the Shi’a majority, the outcome of the war has provided an obvious link to Iran, an equally obvious threat to Israel and has implication for nations “from Lebanon to Pakistan.[i]” The weakness of this government represents a far greater threat to security and regional stability than any dictator, however bloodthirsty. Iraq looks set to join the other lawless regions of Asia such as the Pashtun Valley as an obvious place for terrorists and Criminals to base themselves. [i]\\xa0Vali Nasr. “Regional Implications of Shi’a Revival in Iraq”. The Washington Quarterly • 27:3 pp. 7–24. The Centre for International and Strategic Studies and the Massachusetts Institute for Technology. Summer 2004. Title\\xa0 The war was illegal and the removal of Saddam should have been left to the Iraqis Yet another puppet regime is not what the Middle East needs Point\\xa0 Events from the Arab Spring have demonstrated, more graphically than anything else could have done, that Arab peoples are more than capable of dealing with their own dictators and do not need to be patronized by fading imperial powers. Imagine what the situation in Iraq would be now following a genuinely democratic uprising rather than the imposition of yet another puppet regime by the West. Since the creation of the state of Iraq as a modern state by the British in 1932, a succession of rulers, of various stripes of dictatorial ruthlessness, have been brought in to ensure that the oil wealth continues to flow to Washington, London and other foreign capitals. The allies were never interested in Iraqi freedom, this was yet another grab for oil and the results look set to be the same round of misery and tyranny for the people of Iraq. Counterpoint\\xa0 The sands of Iraq are as soaked in blood as they are in oil. For once the Iraqis have actually got something out of their mineral wealth, which has otherwise served as a curse for over a century. There has been a functioning civilization around the Tigis-Euphrates Valleys for at least ten thousand years it was only with the discovery of oil and the importation of the Industrial Age that this began to function as a curse. For once their oil wealth has worked to their advantage, leading to the removal of a dictator rather than the imposition of one. As the troops step back it seems likely that Iraq has the opportunity to become that rarest of things; a Middle Eastern, oil producing state that is democratic and stable. As a result they can negotiate with oil consuming nations on an even footing. Title\\xa0 An entire generation has been turned against the West and fundamentalist clerics have gained enormously in influence Point\\xa0 The aftermath of the war has been to create an entire people with no reason to love the West and more than100,000 reasons to hate it as a result of an estimated 105-115000 dead.[i]\\xa0The country is teetering on the brink of civil war, with the leader of the sunni block having said Iraq is heading towards a “sectarian autocracy that carries with it the threat of devastating civil war”[ii]\\xa0unemployment is rife and the reputation of the ‘liberators’ lies in tatters[iii]. It is not hard to see how this combination is likely to lead to chaos in Iraq and insecurity for the West. Millions of young people with a perfectly justifiable grudge, little education, no job and a desire to do something to make things\\xa0right.[iv] It is difficult to imagine a situation more likely to produce violence, terrorism and instability. [i]\\xa0Iraq Body Count [ii]\\xa0Loney, Jim, ‘Iraq on the brink of ‘devastating civil war’: Former PM Allawi’,\\xa0National Post, 28 December 2011 [iii]\\xa0Malou Innocent. “The Iraq War: Still a Massive Mistake.” Christian Science Monitor. 5 April 2010. [iv]\\xa0Benmelech, Efraim et al., ‘Economic Conditions and the Quality of Suicide Terrorism’,\\xa0Journal of Politics, Vol. 74, No. 1, January 2012, pp. 113-128 Counterpoint\\xa0 Iraq now has a professionally trained army and police force accountable to a democratically elected government and, through them, to the people. Unusually among Arab nations the security forces should now act as upholders of the law rather than the personal armies of local and national strong men used to settle grudges and silence dissent. The torture chambers are closed and the courts are functioning. There is, of course, work still to be done in terms of creating jobs but at least those jobs will go to people on the basis of ability rather than political loyalty. Iraq still faces problems but is better equipped to deal with them than it has been in a century and more. Title\\xa0 Even if the outcome is a stable democratic Iraq, the war was still a costly, illegal, ideologically-driven mistake Point\\xa0 The cost of the Iraq war has been astonishing both in the lives and treasure spent and the resentment and chaos stored up for the future. Even if the result had been Switzerland on Sinai, it would still not have been worth it. There have been more than 100,000 Iraqi\\xa0deaths[i]. \\xa0It has been the most expensive US war other than WWII in constant 2011 dollars, costing more than $400 billion more than Vietnam,[ii]and what is left is a failed state in the making. The war was poorly conceived, recklessly enacted and devastatingly badly\\xa0concluded. The secretary of defense Donald Rumsfeld wanted the war fought “on the cheap” using a much smaller force than the pentagon or independent analysts thought was necessary.[iii]\\xa0With the allies now withdrawing from Iraq the world’s best hope is that the US and its allies will be sufficiently cowed by public opinion as to never try such folly again. That, perhaps, would be a benefit. [i]\\xa0Iraq Body Count [ii]\\xa0Daggett, Stephen, ‘Costs of Major U.S. Wars’,\\xa0Congressional Research Service, 29 June 2010 [iii]\\xa0Weinraub, Bernard, and Shanker, Thom, ‘A NATION AT WAR: UNDER FIRE; Rumsfeld’s Design for War Criticized on the Battlefield’,\\xa0The New York Times,\\xa01 April 2003 How do you feel now, please vote FOR AGAINST Bibliography\\xa0 BBC On This Day, ‘1981: Israel bombs Baghdad nuclear reactor’. BBC on this day, ‘1990: Iraq invades Kuwait’. BBC News, ‘Q&A: Iran nuclear issue’, 23 January 2012 Benmelech, Efraim et al., ‘Economic Conditions and the Quality of Suicide Terrorism’, Journal of Politics, Vol. 74, No. 1, January 2012, pp. 113-128 Blair, David, ‘Somalia: Analysis of a failed state’, The Telegraph, 18 November 2008 CBC Digital Archives, ‘Scud vs. Patriot missiles’, 19 January 1991 Daggett, Stephen, ‘Costs of Major U.S. Wars’, Congressional Research Service, 29 June 2010 Fukuyama, Francis. “Iraq May Be Stable, But The War Was Still A Mistake”. Wall Street Journal. 15 August 2008. Innocent. Malou, \\xa0“The Iraq War: Still a Massive Mistake.” Christian Science Monitor. 5 April 2010. Inside Politics, Interview with Donald Rumsfeld. NPR. 14 February 2011. Iraq Body Count Loney, Jim, ‘Iraq on the brink of ‘devastating civil war’: Former PM Allawi’, National Post, 28 December 2011 Miniter, Richard. “Was the Iraq War Worth It?”. Hudson New York. 2 September 2010. Nasr, Vali. “Regional Implications of Shi’a Revival in Iraq”. The Washington Quarterly • 27:3 pp. 7–24. The Centre for International and Strategic Studies and the Massachusetts Institute for Technology. Summer 2004. Pipes, Daniel, ‘A Border Adrift: Origins of the Iraq-Iran War’, The Iraq-Iran War: Old Conflict, New Weapons, 1983 Weinraub, Bernard, and Shanker, Thom, ‘A NATION AT WAR: UNDER FIRE; Rumsfeld’s Design for War Criticized on the Battlefield’, The New York Times, 1 April 2003 11187 reads Voting Results 50 50 There is no votes yet. You can be the first! Video Debate Related Debates This House would have a second Brexit referendum b... THBT intellectual migration (brain drain) is cause... This House believes that leaving the EU would incr... About Us The International Debate Education Association (IDEA) is a global network of organizations that value debate as a way to give young people a voice, with entities in the Netherlands, USA, UK, Macedonia, Kyrgyzstan and Tunisia. Twitter Facebook Youtube Offices contact IDEA Central Asia IDEA Middle East and North Africa IDEA Netherlands IDEA Southeast Europe IDEA United Kingdom Latest tweet Tweets by idebate Photos IDebate is a product of IDEA, the world's leading provider of debate resources, training and events to give young people a voice. Store | Privacy Policy | Terms & Conditions | Contact X Username or e-mail * Password * Create new account Request new password Or log in with... Login with Facebook Login with Twitter \", 'source_text_conclusion_start': 11648, 'source_text_conclusion_end': 11764, 'source_text_premise_start': 11772, 'source_text_premise_end': 12983, 'topic': 'the War in Iraq was Worth the Cost', 'acquisition': datetime.datetime(2019, 4, 19, 12, 40, 25, tzinfo=datetime.timezone.utc), 'date': None, 'author': None, 'author_image_url': None, 'author_organization': None, 'author_role': None, 'mode': <ArgsMeMode.discussion: 2>, 'sentences': [ArgsMeSentence(id='Sf9294c83-A53d031c4__PREMISE__1', text='The aftermath of the war has been to create an entire people with no reason to love the West and more than100,000 reasons to hate it as a result of an estimated 105-115000 dead.'), ArgsMeSentence(id='Sf9294c83-A53d031c4__PREMISE__2', text='[i] The country is teetering on the brink of civil war, with the leader of the sunni block having said Iraq is heading towards a “sectarian autocracy that carries with it the threat of devastating civil war”[ii] unemployment is rife and the reputation of the ‘liberators’ lies in tatters[iii].'), ArgsMeSentence(id='Sf9294c83-A53d031c4__PREMISE__3', text='It is not hard to see how this combination is likely to lead to chaos in Iraq and insecurity for the West.'), ArgsMeSentence(id='Sf9294c83-A53d031c4__PREMISE__4', text='Millions of young people with a perfectly justifiable grudge, little education, no job and a desire to do something to make things right.'), ArgsMeSentence(id='Sf9294c83-A53d031c4__PREMISE__5', text='[iv] It is difficult to imagine a situation more likely to produce violence, terrorism and instability.'), ArgsMeSentence(id='Sf9294c83-A53d031c4__PREMISE__6', text='[i] Iraq Body Count [ii] Loney, Jim, ‘Iraq on the brink of ‘devastating civil war’: Former PM Allawi’, National Post, 28 December 2011 [iii] Malou Innocent.'), ArgsMeSentence(id='Sf9294c83-A53d031c4__PREMISE__7', text='“The Iraq War: Still a Massive Mistake.” Christian Science Monitor.'), ArgsMeSentence(id='Sf9294c83-A53d031c4__PREMISE__8', text='5 April 2010.'), ArgsMeSentence(id='Sf9294c83-A53d031c4__PREMISE__9', text='[iv] Benmelech, Efraim et al., ‘Economic Conditions and the Quality of Suicide Terrorism’, Journal of Politics, Vol.'), ArgsMeSentence(id='Sf9294c83-A53d031c4__PREMISE__10', text='74, No.'), ArgsMeSentence(id='Sf9294c83-A53d031c4__PREMISE__11', text='1, January 2012, pp.'), ArgsMeSentence(id='Sf9294c83-A53d031c4__CONC__1', text='An entire generation has been turned against the West and fundamentalist clerics have gained enormously in influence')], 'docno': 'Sf9294c83-A53d031c4'}, {'conclusion': 'the War in Iraq was Worth the Cost', 'premises': [ArgsMePremise(text='Even if the outcome is a stable democratic Iraq, the war was still a costly, illegal, ideologically-driven mistake', stance=<ArgsMeStance.CON: 2>, annotations=[])], 'premises_texts': 'Even if the outcome is a stable democratic Iraq, the war was still a costly, illegal, ideologically-driven mistake', 'aspects': [], 'aspects_names': '', 'source_id': 'Sf9294c83', 'source_title': 'This House Believes that the War in Iraq was Worth the Cost | idebate.org', 'source_url': 'https://idebate.org/debatabase/international-middle-east-politics-terrorism-warpeace/house-believes-war-iraq-was-worth', 'source_previous_argument_id': None, 'source_next_argument_id': None, 'source_domain': <ArgsMeSourceDomain.idebate: 4>, 'source_text': \"idebate.org Educational and informative news and resources on debate, advocacy and activism for youth. \\xa0 \\xa0 News Debatabase Events Community Media About Search form Search This House Believes that the War in Iraq was Worth the Cost The war in Iraq is likely to be remembered for decades, if not centuries, as the defining conflict of the early 21st century. The effect it had not only in the nation and country itself in radicalizing an entire generation as well as the toxic effect it had on those politicians most closely associated with it may well stand as a legacy to how not to fight a war. However, as the original reasons for going in fade into history – and they were never that clear in the first place – the issue of what has been accomplished becomes an interesting one. It would be foolish to assert that everything went according to plan, and proposition will have to demonstrate benefits from some unusual sources. However unlikely it may seem, such benefits do exist. The first and most obvious one is that Saddam Hussein, and his genocidal regime, is no longer in power. Instead there is, by the standards of the region, a democratic, relatively stable and relatively transparent nation state. It may not be Switzerland but the difference between the country the allies entered and the one they are leaving could not be clearer. Equally, although it will come as little consolation to the families of those who have died the knowledge gained about how wars in the 21st century need to be fought can be used to save lives in the future. Especially given the instability of the Middle East as a whole and the growing scarcity of oil, it seems unlikely that this is the last desert war the West will be fighting in the decades to come. Equally, the impact it had on the West is instructive. When Britain and France chose to intervene in Libya, Sarkosy and Cameron did so in the shadow of Baghdad and the difference in their approach could not have been more different from the gung-ho, militaristic approach taken by Blair and Bush. Instead they adopted very clear goals, were very clear on the need for indigenous allies, and refused to put boots on the ground. It seems that they acknowledged that their electorates would not stomach another war conducted along the lines of Iraq. It would stretch credulity to suggest that there is a direct link between the fall of Baghdad and the Arab Spring. However, that synchronicity of the two events may ultimately prove beneficial. The Middle East would have been a lonely place for a democratic state and now there are at least a handful to build upon. Although the cost in lives – lost and broken – is almost too ghastly to contemplate and the effects on the economies of all concerned has been devastating, there are some positives that have come out of the conflict. Benefits that would not be available with Saddam left in power. The balance of probability now seems to be that the future generations living in a free and democratic Iraq will give thanks to those who died to start the nation on its long road to freedom. \\xa0 POINTS FOR POINTS AGAINST Title\\xa0 Saddam Hussein is gone and Iraq is now functioning as one of very few democracies in the Middle East Point\\xa0 It's important to be clear that this debate is looking at the results of the Iraq war and, by any definition Iraq is in a much more stable and secure position than it was in 2003 when American, British and other international troops arrived in the country. Whatever one thinks of the initial justifications for the war there is no doubt that the country, the region and the world are better and safer places without Saddam Hussein[i]. It is easy to criticize the allies but it is worth bearing in mind that the alternative was leaving in power a man who had committed genocide was a vicious and brutal dictator under whose regime extra-judicial execution and detention, mass-murder and torture were commonplace[ii]. [i]\\xa0Richard Miniter. “Was the Iraq War Worth It?”. Hudson New York. 2 September 2010. [ii]\\xa0Interview with Donald Rumsfeld. Inside Politics. NPR. 14 February 2011. Counterpoint\\xa0 In the unlikely event that something resembling a democratic government survives in Iraq after the international troops leave then that would, of course, be welcome. However, some context is required to establish whether the price was worth paying. Over a trillion dollars, 4,000 American dead, tens of thousands of Iraqis, US reputation destroyed in the region to establish a puppet government whose only real chance of survival is a continued American presence in the country. The alternatives are all unpleasant – a theocratic regime allied to a nuclear Iran, a simple meltdown of the state or the emergence of a new strongman along the lines of Saddam's regime. Assuming the US can't sign up in perpetuity then one of these outcomes seems likely and those lives and resources will have been squandered for no reason whatsoever[i]. [i]\\xa0Francis Fukuyama. “Iraq May Be Stable, But The War Was Still A Mistake”. Wall Street Journal. 15 August 2008. Title\\xa0 Although there has been a huge cost in human life the alternatives may well have been worse Saddam had made quite clear his intention to hand over power to his sons Point\\xa0 Without intervention there is little doubt that Saddam or one of his still more murderous sons would be running Iraq. Even though there were no WMDs, it seems reasonable to assume that neither Saddam nor his sons would have ignored Iran’s attempts to secure fissile material and develop a bomb. Iraq had attempted to build a nuclear reactor in the 1970’s but it was destroyed by Israel in 1981[i]\\xa0and Iraq and Iran had fought a far for most of the 1980s for political dominance in the Gulf and the Shi’ite, Sunni religious divide.[ii]So we would now be watching an arms race in the Middle East between the two with Israel on a hair trigger. This wasn’t just about removing one tyrant; the regime had dynastic ambitions, and a failure to act would have created the equivalent of North Korea. However, this particular hermit kingdom would have been sitting on top of the second largest reserves of oil in the world. It would, therefore, have the capacity to create the sort of fear and chaos Kim Jong Il can only dream of. [i]\\xa0BBC On This Day, ‘1981: Israel bombs Baghdad nuclear reactor’. [ii]\\xa0Pipes, Daniel, ‘A Border Adrift: Origins of the Iraq-Iran War’,\\xa0The Iraq-Iran War: Old Conflict, New Weapons, 1983 Counterpoint\\xa0 There is little evidence that the Ba’ath Party would have tolerated a handover of power to Saddam’s sons. Even in North Korea, the issue of Kim Il Sung’s succession became fraught, and hotly contested amongst the North Korean political elite.. However, the issue of who should run Iraq was and should remain a matter for the Iraqi people. The current puppet regime has little power outside\\xa0Baghdad\\xa0and, frankly, not that much inside, this lack of central control is as damaging as too much would be as is shown by the failure of Somalia and resulting civil war and piratical attacks.[i] In many ways the war has encouraged the world’s rogue states to pursue nuclear weapons as, in an era of ‘pre-emptive defense, they are the only surety against invasion and overthrow[ii]. Iran is continuing to persue nuclear weapons even without the threat of Iraq on its borders, instead it is worried about Israel and the United States. One more threatening state would therefore have made little difference.[iii] If the aim of the war was to insure against future threats then leaving a nation bitter and resentful, where barely a family has not lost someone to the conflict, a radicalized younger generation, emboldened militant clerics and a weak central government seems a very strange way to go about doing it. The West will almost certainly have to return to Iraq within a generation, if not a decade. [i]\\xa0Blair, David, ‘Somalia: Analysis of a failed state’,\\xa0The Telegraph, 18 November 2008 [ii]\\xa0Francis Fukuyama. “Iraq May Be Stable, But The War Was Still A Mistake”. Wall Street Journal. 15 August 2008. [iii]\\xa0BBC News, ‘Q&A: Iran nuclear issue’, 23 January 2012 Title\\xa0 His removal provides stability and security not only for Iraq but for the Middle East as a region Point\\xa0 The Middle East is a tinder box at the best of times. Having an unpredictable megalomaniac sitting in the middle of it was dangerous, not only for Iraqis but for other peoples in the region. Hussain was a danger to the Middle East as he had proved many times, through his invasion of Iran[i]\\xa0which was followed only a couple of years later in 1990 by an invasion of Kuwait which sparked the Gulf War[ii]\\xa0and his use of scud missiles on Israel which was otherwise uninvolved in the conflict.[iii] It was better to remove this threat than risk being drawn into a multi-player conflict when he next attacked a neighbor. [i]\\xa0Pipes, Daniel, ‘A Border Adrift: Origins of the Iraq-Iran War’, The Iraq-Iran War: Old Conflict, New Weapons, 1983 [ii]\\xa0BBC on this day, ‘1990: Iraq invades Kuwait’. [iii]\\xa0CBC Digital Archives, ‘Scud vs. Patriot missiles’, 19 January 1991 Counterpoint\\xa0 By empowering the Shi’a majority, the outcome of the war has provided an obvious link to Iran, an equally obvious threat to Israel and has implication for nations “from Lebanon to Pakistan.[i]” The weakness of this government represents a far greater threat to security and regional stability than any dictator, however bloodthirsty. Iraq looks set to join the other lawless regions of Asia such as the Pashtun Valley as an obvious place for terrorists and Criminals to base themselves. [i]\\xa0Vali Nasr. “Regional Implications of Shi’a Revival in Iraq”. The Washington Quarterly • 27:3 pp. 7–24. The Centre for International and Strategic Studies and the Massachusetts Institute for Technology. Summer 2004. Title\\xa0 The war was illegal and the removal of Saddam should have been left to the Iraqis Yet another puppet regime is not what the Middle East needs Point\\xa0 Events from the Arab Spring have demonstrated, more graphically than anything else could have done, that Arab peoples are more than capable of dealing with their own dictators and do not need to be patronized by fading imperial powers. Imagine what the situation in Iraq would be now following a genuinely democratic uprising rather than the imposition of yet another puppet regime by the West. Since the creation of the state of Iraq as a modern state by the British in 1932, a succession of rulers, of various stripes of dictatorial ruthlessness, have been brought in to ensure that the oil wealth continues to flow to Washington, London and other foreign capitals. The allies were never interested in Iraqi freedom, this was yet another grab for oil and the results look set to be the same round of misery and tyranny for the people of Iraq. Counterpoint\\xa0 The sands of Iraq are as soaked in blood as they are in oil. For once the Iraqis have actually got something out of their mineral wealth, which has otherwise served as a curse for over a century. There has been a functioning civilization around the Tigis-Euphrates Valleys for at least ten thousand years it was only with the discovery of oil and the importation of the Industrial Age that this began to function as a curse. For once their oil wealth has worked to their advantage, leading to the removal of a dictator rather than the imposition of one. As the troops step back it seems likely that Iraq has the opportunity to become that rarest of things; a Middle Eastern, oil producing state that is democratic and stable. As a result they can negotiate with oil consuming nations on an even footing. Title\\xa0 An entire generation has been turned against the West and fundamentalist clerics have gained enormously in influence Point\\xa0 The aftermath of the war has been to create an entire people with no reason to love the West and more than100,000 reasons to hate it as a result of an estimated 105-115000 dead.[i]\\xa0The country is teetering on the brink of civil war, with the leader of the sunni block having said Iraq is heading towards a “sectarian autocracy that carries with it the threat of devastating civil war”[ii]\\xa0unemployment is rife and the reputation of the ‘liberators’ lies in tatters[iii]. It is not hard to see how this combination is likely to lead to chaos in Iraq and insecurity for the West. Millions of young people with a perfectly justifiable grudge, little education, no job and a desire to do something to make things\\xa0right.[iv] It is difficult to imagine a situation more likely to produce violence, terrorism and instability. [i]\\xa0Iraq Body Count [ii]\\xa0Loney, Jim, ‘Iraq on the brink of ‘devastating civil war’: Former PM Allawi’,\\xa0National Post, 28 December 2011 [iii]\\xa0Malou Innocent. “The Iraq War: Still a Massive Mistake.” Christian Science Monitor. 5 April 2010. [iv]\\xa0Benmelech, Efraim et al., ‘Economic Conditions and the Quality of Suicide Terrorism’,\\xa0Journal of Politics, Vol. 74, No. 1, January 2012, pp. 113-128 Counterpoint\\xa0 Iraq now has a professionally trained army and police force accountable to a democratically elected government and, through them, to the people. Unusually among Arab nations the security forces should now act as upholders of the law rather than the personal armies of local and national strong men used to settle grudges and silence dissent. The torture chambers are closed and the courts are functioning. There is, of course, work still to be done in terms of creating jobs but at least those jobs will go to people on the basis of ability rather than political loyalty. Iraq still faces problems but is better equipped to deal with them than it has been in a century and more. Title\\xa0 Even if the outcome is a stable democratic Iraq, the war was still a costly, illegal, ideologically-driven mistake Point\\xa0 The cost of the Iraq war has been astonishing both in the lives and treasure spent and the resentment and chaos stored up for the future. Even if the result had been Switzerland on Sinai, it would still not have been worth it. There have been more than 100,000 Iraqi\\xa0deaths[i]. \\xa0It has been the most expensive US war other than WWII in constant 2011 dollars, costing more than $400 billion more than Vietnam,[ii]and what is left is a failed state in the making. The war was poorly conceived, recklessly enacted and devastatingly badly\\xa0concluded. The secretary of defense Donald Rumsfeld wanted the war fought “on the cheap” using a much smaller force than the pentagon or independent analysts thought was necessary.[iii]\\xa0With the allies now withdrawing from Iraq the world’s best hope is that the US and its allies will be sufficiently cowed by public opinion as to never try such folly again. That, perhaps, would be a benefit. [i]\\xa0Iraq Body Count [ii]\\xa0Daggett, Stephen, ‘Costs of Major U.S. Wars’,\\xa0Congressional Research Service, 29 June 2010 [iii]\\xa0Weinraub, Bernard, and Shanker, Thom, ‘A NATION AT WAR: UNDER FIRE; Rumsfeld’s Design for War Criticized on the Battlefield’,\\xa0The New York Times,\\xa01 April 2003 How do you feel now, please vote FOR AGAINST Bibliography\\xa0 BBC On This Day, ‘1981: Israel bombs Baghdad nuclear reactor’. BBC on this day, ‘1990: Iraq invades Kuwait’. BBC News, ‘Q&A: Iran nuclear issue’, 23 January 2012 Benmelech, Efraim et al., ‘Economic Conditions and the Quality of Suicide Terrorism’, Journal of Politics, Vol. 74, No. 1, January 2012, pp. 113-128 Blair, David, ‘Somalia: Analysis of a failed state’, The Telegraph, 18 November 2008 CBC Digital Archives, ‘Scud vs. Patriot missiles’, 19 January 1991 Daggett, Stephen, ‘Costs of Major U.S. Wars’, Congressional Research Service, 29 June 2010 Fukuyama, Francis. “Iraq May Be Stable, But The War Was Still A Mistake”. Wall Street Journal. 15 August 2008. Innocent. Malou, \\xa0“The Iraq War: Still a Massive Mistake.” Christian Science Monitor. 5 April 2010. Inside Politics, Interview with Donald Rumsfeld. NPR. 14 February 2011. Iraq Body Count Loney, Jim, ‘Iraq on the brink of ‘devastating civil war’: Former PM Allawi’, National Post, 28 December 2011 Miniter, Richard. “Was the Iraq War Worth It?”. Hudson New York. 2 September 2010. Nasr, Vali. “Regional Implications of Shi’a Revival in Iraq”. The Washington Quarterly • 27:3 pp. 7–24. The Centre for International and Strategic Studies and the Massachusetts Institute for Technology. Summer 2004. Pipes, Daniel, ‘A Border Adrift: Origins of the Iraq-Iran War’, The Iraq-Iran War: Old Conflict, New Weapons, 1983 Weinraub, Bernard, and Shanker, Thom, ‘A NATION AT WAR: UNDER FIRE; Rumsfeld’s Design for War Criticized on the Battlefield’, The New York Times, 1 April 2003 11187 reads Voting Results 50 50 There is no votes yet. You can be the first! Video Debate Related Debates This House would have a second Brexit referendum b... THBT intellectual migration (brain drain) is cause... This House believes that leaving the EU would incr... About Us The International Debate Education Association (IDEA) is a global network of organizations that value debate as a way to give young people a voice, with entities in the Netherlands, USA, UK, Macedonia, Kyrgyzstan and Tunisia. Twitter Facebook Youtube Offices contact IDEA Central Asia IDEA Middle East and North Africa IDEA Netherlands IDEA Southeast Europe IDEA United Kingdom Latest tweet Tweets by idebate Photos IDebate is a product of IDEA, the world's leading provider of debate resources, training and events to give young people a voice. Store | Privacy Policy | Terms & Conditions | Contact X Username or e-mail * Password * Create new account Request new password Or log in with... Login with Facebook Login with Twitter \", 'source_text_conclusion_start': 196, 'source_text_conclusion_end': 230, 'source_text_premise_start': 13684, 'source_text_premise_end': 13798, 'topic': 'the War in Iraq was Worth the Cost', 'acquisition': datetime.datetime(2019, 4, 19, 12, 40, 25, tzinfo=datetime.timezone.utc), 'date': None, 'author': None, 'author_image_url': None, 'author_organization': None, 'author_role': None, 'mode': <ArgsMeMode.discussion: 2>, 'sentences': [ArgsMeSentence(id='Sf9294c83-Aa036c8f7__PREMISE__1', text='Even if the outcome is a stable democratic Iraq, the war was still a costly, illegal, ideologically-driven mistake'), ArgsMeSentence(id='Sf9294c83-Aa036c8f7__CONC__1', text='the War in Iraq was Worth the Cost')], 'docno': 'Sf9294c83-Aa036c8f7'}]\n"
          ]
        },
        {
          "name": "stderr",
          "output_type": "stream",
          "text": [
            "\n"
          ]
        }
      ],
      "source": [
        "#iterator over the documents\n",
        "corpus_iter = dataset.get_corpus_iter()\n",
        "\n",
        "# Convert the iterator to a list \n",
        "corpus_list = list(corpus_iter)\n",
        "\n",
        "# Print the first few elements of the list\n",
        "print(corpus_list[:5])"
      ]
    },
    {
      "cell_type": "code",
      "execution_count": 10,
      "metadata": {},
      "outputs": [],
      "source": [
        "#Convert the list of documents to a Pandas DataFrame\n",
        "df = pd.DataFrame(corpus_list)\n"
      ]
    },
    {
      "cell_type": "code",
      "execution_count": 11,
      "metadata": {},
      "outputs": [
        {
          "name": "stdout",
          "output_type": "stream",
          "text": [
            "Index(['conclusion', 'premises', 'premises_texts', 'aspects', 'aspects_names',\n",
            "       'source_id', 'source_title', 'source_url',\n",
            "       'source_previous_argument_id', 'source_next_argument_id',\n",
            "       'source_domain', 'source_text', 'source_text_conclusion_start',\n",
            "       'source_text_conclusion_end', 'source_text_premise_start',\n",
            "       'source_text_premise_end', 'topic', 'acquisition', 'date', 'author',\n",
            "       'author_image_url', 'author_organization', 'author_role', 'mode',\n",
            "       'sentences', 'docno'],\n",
            "      dtype='object')\n"
          ]
        }
      ],
      "source": [
        "print(df.columns)"
      ]
    },
    {
      "cell_type": "code",
      "execution_count": 116,
      "metadata": {},
      "outputs": [],
      "source": [
        "# df.to_csv('dataset2022.csv', index=False) #saving the entire dataset 2022 containing 365k documents to retrieve"
      ]
    },
    {
      "cell_type": "code",
      "execution_count": null,
      "metadata": {
        "id": "NQ-37g6m5WVW"
      },
      "outputs": [],
      "source": [
        "# pd.set_option('display.max_colwidth', None)"
      ]
    },
    {
      "attachments": {},
      "cell_type": "markdown",
      "metadata": {
        "id": "ScuQTDi35woZ"
      },
      "source": [
        "##### **Queries**"
      ]
    },
    {
      "cell_type": "code",
      "execution_count": 8,
      "metadata": {
        "colab": {
          "base_uri": "https://localhost:8080/",
          "height": 311
        },
        "id": "DK2iEKOGl6xk",
        "outputId": "cb9b89c9-1ed5-462d-977a-b0a9c03ae4ee"
      },
      "outputs": [
        {
          "name": "stdout",
          "output_type": "stream",
          "text": [
            "There are multiple query fields available: ('title', 'description', 'narrative'). To use with pyterrier, provide variant or modify dataframe to add query column.\n",
            "There are 50  topics\n"
          ]
        },
        {
          "data": {
            "text/html": [
              "<div>\n",
              "<style scoped>\n",
              "    .dataframe tbody tr th:only-of-type {\n",
              "        vertical-align: middle;\n",
              "    }\n",
              "\n",
              "    .dataframe tbody tr th {\n",
              "        vertical-align: top;\n",
              "    }\n",
              "\n",
              "    .dataframe thead th {\n",
              "        text-align: right;\n",
              "    }\n",
              "</style>\n",
              "<table border=\"1\" class=\"dataframe\">\n",
              "  <thead>\n",
              "    <tr style=\"text-align: right;\">\n",
              "      <th></th>\n",
              "      <th>qid</th>\n",
              "      <th>title</th>\n",
              "      <th>description</th>\n",
              "      <th>narrative</th>\n",
              "    </tr>\n",
              "  </thead>\n",
              "  <tbody>\n",
              "    <tr>\n",
              "      <th>0</th>\n",
              "      <td>1</td>\n",
              "      <td>Should teachers get tenure?</td>\n",
              "      <td>A user has heard that some countries do give t...</td>\n",
              "      <td>Highly relevant arguments make a clear stateme...</td>\n",
              "    </tr>\n",
              "    <tr>\n",
              "      <th>1</th>\n",
              "      <td>2</td>\n",
              "      <td>Is vaping with e-cigarettes safe?</td>\n",
              "      <td>When considering to switch from smoking to vap...</td>\n",
              "      <td>Highly relevant arguments support or deny the ...</td>\n",
              "    </tr>\n",
              "  </tbody>\n",
              "</table>\n",
              "</div>"
            ],
            "text/plain": [
              "  qid                              title   \n",
              "0   1        Should teachers get tenure?  \\\n",
              "1   2  Is vaping with e-cigarettes safe?   \n",
              "\n",
              "                                         description   \n",
              "0  A user has heard that some countries do give t...  \\\n",
              "1  When considering to switch from smoking to vap...   \n",
              "\n",
              "                                           narrative  \n",
              "0  Highly relevant arguments make a clear stateme...  \n",
              "1  Highly relevant arguments support or deny the ...  "
            ]
          },
          "metadata": {},
          "output_type": "display_data"
        }
      ],
      "source": [
        "topics = dataset.get_topics() #queries \n",
        "print(f'There are', len(topics),' topics')\n",
        "display(topics.head(2))"
      ]
    },
    {
      "attachments": {},
      "cell_type": "markdown",
      "metadata": {
        "id": "eP0fZ5wd5rYy"
      },
      "source": [
        "##### **Query relevance judgment**"
      ]
    },
    {
      "cell_type": "code",
      "execution_count": 7,
      "metadata": {
        "colab": {
          "base_uri": "https://localhost:8080/",
          "height": 241
        },
        "id": "cN2Yp5Oqrkyq",
        "outputId": "4e5c7621-70e6-43c7-ca4d-e327f49f5f96"
      },
      "outputs": [
        {
          "name": "stdout",
          "output_type": "stream",
          "text": [
            "There are multiple qrel fields available: ['relevance', 'quality', 'coherence']. Defaulting to \"relevance\", but to use a different one, supply variant\n"
          ]
        },
        {
          "data": {
            "text/plain": [
              "(6841, 6)"
            ]
          },
          "execution_count": 7,
          "metadata": {},
          "output_type": "execute_result"
        }
      ],
      "source": [
        "qrels = dataset.get_qrels() \n",
        "qrels.shape"
      ]
    },
    {
      "cell_type": "code",
      "execution_count": 8,
      "metadata": {},
      "outputs": [
        {
          "data": {
            "text/html": [
              "<div>\n",
              "<style scoped>\n",
              "    .dataframe tbody tr th:only-of-type {\n",
              "        vertical-align: middle;\n",
              "    }\n",
              "\n",
              "    .dataframe tbody tr th {\n",
              "        vertical-align: top;\n",
              "    }\n",
              "\n",
              "    .dataframe thead th {\n",
              "        text-align: right;\n",
              "    }\n",
              "</style>\n",
              "<table border=\"1\" class=\"dataframe\">\n",
              "  <thead>\n",
              "    <tr style=\"text-align: right;\">\n",
              "      <th></th>\n",
              "      <th>qid</th>\n",
              "      <th>docno</th>\n",
              "      <th>label</th>\n",
              "      <th>quality</th>\n",
              "      <th>coherence</th>\n",
              "      <th>iteration</th>\n",
              "    </tr>\n",
              "  </thead>\n",
              "  <tbody>\n",
              "    <tr>\n",
              "      <th>0</th>\n",
              "      <td>1</td>\n",
              "      <td>Sc065954f-Ae72bc9c6__PREMISE__41,Sc065954f-Ae7...</td>\n",
              "      <td>2</td>\n",
              "      <td>2</td>\n",
              "      <td>2</td>\n",
              "      <td>0</td>\n",
              "    </tr>\n",
              "    <tr>\n",
              "      <th>1</th>\n",
              "      <td>1</td>\n",
              "      <td>S51530f3f-Ad9a140f__PREMISE__3,S1b03f390-A22af...</td>\n",
              "      <td>2</td>\n",
              "      <td>2</td>\n",
              "      <td>0</td>\n",
              "      <td>0</td>\n",
              "    </tr>\n",
              "    <tr>\n",
              "      <th>2</th>\n",
              "      <td>1</td>\n",
              "      <td>S51530f3f-Ae32a4a1b__PREMISE__13,Sff0947ec-A46...</td>\n",
              "      <td>2</td>\n",
              "      <td>1</td>\n",
              "      <td>1</td>\n",
              "      <td>0</td>\n",
              "    </tr>\n",
              "    <tr>\n",
              "      <th>3</th>\n",
              "      <td>1</td>\n",
              "      <td>S51530f3f-Ae32a4a1b__PREMISE__7,Sff0947ec-A46d...</td>\n",
              "      <td>2</td>\n",
              "      <td>2</td>\n",
              "      <td>0</td>\n",
              "      <td>0</td>\n",
              "    </tr>\n",
              "    <tr>\n",
              "      <th>4</th>\n",
              "      <td>1</td>\n",
              "      <td>S80d1e58b-A5923d626__PREMISE__11,S37b8bc05-A7d...</td>\n",
              "      <td>0</td>\n",
              "      <td>0</td>\n",
              "      <td>1</td>\n",
              "      <td>0</td>\n",
              "    </tr>\n",
              "  </tbody>\n",
              "</table>\n",
              "</div>"
            ],
            "text/plain": [
              "  qid                                              docno  label  quality   \n",
              "0   1  Sc065954f-Ae72bc9c6__PREMISE__41,Sc065954f-Ae7...      2        2  \\\n",
              "1   1  S51530f3f-Ad9a140f__PREMISE__3,S1b03f390-A22af...      2        2   \n",
              "2   1  S51530f3f-Ae32a4a1b__PREMISE__13,Sff0947ec-A46...      2        1   \n",
              "3   1  S51530f3f-Ae32a4a1b__PREMISE__7,Sff0947ec-A46d...      2        2   \n",
              "4   1  S80d1e58b-A5923d626__PREMISE__11,S37b8bc05-A7d...      0        0   \n",
              "\n",
              "   coherence iteration  \n",
              "0          2         0  \n",
              "1          0         0  \n",
              "2          1         0  \n",
              "3          0         0  \n",
              "4          1         0  "
            ]
          },
          "execution_count": 8,
          "metadata": {},
          "output_type": "execute_result"
        }
      ],
      "source": [
        "qrels.head()"
      ]
    },
    {
      "cell_type": "markdown",
      "metadata": {},
      "source": [
        "We split the docno column elements into separate rows\n"
      ]
    },
    {
      "cell_type": "code",
      "execution_count": 12,
      "metadata": {},
      "outputs": [
        {
          "data": {
            "text/plain": [
              "['Sc065954f-Ae72bc9c6__PREMISE__41', 'Sc065954f-Ae72bc9c6__CONC__1']"
            ]
          },
          "execution_count": 12,
          "metadata": {},
          "output_type": "execute_result"
        }
      ],
      "source": [
        "qrels.docno.iloc[0].split(\",\")"
      ]
    },
    {
      "cell_type": "code",
      "execution_count": 13,
      "metadata": {},
      "outputs": [],
      "source": [
        "qrels[\"docno\"] = qrels[\"docno\"].apply(lambda x: x.split(\",\"))"
      ]
    },
    {
      "cell_type": "code",
      "execution_count": 14,
      "metadata": {},
      "outputs": [],
      "source": [
        "qrels = qrels.explode(\"docno\")"
      ]
    },
    {
      "cell_type": "code",
      "execution_count": 15,
      "metadata": {},
      "outputs": [
        {
          "name": "stdout",
          "output_type": "stream",
          "text": [
            "New shape: 13682\n"
          ]
        },
        {
          "data": {
            "text/html": [
              "<div>\n",
              "<style scoped>\n",
              "    .dataframe tbody tr th:only-of-type {\n",
              "        vertical-align: middle;\n",
              "    }\n",
              "\n",
              "    .dataframe tbody tr th {\n",
              "        vertical-align: top;\n",
              "    }\n",
              "\n",
              "    .dataframe thead th {\n",
              "        text-align: right;\n",
              "    }\n",
              "</style>\n",
              "<table border=\"1\" class=\"dataframe\">\n",
              "  <thead>\n",
              "    <tr style=\"text-align: right;\">\n",
              "      <th></th>\n",
              "      <th>qid</th>\n",
              "      <th>docno</th>\n",
              "      <th>label</th>\n",
              "      <th>quality</th>\n",
              "      <th>coherence</th>\n",
              "      <th>iteration</th>\n",
              "    </tr>\n",
              "  </thead>\n",
              "  <tbody>\n",
              "    <tr>\n",
              "      <th>0</th>\n",
              "      <td>1</td>\n",
              "      <td>Sc065954f-Ae72bc9c6__PREMISE__41</td>\n",
              "      <td>2</td>\n",
              "      <td>2</td>\n",
              "      <td>2</td>\n",
              "      <td>0</td>\n",
              "    </tr>\n",
              "    <tr>\n",
              "      <th>0</th>\n",
              "      <td>1</td>\n",
              "      <td>Sc065954f-Ae72bc9c6__CONC__1</td>\n",
              "      <td>2</td>\n",
              "      <td>2</td>\n",
              "      <td>2</td>\n",
              "      <td>0</td>\n",
              "    </tr>\n",
              "    <tr>\n",
              "      <th>1</th>\n",
              "      <td>1</td>\n",
              "      <td>S51530f3f-Ad9a140f__PREMISE__3</td>\n",
              "      <td>2</td>\n",
              "      <td>2</td>\n",
              "      <td>0</td>\n",
              "      <td>0</td>\n",
              "    </tr>\n",
              "    <tr>\n",
              "      <th>1</th>\n",
              "      <td>1</td>\n",
              "      <td>S1b03f390-A22aff8a0__PREMISE__57</td>\n",
              "      <td>2</td>\n",
              "      <td>2</td>\n",
              "      <td>0</td>\n",
              "      <td>0</td>\n",
              "    </tr>\n",
              "    <tr>\n",
              "      <th>2</th>\n",
              "      <td>1</td>\n",
              "      <td>S51530f3f-Ae32a4a1b__PREMISE__13</td>\n",
              "      <td>2</td>\n",
              "      <td>1</td>\n",
              "      <td>1</td>\n",
              "      <td>0</td>\n",
              "    </tr>\n",
              "    <tr>\n",
              "      <th>...</th>\n",
              "      <td>...</td>\n",
              "      <td>...</td>\n",
              "      <td>...</td>\n",
              "      <td>...</td>\n",
              "      <td>...</td>\n",
              "      <td>...</td>\n",
              "    </tr>\n",
              "    <tr>\n",
              "      <th>6838</th>\n",
              "      <td>50</td>\n",
              "      <td>S8baeda0e-A13ad333__CONC__1</td>\n",
              "      <td>1</td>\n",
              "      <td>2</td>\n",
              "      <td>0</td>\n",
              "      <td>0</td>\n",
              "    </tr>\n",
              "    <tr>\n",
              "      <th>6839</th>\n",
              "      <td>50</td>\n",
              "      <td>S4d1037d1-Ab00d54e7__PREMISE__1</td>\n",
              "      <td>0</td>\n",
              "      <td>0</td>\n",
              "      <td>0</td>\n",
              "      <td>0</td>\n",
              "    </tr>\n",
              "    <tr>\n",
              "      <th>6839</th>\n",
              "      <td>50</td>\n",
              "      <td>S4d1037d1-Ab00d54e7__CONC__1</td>\n",
              "      <td>0</td>\n",
              "      <td>0</td>\n",
              "      <td>0</td>\n",
              "      <td>0</td>\n",
              "    </tr>\n",
              "    <tr>\n",
              "      <th>6840</th>\n",
              "      <td>50</td>\n",
              "      <td>Sffdf2e2e-A20e9dd06__PREMISE__4</td>\n",
              "      <td>1</td>\n",
              "      <td>1</td>\n",
              "      <td>1</td>\n",
              "      <td>0</td>\n",
              "    </tr>\n",
              "    <tr>\n",
              "      <th>6840</th>\n",
              "      <td>50</td>\n",
              "      <td>Sffdf2e2e-A20e9dd06__PREMISE__5</td>\n",
              "      <td>1</td>\n",
              "      <td>1</td>\n",
              "      <td>1</td>\n",
              "      <td>0</td>\n",
              "    </tr>\n",
              "  </tbody>\n",
              "</table>\n",
              "<p>13682 rows × 6 columns</p>\n",
              "</div>"
            ],
            "text/plain": [
              "     qid                             docno  label  quality  coherence   \n",
              "0      1  Sc065954f-Ae72bc9c6__PREMISE__41      2        2          2  \\\n",
              "0      1      Sc065954f-Ae72bc9c6__CONC__1      2        2          2   \n",
              "1      1    S51530f3f-Ad9a140f__PREMISE__3      2        2          0   \n",
              "1      1  S1b03f390-A22aff8a0__PREMISE__57      2        2          0   \n",
              "2      1  S51530f3f-Ae32a4a1b__PREMISE__13      2        1          1   \n",
              "...   ..                               ...    ...      ...        ...   \n",
              "6838  50       S8baeda0e-A13ad333__CONC__1      1        2          0   \n",
              "6839  50   S4d1037d1-Ab00d54e7__PREMISE__1      0        0          0   \n",
              "6839  50      S4d1037d1-Ab00d54e7__CONC__1      0        0          0   \n",
              "6840  50   Sffdf2e2e-A20e9dd06__PREMISE__4      1        1          1   \n",
              "6840  50   Sffdf2e2e-A20e9dd06__PREMISE__5      1        1          1   \n",
              "\n",
              "     iteration  \n",
              "0            0  \n",
              "0            0  \n",
              "1            0  \n",
              "1            0  \n",
              "2            0  \n",
              "...        ...  \n",
              "6838         0  \n",
              "6839         0  \n",
              "6839         0  \n",
              "6840         0  \n",
              "6840         0  \n",
              "\n",
              "[13682 rows x 6 columns]"
            ]
          },
          "execution_count": 15,
          "metadata": {},
          "output_type": "execute_result"
        }
      ],
      "source": [
        "print(\"New shape:\", qrels.shape[0])\n",
        "qrels"
      ]
    },
    {
      "cell_type": "markdown",
      "metadata": {},
      "source": [
        "#### **Indexing whole corpus - NO** \n",
        "Index entire corpus and retrieve using BM25 model, getting 50,000 retrieved documents. \n",
        "However, evaluation cannot be done - sentences are needed.\n"
      ]
    },
    {
      "cell_type": "code",
      "execution_count": 12,
      "metadata": {},
      "outputs": [
        {
          "data": {
            "text/plain": [
              "'/Users/juliabuixuan/Desktop/TOUCHE'"
            ]
          },
          "execution_count": 12,
          "metadata": {},
          "output_type": "execute_result"
        }
      ],
      "source": [
        "os.getcwd()"
      ]
    },
    {
      "cell_type": "code",
      "execution_count": 13,
      "metadata": {
        "colab": {
          "base_uri": "https://localhost:8080/",
          "height": 610,
          "referenced_widgets": [
            "bafde50f5eaf464e9ce746ae57a967f2",
            "35b719badbf246e4b14340cd08829856",
            "1c110b1822c948bd8275afdac612673a",
            "425b987de0e54e088580f8cd8d1543b7",
            "76d55b9834a8423c846e512d735ad2be",
            "2b25e1c2bde84004b1d20b2fd266cfbd",
            "ad9803fc1ed445d49eef5ea860d6d04c",
            "bec1082e36aa4595b980159780450e04",
            "206366b078e249fcbf4458cdb8741556",
            "86bffcbbd8fd4ff68a20354ea3b69753",
            "7be257a822aa4c8096b16f31e33e06b2"
          ]
        },
        "id": "pIbtFxsTsv7R",
        "outputId": "cbd1b85f-fe2d-457c-e95f-57cfd1fe8beb"
      },
      "outputs": [
        {
          "name": "stderr",
          "output_type": "stream",
          "text": [
            "[INFO] If you have a local copy of https://zenodo.org/record/6873574/files/args_processed_04_01.tar.gz, you can symlink it here to avoid downloading it again: /Users/juliabuixuan/.ir_datasets/downloads/43bfce957df69bf59b3d59744eb73ded\n",
            "[INFO] [starting] https://zenodo.org/record/6873574/files/args_processed_04_01.tar.gz\n",
            "[INFO] [finished] https://zenodo.org/record/6873574/files/args_processed_04_01.tar.gz: [03:54] [1.55GB] [6.58MB/s]\n",
            "argsme/2020-04-01/processed/touche-2022-task-1 documents: 100%|██████████| 365408/365408 [06:48<00:00, 895.51it/s] \n"
          ]
        },
        {
          "name": "stdout",
          "output_type": "stream",
          "text": [
            "14:53:41.770 [ForkJoinPool-1-worker-1] ERROR org.terrier.structures.indexing.Indexer - Could not finish MetaIndexBuilder: \n",
            "java.io.IOException: Key S2db48a61-A430a7cb1 is not unique: 272650,142020\n",
            "For MetaIndex, to suppress, set metaindex.compressed.reverse.allow.duplicates=true\n",
            "\tat org.terrier.structures.collections.FSOrderedMapFile$MultiFSOMapWriter.mergeTwo(FSOrderedMapFile.java:1374)\n",
            "\tat org.terrier.structures.collections.FSOrderedMapFile$MultiFSOMapWriter.close(FSOrderedMapFile.java:1308)\n",
            "\tat org.terrier.structures.indexing.BaseMetaIndexBuilder.close(BaseMetaIndexBuilder.java:321)\n",
            "\tat org.terrier.structures.indexing.classical.BasicIndexer.indexDocuments(BasicIndexer.java:270)\n",
            "\tat org.terrier.structures.indexing.classical.BasicIndexer.createDirectIndex(BasicIndexer.java:388)\n",
            "\tat org.terrier.structures.indexing.Indexer.index(Indexer.java:377)\n",
            "\tat org.terrier.python.ParallelIndexer$3.apply(ParallelIndexer.java:131)\n",
            "\tat org.terrier.python.ParallelIndexer$3.apply(ParallelIndexer.java:120)\n",
            "\tat java.base/java.util.stream.ReferencePipeline$3$1.accept(ReferencePipeline.java:197)\n",
            "\tat java.base/java.util.Spliterators$ArraySpliterator.forEachRemaining(Spliterators.java:1024)\n",
            "\tat java.base/java.util.stream.AbstractPipeline.copyInto(AbstractPipeline.java:509)\n",
            "\tat java.base/java.util.stream.AbstractPipeline.wrapAndCopyInto(AbstractPipeline.java:499)\n",
            "\tat java.base/java.util.stream.ReduceOps$ReduceTask.doLeaf(ReduceOps.java:960)\n",
            "\tat java.base/java.util.stream.ReduceOps$ReduceTask.doLeaf(ReduceOps.java:934)\n",
            "\tat java.base/java.util.stream.AbstractTask.compute(AbstractTask.java:327)\n",
            "\tat java.base/java.util.concurrent.CountedCompleter.exec(CountedCompleter.java:754)\n",
            "\tat java.base/java.util.concurrent.ForkJoinTask.doExec(ForkJoinTask.java:387)\n",
            "\tat java.base/java.util.concurrent.ForkJoinTask.invoke(ForkJoinTask.java:667)\n",
            "\tat java.base/java.util.stream.ReduceOps$ReduceOp.evaluateParallel(ReduceOps.java:927)\n",
            "\tat java.base/java.util.stream.AbstractPipeline.evaluate(AbstractPipeline.java:233)\n",
            "\tat java.base/java.util.stream.ReferencePipeline.reduce(ReferencePipeline.java:662)\n",
            "\tat org.terrier.python.ParallelIndexer$4.call(ParallelIndexer.java:140)\n",
            "\tat org.terrier.python.ParallelIndexer$4.call(ParallelIndexer.java:137)\n",
            "\tat java.base/java.util.concurrent.ForkJoinTask$AdaptedCallable.exec(ForkJoinTask.java:1456)\n",
            "\tat java.base/java.util.concurrent.ForkJoinTask.doExec(ForkJoinTask.java:387)\n",
            "\tat java.base/java.util.concurrent.ForkJoinPool$WorkQueue.topLevelExec(ForkJoinPool.java:1312)\n",
            "\tat java.base/java.util.concurrent.ForkJoinPool.scan(ForkJoinPool.java:1843)\n",
            "\tat java.base/java.util.concurrent.ForkJoinPool.runWorker(ForkJoinPool.java:1808)\n",
            "\tat java.base/java.util.concurrent.ForkJoinWorkerThread.run(ForkJoinWorkerThread.java:188)\n"
          ]
        }
      ],
      "source": [
        "pt_index_path = '/Users/juliabuixuan/Desktop/TOUCHE/indexing22'\n",
        "\n",
        "if not os.path.exists(pt_index_path + \"/data.properties\"):\n",
        "  # create the index, using the IterDictIndexer indexer \n",
        "  indexer = pt.index.IterDictIndexer(pt_index_path, meta = {'docno': 100}) \n",
        "\n",
        "  # we give the dataset get_corpus_iter() directly to the indexer\n",
        "  # while specifying the fields to index and the metadata to record\n",
        "  index_ref = indexer.index(dataset.get_corpus_iter(), \n",
        "                            fields=['conclusion', 'premises_texts', 'aspects_names', 'source_id', 'source_title', 'topic','sentences'])\n",
        "\n",
        "else:\n",
        "  # if you already have the index, use it.\n",
        "  index_ref = pt.IndexRef.of(pt_index_path + \"/data.properties\")\n",
        "index2 = pt.IndexFactory.of(index_ref) #load the index"
      ]
    },
    {
      "cell_type": "markdown",
      "metadata": {},
      "source": [
        "The index is a Terrier object with different methods."
      ]
    },
    {
      "cell_type": "code",
      "execution_count": 18,
      "metadata": {
        "colab": {
          "base_uri": "https://localhost:8080/"
        },
        "id": "CuxLBv8mlVsH",
        "outputId": "7bafd590-a5ac-4573-d207-5bede9ff7cbc"
      },
      "outputs": [
        {
          "name": "stdout",
          "output_type": "stream",
          "text": [
            "Number of documents: 365408\n",
            "Number of terms: 484997\n",
            "Number of postings: 38738382\n",
            "Number of fields: 7\n",
            "Number of tokens: 130357220\n",
            "Field names: [conclusion, premises_texts, aspects_names, source_id, source_title, topic, sentences]\n",
            "Positions:   false\n",
            "\n"
          ]
        }
      ],
      "source": [
        "print(index2.getCollectionStatistics().toString()) "
      ]
    },
    {
      "cell_type": "code",
      "execution_count": 28,
      "metadata": {},
      "outputs": [
        {
          "data": {
            "text/plain": [
              "'term416 Nt=31659 TF=170722 maxTF=2147483647 @{0 30937638 2} TFf=5068,75645,0,0,5167,5167,79675'"
            ]
          },
          "execution_count": 28,
          "metadata": {},
          "output_type": "execute_result"
        }
      ],
      "source": [
        "index2.getLexicon()['death'].toString()"
      ]
    },
    {
      "cell_type": "markdown",
      "metadata": {},
      "source": [
        "##### Retrieval\n",
        "\n",
        "BatchRetrieve represents a retrieval transformation, in which queries are mapped to retrieved documents.\n",
        "As BatchRetrieve is a retrieval transformation, it takes as input dataframes with columns [“qid”, “query”], and returns dataframes with columns [“qid”, “query”, “docno”, “score”, “rank”]."
      ]
    },
    {
      "cell_type": "code",
      "execution_count": 75,
      "metadata": {},
      "outputs": [
        {
          "data": {
            "text/plain": [
              "Index(['qid', 'title', 'description', 'narrative'], dtype='object')"
            ]
          },
          "execution_count": 75,
          "metadata": {},
          "output_type": "execute_result"
        }
      ],
      "source": [
        "topics.columns"
      ]
    },
    {
      "cell_type": "code",
      "execution_count": 39,
      "metadata": {},
      "outputs": [
        {
          "data": {
            "text/html": [
              "<div>\n",
              "<style scoped>\n",
              "    .dataframe tbody tr th:only-of-type {\n",
              "        vertical-align: middle;\n",
              "    }\n",
              "\n",
              "    .dataframe tbody tr th {\n",
              "        vertical-align: top;\n",
              "    }\n",
              "\n",
              "    .dataframe thead th {\n",
              "        text-align: right;\n",
              "    }\n",
              "</style>\n",
              "<table border=\"1\" class=\"dataframe\">\n",
              "  <thead>\n",
              "    <tr style=\"text-align: right;\">\n",
              "      <th></th>\n",
              "      <th>qid</th>\n",
              "      <th>query</th>\n",
              "    </tr>\n",
              "  </thead>\n",
              "  <tbody>\n",
              "    <tr>\n",
              "      <th>0</th>\n",
              "      <td>1</td>\n",
              "      <td>should teachers get tenure</td>\n",
              "    </tr>\n",
              "    <tr>\n",
              "      <th>1</th>\n",
              "      <td>2</td>\n",
              "      <td>is vaping with e cigarettes safe</td>\n",
              "    </tr>\n",
              "    <tr>\n",
              "      <th>2</th>\n",
              "      <td>3</td>\n",
              "      <td>should insider trading be allowed</td>\n",
              "    </tr>\n",
              "    <tr>\n",
              "      <th>3</th>\n",
              "      <td>4</td>\n",
              "      <td>should corporal punishment be used in schools</td>\n",
              "    </tr>\n",
              "    <tr>\n",
              "      <th>4</th>\n",
              "      <td>5</td>\n",
              "      <td>should social security be privatized</td>\n",
              "    </tr>\n",
              "  </tbody>\n",
              "</table>\n",
              "</div>"
            ],
            "text/plain": [
              "  qid                                          query\n",
              "0   1                     should teachers get tenure\n",
              "1   2               is vaping with e cigarettes safe\n",
              "2   3              should insider trading be allowed\n",
              "3   4  should corporal punishment be used in schools\n",
              "4   5           should social security be privatized"
            ]
          },
          "execution_count": 39,
          "metadata": {},
          "output_type": "execute_result"
        }
      ],
      "source": [
        "dataset.get_topics('title').head() #ad hoc query"
      ]
    },
    {
      "cell_type": "code",
      "execution_count": 71,
      "metadata": {
        "id": "H9B64rIyegJB"
      },
      "outputs": [
        {
          "name": "stdout",
          "output_type": "stream",
          "text": [
            "16:19:21.917 [main] WARN org.terrier.structures.FSADocumentIndex - This index has fields, but FSADocumentIndex is used (which stores fields lengths on disk); If using field-based models such as BM25F, change to index.document.class in the index  properties file to FSAFieldDocumentIndex or FSADocumentIndexInMemFields to support efficient retrieval. If you don't use (e.g.) BM25F, this warning can be ignored\n"
          ]
        }
      ],
      "source": [
        "br = pt.BatchRetrieve(index_ref, wmodel='BM25')\n",
        "#Retrieve docs for each query \n",
        "ret_q = br.transform(dataset.get_topics('title'))"
      ]
    },
    {
      "cell_type": "code",
      "execution_count": 35,
      "metadata": {},
      "outputs": [
        {
          "data": {
            "text/html": [
              "<div>\n",
              "<style scoped>\n",
              "    .dataframe tbody tr th:only-of-type {\n",
              "        vertical-align: middle;\n",
              "    }\n",
              "\n",
              "    .dataframe tbody tr th {\n",
              "        vertical-align: top;\n",
              "    }\n",
              "\n",
              "    .dataframe thead th {\n",
              "        text-align: right;\n",
              "    }\n",
              "</style>\n",
              "<table border=\"1\" class=\"dataframe\">\n",
              "  <thead>\n",
              "    <tr style=\"text-align: right;\">\n",
              "      <th></th>\n",
              "      <th>qid</th>\n",
              "      <th>docid</th>\n",
              "      <th>docno</th>\n",
              "      <th>rank</th>\n",
              "      <th>score</th>\n",
              "      <th>query</th>\n",
              "    </tr>\n",
              "  </thead>\n",
              "  <tbody>\n",
              "    <tr>\n",
              "      <th>0</th>\n",
              "      <td>1</td>\n",
              "      <td>140220</td>\n",
              "      <td>S51530f3f-Ae32a4a1b</td>\n",
              "      <td>0</td>\n",
              "      <td>33.086531</td>\n",
              "      <td>should teachers get tenure</td>\n",
              "    </tr>\n",
              "    <tr>\n",
              "      <th>1</th>\n",
              "      <td>1</td>\n",
              "      <td>100070</td>\n",
              "      <td>Sb0680508-Aa5189771</td>\n",
              "      <td>1</td>\n",
              "      <td>33.067429</td>\n",
              "      <td>should teachers get tenure</td>\n",
              "    </tr>\n",
              "    <tr>\n",
              "      <th>2</th>\n",
              "      <td>1</td>\n",
              "      <td>315753</td>\n",
              "      <td>Sc065954f-A24a16870</td>\n",
              "      <td>2</td>\n",
              "      <td>33.034253</td>\n",
              "      <td>should teachers get tenure</td>\n",
              "    </tr>\n",
              "    <tr>\n",
              "      <th>3</th>\n",
              "      <td>1</td>\n",
              "      <td>315755</td>\n",
              "      <td>Sc065954f-Ae72bc9c6</td>\n",
              "      <td>3</td>\n",
              "      <td>33.024700</td>\n",
              "      <td>should teachers get tenure</td>\n",
              "    </tr>\n",
              "    <tr>\n",
              "      <th>4</th>\n",
              "      <td>1</td>\n",
              "      <td>324218</td>\n",
              "      <td>Sff0947ec-A46d54897</td>\n",
              "      <td>4</td>\n",
              "      <td>32.913585</td>\n",
              "      <td>should teachers get tenure</td>\n",
              "    </tr>\n",
              "    <tr>\n",
              "      <th>...</th>\n",
              "      <td>...</td>\n",
              "      <td>...</td>\n",
              "      <td>...</td>\n",
              "      <td>...</td>\n",
              "      <td>...</td>\n",
              "      <td>...</td>\n",
              "    </tr>\n",
              "    <tr>\n",
              "      <th>49995</th>\n",
              "      <td>50</td>\n",
              "      <td>319737</td>\n",
              "      <td>S8c866652-A90722f69</td>\n",
              "      <td>995</td>\n",
              "      <td>12.102334</td>\n",
              "      <td>should everyone get a universal basic income</td>\n",
              "    </tr>\n",
              "    <tr>\n",
              "      <th>49996</th>\n",
              "      <td>50</td>\n",
              "      <td>30590</td>\n",
              "      <td>Se3bb0258-Abb0466ac</td>\n",
              "      <td>996</td>\n",
              "      <td>12.099727</td>\n",
              "      <td>should everyone get a universal basic income</td>\n",
              "    </tr>\n",
              "    <tr>\n",
              "      <th>49997</th>\n",
              "      <td>50</td>\n",
              "      <td>71782</td>\n",
              "      <td>Sb002605-Ab8bb6569</td>\n",
              "      <td>997</td>\n",
              "      <td>12.097363</td>\n",
              "      <td>should everyone get a universal basic income</td>\n",
              "    </tr>\n",
              "    <tr>\n",
              "      <th>49998</th>\n",
              "      <td>50</td>\n",
              "      <td>134837</td>\n",
              "      <td>S8fe5a288-Af877be51</td>\n",
              "      <td>998</td>\n",
              "      <td>12.095580</td>\n",
              "      <td>should everyone get a universal basic income</td>\n",
              "    </tr>\n",
              "    <tr>\n",
              "      <th>49999</th>\n",
              "      <td>50</td>\n",
              "      <td>204984</td>\n",
              "      <td>Sff051f49-A970840e6</td>\n",
              "      <td>999</td>\n",
              "      <td>12.094558</td>\n",
              "      <td>should everyone get a universal basic income</td>\n",
              "    </tr>\n",
              "  </tbody>\n",
              "</table>\n",
              "<p>50000 rows × 6 columns</p>\n",
              "</div>"
            ],
            "text/plain": [
              "      qid   docid                docno  rank      score   \n",
              "0       1  140220  S51530f3f-Ae32a4a1b     0  33.086531  \\\n",
              "1       1  100070  Sb0680508-Aa5189771     1  33.067429   \n",
              "2       1  315753  Sc065954f-A24a16870     2  33.034253   \n",
              "3       1  315755  Sc065954f-Ae72bc9c6     3  33.024700   \n",
              "4       1  324218  Sff0947ec-A46d54897     4  32.913585   \n",
              "...    ..     ...                  ...   ...        ...   \n",
              "49995  50  319737  S8c866652-A90722f69   995  12.102334   \n",
              "49996  50   30590  Se3bb0258-Abb0466ac   996  12.099727   \n",
              "49997  50   71782   Sb002605-Ab8bb6569   997  12.097363   \n",
              "49998  50  134837  S8fe5a288-Af877be51   998  12.095580   \n",
              "49999  50  204984  Sff051f49-A970840e6   999  12.094558   \n",
              "\n",
              "                                              query  \n",
              "0                        should teachers get tenure  \n",
              "1                        should teachers get tenure  \n",
              "2                        should teachers get tenure  \n",
              "3                        should teachers get tenure  \n",
              "4                        should teachers get tenure  \n",
              "...                                             ...  \n",
              "49995  should everyone get a universal basic income  \n",
              "49996  should everyone get a universal basic income  \n",
              "49997  should everyone get a universal basic income  \n",
              "49998  should everyone get a universal basic income  \n",
              "49999  should everyone get a universal basic income  \n",
              "\n",
              "[50000 rows x 6 columns]"
            ]
          },
          "execution_count": 35,
          "metadata": {},
          "output_type": "execute_result"
        }
      ],
      "source": [
        "ret_q"
      ]
    },
    {
      "cell_type": "code",
      "execution_count": 73,
      "metadata": {},
      "outputs": [
        {
          "data": {
            "text/html": [
              "<div>\n",
              "<style scoped>\n",
              "    .dataframe tbody tr th:only-of-type {\n",
              "        vertical-align: middle;\n",
              "    }\n",
              "\n",
              "    .dataframe tbody tr th {\n",
              "        vertical-align: top;\n",
              "    }\n",
              "\n",
              "    .dataframe thead th {\n",
              "        text-align: right;\n",
              "    }\n",
              "</style>\n",
              "<table border=\"1\" class=\"dataframe\">\n",
              "  <thead>\n",
              "    <tr style=\"text-align: right;\">\n",
              "      <th></th>\n",
              "      <th>qid</th>\n",
              "      <th>docid</th>\n",
              "      <th>docno</th>\n",
              "      <th>rank</th>\n",
              "      <th>score</th>\n",
              "      <th>query</th>\n",
              "    </tr>\n",
              "  </thead>\n",
              "  <tbody>\n",
              "    <tr>\n",
              "      <th>110</th>\n",
              "      <td>1</td>\n",
              "      <td>8595</td>\n",
              "      <td>S5b50ff9c-Ac6506987</td>\n",
              "      <td>110</td>\n",
              "      <td>14.756716</td>\n",
              "      <td>should teachers get tenure</td>\n",
              "    </tr>\n",
              "    <tr>\n",
              "      <th>111</th>\n",
              "      <td>1</td>\n",
              "      <td>8602</td>\n",
              "      <td>S5b50ff9c-Ac6506987</td>\n",
              "      <td>111</td>\n",
              "      <td>14.756716</td>\n",
              "      <td>should teachers get tenure</td>\n",
              "    </tr>\n",
              "    <tr>\n",
              "      <th>459</th>\n",
              "      <td>1</td>\n",
              "      <td>179446</td>\n",
              "      <td>Sedf8916f-A55d4b034</td>\n",
              "      <td>459</td>\n",
              "      <td>11.296937</td>\n",
              "      <td>should teachers get tenure</td>\n",
              "    </tr>\n",
              "    <tr>\n",
              "      <th>460</th>\n",
              "      <td>1</td>\n",
              "      <td>179448</td>\n",
              "      <td>Sedf8916f-A55d4b034</td>\n",
              "      <td>460</td>\n",
              "      <td>11.296937</td>\n",
              "      <td>should teachers get tenure</td>\n",
              "    </tr>\n",
              "    <tr>\n",
              "      <th>487</th>\n",
              "      <td>1</td>\n",
              "      <td>63315</td>\n",
              "      <td>S52024653-A6b07bd3e</td>\n",
              "      <td>487</td>\n",
              "      <td>11.280282</td>\n",
              "      <td>should teachers get tenure</td>\n",
              "    </tr>\n",
              "    <tr>\n",
              "      <th>...</th>\n",
              "      <td>...</td>\n",
              "      <td>...</td>\n",
              "      <td>...</td>\n",
              "      <td>...</td>\n",
              "      <td>...</td>\n",
              "      <td>...</td>\n",
              "    </tr>\n",
              "    <tr>\n",
              "      <th>49041</th>\n",
              "      <td>50</td>\n",
              "      <td>128492</td>\n",
              "      <td>Sd6044911-Ac9563cfc</td>\n",
              "      <td>41</td>\n",
              "      <td>19.398640</td>\n",
              "      <td>should everyone get a universal basic income</td>\n",
              "    </tr>\n",
              "    <tr>\n",
              "      <th>49130</th>\n",
              "      <td>50</td>\n",
              "      <td>265626</td>\n",
              "      <td>S2e294e85-A8d3b1d7a</td>\n",
              "      <td>130</td>\n",
              "      <td>16.035621</td>\n",
              "      <td>should everyone get a universal basic income</td>\n",
              "    </tr>\n",
              "    <tr>\n",
              "      <th>49131</th>\n",
              "      <td>50</td>\n",
              "      <td>265628</td>\n",
              "      <td>S2e294e85-A8d3b1d7a</td>\n",
              "      <td>131</td>\n",
              "      <td>16.035621</td>\n",
              "      <td>should everyone get a universal basic income</td>\n",
              "    </tr>\n",
              "    <tr>\n",
              "      <th>49791</th>\n",
              "      <td>50</td>\n",
              "      <td>107635</td>\n",
              "      <td>Sde791ad8-A3072f8a4</td>\n",
              "      <td>791</td>\n",
              "      <td>12.554577</td>\n",
              "      <td>should everyone get a universal basic income</td>\n",
              "    </tr>\n",
              "    <tr>\n",
              "      <th>49794</th>\n",
              "      <td>50</td>\n",
              "      <td>107639</td>\n",
              "      <td>Sde791ad8-A3072f8a4</td>\n",
              "      <td>794</td>\n",
              "      <td>12.554577</td>\n",
              "      <td>should everyone get a universal basic income</td>\n",
              "    </tr>\n",
              "  </tbody>\n",
              "</table>\n",
              "<p>159 rows × 6 columns</p>\n",
              "</div>"
            ],
            "text/plain": [
              "      qid   docid                docno  rank      score   \n",
              "110     1    8595  S5b50ff9c-Ac6506987   110  14.756716  \\\n",
              "111     1    8602  S5b50ff9c-Ac6506987   111  14.756716   \n",
              "459     1  179446  Sedf8916f-A55d4b034   459  11.296937   \n",
              "460     1  179448  Sedf8916f-A55d4b034   460  11.296937   \n",
              "487     1   63315  S52024653-A6b07bd3e   487  11.280282   \n",
              "...    ..     ...                  ...   ...        ...   \n",
              "49041  50  128492  Sd6044911-Ac9563cfc    41  19.398640   \n",
              "49130  50  265626  S2e294e85-A8d3b1d7a   130  16.035621   \n",
              "49131  50  265628  S2e294e85-A8d3b1d7a   131  16.035621   \n",
              "49791  50  107635  Sde791ad8-A3072f8a4   791  12.554577   \n",
              "49794  50  107639  Sde791ad8-A3072f8a4   794  12.554577   \n",
              "\n",
              "                                              query  \n",
              "110                      should teachers get tenure  \n",
              "111                      should teachers get tenure  \n",
              "459                      should teachers get tenure  \n",
              "460                      should teachers get tenure  \n",
              "487                      should teachers get tenure  \n",
              "...                                             ...  \n",
              "49041  should everyone get a universal basic income  \n",
              "49130  should everyone get a universal basic income  \n",
              "49131  should everyone get a universal basic income  \n",
              "49791  should everyone get a universal basic income  \n",
              "49794  should everyone get a universal basic income  \n",
              "\n",
              "[159 rows x 6 columns]"
            ]
          },
          "execution_count": 73,
          "metadata": {},
          "output_type": "execute_result"
        }
      ],
      "source": [
        "ret_q[ret_q.duplicated(subset=['docno', 'qid'], keep=False)] #boolean series denoting duplicate rows, marking all duplicates as true "
      ]
    },
    {
      "cell_type": "code",
      "execution_count": 34,
      "metadata": {
        "colab": {
          "base_uri": "https://localhost:8080/",
          "height": 419
        },
        "id": "Dk2Em4NTn1gC",
        "outputId": "cdc066fc-42a9-4f57-f730-e21484d6ae44"
      },
      "outputs": [
        {
          "data": {
            "text/html": [
              "<div>\n",
              "<style scoped>\n",
              "    .dataframe tbody tr th:only-of-type {\n",
              "        vertical-align: middle;\n",
              "    }\n",
              "\n",
              "    .dataframe tbody tr th {\n",
              "        vertical-align: top;\n",
              "    }\n",
              "\n",
              "    .dataframe thead th {\n",
              "        text-align: right;\n",
              "    }\n",
              "</style>\n",
              "<table border=\"1\" class=\"dataframe\">\n",
              "  <thead>\n",
              "    <tr style=\"text-align: right;\">\n",
              "      <th></th>\n",
              "      <th>qid</th>\n",
              "      <th>docid</th>\n",
              "      <th>docno</th>\n",
              "      <th>rank</th>\n",
              "      <th>score</th>\n",
              "      <th>query</th>\n",
              "    </tr>\n",
              "  </thead>\n",
              "  <tbody>\n",
              "    <tr>\n",
              "      <th>49000</th>\n",
              "      <td>50</td>\n",
              "      <td>226772</td>\n",
              "      <td>S4d1037f0-Ae5978524</td>\n",
              "      <td>0</td>\n",
              "      <td>26.276591</td>\n",
              "      <td>should everyone get a universal basic income</td>\n",
              "    </tr>\n",
              "    <tr>\n",
              "      <th>49001</th>\n",
              "      <td>50</td>\n",
              "      <td>92049</td>\n",
              "      <td>S4d103793-Addbd3205</td>\n",
              "      <td>1</td>\n",
              "      <td>26.244844</td>\n",
              "      <td>should everyone get a universal basic income</td>\n",
              "    </tr>\n",
              "    <tr>\n",
              "      <th>49002</th>\n",
              "      <td>50</td>\n",
              "      <td>146792</td>\n",
              "      <td>Sb7051d6f-A5b500408</td>\n",
              "      <td>2</td>\n",
              "      <td>25.968263</td>\n",
              "      <td>should everyone get a universal basic income</td>\n",
              "    </tr>\n",
              "    <tr>\n",
              "      <th>49003</th>\n",
              "      <td>50</td>\n",
              "      <td>137122</td>\n",
              "      <td>S4d103774-A137bd529</td>\n",
              "      <td>3</td>\n",
              "      <td>25.938285</td>\n",
              "      <td>should everyone get a universal basic income</td>\n",
              "    </tr>\n",
              "    <tr>\n",
              "      <th>49004</th>\n",
              "      <td>50</td>\n",
              "      <td>137123</td>\n",
              "      <td>S4d103774-A1d44fd</td>\n",
              "      <td>4</td>\n",
              "      <td>25.863005</td>\n",
              "      <td>should everyone get a universal basic income</td>\n",
              "    </tr>\n",
              "    <tr>\n",
              "      <th>...</th>\n",
              "      <td>...</td>\n",
              "      <td>...</td>\n",
              "      <td>...</td>\n",
              "      <td>...</td>\n",
              "      <td>...</td>\n",
              "      <td>...</td>\n",
              "    </tr>\n",
              "    <tr>\n",
              "      <th>49995</th>\n",
              "      <td>50</td>\n",
              "      <td>319737</td>\n",
              "      <td>S8c866652-A90722f69</td>\n",
              "      <td>995</td>\n",
              "      <td>12.102334</td>\n",
              "      <td>should everyone get a universal basic income</td>\n",
              "    </tr>\n",
              "    <tr>\n",
              "      <th>49996</th>\n",
              "      <td>50</td>\n",
              "      <td>30590</td>\n",
              "      <td>Se3bb0258-Abb0466ac</td>\n",
              "      <td>996</td>\n",
              "      <td>12.099727</td>\n",
              "      <td>should everyone get a universal basic income</td>\n",
              "    </tr>\n",
              "    <tr>\n",
              "      <th>49997</th>\n",
              "      <td>50</td>\n",
              "      <td>71782</td>\n",
              "      <td>Sb002605-Ab8bb6569</td>\n",
              "      <td>997</td>\n",
              "      <td>12.097363</td>\n",
              "      <td>should everyone get a universal basic income</td>\n",
              "    </tr>\n",
              "    <tr>\n",
              "      <th>49998</th>\n",
              "      <td>50</td>\n",
              "      <td>134837</td>\n",
              "      <td>S8fe5a288-Af877be51</td>\n",
              "      <td>998</td>\n",
              "      <td>12.095580</td>\n",
              "      <td>should everyone get a universal basic income</td>\n",
              "    </tr>\n",
              "    <tr>\n",
              "      <th>49999</th>\n",
              "      <td>50</td>\n",
              "      <td>204984</td>\n",
              "      <td>Sff051f49-A970840e6</td>\n",
              "      <td>999</td>\n",
              "      <td>12.094558</td>\n",
              "      <td>should everyone get a universal basic income</td>\n",
              "    </tr>\n",
              "  </tbody>\n",
              "</table>\n",
              "<p>1000 rows × 6 columns</p>\n",
              "</div>"
            ],
            "text/plain": [
              "      qid   docid                docno  rank      score   \n",
              "49000  50  226772  S4d1037f0-Ae5978524     0  26.276591  \\\n",
              "49001  50   92049  S4d103793-Addbd3205     1  26.244844   \n",
              "49002  50  146792  Sb7051d6f-A5b500408     2  25.968263   \n",
              "49003  50  137122  S4d103774-A137bd529     3  25.938285   \n",
              "49004  50  137123    S4d103774-A1d44fd     4  25.863005   \n",
              "...    ..     ...                  ...   ...        ...   \n",
              "49995  50  319737  S8c866652-A90722f69   995  12.102334   \n",
              "49996  50   30590  Se3bb0258-Abb0466ac   996  12.099727   \n",
              "49997  50   71782   Sb002605-Ab8bb6569   997  12.097363   \n",
              "49998  50  134837  S8fe5a288-Af877be51   998  12.095580   \n",
              "49999  50  204984  Sff051f49-A970840e6   999  12.094558   \n",
              "\n",
              "                                              query  \n",
              "49000  should everyone get a universal basic income  \n",
              "49001  should everyone get a universal basic income  \n",
              "49002  should everyone get a universal basic income  \n",
              "49003  should everyone get a universal basic income  \n",
              "49004  should everyone get a universal basic income  \n",
              "...                                             ...  \n",
              "49995  should everyone get a universal basic income  \n",
              "49996  should everyone get a universal basic income  \n",
              "49997  should everyone get a universal basic income  \n",
              "49998  should everyone get a universal basic income  \n",
              "49999  should everyone get a universal basic income  \n",
              "\n",
              "[1000 rows x 6 columns]"
            ]
          },
          "execution_count": 34,
          "metadata": {},
          "output_type": "execute_result"
        }
      ],
      "source": [
        "ret_q[ret_q['qid'] == '50'] "
      ]
    },
    {
      "cell_type": "code",
      "execution_count": null,
      "metadata": {
        "colab": {
          "base_uri": "https://localhost:8080/",
          "height": 235
        },
        "id": "mbt4TmGiIESy",
        "outputId": "da3ed074-767b-49a7-f299-0847c77895e5"
      },
      "outputs": [],
      "source": [
        "# ret_q.groupby('qid').count()\n",
        "#ok - every query retrieved 1000 docs"
      ]
    },
    {
      "cell_type": "code",
      "execution_count": 53,
      "metadata": {
        "colab": {
          "base_uri": "https://localhost:8080/"
        },
        "id": "NgAUisG2Mq3v",
        "outputId": "67b4a3fd-2d81-4e80-d79b-1d0b9ba4d92c"
      },
      "outputs": [
        {
          "data": {
            "text/plain": [
              "docno    44318\n",
              "dtype: int64"
            ]
          },
          "execution_count": 53,
          "metadata": {},
          "output_type": "execute_result"
        }
      ],
      "source": [
        "ret_q[['docno']].nunique() #45k unique docs were retrieved out of 365k"
      ]
    },
    {
      "cell_type": "markdown",
      "metadata": {},
      "source": [
        "##### experiment"
      ]
    },
    {
      "cell_type": "code",
      "execution_count": 71,
      "metadata": {},
      "outputs": [],
      "source": [
        "from pyterrier.measures import *"
      ]
    },
    {
      "cell_type": "code",
      "execution_count": 46,
      "metadata": {},
      "outputs": [],
      "source": [
        "pd.set_option('display.max_colwidth', None)"
      ]
    },
    {
      "cell_type": "code",
      "execution_count": 47,
      "metadata": {},
      "outputs": [
        {
          "data": {
            "text/html": [
              "<div>\n",
              "<style scoped>\n",
              "    .dataframe tbody tr th:only-of-type {\n",
              "        vertical-align: middle;\n",
              "    }\n",
              "\n",
              "    .dataframe tbody tr th {\n",
              "        vertical-align: top;\n",
              "    }\n",
              "\n",
              "    .dataframe thead th {\n",
              "        text-align: right;\n",
              "    }\n",
              "</style>\n",
              "<table border=\"1\" class=\"dataframe\">\n",
              "  <thead>\n",
              "    <tr style=\"text-align: right;\">\n",
              "      <th></th>\n",
              "      <th>qid</th>\n",
              "      <th>docno</th>\n",
              "      <th>label</th>\n",
              "      <th>quality</th>\n",
              "      <th>coherence</th>\n",
              "      <th>iteration</th>\n",
              "    </tr>\n",
              "  </thead>\n",
              "  <tbody>\n",
              "    <tr>\n",
              "      <th>0</th>\n",
              "      <td>1</td>\n",
              "      <td>Sc065954f-Ae72bc9c6__PREMISE__41,Sc065954f-Ae72bc9c6__CONC__1</td>\n",
              "      <td>2</td>\n",
              "      <td>2</td>\n",
              "      <td>2</td>\n",
              "      <td>0</td>\n",
              "    </tr>\n",
              "    <tr>\n",
              "      <th>1</th>\n",
              "      <td>1</td>\n",
              "      <td>S51530f3f-Ad9a140f__PREMISE__3,S1b03f390-A22aff8a0__PREMISE__57</td>\n",
              "      <td>2</td>\n",
              "      <td>2</td>\n",
              "      <td>0</td>\n",
              "      <td>0</td>\n",
              "    </tr>\n",
              "    <tr>\n",
              "      <th>2</th>\n",
              "      <td>1</td>\n",
              "      <td>S51530f3f-Ae32a4a1b__PREMISE__13,Sff0947ec-A46d54897__CONC__1</td>\n",
              "      <td>2</td>\n",
              "      <td>1</td>\n",
              "      <td>1</td>\n",
              "      <td>0</td>\n",
              "    </tr>\n",
              "    <tr>\n",
              "      <th>3</th>\n",
              "      <td>1</td>\n",
              "      <td>S51530f3f-Ae32a4a1b__PREMISE__7,Sff0947ec-A46d54897__CONC__1</td>\n",
              "      <td>2</td>\n",
              "      <td>2</td>\n",
              "      <td>0</td>\n",
              "      <td>0</td>\n",
              "    </tr>\n",
              "    <tr>\n",
              "      <th>4</th>\n",
              "      <td>1</td>\n",
              "      <td>S80d1e58b-A5923d626__PREMISE__11,S37b8bc05-A7d9efcae__PREMISE__26</td>\n",
              "      <td>0</td>\n",
              "      <td>0</td>\n",
              "      <td>1</td>\n",
              "      <td>0</td>\n",
              "    </tr>\n",
              "    <tr>\n",
              "      <th>...</th>\n",
              "      <td>...</td>\n",
              "      <td>...</td>\n",
              "      <td>...</td>\n",
              "      <td>...</td>\n",
              "      <td>...</td>\n",
              "      <td>...</td>\n",
              "    </tr>\n",
              "    <tr>\n",
              "      <th>6836</th>\n",
              "      <td>50</td>\n",
              "      <td>S542cf477-Aeae6d1ea__PREMISE__10,S8baeda0e-A13ad333__CONC__1</td>\n",
              "      <td>0</td>\n",
              "      <td>2</td>\n",
              "      <td>2</td>\n",
              "      <td>0</td>\n",
              "    </tr>\n",
              "    <tr>\n",
              "      <th>6837</th>\n",
              "      <td>50</td>\n",
              "      <td>S57eef5d2-A9666abe7__PREMISE__14,S4d103774-A1d44fd__PREMISE__3</td>\n",
              "      <td>1</td>\n",
              "      <td>2</td>\n",
              "      <td>0</td>\n",
              "      <td>0</td>\n",
              "    </tr>\n",
              "    <tr>\n",
              "      <th>6838</th>\n",
              "      <td>50</td>\n",
              "      <td>S5c0f5e60-Ae4d4f67f__PREMISE__8,S8baeda0e-A13ad333__CONC__1</td>\n",
              "      <td>1</td>\n",
              "      <td>2</td>\n",
              "      <td>0</td>\n",
              "      <td>0</td>\n",
              "    </tr>\n",
              "    <tr>\n",
              "      <th>6839</th>\n",
              "      <td>50</td>\n",
              "      <td>S4d1037d1-Ab00d54e7__PREMISE__1,S4d1037d1-Ab00d54e7__CONC__1</td>\n",
              "      <td>0</td>\n",
              "      <td>0</td>\n",
              "      <td>0</td>\n",
              "      <td>0</td>\n",
              "    </tr>\n",
              "    <tr>\n",
              "      <th>6840</th>\n",
              "      <td>50</td>\n",
              "      <td>Sffdf2e2e-A20e9dd06__PREMISE__4,Sffdf2e2e-A20e9dd06__PREMISE__5</td>\n",
              "      <td>1</td>\n",
              "      <td>1</td>\n",
              "      <td>1</td>\n",
              "      <td>0</td>\n",
              "    </tr>\n",
              "  </tbody>\n",
              "</table>\n",
              "<p>6841 rows × 6 columns</p>\n",
              "</div>"
            ],
            "text/plain": [
              "     qid                                                              docno   \n",
              "0      1      Sc065954f-Ae72bc9c6__PREMISE__41,Sc065954f-Ae72bc9c6__CONC__1  \\\n",
              "1      1    S51530f3f-Ad9a140f__PREMISE__3,S1b03f390-A22aff8a0__PREMISE__57   \n",
              "2      1      S51530f3f-Ae32a4a1b__PREMISE__13,Sff0947ec-A46d54897__CONC__1   \n",
              "3      1       S51530f3f-Ae32a4a1b__PREMISE__7,Sff0947ec-A46d54897__CONC__1   \n",
              "4      1  S80d1e58b-A5923d626__PREMISE__11,S37b8bc05-A7d9efcae__PREMISE__26   \n",
              "...   ..                                                                ...   \n",
              "6836  50       S542cf477-Aeae6d1ea__PREMISE__10,S8baeda0e-A13ad333__CONC__1   \n",
              "6837  50     S57eef5d2-A9666abe7__PREMISE__14,S4d103774-A1d44fd__PREMISE__3   \n",
              "6838  50        S5c0f5e60-Ae4d4f67f__PREMISE__8,S8baeda0e-A13ad333__CONC__1   \n",
              "6839  50       S4d1037d1-Ab00d54e7__PREMISE__1,S4d1037d1-Ab00d54e7__CONC__1   \n",
              "6840  50    Sffdf2e2e-A20e9dd06__PREMISE__4,Sffdf2e2e-A20e9dd06__PREMISE__5   \n",
              "\n",
              "      label  quality  coherence iteration  \n",
              "0         2        2          2         0  \n",
              "1         2        2          0         0  \n",
              "2         2        1          1         0  \n",
              "3         2        2          0         0  \n",
              "4         0        0          1         0  \n",
              "...     ...      ...        ...       ...  \n",
              "6836      0        2          2         0  \n",
              "6837      1        2          0         0  \n",
              "6838      1        2          0         0  \n",
              "6839      0        0          0         0  \n",
              "6840      1        1          1         0  \n",
              "\n",
              "[6841 rows x 6 columns]"
            ]
          },
          "execution_count": 47,
          "metadata": {},
          "output_type": "execute_result"
        }
      ],
      "source": [
        "qrels #qrels have sentences retrieved, not entire arguments.\n"
      ]
    },
    {
      "cell_type": "code",
      "execution_count": 91,
      "metadata": {},
      "outputs": [
        {
          "data": {
            "text/html": [
              "<div>\n",
              "<style scoped>\n",
              "    .dataframe tbody tr th:only-of-type {\n",
              "        vertical-align: middle;\n",
              "    }\n",
              "\n",
              "    .dataframe tbody tr th {\n",
              "        vertical-align: top;\n",
              "    }\n",
              "\n",
              "    .dataframe thead th {\n",
              "        text-align: right;\n",
              "    }\n",
              "</style>\n",
              "<table border=\"1\" class=\"dataframe\">\n",
              "  <thead>\n",
              "    <tr style=\"text-align: right;\">\n",
              "      <th></th>\n",
              "      <th>name</th>\n",
              "      <th>AP@1000</th>\n",
              "      <th>P@5</th>\n",
              "      <th>P@10</th>\n",
              "    </tr>\n",
              "  </thead>\n",
              "  <tbody>\n",
              "    <tr>\n",
              "      <th>0</th>\n",
              "      <td>qid   docid                docno  rank  ...</td>\n",
              "      <td>0.0</td>\n",
              "      <td>0.0</td>\n",
              "      <td>0.0</td>\n",
              "    </tr>\n",
              "  </tbody>\n",
              "</table>\n",
              "</div>"
            ],
            "text/plain": [
              "                                                name  AP@1000  P@5  P@10\n",
              "0        qid   docid                docno  rank  ...      0.0  0.0   0.0"
            ]
          },
          "execution_count": 91,
          "metadata": {},
          "output_type": "execute_result"
        }
      ],
      "source": [
        "# pt.Experiment(\n",
        "#              [ret_q], \n",
        "#              adhoc,\n",
        "#              qrels,\n",
        "#              eval_metrics=[AP@1000, P@5, P@10])"
      ]
    },
    {
      "cell_type": "code",
      "execution_count": null,
      "metadata": {},
      "outputs": [],
      "source": [
        "from pyterrier.measures import *\n",
        "\n",
        "results = pt.Experiment(\n",
        "    [tfidf],\n",
        "    adhoc,\n",
        "    qrels,\n",
        "    eval_metrics=[AP@1000,P@5,P@10])\n",
        "display(results)"
      ]
    },
    {
      "cell_type": "markdown",
      "metadata": {},
      "source": [
        "Getting the dataframe of documents retrieved"
      ]
    },
    {
      "cell_type": "code",
      "execution_count": 54,
      "metadata": {
        "colab": {
          "base_uri": "https://localhost:8080/",
          "height": 154,
          "referenced_widgets": [
            "26d9da30fdb34b719738b208734cec91",
            "eb2d31d454e04c72a1c8968dd0411394",
            "8d758282d82a4bf3aa697e09cba241bf",
            "30f3aed313f745948c7402fb07af34be",
            "4cfee2e4409746ec93ac9f286ca5da6c",
            "961e5ed02c074924a30a37388e118151",
            "c0775622dc92414fb887d82862017ae5",
            "e6128bd366394971b9360255974de62e",
            "decacf34d5c440138429762707de9955",
            "9f52b5e684fa4f0cac78c21730752304",
            "fcc4c17da39e49e9abdffec7fb21516a"
          ]
        },
        "id": "nb3WCt_O-eW0",
        "outputId": "712de4c6-7ff1-4615-a7ea-6224a10400b7"
      },
      "outputs": [
        {
          "name": "stderr",
          "output_type": "stream",
          "text": [
            "argsme/2020-04-01/processed/touche-2022-task-1 documents:   0%|          | 4/365408 [00:00<11:20, 536.79it/s]"
          ]
        },
        {
          "name": "stdout",
          "output_type": "stream",
          "text": [
            "{'conclusion': 'the War in Iraq was Worth the Cost', 'premises': [ArgsMePremise(text='His removal provides stability and security not only for Iraq but for the Middle East as a region', stance=<ArgsMeStance.PRO: 1>, annotations=[])], 'premises_texts': 'His removal provides stability and security not only for Iraq but for the Middle East as a region', 'aspects': [], 'aspects_names': '', 'source_id': 'Sf9294c83', 'source_title': 'This House Believes that the War in Iraq was Worth the Cost | idebate.org', 'source_url': 'https://idebate.org/debatabase/international-middle-east-politics-terrorism-warpeace/house-believes-war-iraq-was-worth', 'source_previous_argument_id': None, 'source_next_argument_id': None, 'source_domain': <ArgsMeSourceDomain.idebate: 4>, 'source_text': \"idebate.org Educational and informative news and resources on debate, advocacy and activism for youth. \\xa0 \\xa0 News Debatabase Events Community Media About Search form Search This House Believes that the War in Iraq was Worth the Cost The war in Iraq is likely to be remembered for decades, if not centuries, as the defining conflict of the early 21st century. The effect it had not only in the nation and country itself in radicalizing an entire generation as well as the toxic effect it had on those politicians most closely associated with it may well stand as a legacy to how not to fight a war. However, as the original reasons for going in fade into history – and they were never that clear in the first place – the issue of what has been accomplished becomes an interesting one. It would be foolish to assert that everything went according to plan, and proposition will have to demonstrate benefits from some unusual sources. However unlikely it may seem, such benefits do exist. The first and most obvious one is that Saddam Hussein, and his genocidal regime, is no longer in power. Instead there is, by the standards of the region, a democratic, relatively stable and relatively transparent nation state. It may not be Switzerland but the difference between the country the allies entered and the one they are leaving could not be clearer. Equally, although it will come as little consolation to the families of those who have died the knowledge gained about how wars in the 21st century need to be fought can be used to save lives in the future. Especially given the instability of the Middle East as a whole and the growing scarcity of oil, it seems unlikely that this is the last desert war the West will be fighting in the decades to come. Equally, the impact it had on the West is instructive. When Britain and France chose to intervene in Libya, Sarkosy and Cameron did so in the shadow of Baghdad and the difference in their approach could not have been more different from the gung-ho, militaristic approach taken by Blair and Bush. Instead they adopted very clear goals, were very clear on the need for indigenous allies, and refused to put boots on the ground. It seems that they acknowledged that their electorates would not stomach another war conducted along the lines of Iraq. It would stretch credulity to suggest that there is a direct link between the fall of Baghdad and the Arab Spring. However, that synchronicity of the two events may ultimately prove beneficial. The Middle East would have been a lonely place for a democratic state and now there are at least a handful to build upon. Although the cost in lives – lost and broken – is almost too ghastly to contemplate and the effects on the economies of all concerned has been devastating, there are some positives that have come out of the conflict. Benefits that would not be available with Saddam left in power. The balance of probability now seems to be that the future generations living in a free and democratic Iraq will give thanks to those who died to start the nation on its long road to freedom. \\xa0 POINTS FOR POINTS AGAINST Title\\xa0 Saddam Hussein is gone and Iraq is now functioning as one of very few democracies in the Middle East Point\\xa0 It's important to be clear that this debate is looking at the results of the Iraq war and, by any definition Iraq is in a much more stable and secure position than it was in 2003 when American, British and other international troops arrived in the country. Whatever one thinks of the initial justifications for the war there is no doubt that the country, the region and the world are better and safer places without Saddam Hussein[i]. It is easy to criticize the allies but it is worth bearing in mind that the alternative was leaving in power a man who had committed genocide was a vicious and brutal dictator under whose regime extra-judicial execution and detention, mass-murder and torture were commonplace[ii]. [i]\\xa0Richard Miniter. “Was the Iraq War Worth It?”. Hudson New York. 2 September 2010. [ii]\\xa0Interview with Donald Rumsfeld. Inside Politics. NPR. 14 February 2011. Counterpoint\\xa0 In the unlikely event that something resembling a democratic government survives in Iraq after the international troops leave then that would, of course, be welcome. However, some context is required to establish whether the price was worth paying. Over a trillion dollars, 4,000 American dead, tens of thousands of Iraqis, US reputation destroyed in the region to establish a puppet government whose only real chance of survival is a continued American presence in the country. The alternatives are all unpleasant – a theocratic regime allied to a nuclear Iran, a simple meltdown of the state or the emergence of a new strongman along the lines of Saddam's regime. Assuming the US can't sign up in perpetuity then one of these outcomes seems likely and those lives and resources will have been squandered for no reason whatsoever[i]. [i]\\xa0Francis Fukuyama. “Iraq May Be Stable, But The War Was Still A Mistake”. Wall Street Journal. 15 August 2008. Title\\xa0 Although there has been a huge cost in human life the alternatives may well have been worse Saddam had made quite clear his intention to hand over power to his sons Point\\xa0 Without intervention there is little doubt that Saddam or one of his still more murderous sons would be running Iraq. Even though there were no WMDs, it seems reasonable to assume that neither Saddam nor his sons would have ignored Iran’s attempts to secure fissile material and develop a bomb. Iraq had attempted to build a nuclear reactor in the 1970’s but it was destroyed by Israel in 1981[i]\\xa0and Iraq and Iran had fought a far for most of the 1980s for political dominance in the Gulf and the Shi’ite, Sunni religious divide.[ii]So we would now be watching an arms race in the Middle East between the two with Israel on a hair trigger. This wasn’t just about removing one tyrant; the regime had dynastic ambitions, and a failure to act would have created the equivalent of North Korea. However, this particular hermit kingdom would have been sitting on top of the second largest reserves of oil in the world. It would, therefore, have the capacity to create the sort of fear and chaos Kim Jong Il can only dream of. [i]\\xa0BBC On This Day, ‘1981: Israel bombs Baghdad nuclear reactor’. [ii]\\xa0Pipes, Daniel, ‘A Border Adrift: Origins of the Iraq-Iran War’,\\xa0The Iraq-Iran War: Old Conflict, New Weapons, 1983 Counterpoint\\xa0 There is little evidence that the Ba’ath Party would have tolerated a handover of power to Saddam’s sons. Even in North Korea, the issue of Kim Il Sung’s succession became fraught, and hotly contested amongst the North Korean political elite.. However, the issue of who should run Iraq was and should remain a matter for the Iraqi people. The current puppet regime has little power outside\\xa0Baghdad\\xa0and, frankly, not that much inside, this lack of central control is as damaging as too much would be as is shown by the failure of Somalia and resulting civil war and piratical attacks.[i] In many ways the war has encouraged the world’s rogue states to pursue nuclear weapons as, in an era of ‘pre-emptive defense, they are the only surety against invasion and overthrow[ii]. Iran is continuing to persue nuclear weapons even without the threat of Iraq on its borders, instead it is worried about Israel and the United States. One more threatening state would therefore have made little difference.[iii] If the aim of the war was to insure against future threats then leaving a nation bitter and resentful, where barely a family has not lost someone to the conflict, a radicalized younger generation, emboldened militant clerics and a weak central government seems a very strange way to go about doing it. The West will almost certainly have to return to Iraq within a generation, if not a decade. [i]\\xa0Blair, David, ‘Somalia: Analysis of a failed state’,\\xa0The Telegraph, 18 November 2008 [ii]\\xa0Francis Fukuyama. “Iraq May Be Stable, But The War Was Still A Mistake”. Wall Street Journal. 15 August 2008. [iii]\\xa0BBC News, ‘Q&A: Iran nuclear issue’, 23 January 2012 Title\\xa0 His removal provides stability and security not only for Iraq but for the Middle East as a region Point\\xa0 The Middle East is a tinder box at the best of times. Having an unpredictable megalomaniac sitting in the middle of it was dangerous, not only for Iraqis but for other peoples in the region. Hussain was a danger to the Middle East as he had proved many times, through his invasion of Iran[i]\\xa0which was followed only a couple of years later in 1990 by an invasion of Kuwait which sparked the Gulf War[ii]\\xa0and his use of scud missiles on Israel which was otherwise uninvolved in the conflict.[iii] It was better to remove this threat than risk being drawn into a multi-player conflict when he next attacked a neighbor. [i]\\xa0Pipes, Daniel, ‘A Border Adrift: Origins of the Iraq-Iran War’, The Iraq-Iran War: Old Conflict, New Weapons, 1983 [ii]\\xa0BBC on this day, ‘1990: Iraq invades Kuwait’. [iii]\\xa0CBC Digital Archives, ‘Scud vs. Patriot missiles’, 19 January 1991 Counterpoint\\xa0 By empowering the Shi’a majority, the outcome of the war has provided an obvious link to Iran, an equally obvious threat to Israel and has implication for nations “from Lebanon to Pakistan.[i]” The weakness of this government represents a far greater threat to security and regional stability than any dictator, however bloodthirsty. Iraq looks set to join the other lawless regions of Asia such as the Pashtun Valley as an obvious place for terrorists and Criminals to base themselves. [i]\\xa0Vali Nasr. “Regional Implications of Shi’a Revival in Iraq”. The Washington Quarterly • 27:3 pp. 7–24. The Centre for International and Strategic Studies and the Massachusetts Institute for Technology. Summer 2004. Title\\xa0 The war was illegal and the removal of Saddam should have been left to the Iraqis Yet another puppet regime is not what the Middle East needs Point\\xa0 Events from the Arab Spring have demonstrated, more graphically than anything else could have done, that Arab peoples are more than capable of dealing with their own dictators and do not need to be patronized by fading imperial powers. Imagine what the situation in Iraq would be now following a genuinely democratic uprising rather than the imposition of yet another puppet regime by the West. Since the creation of the state of Iraq as a modern state by the British in 1932, a succession of rulers, of various stripes of dictatorial ruthlessness, have been brought in to ensure that the oil wealth continues to flow to Washington, London and other foreign capitals. The allies were never interested in Iraqi freedom, this was yet another grab for oil and the results look set to be the same round of misery and tyranny for the people of Iraq. Counterpoint\\xa0 The sands of Iraq are as soaked in blood as they are in oil. For once the Iraqis have actually got something out of their mineral wealth, which has otherwise served as a curse for over a century. There has been a functioning civilization around the Tigis-Euphrates Valleys for at least ten thousand years it was only with the discovery of oil and the importation of the Industrial Age that this began to function as a curse. For once their oil wealth has worked to their advantage, leading to the removal of a dictator rather than the imposition of one. As the troops step back it seems likely that Iraq has the opportunity to become that rarest of things; a Middle Eastern, oil producing state that is democratic and stable. As a result they can negotiate with oil consuming nations on an even footing. Title\\xa0 An entire generation has been turned against the West and fundamentalist clerics have gained enormously in influence Point\\xa0 The aftermath of the war has been to create an entire people with no reason to love the West and more than100,000 reasons to hate it as a result of an estimated 105-115000 dead.[i]\\xa0The country is teetering on the brink of civil war, with the leader of the sunni block having said Iraq is heading towards a “sectarian autocracy that carries with it the threat of devastating civil war”[ii]\\xa0unemployment is rife and the reputation of the ‘liberators’ lies in tatters[iii]. It is not hard to see how this combination is likely to lead to chaos in Iraq and insecurity for the West. Millions of young people with a perfectly justifiable grudge, little education, no job and a desire to do something to make things\\xa0right.[iv] It is difficult to imagine a situation more likely to produce violence, terrorism and instability. [i]\\xa0Iraq Body Count [ii]\\xa0Loney, Jim, ‘Iraq on the brink of ‘devastating civil war’: Former PM Allawi’,\\xa0National Post, 28 December 2011 [iii]\\xa0Malou Innocent. “The Iraq War: Still a Massive Mistake.” Christian Science Monitor. 5 April 2010. [iv]\\xa0Benmelech, Efraim et al., ‘Economic Conditions and the Quality of Suicide Terrorism’,\\xa0Journal of Politics, Vol. 74, No. 1, January 2012, pp. 113-128 Counterpoint\\xa0 Iraq now has a professionally trained army and police force accountable to a democratically elected government and, through them, to the people. Unusually among Arab nations the security forces should now act as upholders of the law rather than the personal armies of local and national strong men used to settle grudges and silence dissent. The torture chambers are closed and the courts are functioning. There is, of course, work still to be done in terms of creating jobs but at least those jobs will go to people on the basis of ability rather than political loyalty. Iraq still faces problems but is better equipped to deal with them than it has been in a century and more. Title\\xa0 Even if the outcome is a stable democratic Iraq, the war was still a costly, illegal, ideologically-driven mistake Point\\xa0 The cost of the Iraq war has been astonishing both in the lives and treasure spent and the resentment and chaos stored up for the future. Even if the result had been Switzerland on Sinai, it would still not have been worth it. There have been more than 100,000 Iraqi\\xa0deaths[i]. \\xa0It has been the most expensive US war other than WWII in constant 2011 dollars, costing more than $400 billion more than Vietnam,[ii]and what is left is a failed state in the making. The war was poorly conceived, recklessly enacted and devastatingly badly\\xa0concluded. The secretary of defense Donald Rumsfeld wanted the war fought “on the cheap” using a much smaller force than the pentagon or independent analysts thought was necessary.[iii]\\xa0With the allies now withdrawing from Iraq the world’s best hope is that the US and its allies will be sufficiently cowed by public opinion as to never try such folly again. That, perhaps, would be a benefit. [i]\\xa0Iraq Body Count [ii]\\xa0Daggett, Stephen, ‘Costs of Major U.S. Wars’,\\xa0Congressional Research Service, 29 June 2010 [iii]\\xa0Weinraub, Bernard, and Shanker, Thom, ‘A NATION AT WAR: UNDER FIRE; Rumsfeld’s Design for War Criticized on the Battlefield’,\\xa0The New York Times,\\xa01 April 2003 How do you feel now, please vote FOR AGAINST Bibliography\\xa0 BBC On This Day, ‘1981: Israel bombs Baghdad nuclear reactor’. BBC on this day, ‘1990: Iraq invades Kuwait’. BBC News, ‘Q&A: Iran nuclear issue’, 23 January 2012 Benmelech, Efraim et al., ‘Economic Conditions and the Quality of Suicide Terrorism’, Journal of Politics, Vol. 74, No. 1, January 2012, pp. 113-128 Blair, David, ‘Somalia: Analysis of a failed state’, The Telegraph, 18 November 2008 CBC Digital Archives, ‘Scud vs. Patriot missiles’, 19 January 1991 Daggett, Stephen, ‘Costs of Major U.S. Wars’, Congressional Research Service, 29 June 2010 Fukuyama, Francis. “Iraq May Be Stable, But The War Was Still A Mistake”. Wall Street Journal. 15 August 2008. Innocent. Malou, \\xa0“The Iraq War: Still a Massive Mistake.” Christian Science Monitor. 5 April 2010. Inside Politics, Interview with Donald Rumsfeld. NPR. 14 February 2011. Iraq Body Count Loney, Jim, ‘Iraq on the brink of ‘devastating civil war’: Former PM Allawi’, National Post, 28 December 2011 Miniter, Richard. “Was the Iraq War Worth It?”. Hudson New York. 2 September 2010. Nasr, Vali. “Regional Implications of Shi’a Revival in Iraq”. The Washington Quarterly • 27:3 pp. 7–24. The Centre for International and Strategic Studies and the Massachusetts Institute for Technology. Summer 2004. Pipes, Daniel, ‘A Border Adrift: Origins of the Iraq-Iran War’, The Iraq-Iran War: Old Conflict, New Weapons, 1983 Weinraub, Bernard, and Shanker, Thom, ‘A NATION AT WAR: UNDER FIRE; Rumsfeld’s Design for War Criticized on the Battlefield’, The New York Times, 1 April 2003 11187 reads Voting Results 50 50 There is no votes yet. You can be the first! Video Debate Related Debates This House would have a second Brexit referendum b... THBT intellectual migration (brain drain) is cause... This House believes that leaving the EU would incr... About Us The International Debate Education Association (IDEA) is a global network of organizations that value debate as a way to give young people a voice, with entities in the Netherlands, USA, UK, Macedonia, Kyrgyzstan and Tunisia. Twitter Facebook Youtube Offices contact IDEA Central Asia IDEA Middle East and North Africa IDEA Netherlands IDEA Southeast Europe IDEA United Kingdom Latest tweet Tweets by idebate Photos IDebate is a product of IDEA, the world's leading provider of debate resources, training and events to give young people a voice. Store | Privacy Policy | Terms & Conditions | Contact X Username or e-mail * Password * Create new account Request new password Or log in with... Login with Facebook Login with Twitter \", 'source_text_conclusion_start': 196, 'source_text_conclusion_end': 230, 'source_text_premise_start': 8137, 'source_text_premise_end': 8234, 'topic': 'the War in Iraq was Worth the Cost', 'acquisition': datetime.datetime(2019, 4, 19, 12, 40, 25, tzinfo=datetime.timezone.utc), 'date': None, 'author': None, 'author_image_url': None, 'author_organization': None, 'author_role': None, 'mode': <ArgsMeMode.discussion: 2>, 'sentences': [ArgsMeSentence(id='Sf9294c83-Af186e851__PREMISE__1', text='His removal provides stability and security not only for Iraq but for the Middle East as a region'), ArgsMeSentence(id='Sf9294c83-Af186e851__CONC__1', text='the War in Iraq was Worth the Cost')], 'docno': 'Sf9294c83-Af186e851'}\n",
            "{'conclusion': 'Saddam Hussein is gone and Iraq is now functioning as one of very few democracies in the Middle East', 'premises': [ArgsMePremise(text=\"It's important to be clear that this debate is looking at the results of the Iraq war and, by any definition Iraq is in a much more stable and secure position than it was in 2003 when American, British and other international troops arrived in the country. Whatever one thinks of the initial justifications for the war there is no doubt that the country, the region and the world are better and safer places without Saddam Hussein[i]. It is easy to criticize the allies but it is worth bearing in mind that the alternative was leaving in power a man who had committed genocide was a vicious and brutal dictator under whose regime extra-judicial execution and detention, mass-murder and torture were commonplace[ii]. [i]\\xa0Richard Miniter. “Was the Iraq War Worth It?”. Hudson New York. 2 September 2010. [ii]\\xa0Interview with Donald Rumsfeld. Inside Politics. NPR. 14 February 2011.\", stance=<ArgsMeStance.PRO: 1>, annotations=[])], 'premises_texts': \"It's important to be clear that this debate is looking at the results of the Iraq war and, by any definition Iraq is in a much more stable and secure position than it was in 2003 when American, British and other international troops arrived in the country. Whatever one thinks of the initial justifications for the war there is no doubt that the country, the region and the world are better and safer places without Saddam Hussein[i]. It is easy to criticize the allies but it is worth bearing in mind that the alternative was leaving in power a man who had committed genocide was a vicious and brutal dictator under whose regime extra-judicial execution and detention, mass-murder and torture were commonplace[ii]. [i]\\xa0Richard Miniter. “Was the Iraq War Worth It?”. Hudson New York. 2 September 2010. [ii]\\xa0Interview with Donald Rumsfeld. Inside Politics. NPR. 14 February 2011.\", 'aspects': [ArgsMeAspect(name='Donald Rumsfeld', weight=1.0, normalized_weight=0.25, rank=1), ArgsMeAspect(name='Genocide', weight=1.0, normalized_weight=0.25, rank=1), ArgsMeAspect(name='Saddam Hussein', weight=1.0, normalized_weight=0.25, rank=1), ArgsMeAspect(name='Torture', weight=1.0, normalized_weight=0.25, rank=1)], 'aspects_names': 'Donald Rumsfeld Genocide Saddam Hussein Torture', 'source_id': 'Sf9294c83', 'source_title': 'This House Believes that the War in Iraq was Worth the Cost | idebate.org', 'source_url': 'https://idebate.org/debatabase/international-middle-east-politics-terrorism-warpeace/house-believes-war-iraq-was-worth', 'source_previous_argument_id': None, 'source_next_argument_id': None, 'source_domain': <ArgsMeSourceDomain.idebate: 4>, 'source_text': \"idebate.org Educational and informative news and resources on debate, advocacy and activism for youth. \\xa0 \\xa0 News Debatabase Events Community Media About Search form Search This House Believes that the War in Iraq was Worth the Cost The war in Iraq is likely to be remembered for decades, if not centuries, as the defining conflict of the early 21st century. The effect it had not only in the nation and country itself in radicalizing an entire generation as well as the toxic effect it had on those politicians most closely associated with it may well stand as a legacy to how not to fight a war. However, as the original reasons for going in fade into history – and they were never that clear in the first place – the issue of what has been accomplished becomes an interesting one. It would be foolish to assert that everything went according to plan, and proposition will have to demonstrate benefits from some unusual sources. However unlikely it may seem, such benefits do exist. The first and most obvious one is that Saddam Hussein, and his genocidal regime, is no longer in power. Instead there is, by the standards of the region, a democratic, relatively stable and relatively transparent nation state. It may not be Switzerland but the difference between the country the allies entered and the one they are leaving could not be clearer. Equally, although it will come as little consolation to the families of those who have died the knowledge gained about how wars in the 21st century need to be fought can be used to save lives in the future. Especially given the instability of the Middle East as a whole and the growing scarcity of oil, it seems unlikely that this is the last desert war the West will be fighting in the decades to come. Equally, the impact it had on the West is instructive. When Britain and France chose to intervene in Libya, Sarkosy and Cameron did so in the shadow of Baghdad and the difference in their approach could not have been more different from the gung-ho, militaristic approach taken by Blair and Bush. Instead they adopted very clear goals, were very clear on the need for indigenous allies, and refused to put boots on the ground. It seems that they acknowledged that their electorates would not stomach another war conducted along the lines of Iraq. It would stretch credulity to suggest that there is a direct link between the fall of Baghdad and the Arab Spring. However, that synchronicity of the two events may ultimately prove beneficial. The Middle East would have been a lonely place for a democratic state and now there are at least a handful to build upon. Although the cost in lives – lost and broken – is almost too ghastly to contemplate and the effects on the economies of all concerned has been devastating, there are some positives that have come out of the conflict. Benefits that would not be available with Saddam left in power. The balance of probability now seems to be that the future generations living in a free and democratic Iraq will give thanks to those who died to start the nation on its long road to freedom. \\xa0 POINTS FOR POINTS AGAINST Title\\xa0 Saddam Hussein is gone and Iraq is now functioning as one of very few democracies in the Middle East Point\\xa0 It's important to be clear that this debate is looking at the results of the Iraq war and, by any definition Iraq is in a much more stable and secure position than it was in 2003 when American, British and other international troops arrived in the country. Whatever one thinks of the initial justifications for the war there is no doubt that the country, the region and the world are better and safer places without Saddam Hussein[i]. It is easy to criticize the allies but it is worth bearing in mind that the alternative was leaving in power a man who had committed genocide was a vicious and brutal dictator under whose regime extra-judicial execution and detention, mass-murder and torture were commonplace[ii]. [i]\\xa0Richard Miniter. “Was the Iraq War Worth It?”. Hudson New York. 2 September 2010. [ii]\\xa0Interview with Donald Rumsfeld. Inside Politics. NPR. 14 February 2011. Counterpoint\\xa0 In the unlikely event that something resembling a democratic government survives in Iraq after the international troops leave then that would, of course, be welcome. However, some context is required to establish whether the price was worth paying. Over a trillion dollars, 4,000 American dead, tens of thousands of Iraqis, US reputation destroyed in the region to establish a puppet government whose only real chance of survival is a continued American presence in the country. The alternatives are all unpleasant – a theocratic regime allied to a nuclear Iran, a simple meltdown of the state or the emergence of a new strongman along the lines of Saddam's regime. Assuming the US can't sign up in perpetuity then one of these outcomes seems likely and those lives and resources will have been squandered for no reason whatsoever[i]. [i]\\xa0Francis Fukuyama. “Iraq May Be Stable, But The War Was Still A Mistake”. Wall Street Journal. 15 August 2008. Title\\xa0 Although there has been a huge cost in human life the alternatives may well have been worse Saddam had made quite clear his intention to hand over power to his sons Point\\xa0 Without intervention there is little doubt that Saddam or one of his still more murderous sons would be running Iraq. Even though there were no WMDs, it seems reasonable to assume that neither Saddam nor his sons would have ignored Iran’s attempts to secure fissile material and develop a bomb. Iraq had attempted to build a nuclear reactor in the 1970’s but it was destroyed by Israel in 1981[i]\\xa0and Iraq and Iran had fought a far for most of the 1980s for political dominance in the Gulf and the Shi’ite, Sunni religious divide.[ii]So we would now be watching an arms race in the Middle East between the two with Israel on a hair trigger. This wasn’t just about removing one tyrant; the regime had dynastic ambitions, and a failure to act would have created the equivalent of North Korea. However, this particular hermit kingdom would have been sitting on top of the second largest reserves of oil in the world. It would, therefore, have the capacity to create the sort of fear and chaos Kim Jong Il can only dream of. [i]\\xa0BBC On This Day, ‘1981: Israel bombs Baghdad nuclear reactor’. [ii]\\xa0Pipes, Daniel, ‘A Border Adrift: Origins of the Iraq-Iran War’,\\xa0The Iraq-Iran War: Old Conflict, New Weapons, 1983 Counterpoint\\xa0 There is little evidence that the Ba’ath Party would have tolerated a handover of power to Saddam’s sons. Even in North Korea, the issue of Kim Il Sung’s succession became fraught, and hotly contested amongst the North Korean political elite.. However, the issue of who should run Iraq was and should remain a matter for the Iraqi people. The current puppet regime has little power outside\\xa0Baghdad\\xa0and, frankly, not that much inside, this lack of central control is as damaging as too much would be as is shown by the failure of Somalia and resulting civil war and piratical attacks.[i] In many ways the war has encouraged the world’s rogue states to pursue nuclear weapons as, in an era of ‘pre-emptive defense, they are the only surety against invasion and overthrow[ii]. Iran is continuing to persue nuclear weapons even without the threat of Iraq on its borders, instead it is worried about Israel and the United States. One more threatening state would therefore have made little difference.[iii] If the aim of the war was to insure against future threats then leaving a nation bitter and resentful, where barely a family has not lost someone to the conflict, a radicalized younger generation, emboldened militant clerics and a weak central government seems a very strange way to go about doing it. The West will almost certainly have to return to Iraq within a generation, if not a decade. [i]\\xa0Blair, David, ‘Somalia: Analysis of a failed state’,\\xa0The Telegraph, 18 November 2008 [ii]\\xa0Francis Fukuyama. “Iraq May Be Stable, But The War Was Still A Mistake”. Wall Street Journal. 15 August 2008. [iii]\\xa0BBC News, ‘Q&A: Iran nuclear issue’, 23 January 2012 Title\\xa0 His removal provides stability and security not only for Iraq but for the Middle East as a region Point\\xa0 The Middle East is a tinder box at the best of times. Having an unpredictable megalomaniac sitting in the middle of it was dangerous, not only for Iraqis but for other peoples in the region. Hussain was a danger to the Middle East as he had proved many times, through his invasion of Iran[i]\\xa0which was followed only a couple of years later in 1990 by an invasion of Kuwait which sparked the Gulf War[ii]\\xa0and his use of scud missiles on Israel which was otherwise uninvolved in the conflict.[iii] It was better to remove this threat than risk being drawn into a multi-player conflict when he next attacked a neighbor. [i]\\xa0Pipes, Daniel, ‘A Border Adrift: Origins of the Iraq-Iran War’, The Iraq-Iran War: Old Conflict, New Weapons, 1983 [ii]\\xa0BBC on this day, ‘1990: Iraq invades Kuwait’. [iii]\\xa0CBC Digital Archives, ‘Scud vs. Patriot missiles’, 19 January 1991 Counterpoint\\xa0 By empowering the Shi’a majority, the outcome of the war has provided an obvious link to Iran, an equally obvious threat to Israel and has implication for nations “from Lebanon to Pakistan.[i]” The weakness of this government represents a far greater threat to security and regional stability than any dictator, however bloodthirsty. Iraq looks set to join the other lawless regions of Asia such as the Pashtun Valley as an obvious place for terrorists and Criminals to base themselves. [i]\\xa0Vali Nasr. “Regional Implications of Shi’a Revival in Iraq”. The Washington Quarterly • 27:3 pp. 7–24. The Centre for International and Strategic Studies and the Massachusetts Institute for Technology. Summer 2004. Title\\xa0 The war was illegal and the removal of Saddam should have been left to the Iraqis Yet another puppet regime is not what the Middle East needs Point\\xa0 Events from the Arab Spring have demonstrated, more graphically than anything else could have done, that Arab peoples are more than capable of dealing with their own dictators and do not need to be patronized by fading imperial powers. Imagine what the situation in Iraq would be now following a genuinely democratic uprising rather than the imposition of yet another puppet regime by the West. Since the creation of the state of Iraq as a modern state by the British in 1932, a succession of rulers, of various stripes of dictatorial ruthlessness, have been brought in to ensure that the oil wealth continues to flow to Washington, London and other foreign capitals. The allies were never interested in Iraqi freedom, this was yet another grab for oil and the results look set to be the same round of misery and tyranny for the people of Iraq. Counterpoint\\xa0 The sands of Iraq are as soaked in blood as they are in oil. For once the Iraqis have actually got something out of their mineral wealth, which has otherwise served as a curse for over a century. There has been a functioning civilization around the Tigis-Euphrates Valleys for at least ten thousand years it was only with the discovery of oil and the importation of the Industrial Age that this began to function as a curse. For once their oil wealth has worked to their advantage, leading to the removal of a dictator rather than the imposition of one. As the troops step back it seems likely that Iraq has the opportunity to become that rarest of things; a Middle Eastern, oil producing state that is democratic and stable. As a result they can negotiate with oil consuming nations on an even footing. Title\\xa0 An entire generation has been turned against the West and fundamentalist clerics have gained enormously in influence Point\\xa0 The aftermath of the war has been to create an entire people with no reason to love the West and more than100,000 reasons to hate it as a result of an estimated 105-115000 dead.[i]\\xa0The country is teetering on the brink of civil war, with the leader of the sunni block having said Iraq is heading towards a “sectarian autocracy that carries with it the threat of devastating civil war”[ii]\\xa0unemployment is rife and the reputation of the ‘liberators’ lies in tatters[iii]. It is not hard to see how this combination is likely to lead to chaos in Iraq and insecurity for the West. Millions of young people with a perfectly justifiable grudge, little education, no job and a desire to do something to make things\\xa0right.[iv] It is difficult to imagine a situation more likely to produce violence, terrorism and instability. [i]\\xa0Iraq Body Count [ii]\\xa0Loney, Jim, ‘Iraq on the brink of ‘devastating civil war’: Former PM Allawi’,\\xa0National Post, 28 December 2011 [iii]\\xa0Malou Innocent. “The Iraq War: Still a Massive Mistake.” Christian Science Monitor. 5 April 2010. [iv]\\xa0Benmelech, Efraim et al., ‘Economic Conditions and the Quality of Suicide Terrorism’,\\xa0Journal of Politics, Vol. 74, No. 1, January 2012, pp. 113-128 Counterpoint\\xa0 Iraq now has a professionally trained army and police force accountable to a democratically elected government and, through them, to the people. Unusually among Arab nations the security forces should now act as upholders of the law rather than the personal armies of local and national strong men used to settle grudges and silence dissent. The torture chambers are closed and the courts are functioning. There is, of course, work still to be done in terms of creating jobs but at least those jobs will go to people on the basis of ability rather than political loyalty. Iraq still faces problems but is better equipped to deal with them than it has been in a century and more. Title\\xa0 Even if the outcome is a stable democratic Iraq, the war was still a costly, illegal, ideologically-driven mistake Point\\xa0 The cost of the Iraq war has been astonishing both in the lives and treasure spent and the resentment and chaos stored up for the future. Even if the result had been Switzerland on Sinai, it would still not have been worth it. There have been more than 100,000 Iraqi\\xa0deaths[i]. \\xa0It has been the most expensive US war other than WWII in constant 2011 dollars, costing more than $400 billion more than Vietnam,[ii]and what is left is a failed state in the making. The war was poorly conceived, recklessly enacted and devastatingly badly\\xa0concluded. The secretary of defense Donald Rumsfeld wanted the war fought “on the cheap” using a much smaller force than the pentagon or independent analysts thought was necessary.[iii]\\xa0With the allies now withdrawing from Iraq the world’s best hope is that the US and its allies will be sufficiently cowed by public opinion as to never try such folly again. That, perhaps, would be a benefit. [i]\\xa0Iraq Body Count [ii]\\xa0Daggett, Stephen, ‘Costs of Major U.S. Wars’,\\xa0Congressional Research Service, 29 June 2010 [iii]\\xa0Weinraub, Bernard, and Shanker, Thom, ‘A NATION AT WAR: UNDER FIRE; Rumsfeld’s Design for War Criticized on the Battlefield’,\\xa0The New York Times,\\xa01 April 2003 How do you feel now, please vote FOR AGAINST Bibliography\\xa0 BBC On This Day, ‘1981: Israel bombs Baghdad nuclear reactor’. BBC on this day, ‘1990: Iraq invades Kuwait’. BBC News, ‘Q&A: Iran nuclear issue’, 23 January 2012 Benmelech, Efraim et al., ‘Economic Conditions and the Quality of Suicide Terrorism’, Journal of Politics, Vol. 74, No. 1, January 2012, pp. 113-128 Blair, David, ‘Somalia: Analysis of a failed state’, The Telegraph, 18 November 2008 CBC Digital Archives, ‘Scud vs. Patriot missiles’, 19 January 1991 Daggett, Stephen, ‘Costs of Major U.S. Wars’, Congressional Research Service, 29 June 2010 Fukuyama, Francis. “Iraq May Be Stable, But The War Was Still A Mistake”. Wall Street Journal. 15 August 2008. Innocent. Malou, \\xa0“The Iraq War: Still a Massive Mistake.” Christian Science Monitor. 5 April 2010. Inside Politics, Interview with Donald Rumsfeld. NPR. 14 February 2011. Iraq Body Count Loney, Jim, ‘Iraq on the brink of ‘devastating civil war’: Former PM Allawi’, National Post, 28 December 2011 Miniter, Richard. “Was the Iraq War Worth It?”. Hudson New York. 2 September 2010. Nasr, Vali. “Regional Implications of Shi’a Revival in Iraq”. The Washington Quarterly • 27:3 pp. 7–24. The Centre for International and Strategic Studies and the Massachusetts Institute for Technology. Summer 2004. Pipes, Daniel, ‘A Border Adrift: Origins of the Iraq-Iran War’, The Iraq-Iran War: Old Conflict, New Weapons, 1983 Weinraub, Bernard, and Shanker, Thom, ‘A NATION AT WAR: UNDER FIRE; Rumsfeld’s Design for War Criticized on the Battlefield’, The New York Times, 1 April 2003 11187 reads Voting Results 50 50 There is no votes yet. You can be the first! Video Debate Related Debates This House would have a second Brexit referendum b... THBT intellectual migration (brain drain) is cause... This House believes that leaving the EU would incr... About Us The International Debate Education Association (IDEA) is a global network of organizations that value debate as a way to give young people a voice, with entities in the Netherlands, USA, UK, Macedonia, Kyrgyzstan and Tunisia. Twitter Facebook Youtube Offices contact IDEA Central Asia IDEA Middle East and North Africa IDEA Netherlands IDEA Southeast Europe IDEA United Kingdom Latest tweet Tweets by idebate Photos IDebate is a product of IDEA, the world's leading provider of debate resources, training and events to give young people a voice. Store | Privacy Policy | Terms & Conditions | Contact X Username or e-mail * Password * Create new account Request new password Or log in with... Login with Facebook Login with Twitter \", 'source_text_conclusion_start': 3120, 'source_text_conclusion_end': 3220, 'source_text_premise_start': 3228, 'source_text_premise_end': 4106, 'topic': 'the War in Iraq was Worth the Cost', 'acquisition': datetime.datetime(2019, 4, 19, 12, 40, 25, tzinfo=datetime.timezone.utc), 'date': None, 'author': None, 'author_image_url': None, 'author_organization': None, 'author_role': None, 'mode': <ArgsMeMode.discussion: 2>, 'sentences': [ArgsMeSentence(id='Sf9294c83-A9a4e056e__PREMISE__1', text=\"It's important to be clear that this debate is looking at the results of the Iraq war and, by any definition Iraq is in a much more stable and secure position than it was in 2003 when American, British and other international troops arrived in the country.\"), ArgsMeSentence(id='Sf9294c83-A9a4e056e__PREMISE__2', text='Whatever one thinks of the initial justifications for the war there is no doubt that the country, the region and the world are better and safer places without Saddam Hussein[i].'), ArgsMeSentence(id='Sf9294c83-A9a4e056e__PREMISE__3', text='It is easy to criticize the allies but it is worth bearing in mind that the alternative was leaving in power a man who had committed genocide was a vicious and brutal dictator under whose regime extra-judicial execution and detention, mass-murder and torture were commonplace[ii].'), ArgsMeSentence(id='Sf9294c83-A9a4e056e__PREMISE__4', text='[i] Richard Miniter.'), ArgsMeSentence(id='Sf9294c83-A9a4e056e__PREMISE__5', text='“Was the Iraq War Worth It?”.'), ArgsMeSentence(id='Sf9294c83-A9a4e056e__PREMISE__6', text='Hudson New York.'), ArgsMeSentence(id='Sf9294c83-A9a4e056e__PREMISE__7', text='2 September 2010.'), ArgsMeSentence(id='Sf9294c83-A9a4e056e__PREMISE__8', text='[ii] Interview with Donald Rumsfeld.'), ArgsMeSentence(id='Sf9294c83-A9a4e056e__PREMISE__9', text='Inside Politics.'), ArgsMeSentence(id='Sf9294c83-A9a4e056e__PREMISE__10', text='14 February 2011.'), ArgsMeSentence(id='Sf9294c83-A9a4e056e__CONC__1', text='Saddam Hussein is gone and Iraq is now functioning as one of very few democracies in the Middle East')], 'docno': 'Sf9294c83-A9a4e056e'}\n",
            "{'conclusion': 'His removal provides stability and security not only for Iraq but for the Middle East as a region', 'premises': [ArgsMePremise(text='The Middle East is a tinder box at the best of times. Having an unpredictable megalomaniac sitting in the middle of it was dangerous, not only for Iraqis but for other peoples in the region. Hussain was a danger to the Middle East as he had proved many times, through his invasion of Iran[i]\\xa0which was followed only a couple of years later in 1990 by an invasion of Kuwait which sparked the Gulf War[ii]\\xa0and his use of scud missiles on Israel which was otherwise uninvolved in the conflict.[iii] It was better to remove this threat than risk being drawn into a multi-player conflict when he next attacked a neighbor. [i]\\xa0Pipes, Daniel, ‘A Border Adrift: Origins of the Iraq-Iran War’, The Iraq-Iran War: Old Conflict, New Weapons, 1983 [ii]\\xa0BBC on this day, ‘1990: Iraq invades Kuwait’. [iii]\\xa0CBC Digital Archives, ‘Scud vs. Patriot missiles’, 19 January 1991', stance=<ArgsMeStance.PRO: 1>, annotations=[])], 'premises_texts': 'The Middle East is a tinder box at the best of times. Having an unpredictable megalomaniac sitting in the middle of it was dangerous, not only for Iraqis but for other peoples in the region. Hussain was a danger to the Middle East as he had proved many times, through his invasion of Iran[i]\\xa0which was followed only a couple of years later in 1990 by an invasion of Kuwait which sparked the Gulf War[ii]\\xa0and his use of scud missiles on Israel which was otherwise uninvolved in the conflict.[iii] It was better to remove this threat than risk being drawn into a multi-player conflict when he next attacked a neighbor. [i]\\xa0Pipes, Daniel, ‘A Border Adrift: Origins of the Iraq-Iran War’, The Iraq-Iran War: Old Conflict, New Weapons, 1983 [ii]\\xa0BBC on this day, ‘1990: Iraq invades Kuwait’. [iii]\\xa0CBC Digital Archives, ‘Scud vs. Patriot missiles’, 19 January 1991', 'aspects': [ArgsMeAspect(name='Israel', weight=1.0, normalized_weight=1.0, rank=1)], 'aspects_names': 'Israel', 'source_id': 'Sf9294c83', 'source_title': 'This House Believes that the War in Iraq was Worth the Cost | idebate.org', 'source_url': 'https://idebate.org/debatabase/international-middle-east-politics-terrorism-warpeace/house-believes-war-iraq-was-worth', 'source_previous_argument_id': None, 'source_next_argument_id': None, 'source_domain': <ArgsMeSourceDomain.idebate: 4>, 'source_text': \"idebate.org Educational and informative news and resources on debate, advocacy and activism for youth. \\xa0 \\xa0 News Debatabase Events Community Media About Search form Search This House Believes that the War in Iraq was Worth the Cost The war in Iraq is likely to be remembered for decades, if not centuries, as the defining conflict of the early 21st century. The effect it had not only in the nation and country itself in radicalizing an entire generation as well as the toxic effect it had on those politicians most closely associated with it may well stand as a legacy to how not to fight a war. However, as the original reasons for going in fade into history – and they were never that clear in the first place – the issue of what has been accomplished becomes an interesting one. It would be foolish to assert that everything went according to plan, and proposition will have to demonstrate benefits from some unusual sources. However unlikely it may seem, such benefits do exist. The first and most obvious one is that Saddam Hussein, and his genocidal regime, is no longer in power. Instead there is, by the standards of the region, a democratic, relatively stable and relatively transparent nation state. It may not be Switzerland but the difference between the country the allies entered and the one they are leaving could not be clearer. Equally, although it will come as little consolation to the families of those who have died the knowledge gained about how wars in the 21st century need to be fought can be used to save lives in the future. Especially given the instability of the Middle East as a whole and the growing scarcity of oil, it seems unlikely that this is the last desert war the West will be fighting in the decades to come. Equally, the impact it had on the West is instructive. When Britain and France chose to intervene in Libya, Sarkosy and Cameron did so in the shadow of Baghdad and the difference in their approach could not have been more different from the gung-ho, militaristic approach taken by Blair and Bush. Instead they adopted very clear goals, were very clear on the need for indigenous allies, and refused to put boots on the ground. It seems that they acknowledged that their electorates would not stomach another war conducted along the lines of Iraq. It would stretch credulity to suggest that there is a direct link between the fall of Baghdad and the Arab Spring. However, that synchronicity of the two events may ultimately prove beneficial. The Middle East would have been a lonely place for a democratic state and now there are at least a handful to build upon. Although the cost in lives – lost and broken – is almost too ghastly to contemplate and the effects on the economies of all concerned has been devastating, there are some positives that have come out of the conflict. Benefits that would not be available with Saddam left in power. The balance of probability now seems to be that the future generations living in a free and democratic Iraq will give thanks to those who died to start the nation on its long road to freedom. \\xa0 POINTS FOR POINTS AGAINST Title\\xa0 Saddam Hussein is gone and Iraq is now functioning as one of very few democracies in the Middle East Point\\xa0 It's important to be clear that this debate is looking at the results of the Iraq war and, by any definition Iraq is in a much more stable and secure position than it was in 2003 when American, British and other international troops arrived in the country. Whatever one thinks of the initial justifications for the war there is no doubt that the country, the region and the world are better and safer places without Saddam Hussein[i]. It is easy to criticize the allies but it is worth bearing in mind that the alternative was leaving in power a man who had committed genocide was a vicious and brutal dictator under whose regime extra-judicial execution and detention, mass-murder and torture were commonplace[ii]. [i]\\xa0Richard Miniter. “Was the Iraq War Worth It?”. Hudson New York. 2 September 2010. [ii]\\xa0Interview with Donald Rumsfeld. Inside Politics. NPR. 14 February 2011. Counterpoint\\xa0 In the unlikely event that something resembling a democratic government survives in Iraq after the international troops leave then that would, of course, be welcome. However, some context is required to establish whether the price was worth paying. Over a trillion dollars, 4,000 American dead, tens of thousands of Iraqis, US reputation destroyed in the region to establish a puppet government whose only real chance of survival is a continued American presence in the country. The alternatives are all unpleasant – a theocratic regime allied to a nuclear Iran, a simple meltdown of the state or the emergence of a new strongman along the lines of Saddam's regime. Assuming the US can't sign up in perpetuity then one of these outcomes seems likely and those lives and resources will have been squandered for no reason whatsoever[i]. [i]\\xa0Francis Fukuyama. “Iraq May Be Stable, But The War Was Still A Mistake”. Wall Street Journal. 15 August 2008. Title\\xa0 Although there has been a huge cost in human life the alternatives may well have been worse Saddam had made quite clear his intention to hand over power to his sons Point\\xa0 Without intervention there is little doubt that Saddam or one of his still more murderous sons would be running Iraq. Even though there were no WMDs, it seems reasonable to assume that neither Saddam nor his sons would have ignored Iran’s attempts to secure fissile material and develop a bomb. Iraq had attempted to build a nuclear reactor in the 1970’s but it was destroyed by Israel in 1981[i]\\xa0and Iraq and Iran had fought a far for most of the 1980s for political dominance in the Gulf and the Shi’ite, Sunni religious divide.[ii]So we would now be watching an arms race in the Middle East between the two with Israel on a hair trigger. This wasn’t just about removing one tyrant; the regime had dynastic ambitions, and a failure to act would have created the equivalent of North Korea. However, this particular hermit kingdom would have been sitting on top of the second largest reserves of oil in the world. It would, therefore, have the capacity to create the sort of fear and chaos Kim Jong Il can only dream of. [i]\\xa0BBC On This Day, ‘1981: Israel bombs Baghdad nuclear reactor’. [ii]\\xa0Pipes, Daniel, ‘A Border Adrift: Origins of the Iraq-Iran War’,\\xa0The Iraq-Iran War: Old Conflict, New Weapons, 1983 Counterpoint\\xa0 There is little evidence that the Ba’ath Party would have tolerated a handover of power to Saddam’s sons. Even in North Korea, the issue of Kim Il Sung’s succession became fraught, and hotly contested amongst the North Korean political elite.. However, the issue of who should run Iraq was and should remain a matter for the Iraqi people. The current puppet regime has little power outside\\xa0Baghdad\\xa0and, frankly, not that much inside, this lack of central control is as damaging as too much would be as is shown by the failure of Somalia and resulting civil war and piratical attacks.[i] In many ways the war has encouraged the world’s rogue states to pursue nuclear weapons as, in an era of ‘pre-emptive defense, they are the only surety against invasion and overthrow[ii]. Iran is continuing to persue nuclear weapons even without the threat of Iraq on its borders, instead it is worried about Israel and the United States. One more threatening state would therefore have made little difference.[iii] If the aim of the war was to insure against future threats then leaving a nation bitter and resentful, where barely a family has not lost someone to the conflict, a radicalized younger generation, emboldened militant clerics and a weak central government seems a very strange way to go about doing it. The West will almost certainly have to return to Iraq within a generation, if not a decade. [i]\\xa0Blair, David, ‘Somalia: Analysis of a failed state’,\\xa0The Telegraph, 18 November 2008 [ii]\\xa0Francis Fukuyama. “Iraq May Be Stable, But The War Was Still A Mistake”. Wall Street Journal. 15 August 2008. [iii]\\xa0BBC News, ‘Q&A: Iran nuclear issue’, 23 January 2012 Title\\xa0 His removal provides stability and security not only for Iraq but for the Middle East as a region Point\\xa0 The Middle East is a tinder box at the best of times. Having an unpredictable megalomaniac sitting in the middle of it was dangerous, not only for Iraqis but for other peoples in the region. Hussain was a danger to the Middle East as he had proved many times, through his invasion of Iran[i]\\xa0which was followed only a couple of years later in 1990 by an invasion of Kuwait which sparked the Gulf War[ii]\\xa0and his use of scud missiles on Israel which was otherwise uninvolved in the conflict.[iii] It was better to remove this threat than risk being drawn into a multi-player conflict when he next attacked a neighbor. [i]\\xa0Pipes, Daniel, ‘A Border Adrift: Origins of the Iraq-Iran War’, The Iraq-Iran War: Old Conflict, New Weapons, 1983 [ii]\\xa0BBC on this day, ‘1990: Iraq invades Kuwait’. [iii]\\xa0CBC Digital Archives, ‘Scud vs. Patriot missiles’, 19 January 1991 Counterpoint\\xa0 By empowering the Shi’a majority, the outcome of the war has provided an obvious link to Iran, an equally obvious threat to Israel and has implication for nations “from Lebanon to Pakistan.[i]” The weakness of this government represents a far greater threat to security and regional stability than any dictator, however bloodthirsty. Iraq looks set to join the other lawless regions of Asia such as the Pashtun Valley as an obvious place for terrorists and Criminals to base themselves. [i]\\xa0Vali Nasr. “Regional Implications of Shi’a Revival in Iraq”. The Washington Quarterly • 27:3 pp. 7–24. The Centre for International and Strategic Studies and the Massachusetts Institute for Technology. Summer 2004. Title\\xa0 The war was illegal and the removal of Saddam should have been left to the Iraqis Yet another puppet regime is not what the Middle East needs Point\\xa0 Events from the Arab Spring have demonstrated, more graphically than anything else could have done, that Arab peoples are more than capable of dealing with their own dictators and do not need to be patronized by fading imperial powers. Imagine what the situation in Iraq would be now following a genuinely democratic uprising rather than the imposition of yet another puppet regime by the West. Since the creation of the state of Iraq as a modern state by the British in 1932, a succession of rulers, of various stripes of dictatorial ruthlessness, have been brought in to ensure that the oil wealth continues to flow to Washington, London and other foreign capitals. The allies were never interested in Iraqi freedom, this was yet another grab for oil and the results look set to be the same round of misery and tyranny for the people of Iraq. Counterpoint\\xa0 The sands of Iraq are as soaked in blood as they are in oil. For once the Iraqis have actually got something out of their mineral wealth, which has otherwise served as a curse for over a century. There has been a functioning civilization around the Tigis-Euphrates Valleys for at least ten thousand years it was only with the discovery of oil and the importation of the Industrial Age that this began to function as a curse. For once their oil wealth has worked to their advantage, leading to the removal of a dictator rather than the imposition of one. As the troops step back it seems likely that Iraq has the opportunity to become that rarest of things; a Middle Eastern, oil producing state that is democratic and stable. As a result they can negotiate with oil consuming nations on an even footing. Title\\xa0 An entire generation has been turned against the West and fundamentalist clerics have gained enormously in influence Point\\xa0 The aftermath of the war has been to create an entire people with no reason to love the West and more than100,000 reasons to hate it as a result of an estimated 105-115000 dead.[i]\\xa0The country is teetering on the brink of civil war, with the leader of the sunni block having said Iraq is heading towards a “sectarian autocracy that carries with it the threat of devastating civil war”[ii]\\xa0unemployment is rife and the reputation of the ‘liberators’ lies in tatters[iii]. It is not hard to see how this combination is likely to lead to chaos in Iraq and insecurity for the West. Millions of young people with a perfectly justifiable grudge, little education, no job and a desire to do something to make things\\xa0right.[iv] It is difficult to imagine a situation more likely to produce violence, terrorism and instability. [i]\\xa0Iraq Body Count [ii]\\xa0Loney, Jim, ‘Iraq on the brink of ‘devastating civil war’: Former PM Allawi’,\\xa0National Post, 28 December 2011 [iii]\\xa0Malou Innocent. “The Iraq War: Still a Massive Mistake.” Christian Science Monitor. 5 April 2010. [iv]\\xa0Benmelech, Efraim et al., ‘Economic Conditions and the Quality of Suicide Terrorism’,\\xa0Journal of Politics, Vol. 74, No. 1, January 2012, pp. 113-128 Counterpoint\\xa0 Iraq now has a professionally trained army and police force accountable to a democratically elected government and, through them, to the people. Unusually among Arab nations the security forces should now act as upholders of the law rather than the personal armies of local and national strong men used to settle grudges and silence dissent. The torture chambers are closed and the courts are functioning. There is, of course, work still to be done in terms of creating jobs but at least those jobs will go to people on the basis of ability rather than political loyalty. Iraq still faces problems but is better equipped to deal with them than it has been in a century and more. Title\\xa0 Even if the outcome is a stable democratic Iraq, the war was still a costly, illegal, ideologically-driven mistake Point\\xa0 The cost of the Iraq war has been astonishing both in the lives and treasure spent and the resentment and chaos stored up for the future. Even if the result had been Switzerland on Sinai, it would still not have been worth it. There have been more than 100,000 Iraqi\\xa0deaths[i]. \\xa0It has been the most expensive US war other than WWII in constant 2011 dollars, costing more than $400 billion more than Vietnam,[ii]and what is left is a failed state in the making. The war was poorly conceived, recklessly enacted and devastatingly badly\\xa0concluded. The secretary of defense Donald Rumsfeld wanted the war fought “on the cheap” using a much smaller force than the pentagon or independent analysts thought was necessary.[iii]\\xa0With the allies now withdrawing from Iraq the world’s best hope is that the US and its allies will be sufficiently cowed by public opinion as to never try such folly again. That, perhaps, would be a benefit. [i]\\xa0Iraq Body Count [ii]\\xa0Daggett, Stephen, ‘Costs of Major U.S. Wars’,\\xa0Congressional Research Service, 29 June 2010 [iii]\\xa0Weinraub, Bernard, and Shanker, Thom, ‘A NATION AT WAR: UNDER FIRE; Rumsfeld’s Design for War Criticized on the Battlefield’,\\xa0The New York Times,\\xa01 April 2003 How do you feel now, please vote FOR AGAINST Bibliography\\xa0 BBC On This Day, ‘1981: Israel bombs Baghdad nuclear reactor’. BBC on this day, ‘1990: Iraq invades Kuwait’. BBC News, ‘Q&A: Iran nuclear issue’, 23 January 2012 Benmelech, Efraim et al., ‘Economic Conditions and the Quality of Suicide Terrorism’, Journal of Politics, Vol. 74, No. 1, January 2012, pp. 113-128 Blair, David, ‘Somalia: Analysis of a failed state’, The Telegraph, 18 November 2008 CBC Digital Archives, ‘Scud vs. Patriot missiles’, 19 January 1991 Daggett, Stephen, ‘Costs of Major U.S. Wars’, Congressional Research Service, 29 June 2010 Fukuyama, Francis. “Iraq May Be Stable, But The War Was Still A Mistake”. Wall Street Journal. 15 August 2008. Innocent. Malou, \\xa0“The Iraq War: Still a Massive Mistake.” Christian Science Monitor. 5 April 2010. Inside Politics, Interview with Donald Rumsfeld. NPR. 14 February 2011. Iraq Body Count Loney, Jim, ‘Iraq on the brink of ‘devastating civil war’: Former PM Allawi’, National Post, 28 December 2011 Miniter, Richard. “Was the Iraq War Worth It?”. Hudson New York. 2 September 2010. Nasr, Vali. “Regional Implications of Shi’a Revival in Iraq”. The Washington Quarterly • 27:3 pp. 7–24. The Centre for International and Strategic Studies and the Massachusetts Institute for Technology. Summer 2004. Pipes, Daniel, ‘A Border Adrift: Origins of the Iraq-Iran War’, The Iraq-Iran War: Old Conflict, New Weapons, 1983 Weinraub, Bernard, and Shanker, Thom, ‘A NATION AT WAR: UNDER FIRE; Rumsfeld’s Design for War Criticized on the Battlefield’, The New York Times, 1 April 2003 11187 reads Voting Results 50 50 There is no votes yet. You can be the first! Video Debate Related Debates This House would have a second Brexit referendum b... THBT intellectual migration (brain drain) is cause... This House believes that leaving the EU would incr... About Us The International Debate Education Association (IDEA) is a global network of organizations that value debate as a way to give young people a voice, with entities in the Netherlands, USA, UK, Macedonia, Kyrgyzstan and Tunisia. Twitter Facebook Youtube Offices contact IDEA Central Asia IDEA Middle East and North Africa IDEA Netherlands IDEA Southeast Europe IDEA United Kingdom Latest tweet Tweets by idebate Photos IDebate is a product of IDEA, the world's leading provider of debate resources, training and events to give young people a voice. Store | Privacy Policy | Terms & Conditions | Contact X Username or e-mail * Password * Create new account Request new password Or log in with... Login with Facebook Login with Twitter \", 'source_text_conclusion_start': 8137, 'source_text_conclusion_end': 8234, 'source_text_premise_start': 8242, 'source_text_premise_end': 9101, 'topic': 'the War in Iraq was Worth the Cost', 'acquisition': datetime.datetime(2019, 4, 19, 12, 40, 25, tzinfo=datetime.timezone.utc), 'date': None, 'author': None, 'author_image_url': None, 'author_organization': None, 'author_role': None, 'mode': <ArgsMeMode.discussion: 2>, 'sentences': [ArgsMeSentence(id='Sf9294c83-Aa87ac5ae__PREMISE__1', text='The Middle East is a tinder box at the best of times.'), ArgsMeSentence(id='Sf9294c83-Aa87ac5ae__PREMISE__2', text='Having an unpredictable megalomaniac sitting in the middle of it was dangerous, not only for Iraqis but for other peoples in the region.'), ArgsMeSentence(id='Sf9294c83-Aa87ac5ae__PREMISE__3', text='Hussain was a danger to the Middle East as he had proved many times, through his invasion of Iran[i] which was followed only a couple of years later in 1990 by an invasion of Kuwait which sparked the Gulf War[ii] and his use of scud missiles on Israel which was otherwise uninvolved in the conflict.'), ArgsMeSentence(id='Sf9294c83-Aa87ac5ae__PREMISE__4', text='[iii] It was better to remove this threat than risk being drawn into a multi-player conflict when he next attacked a neighbor.'), ArgsMeSentence(id='Sf9294c83-Aa87ac5ae__PREMISE__5', text='[i] Pipes, Daniel, ‘A Border Adrift: Origins of the Iraq-Iran War’, The Iraq-Iran War: Old Conflict, New Weapons, 1983 [ii] BBC on this day, ‘1990: Iraq invades Kuwait’.'), ArgsMeSentence(id='Sf9294c83-Aa87ac5ae__PREMISE__6', text='[iii] CBC Digital Archives, ‘Scud vs. Patriot missiles’, 19 January 1991'), ArgsMeSentence(id='Sf9294c83-Aa87ac5ae__CONC__1', text='His removal provides stability and security not only for Iraq but for the Middle East as a region')], 'docno': 'Sf9294c83-Aa87ac5ae'}\n",
            "{'conclusion': 'An entire generation has been turned against the West and fundamentalist clerics have gained enormously in influence', 'premises': [ArgsMePremise(text='The aftermath of the war has been to create an entire people with no reason to love the West and more than100,000 reasons to hate it as a result of an estimated 105-115000 dead.[i]\\xa0The country is teetering on the brink of civil war, with the leader of the sunni block having said Iraq is heading towards a “sectarian autocracy that carries with it the threat of devastating civil war”[ii]\\xa0unemployment is rife and the reputation of the ‘liberators’ lies in tatters[iii]. It is not hard to see how this combination is likely to lead to chaos in Iraq and insecurity for the West. Millions of young people with a perfectly justifiable grudge, little education, no job and a desire to do something to make things\\xa0right.[iv] It is difficult to imagine a situation more likely to produce violence, terrorism and instability. [i]\\xa0Iraq Body Count [ii]\\xa0Loney, Jim, ‘Iraq on the brink of ‘devastating civil war’: Former PM Allawi’,\\xa0National Post, 28 December 2011 [iii]\\xa0Malou Innocent. “The Iraq War: Still a Massive Mistake.” Christian Science Monitor. 5 April 2010. [iv]\\xa0Benmelech, Efraim et al., ‘Economic Conditions and the Quality of Suicide Terrorism’,\\xa0Journal of Politics, Vol. 74, No. 1, January 2012, pp. 113-128', stance=<ArgsMeStance.PRO: 1>, annotations=[])], 'premises_texts': 'The aftermath of the war has been to create an entire people with no reason to love the West and more than100,000 reasons to hate it as a result of an estimated 105-115000 dead.[i]\\xa0The country is teetering on the brink of civil war, with the leader of the sunni block having said Iraq is heading towards a “sectarian autocracy that carries with it the threat of devastating civil war”[ii]\\xa0unemployment is rife and the reputation of the ‘liberators’ lies in tatters[iii]. It is not hard to see how this combination is likely to lead to chaos in Iraq and insecurity for the West. Millions of young people with a perfectly justifiable grudge, little education, no job and a desire to do something to make things\\xa0right.[iv] It is difficult to imagine a situation more likely to produce violence, terrorism and instability. [i]\\xa0Iraq Body Count [ii]\\xa0Loney, Jim, ‘Iraq on the brink of ‘devastating civil war’: Former PM Allawi’,\\xa0National Post, 28 December 2011 [iii]\\xa0Malou Innocent. “The Iraq War: Still a Massive Mistake.” Christian Science Monitor. 5 April 2010. [iv]\\xa0Benmelech, Efraim et al., ‘Economic Conditions and the Quality of Suicide Terrorism’,\\xa0Journal of Politics, Vol. 74, No. 1, January 2012, pp. 113-128', 'aspects': [ArgsMeAspect(name='Christian Science', weight=1.0, normalized_weight=0.5, rank=1), ArgsMeAspect(name='Terrorism', weight=1.0, normalized_weight=0.5, rank=1)], 'aspects_names': 'Christian Science Terrorism', 'source_id': 'Sf9294c83', 'source_title': 'This House Believes that the War in Iraq was Worth the Cost | idebate.org', 'source_url': 'https://idebate.org/debatabase/international-middle-east-politics-terrorism-warpeace/house-believes-war-iraq-was-worth', 'source_previous_argument_id': None, 'source_next_argument_id': None, 'source_domain': <ArgsMeSourceDomain.idebate: 4>, 'source_text': \"idebate.org Educational and informative news and resources on debate, advocacy and activism for youth. \\xa0 \\xa0 News Debatabase Events Community Media About Search form Search This House Believes that the War in Iraq was Worth the Cost The war in Iraq is likely to be remembered for decades, if not centuries, as the defining conflict of the early 21st century. The effect it had not only in the nation and country itself in radicalizing an entire generation as well as the toxic effect it had on those politicians most closely associated with it may well stand as a legacy to how not to fight a war. However, as the original reasons for going in fade into history – and they were never that clear in the first place – the issue of what has been accomplished becomes an interesting one. It would be foolish to assert that everything went according to plan, and proposition will have to demonstrate benefits from some unusual sources. However unlikely it may seem, such benefits do exist. The first and most obvious one is that Saddam Hussein, and his genocidal regime, is no longer in power. Instead there is, by the standards of the region, a democratic, relatively stable and relatively transparent nation state. It may not be Switzerland but the difference between the country the allies entered and the one they are leaving could not be clearer. Equally, although it will come as little consolation to the families of those who have died the knowledge gained about how wars in the 21st century need to be fought can be used to save lives in the future. Especially given the instability of the Middle East as a whole and the growing scarcity of oil, it seems unlikely that this is the last desert war the West will be fighting in the decades to come. Equally, the impact it had on the West is instructive. When Britain and France chose to intervene in Libya, Sarkosy and Cameron did so in the shadow of Baghdad and the difference in their approach could not have been more different from the gung-ho, militaristic approach taken by Blair and Bush. Instead they adopted very clear goals, were very clear on the need for indigenous allies, and refused to put boots on the ground. It seems that they acknowledged that their electorates would not stomach another war conducted along the lines of Iraq. It would stretch credulity to suggest that there is a direct link between the fall of Baghdad and the Arab Spring. However, that synchronicity of the two events may ultimately prove beneficial. The Middle East would have been a lonely place for a democratic state and now there are at least a handful to build upon. Although the cost in lives – lost and broken – is almost too ghastly to contemplate and the effects on the economies of all concerned has been devastating, there are some positives that have come out of the conflict. Benefits that would not be available with Saddam left in power. The balance of probability now seems to be that the future generations living in a free and democratic Iraq will give thanks to those who died to start the nation on its long road to freedom. \\xa0 POINTS FOR POINTS AGAINST Title\\xa0 Saddam Hussein is gone and Iraq is now functioning as one of very few democracies in the Middle East Point\\xa0 It's important to be clear that this debate is looking at the results of the Iraq war and, by any definition Iraq is in a much more stable and secure position than it was in 2003 when American, British and other international troops arrived in the country. Whatever one thinks of the initial justifications for the war there is no doubt that the country, the region and the world are better and safer places without Saddam Hussein[i]. It is easy to criticize the allies but it is worth bearing in mind that the alternative was leaving in power a man who had committed genocide was a vicious and brutal dictator under whose regime extra-judicial execution and detention, mass-murder and torture were commonplace[ii]. [i]\\xa0Richard Miniter. “Was the Iraq War Worth It?”. Hudson New York. 2 September 2010. [ii]\\xa0Interview with Donald Rumsfeld. Inside Politics. NPR. 14 February 2011. Counterpoint\\xa0 In the unlikely event that something resembling a democratic government survives in Iraq after the international troops leave then that would, of course, be welcome. However, some context is required to establish whether the price was worth paying. Over a trillion dollars, 4,000 American dead, tens of thousands of Iraqis, US reputation destroyed in the region to establish a puppet government whose only real chance of survival is a continued American presence in the country. The alternatives are all unpleasant – a theocratic regime allied to a nuclear Iran, a simple meltdown of the state or the emergence of a new strongman along the lines of Saddam's regime. Assuming the US can't sign up in perpetuity then one of these outcomes seems likely and those lives and resources will have been squandered for no reason whatsoever[i]. [i]\\xa0Francis Fukuyama. “Iraq May Be Stable, But The War Was Still A Mistake”. Wall Street Journal. 15 August 2008. Title\\xa0 Although there has been a huge cost in human life the alternatives may well have been worse Saddam had made quite clear his intention to hand over power to his sons Point\\xa0 Without intervention there is little doubt that Saddam or one of his still more murderous sons would be running Iraq. Even though there were no WMDs, it seems reasonable to assume that neither Saddam nor his sons would have ignored Iran’s attempts to secure fissile material and develop a bomb. Iraq had attempted to build a nuclear reactor in the 1970’s but it was destroyed by Israel in 1981[i]\\xa0and Iraq and Iran had fought a far for most of the 1980s for political dominance in the Gulf and the Shi’ite, Sunni religious divide.[ii]So we would now be watching an arms race in the Middle East between the two with Israel on a hair trigger. This wasn’t just about removing one tyrant; the regime had dynastic ambitions, and a failure to act would have created the equivalent of North Korea. However, this particular hermit kingdom would have been sitting on top of the second largest reserves of oil in the world. It would, therefore, have the capacity to create the sort of fear and chaos Kim Jong Il can only dream of. [i]\\xa0BBC On This Day, ‘1981: Israel bombs Baghdad nuclear reactor’. [ii]\\xa0Pipes, Daniel, ‘A Border Adrift: Origins of the Iraq-Iran War’,\\xa0The Iraq-Iran War: Old Conflict, New Weapons, 1983 Counterpoint\\xa0 There is little evidence that the Ba’ath Party would have tolerated a handover of power to Saddam’s sons. Even in North Korea, the issue of Kim Il Sung’s succession became fraught, and hotly contested amongst the North Korean political elite.. However, the issue of who should run Iraq was and should remain a matter for the Iraqi people. The current puppet regime has little power outside\\xa0Baghdad\\xa0and, frankly, not that much inside, this lack of central control is as damaging as too much would be as is shown by the failure of Somalia and resulting civil war and piratical attacks.[i] In many ways the war has encouraged the world’s rogue states to pursue nuclear weapons as, in an era of ‘pre-emptive defense, they are the only surety against invasion and overthrow[ii]. Iran is continuing to persue nuclear weapons even without the threat of Iraq on its borders, instead it is worried about Israel and the United States. One more threatening state would therefore have made little difference.[iii] If the aim of the war was to insure against future threats then leaving a nation bitter and resentful, where barely a family has not lost someone to the conflict, a radicalized younger generation, emboldened militant clerics and a weak central government seems a very strange way to go about doing it. The West will almost certainly have to return to Iraq within a generation, if not a decade. [i]\\xa0Blair, David, ‘Somalia: Analysis of a failed state’,\\xa0The Telegraph, 18 November 2008 [ii]\\xa0Francis Fukuyama. “Iraq May Be Stable, But The War Was Still A Mistake”. Wall Street Journal. 15 August 2008. [iii]\\xa0BBC News, ‘Q&A: Iran nuclear issue’, 23 January 2012 Title\\xa0 His removal provides stability and security not only for Iraq but for the Middle East as a region Point\\xa0 The Middle East is a tinder box at the best of times. Having an unpredictable megalomaniac sitting in the middle of it was dangerous, not only for Iraqis but for other peoples in the region. Hussain was a danger to the Middle East as he had proved many times, through his invasion of Iran[i]\\xa0which was followed only a couple of years later in 1990 by an invasion of Kuwait which sparked the Gulf War[ii]\\xa0and his use of scud missiles on Israel which was otherwise uninvolved in the conflict.[iii] It was better to remove this threat than risk being drawn into a multi-player conflict when he next attacked a neighbor. [i]\\xa0Pipes, Daniel, ‘A Border Adrift: Origins of the Iraq-Iran War’, The Iraq-Iran War: Old Conflict, New Weapons, 1983 [ii]\\xa0BBC on this day, ‘1990: Iraq invades Kuwait’. [iii]\\xa0CBC Digital Archives, ‘Scud vs. Patriot missiles’, 19 January 1991 Counterpoint\\xa0 By empowering the Shi’a majority, the outcome of the war has provided an obvious link to Iran, an equally obvious threat to Israel and has implication for nations “from Lebanon to Pakistan.[i]” The weakness of this government represents a far greater threat to security and regional stability than any dictator, however bloodthirsty. Iraq looks set to join the other lawless regions of Asia such as the Pashtun Valley as an obvious place for terrorists and Criminals to base themselves. [i]\\xa0Vali Nasr. “Regional Implications of Shi’a Revival in Iraq”. The Washington Quarterly • 27:3 pp. 7–24. The Centre for International and Strategic Studies and the Massachusetts Institute for Technology. Summer 2004. Title\\xa0 The war was illegal and the removal of Saddam should have been left to the Iraqis Yet another puppet regime is not what the Middle East needs Point\\xa0 Events from the Arab Spring have demonstrated, more graphically than anything else could have done, that Arab peoples are more than capable of dealing with their own dictators and do not need to be patronized by fading imperial powers. Imagine what the situation in Iraq would be now following a genuinely democratic uprising rather than the imposition of yet another puppet regime by the West. Since the creation of the state of Iraq as a modern state by the British in 1932, a succession of rulers, of various stripes of dictatorial ruthlessness, have been brought in to ensure that the oil wealth continues to flow to Washington, London and other foreign capitals. The allies were never interested in Iraqi freedom, this was yet another grab for oil and the results look set to be the same round of misery and tyranny for the people of Iraq. Counterpoint\\xa0 The sands of Iraq are as soaked in blood as they are in oil. For once the Iraqis have actually got something out of their mineral wealth, which has otherwise served as a curse for over a century. There has been a functioning civilization around the Tigis-Euphrates Valleys for at least ten thousand years it was only with the discovery of oil and the importation of the Industrial Age that this began to function as a curse. For once their oil wealth has worked to their advantage, leading to the removal of a dictator rather than the imposition of one. As the troops step back it seems likely that Iraq has the opportunity to become that rarest of things; a Middle Eastern, oil producing state that is democratic and stable. As a result they can negotiate with oil consuming nations on an even footing. Title\\xa0 An entire generation has been turned against the West and fundamentalist clerics have gained enormously in influence Point\\xa0 The aftermath of the war has been to create an entire people with no reason to love the West and more than100,000 reasons to hate it as a result of an estimated 105-115000 dead.[i]\\xa0The country is teetering on the brink of civil war, with the leader of the sunni block having said Iraq is heading towards a “sectarian autocracy that carries with it the threat of devastating civil war”[ii]\\xa0unemployment is rife and the reputation of the ‘liberators’ lies in tatters[iii]. It is not hard to see how this combination is likely to lead to chaos in Iraq and insecurity for the West. Millions of young people with a perfectly justifiable grudge, little education, no job and a desire to do something to make things\\xa0right.[iv] It is difficult to imagine a situation more likely to produce violence, terrorism and instability. [i]\\xa0Iraq Body Count [ii]\\xa0Loney, Jim, ‘Iraq on the brink of ‘devastating civil war’: Former PM Allawi’,\\xa0National Post, 28 December 2011 [iii]\\xa0Malou Innocent. “The Iraq War: Still a Massive Mistake.” Christian Science Monitor. 5 April 2010. [iv]\\xa0Benmelech, Efraim et al., ‘Economic Conditions and the Quality of Suicide Terrorism’,\\xa0Journal of Politics, Vol. 74, No. 1, January 2012, pp. 113-128 Counterpoint\\xa0 Iraq now has a professionally trained army and police force accountable to a democratically elected government and, through them, to the people. Unusually among Arab nations the security forces should now act as upholders of the law rather than the personal armies of local and national strong men used to settle grudges and silence dissent. The torture chambers are closed and the courts are functioning. There is, of course, work still to be done in terms of creating jobs but at least those jobs will go to people on the basis of ability rather than political loyalty. Iraq still faces problems but is better equipped to deal with them than it has been in a century and more. Title\\xa0 Even if the outcome is a stable democratic Iraq, the war was still a costly, illegal, ideologically-driven mistake Point\\xa0 The cost of the Iraq war has been astonishing both in the lives and treasure spent and the resentment and chaos stored up for the future. Even if the result had been Switzerland on Sinai, it would still not have been worth it. There have been more than 100,000 Iraqi\\xa0deaths[i]. \\xa0It has been the most expensive US war other than WWII in constant 2011 dollars, costing more than $400 billion more than Vietnam,[ii]and what is left is a failed state in the making. The war was poorly conceived, recklessly enacted and devastatingly badly\\xa0concluded. The secretary of defense Donald Rumsfeld wanted the war fought “on the cheap” using a much smaller force than the pentagon or independent analysts thought was necessary.[iii]\\xa0With the allies now withdrawing from Iraq the world’s best hope is that the US and its allies will be sufficiently cowed by public opinion as to never try such folly again. That, perhaps, would be a benefit. [i]\\xa0Iraq Body Count [ii]\\xa0Daggett, Stephen, ‘Costs of Major U.S. Wars’,\\xa0Congressional Research Service, 29 June 2010 [iii]\\xa0Weinraub, Bernard, and Shanker, Thom, ‘A NATION AT WAR: UNDER FIRE; Rumsfeld’s Design for War Criticized on the Battlefield’,\\xa0The New York Times,\\xa01 April 2003 How do you feel now, please vote FOR AGAINST Bibliography\\xa0 BBC On This Day, ‘1981: Israel bombs Baghdad nuclear reactor’. BBC on this day, ‘1990: Iraq invades Kuwait’. BBC News, ‘Q&A: Iran nuclear issue’, 23 January 2012 Benmelech, Efraim et al., ‘Economic Conditions and the Quality of Suicide Terrorism’, Journal of Politics, Vol. 74, No. 1, January 2012, pp. 113-128 Blair, David, ‘Somalia: Analysis of a failed state’, The Telegraph, 18 November 2008 CBC Digital Archives, ‘Scud vs. Patriot missiles’, 19 January 1991 Daggett, Stephen, ‘Costs of Major U.S. Wars’, Congressional Research Service, 29 June 2010 Fukuyama, Francis. “Iraq May Be Stable, But The War Was Still A Mistake”. Wall Street Journal. 15 August 2008. Innocent. Malou, \\xa0“The Iraq War: Still a Massive Mistake.” Christian Science Monitor. 5 April 2010. Inside Politics, Interview with Donald Rumsfeld. NPR. 14 February 2011. Iraq Body Count Loney, Jim, ‘Iraq on the brink of ‘devastating civil war’: Former PM Allawi’, National Post, 28 December 2011 Miniter, Richard. “Was the Iraq War Worth It?”. Hudson New York. 2 September 2010. Nasr, Vali. “Regional Implications of Shi’a Revival in Iraq”. The Washington Quarterly • 27:3 pp. 7–24. The Centre for International and Strategic Studies and the Massachusetts Institute for Technology. Summer 2004. Pipes, Daniel, ‘A Border Adrift: Origins of the Iraq-Iran War’, The Iraq-Iran War: Old Conflict, New Weapons, 1983 Weinraub, Bernard, and Shanker, Thom, ‘A NATION AT WAR: UNDER FIRE; Rumsfeld’s Design for War Criticized on the Battlefield’, The New York Times, 1 April 2003 11187 reads Voting Results 50 50 There is no votes yet. You can be the first! Video Debate Related Debates This House would have a second Brexit referendum b... THBT intellectual migration (brain drain) is cause... This House believes that leaving the EU would incr... About Us The International Debate Education Association (IDEA) is a global network of organizations that value debate as a way to give young people a voice, with entities in the Netherlands, USA, UK, Macedonia, Kyrgyzstan and Tunisia. Twitter Facebook Youtube Offices contact IDEA Central Asia IDEA Middle East and North Africa IDEA Netherlands IDEA Southeast Europe IDEA United Kingdom Latest tweet Tweets by idebate Photos IDebate is a product of IDEA, the world's leading provider of debate resources, training and events to give young people a voice. Store | Privacy Policy | Terms & Conditions | Contact X Username or e-mail * Password * Create new account Request new password Or log in with... Login with Facebook Login with Twitter \", 'source_text_conclusion_start': 11648, 'source_text_conclusion_end': 11764, 'source_text_premise_start': 11772, 'source_text_premise_end': 12983, 'topic': 'the War in Iraq was Worth the Cost', 'acquisition': datetime.datetime(2019, 4, 19, 12, 40, 25, tzinfo=datetime.timezone.utc), 'date': None, 'author': None, 'author_image_url': None, 'author_organization': None, 'author_role': None, 'mode': <ArgsMeMode.discussion: 2>, 'sentences': [ArgsMeSentence(id='Sf9294c83-A53d031c4__PREMISE__1', text='The aftermath of the war has been to create an entire people with no reason to love the West and more than100,000 reasons to hate it as a result of an estimated 105-115000 dead.'), ArgsMeSentence(id='Sf9294c83-A53d031c4__PREMISE__2', text='[i] The country is teetering on the brink of civil war, with the leader of the sunni block having said Iraq is heading towards a “sectarian autocracy that carries with it the threat of devastating civil war”[ii] unemployment is rife and the reputation of the ‘liberators’ lies in tatters[iii].'), ArgsMeSentence(id='Sf9294c83-A53d031c4__PREMISE__3', text='It is not hard to see how this combination is likely to lead to chaos in Iraq and insecurity for the West.'), ArgsMeSentence(id='Sf9294c83-A53d031c4__PREMISE__4', text='Millions of young people with a perfectly justifiable grudge, little education, no job and a desire to do something to make things right.'), ArgsMeSentence(id='Sf9294c83-A53d031c4__PREMISE__5', text='[iv] It is difficult to imagine a situation more likely to produce violence, terrorism and instability.'), ArgsMeSentence(id='Sf9294c83-A53d031c4__PREMISE__6', text='[i] Iraq Body Count [ii] Loney, Jim, ‘Iraq on the brink of ‘devastating civil war’: Former PM Allawi’, National Post, 28 December 2011 [iii] Malou Innocent.'), ArgsMeSentence(id='Sf9294c83-A53d031c4__PREMISE__7', text='“The Iraq War: Still a Massive Mistake.” Christian Science Monitor.'), ArgsMeSentence(id='Sf9294c83-A53d031c4__PREMISE__8', text='5 April 2010.'), ArgsMeSentence(id='Sf9294c83-A53d031c4__PREMISE__9', text='[iv] Benmelech, Efraim et al., ‘Economic Conditions and the Quality of Suicide Terrorism’, Journal of Politics, Vol.'), ArgsMeSentence(id='Sf9294c83-A53d031c4__PREMISE__10', text='74, No.'), ArgsMeSentence(id='Sf9294c83-A53d031c4__PREMISE__11', text='1, January 2012, pp.'), ArgsMeSentence(id='Sf9294c83-A53d031c4__CONC__1', text='An entire generation has been turned against the West and fundamentalist clerics have gained enormously in influence')], 'docno': 'Sf9294c83-A53d031c4'}\n",
            "{'conclusion': 'the War in Iraq was Worth the Cost', 'premises': [ArgsMePremise(text='Even if the outcome is a stable democratic Iraq, the war was still a costly, illegal, ideologically-driven mistake', stance=<ArgsMeStance.CON: 2>, annotations=[])], 'premises_texts': 'Even if the outcome is a stable democratic Iraq, the war was still a costly, illegal, ideologically-driven mistake', 'aspects': [], 'aspects_names': '', 'source_id': 'Sf9294c83', 'source_title': 'This House Believes that the War in Iraq was Worth the Cost | idebate.org', 'source_url': 'https://idebate.org/debatabase/international-middle-east-politics-terrorism-warpeace/house-believes-war-iraq-was-worth', 'source_previous_argument_id': None, 'source_next_argument_id': None, 'source_domain': <ArgsMeSourceDomain.idebate: 4>, 'source_text': \"idebate.org Educational and informative news and resources on debate, advocacy and activism for youth. \\xa0 \\xa0 News Debatabase Events Community Media About Search form Search This House Believes that the War in Iraq was Worth the Cost The war in Iraq is likely to be remembered for decades, if not centuries, as the defining conflict of the early 21st century. The effect it had not only in the nation and country itself in radicalizing an entire generation as well as the toxic effect it had on those politicians most closely associated with it may well stand as a legacy to how not to fight a war. However, as the original reasons for going in fade into history – and they were never that clear in the first place – the issue of what has been accomplished becomes an interesting one. It would be foolish to assert that everything went according to plan, and proposition will have to demonstrate benefits from some unusual sources. However unlikely it may seem, such benefits do exist. The first and most obvious one is that Saddam Hussein, and his genocidal regime, is no longer in power. Instead there is, by the standards of the region, a democratic, relatively stable and relatively transparent nation state. It may not be Switzerland but the difference between the country the allies entered and the one they are leaving could not be clearer. Equally, although it will come as little consolation to the families of those who have died the knowledge gained about how wars in the 21st century need to be fought can be used to save lives in the future. Especially given the instability of the Middle East as a whole and the growing scarcity of oil, it seems unlikely that this is the last desert war the West will be fighting in the decades to come. Equally, the impact it had on the West is instructive. When Britain and France chose to intervene in Libya, Sarkosy and Cameron did so in the shadow of Baghdad and the difference in their approach could not have been more different from the gung-ho, militaristic approach taken by Blair and Bush. Instead they adopted very clear goals, were very clear on the need for indigenous allies, and refused to put boots on the ground. It seems that they acknowledged that their electorates would not stomach another war conducted along the lines of Iraq. It would stretch credulity to suggest that there is a direct link between the fall of Baghdad and the Arab Spring. However, that synchronicity of the two events may ultimately prove beneficial. The Middle East would have been a lonely place for a democratic state and now there are at least a handful to build upon. Although the cost in lives – lost and broken – is almost too ghastly to contemplate and the effects on the economies of all concerned has been devastating, there are some positives that have come out of the conflict. Benefits that would not be available with Saddam left in power. The balance of probability now seems to be that the future generations living in a free and democratic Iraq will give thanks to those who died to start the nation on its long road to freedom. \\xa0 POINTS FOR POINTS AGAINST Title\\xa0 Saddam Hussein is gone and Iraq is now functioning as one of very few democracies in the Middle East Point\\xa0 It's important to be clear that this debate is looking at the results of the Iraq war and, by any definition Iraq is in a much more stable and secure position than it was in 2003 when American, British and other international troops arrived in the country. Whatever one thinks of the initial justifications for the war there is no doubt that the country, the region and the world are better and safer places without Saddam Hussein[i]. It is easy to criticize the allies but it is worth bearing in mind that the alternative was leaving in power a man who had committed genocide was a vicious and brutal dictator under whose regime extra-judicial execution and detention, mass-murder and torture were commonplace[ii]. [i]\\xa0Richard Miniter. “Was the Iraq War Worth It?”. Hudson New York. 2 September 2010. [ii]\\xa0Interview with Donald Rumsfeld. Inside Politics. NPR. 14 February 2011. Counterpoint\\xa0 In the unlikely event that something resembling a democratic government survives in Iraq after the international troops leave then that would, of course, be welcome. However, some context is required to establish whether the price was worth paying. Over a trillion dollars, 4,000 American dead, tens of thousands of Iraqis, US reputation destroyed in the region to establish a puppet government whose only real chance of survival is a continued American presence in the country. The alternatives are all unpleasant – a theocratic regime allied to a nuclear Iran, a simple meltdown of the state or the emergence of a new strongman along the lines of Saddam's regime. Assuming the US can't sign up in perpetuity then one of these outcomes seems likely and those lives and resources will have been squandered for no reason whatsoever[i]. [i]\\xa0Francis Fukuyama. “Iraq May Be Stable, But The War Was Still A Mistake”. Wall Street Journal. 15 August 2008. Title\\xa0 Although there has been a huge cost in human life the alternatives may well have been worse Saddam had made quite clear his intention to hand over power to his sons Point\\xa0 Without intervention there is little doubt that Saddam or one of his still more murderous sons would be running Iraq. Even though there were no WMDs, it seems reasonable to assume that neither Saddam nor his sons would have ignored Iran’s attempts to secure fissile material and develop a bomb. Iraq had attempted to build a nuclear reactor in the 1970’s but it was destroyed by Israel in 1981[i]\\xa0and Iraq and Iran had fought a far for most of the 1980s for political dominance in the Gulf and the Shi’ite, Sunni religious divide.[ii]So we would now be watching an arms race in the Middle East between the two with Israel on a hair trigger. This wasn’t just about removing one tyrant; the regime had dynastic ambitions, and a failure to act would have created the equivalent of North Korea. However, this particular hermit kingdom would have been sitting on top of the second largest reserves of oil in the world. It would, therefore, have the capacity to create the sort of fear and chaos Kim Jong Il can only dream of. [i]\\xa0BBC On This Day, ‘1981: Israel bombs Baghdad nuclear reactor’. [ii]\\xa0Pipes, Daniel, ‘A Border Adrift: Origins of the Iraq-Iran War’,\\xa0The Iraq-Iran War: Old Conflict, New Weapons, 1983 Counterpoint\\xa0 There is little evidence that the Ba’ath Party would have tolerated a handover of power to Saddam’s sons. Even in North Korea, the issue of Kim Il Sung’s succession became fraught, and hotly contested amongst the North Korean political elite.. However, the issue of who should run Iraq was and should remain a matter for the Iraqi people. The current puppet regime has little power outside\\xa0Baghdad\\xa0and, frankly, not that much inside, this lack of central control is as damaging as too much would be as is shown by the failure of Somalia and resulting civil war and piratical attacks.[i] In many ways the war has encouraged the world’s rogue states to pursue nuclear weapons as, in an era of ‘pre-emptive defense, they are the only surety against invasion and overthrow[ii]. Iran is continuing to persue nuclear weapons even without the threat of Iraq on its borders, instead it is worried about Israel and the United States. One more threatening state would therefore have made little difference.[iii] If the aim of the war was to insure against future threats then leaving a nation bitter and resentful, where barely a family has not lost someone to the conflict, a radicalized younger generation, emboldened militant clerics and a weak central government seems a very strange way to go about doing it. The West will almost certainly have to return to Iraq within a generation, if not a decade. [i]\\xa0Blair, David, ‘Somalia: Analysis of a failed state’,\\xa0The Telegraph, 18 November 2008 [ii]\\xa0Francis Fukuyama. “Iraq May Be Stable, But The War Was Still A Mistake”. Wall Street Journal. 15 August 2008. [iii]\\xa0BBC News, ‘Q&A: Iran nuclear issue’, 23 January 2012 Title\\xa0 His removal provides stability and security not only for Iraq but for the Middle East as a region Point\\xa0 The Middle East is a tinder box at the best of times. Having an unpredictable megalomaniac sitting in the middle of it was dangerous, not only for Iraqis but for other peoples in the region. Hussain was a danger to the Middle East as he had proved many times, through his invasion of Iran[i]\\xa0which was followed only a couple of years later in 1990 by an invasion of Kuwait which sparked the Gulf War[ii]\\xa0and his use of scud missiles on Israel which was otherwise uninvolved in the conflict.[iii] It was better to remove this threat than risk being drawn into a multi-player conflict when he next attacked a neighbor. [i]\\xa0Pipes, Daniel, ‘A Border Adrift: Origins of the Iraq-Iran War’, The Iraq-Iran War: Old Conflict, New Weapons, 1983 [ii]\\xa0BBC on this day, ‘1990: Iraq invades Kuwait’. [iii]\\xa0CBC Digital Archives, ‘Scud vs. Patriot missiles’, 19 January 1991 Counterpoint\\xa0 By empowering the Shi’a majority, the outcome of the war has provided an obvious link to Iran, an equally obvious threat to Israel and has implication for nations “from Lebanon to Pakistan.[i]” The weakness of this government represents a far greater threat to security and regional stability than any dictator, however bloodthirsty. Iraq looks set to join the other lawless regions of Asia such as the Pashtun Valley as an obvious place for terrorists and Criminals to base themselves. [i]\\xa0Vali Nasr. “Regional Implications of Shi’a Revival in Iraq”. The Washington Quarterly • 27:3 pp. 7–24. The Centre for International and Strategic Studies and the Massachusetts Institute for Technology. Summer 2004. Title\\xa0 The war was illegal and the removal of Saddam should have been left to the Iraqis Yet another puppet regime is not what the Middle East needs Point\\xa0 Events from the Arab Spring have demonstrated, more graphically than anything else could have done, that Arab peoples are more than capable of dealing with their own dictators and do not need to be patronized by fading imperial powers. Imagine what the situation in Iraq would be now following a genuinely democratic uprising rather than the imposition of yet another puppet regime by the West. Since the creation of the state of Iraq as a modern state by the British in 1932, a succession of rulers, of various stripes of dictatorial ruthlessness, have been brought in to ensure that the oil wealth continues to flow to Washington, London and other foreign capitals. The allies were never interested in Iraqi freedom, this was yet another grab for oil and the results look set to be the same round of misery and tyranny for the people of Iraq. Counterpoint\\xa0 The sands of Iraq are as soaked in blood as they are in oil. For once the Iraqis have actually got something out of their mineral wealth, which has otherwise served as a curse for over a century. There has been a functioning civilization around the Tigis-Euphrates Valleys for at least ten thousand years it was only with the discovery of oil and the importation of the Industrial Age that this began to function as a curse. For once their oil wealth has worked to their advantage, leading to the removal of a dictator rather than the imposition of one. As the troops step back it seems likely that Iraq has the opportunity to become that rarest of things; a Middle Eastern, oil producing state that is democratic and stable. As a result they can negotiate with oil consuming nations on an even footing. Title\\xa0 An entire generation has been turned against the West and fundamentalist clerics have gained enormously in influence Point\\xa0 The aftermath of the war has been to create an entire people with no reason to love the West and more than100,000 reasons to hate it as a result of an estimated 105-115000 dead.[i]\\xa0The country is teetering on the brink of civil war, with the leader of the sunni block having said Iraq is heading towards a “sectarian autocracy that carries with it the threat of devastating civil war”[ii]\\xa0unemployment is rife and the reputation of the ‘liberators’ lies in tatters[iii]. It is not hard to see how this combination is likely to lead to chaos in Iraq and insecurity for the West. Millions of young people with a perfectly justifiable grudge, little education, no job and a desire to do something to make things\\xa0right.[iv] It is difficult to imagine a situation more likely to produce violence, terrorism and instability. [i]\\xa0Iraq Body Count [ii]\\xa0Loney, Jim, ‘Iraq on the brink of ‘devastating civil war’: Former PM Allawi’,\\xa0National Post, 28 December 2011 [iii]\\xa0Malou Innocent. “The Iraq War: Still a Massive Mistake.” Christian Science Monitor. 5 April 2010. [iv]\\xa0Benmelech, Efraim et al., ‘Economic Conditions and the Quality of Suicide Terrorism’,\\xa0Journal of Politics, Vol. 74, No. 1, January 2012, pp. 113-128 Counterpoint\\xa0 Iraq now has a professionally trained army and police force accountable to a democratically elected government and, through them, to the people. Unusually among Arab nations the security forces should now act as upholders of the law rather than the personal armies of local and national strong men used to settle grudges and silence dissent. The torture chambers are closed and the courts are functioning. There is, of course, work still to be done in terms of creating jobs but at least those jobs will go to people on the basis of ability rather than political loyalty. Iraq still faces problems but is better equipped to deal with them than it has been in a century and more. Title\\xa0 Even if the outcome is a stable democratic Iraq, the war was still a costly, illegal, ideologically-driven mistake Point\\xa0 The cost of the Iraq war has been astonishing both in the lives and treasure spent and the resentment and chaos stored up for the future. Even if the result had been Switzerland on Sinai, it would still not have been worth it. There have been more than 100,000 Iraqi\\xa0deaths[i]. \\xa0It has been the most expensive US war other than WWII in constant 2011 dollars, costing more than $400 billion more than Vietnam,[ii]and what is left is a failed state in the making. The war was poorly conceived, recklessly enacted and devastatingly badly\\xa0concluded. The secretary of defense Donald Rumsfeld wanted the war fought “on the cheap” using a much smaller force than the pentagon or independent analysts thought was necessary.[iii]\\xa0With the allies now withdrawing from Iraq the world’s best hope is that the US and its allies will be sufficiently cowed by public opinion as to never try such folly again. That, perhaps, would be a benefit. [i]\\xa0Iraq Body Count [ii]\\xa0Daggett, Stephen, ‘Costs of Major U.S. Wars’,\\xa0Congressional Research Service, 29 June 2010 [iii]\\xa0Weinraub, Bernard, and Shanker, Thom, ‘A NATION AT WAR: UNDER FIRE; Rumsfeld’s Design for War Criticized on the Battlefield’,\\xa0The New York Times,\\xa01 April 2003 How do you feel now, please vote FOR AGAINST Bibliography\\xa0 BBC On This Day, ‘1981: Israel bombs Baghdad nuclear reactor’. BBC on this day, ‘1990: Iraq invades Kuwait’. BBC News, ‘Q&A: Iran nuclear issue’, 23 January 2012 Benmelech, Efraim et al., ‘Economic Conditions and the Quality of Suicide Terrorism’, Journal of Politics, Vol. 74, No. 1, January 2012, pp. 113-128 Blair, David, ‘Somalia: Analysis of a failed state’, The Telegraph, 18 November 2008 CBC Digital Archives, ‘Scud vs. Patriot missiles’, 19 January 1991 Daggett, Stephen, ‘Costs of Major U.S. Wars’, Congressional Research Service, 29 June 2010 Fukuyama, Francis. “Iraq May Be Stable, But The War Was Still A Mistake”. Wall Street Journal. 15 August 2008. Innocent. Malou, \\xa0“The Iraq War: Still a Massive Mistake.” Christian Science Monitor. 5 April 2010. Inside Politics, Interview with Donald Rumsfeld. NPR. 14 February 2011. Iraq Body Count Loney, Jim, ‘Iraq on the brink of ‘devastating civil war’: Former PM Allawi’, National Post, 28 December 2011 Miniter, Richard. “Was the Iraq War Worth It?”. Hudson New York. 2 September 2010. Nasr, Vali. “Regional Implications of Shi’a Revival in Iraq”. The Washington Quarterly • 27:3 pp. 7–24. The Centre for International and Strategic Studies and the Massachusetts Institute for Technology. Summer 2004. Pipes, Daniel, ‘A Border Adrift: Origins of the Iraq-Iran War’, The Iraq-Iran War: Old Conflict, New Weapons, 1983 Weinraub, Bernard, and Shanker, Thom, ‘A NATION AT WAR: UNDER FIRE; Rumsfeld’s Design for War Criticized on the Battlefield’, The New York Times, 1 April 2003 11187 reads Voting Results 50 50 There is no votes yet. You can be the first! Video Debate Related Debates This House would have a second Brexit referendum b... THBT intellectual migration (brain drain) is cause... This House believes that leaving the EU would incr... About Us The International Debate Education Association (IDEA) is a global network of organizations that value debate as a way to give young people a voice, with entities in the Netherlands, USA, UK, Macedonia, Kyrgyzstan and Tunisia. Twitter Facebook Youtube Offices contact IDEA Central Asia IDEA Middle East and North Africa IDEA Netherlands IDEA Southeast Europe IDEA United Kingdom Latest tweet Tweets by idebate Photos IDebate is a product of IDEA, the world's leading provider of debate resources, training and events to give young people a voice. Store | Privacy Policy | Terms & Conditions | Contact X Username or e-mail * Password * Create new account Request new password Or log in with... Login with Facebook Login with Twitter \", 'source_text_conclusion_start': 196, 'source_text_conclusion_end': 230, 'source_text_premise_start': 13684, 'source_text_premise_end': 13798, 'topic': 'the War in Iraq was Worth the Cost', 'acquisition': datetime.datetime(2019, 4, 19, 12, 40, 25, tzinfo=datetime.timezone.utc), 'date': None, 'author': None, 'author_image_url': None, 'author_organization': None, 'author_role': None, 'mode': <ArgsMeMode.discussion: 2>, 'sentences': [ArgsMeSentence(id='Sf9294c83-Aa036c8f7__PREMISE__1', text='Even if the outcome is a stable democratic Iraq, the war was still a costly, illegal, ideologically-driven mistake'), ArgsMeSentence(id='Sf9294c83-Aa036c8f7__CONC__1', text='the War in Iraq was Worth the Cost')], 'docno': 'Sf9294c83-Aa036c8f7'}\n"
          ]
        },
        {
          "name": "stderr",
          "output_type": "stream",
          "text": [
            "\n"
          ]
        }
      ],
      "source": [
        "for i, doc in enumerate(dataset.get_corpus_iter()): #prova\n",
        "    print(doc)\n",
        "    if i == 4:\n",
        "        break"
      ]
    },
    {
      "cell_type": "code",
      "execution_count": 55,
      "metadata": {
        "colab": {
          "base_uri": "https://localhost:8080/"
        },
        "id": "mXnM5V2__eon",
        "outputId": "650bcc9e-8344-4cf3-8798-c1e50ae7eef5"
      },
      "outputs": [
        {
          "data": {
            "text/plain": [
              "dict_keys(['conclusion', 'premises', 'premises_texts', 'aspects', 'aspects_names', 'source_id', 'source_title', 'source_url', 'source_previous_argument_id', 'source_next_argument_id', 'source_domain', 'source_text', 'source_text_conclusion_start', 'source_text_conclusion_end', 'source_text_premise_start', 'source_text_premise_end', 'topic', 'acquisition', 'date', 'author', 'author_image_url', 'author_organization', 'author_role', 'mode', 'sentences', 'docno'])"
            ]
          },
          "execution_count": 55,
          "metadata": {},
          "output_type": "execute_result"
        }
      ],
      "source": [
        "doc.keys()"
      ]
    },
    {
      "cell_type": "code",
      "execution_count": 56,
      "metadata": {
        "colab": {
          "base_uri": "https://localhost:8080/",
          "height": 35
        },
        "id": "Bt2QyJzhOy6V",
        "outputId": "6e0d008e-7a55-446f-b2b1-16e88b53a0f3"
      },
      "outputs": [
        {
          "data": {
            "text/plain": [
              "'the War in Iraq was Worth the Cost'"
            ]
          },
          "execution_count": 56,
          "metadata": {},
          "output_type": "execute_result"
        }
      ],
      "source": [
        "doc['conclusion']"
      ]
    },
    {
      "cell_type": "code",
      "execution_count": 57,
      "metadata": {
        "colab": {
          "base_uri": "https://localhost:8080/",
          "height": 35
        },
        "id": "zEvlzEgf78uG",
        "outputId": "12625e73-45c7-49ff-fc85-29082265532c"
      },
      "outputs": [
        {
          "data": {
            "text/plain": [
              "'Sf9294c83-Aa036c8f7'"
            ]
          },
          "execution_count": 57,
          "metadata": {},
          "output_type": "execute_result"
        }
      ],
      "source": [
        "doc['docno']"
      ]
    },
    {
      "cell_type": "code",
      "execution_count": 58,
      "metadata": {
        "colab": {
          "base_uri": "https://localhost:8080/",
          "height": 35
        },
        "id": "EajNevklANUc",
        "outputId": "dbb8c213-3253-428b-9da2-1f854c068965"
      },
      "outputs": [
        {
          "data": {
            "text/plain": [
              "''"
            ]
          },
          "execution_count": 58,
          "metadata": {},
          "output_type": "execute_result"
        }
      ],
      "source": [
        "doc['aspects_names']"
      ]
    },
    {
      "cell_type": "code",
      "execution_count": 59,
      "metadata": {
        "colab": {
          "base_uri": "https://localhost:8080/",
          "height": 35
        },
        "id": "ERvOkg1AHZs_",
        "outputId": "2f5f1b97-da65-49cb-dba7-9dd2ad6bd7b9"
      },
      "outputs": [
        {
          "data": {
            "text/plain": [
              "'Sf9294c83'"
            ]
          },
          "execution_count": 59,
          "metadata": {},
          "output_type": "execute_result"
        }
      ],
      "source": [
        "doc['source_id']"
      ]
    },
    {
      "cell_type": "code",
      "execution_count": 60,
      "metadata": {
        "colab": {
          "base_uri": "https://localhost:8080/",
          "height": 35
        },
        "id": "JAkkPksHHa04",
        "outputId": "30c4fc69-01f3-4621-f78e-fc7425d5e10d"
      },
      "outputs": [
        {
          "data": {
            "text/plain": [
              "'This House Believes that the War in Iraq was Worth the Cost | idebate.org'"
            ]
          },
          "execution_count": 60,
          "metadata": {},
          "output_type": "execute_result"
        }
      ],
      "source": [
        "doc['source_title']"
      ]
    },
    {
      "cell_type": "code",
      "execution_count": 61,
      "metadata": {
        "colab": {
          "base_uri": "https://localhost:8080/",
          "height": 35
        },
        "id": "FTVg59w9IwaT",
        "outputId": "0b6f379a-cb4f-4484-b0cc-0bdb260d05c9"
      },
      "outputs": [
        {
          "data": {
            "text/plain": [
              "'Even if the outcome is a stable democratic Iraq, the war was still a costly, illegal, ideologically-driven mistake'"
            ]
          },
          "execution_count": 61,
          "metadata": {},
          "output_type": "execute_result"
        }
      ],
      "source": [
        "doc['premises_texts']"
      ]
    },
    {
      "cell_type": "code",
      "execution_count": 62,
      "metadata": {
        "colab": {
          "base_uri": "https://localhost:8080/"
        },
        "id": "n_WDJL0HIYzV",
        "outputId": "a6f39269-7f15-4119-cfb6-651e029fa7f2"
      },
      "outputs": [
        {
          "data": {
            "text/plain": [
              "[ArgsMePremise(text='Even if the outcome is a stable democratic Iraq, the war was still a costly, illegal, ideologically-driven mistake', stance=<ArgsMeStance.CON: 2>, annotations=[])]"
            ]
          },
          "execution_count": 62,
          "metadata": {},
          "output_type": "execute_result"
        }
      ],
      "source": [
        "doc['premises']"
      ]
    },
    {
      "cell_type": "code",
      "execution_count": 104,
      "metadata": {
        "colab": {
          "base_uri": "https://localhost:8080/"
        },
        "id": "TN41x9VLIbPC",
        "outputId": "b45aa6ec-8bf4-4dbf-b445-5d0c4780b692"
      },
      "outputs": [
        {
          "data": {
            "text/plain": [
              "[ArgsMeSentence(id='Sf9294c83-Aa036c8f7__PREMISE__1', text='Even if the outcome is a stable democratic Iraq, the war was still a costly, illegal, ideologically-driven mistake'),\n",
              " ArgsMeSentence(id='Sf9294c83-Aa036c8f7__CONC__1', text='the War in Iraq was Worth the Cost')]"
            ]
          },
          "execution_count": 104,
          "metadata": {},
          "output_type": "execute_result"
        }
      ],
      "source": [
        "doc['sentences'] #lista con due elementi "
      ]
    },
    {
      "cell_type": "code",
      "execution_count": 64,
      "metadata": {
        "id": "LF9IwrXP-_Uz"
      },
      "outputs": [],
      "source": [
        "string = str(doc['premises'])"
      ]
    },
    {
      "cell_type": "code",
      "execution_count": 65,
      "metadata": {},
      "outputs": [
        {
          "data": {
            "text/plain": [
              "\"[ArgsMePremise(text='Even if the outcome is a stable democratic Iraq, the war was still a costly, illegal, ideologically-driven mistake', stance=<ArgsMeStance.CON: 2>, annotations=[])]\""
            ]
          },
          "execution_count": 65,
          "metadata": {},
          "output_type": "execute_result"
        }
      ],
      "source": [
        "string"
      ]
    },
    {
      "cell_type": "code",
      "execution_count": 66,
      "metadata": {
        "colab": {
          "base_uri": "https://localhost:8080/"
        },
        "id": "UAS4tA8yCtu8",
        "outputId": "dd837a39-cb75-42cc-89e7-1ed9bf86c25a"
      },
      "outputs": [
        {
          "name": "stdout",
          "output_type": "stream",
          "text": [
            "CON\n"
          ]
        }
      ],
      "source": [
        "stance = re.search(r'(?<=stance=<ArgsMeStance\\.)\\w+(?=:)', string).group(0)\n",
        "\n",
        "print(stance)  # Output: CON\n"
      ]
    },
    {
      "cell_type": "markdown",
      "metadata": {},
      "source": [
        "Get text for the retrived documents"
      ]
    },
    {
      "cell_type": "code",
      "execution_count": null,
      "metadata": {
        "colab": {
          "base_uri": "https://localhost:8080/",
          "height": 1000,
          "referenced_widgets": [
            "c74e3dab40a74531b22744c898bc9b77",
            "adf1d6ff52d34e05aeba87d43a34e26c",
            "e4d0f3fac2574ee489d4874a94932ecc",
            "7e9b161dbdee41289754ede0a603b2e2",
            "9a583a78f4d9438d85ac1ac95d3ed34b",
            "11719fe342494a728bf06e3fd0fb26fe",
            "4974d932079f4721a76c7c9a67b8d4d6",
            "be3329135a364e68ab30313eaec9cfa3",
            "6c63f71267fe420893c433843c4a6a8d",
            "17c61811ee7e4658a940f8d036a7be6d",
            "293fe3ece50a45afb1a434437d4921ff"
          ]
        },
        "id": "QlUmf8DCPBt3",
        "outputId": "74f9bfd3-6d19-40a7-c5bc-fac6269ef470"
      },
      "outputs": [],
      "source": [
        "docs_collection  = pd.DataFrame(columns=['topic','docno','conclusion','premises_text','stance', 'sentences'])\n",
        "\n",
        "count =  0\n",
        "for doc in dataset.get_corpus_iter():\n",
        "    if doc['docno'] in ret_q['docno'].tolist(): #retrieve text of the retrieved documents \n",
        "        docs_collection = docs_collection.append({\n",
        "            'topic': doc['topic'],\n",
        "            'docno': doc['docno'],\n",
        "            'conclusion': doc['conclusion'],\n",
        "            'premises_text': doc['premises_texts'],\n",
        "            'stance' : re.search(r'(?<=stance=<ArgsMeStance\\.)\\w+(?=:)', str(doc['premises'])).group(0),\n",
        "            'sentences':doc['sentences']}, ignore_index=True)\n",
        "    #     count += 1\n",
        "    # if count == 200: #prova\n",
        "    #     break\n",
        "\n",
        "display(docs_collection.sample(20))\n",
        "print(len(docs_collection))\n"
      ]
    },
    {
      "cell_type": "code",
      "execution_count": null,
      "metadata": {
        "id": "R6v9ZcJdDqXb"
      },
      "outputs": [],
      "source": [
        "#save data frame to csv\n",
        "with open('/content/drive/MyDrive/Second year/TOUCHE/docs_collection22_s.csv', 'w', encoding = 'utf-8-sig') as f:\n",
        "  docs_collection.to_csv(f, index= False)\n"
      ]
    },
    {
      "cell_type": "code",
      "execution_count": null,
      "metadata": {
        "colab": {
          "base_uri": "https://localhost:8080/",
          "height": 204
        },
        "id": "x6R8lBYdJz0m",
        "outputId": "ccb0b815-9910-4965-e5f7-39400f6341cc"
      },
      "outputs": [
        {
          "data": {
            "text/html": [
              "\n",
              "  <div id=\"df-03ac0934-8ca2-4222-b6d2-c30d8db11068\">\n",
              "    <div class=\"colab-df-container\">\n",
              "      <div>\n",
              "<style scoped>\n",
              "    .dataframe tbody tr th:only-of-type {\n",
              "        vertical-align: middle;\n",
              "    }\n",
              "\n",
              "    .dataframe tbody tr th {\n",
              "        vertical-align: top;\n",
              "    }\n",
              "\n",
              "    .dataframe thead th {\n",
              "        text-align: right;\n",
              "    }\n",
              "</style>\n",
              "<table border=\"1\" class=\"dataframe\">\n",
              "  <thead>\n",
              "    <tr style=\"text-align: right;\">\n",
              "      <th></th>\n",
              "      <th>qid</th>\n",
              "      <th>docid</th>\n",
              "      <th>docno</th>\n",
              "      <th>rank</th>\n",
              "      <th>score</th>\n",
              "      <th>query</th>\n",
              "    </tr>\n",
              "  </thead>\n",
              "  <tbody>\n",
              "    <tr>\n",
              "      <th>0</th>\n",
              "      <td>1</td>\n",
              "      <td>140220</td>\n",
              "      <td>S51530f3f-Ae32a4a1b</td>\n",
              "      <td>0</td>\n",
              "      <td>33.086531</td>\n",
              "      <td>should teachers get tenure</td>\n",
              "    </tr>\n",
              "    <tr>\n",
              "      <th>1</th>\n",
              "      <td>1</td>\n",
              "      <td>100070</td>\n",
              "      <td>Sb0680508-Aa5189771</td>\n",
              "      <td>1</td>\n",
              "      <td>33.067429</td>\n",
              "      <td>should teachers get tenure</td>\n",
              "    </tr>\n",
              "    <tr>\n",
              "      <th>2</th>\n",
              "      <td>1</td>\n",
              "      <td>315753</td>\n",
              "      <td>Sc065954f-A24a16870</td>\n",
              "      <td>2</td>\n",
              "      <td>33.034253</td>\n",
              "      <td>should teachers get tenure</td>\n",
              "    </tr>\n",
              "    <tr>\n",
              "      <th>3</th>\n",
              "      <td>1</td>\n",
              "      <td>315755</td>\n",
              "      <td>Sc065954f-Ae72bc9c6</td>\n",
              "      <td>3</td>\n",
              "      <td>33.024700</td>\n",
              "      <td>should teachers get tenure</td>\n",
              "    </tr>\n",
              "    <tr>\n",
              "      <th>4</th>\n",
              "      <td>1</td>\n",
              "      <td>324218</td>\n",
              "      <td>Sff0947ec-A46d54897</td>\n",
              "      <td>4</td>\n",
              "      <td>32.913585</td>\n",
              "      <td>should teachers get tenure</td>\n",
              "    </tr>\n",
              "  </tbody>\n",
              "</table>\n",
              "</div>\n",
              "      <button class=\"colab-df-convert\" onclick=\"convertToInteractive('df-03ac0934-8ca2-4222-b6d2-c30d8db11068')\"\n",
              "              title=\"Convert this dataframe to an interactive table.\"\n",
              "              style=\"display:none;\">\n",
              "        \n",
              "  <svg xmlns=\"http://www.w3.org/2000/svg\" height=\"24px\"viewBox=\"0 0 24 24\"\n",
              "       width=\"24px\">\n",
              "    <path d=\"M0 0h24v24H0V0z\" fill=\"none\"/>\n",
              "    <path d=\"M18.56 5.44l.94 2.06.94-2.06 2.06-.94-2.06-.94-.94-2.06-.94 2.06-2.06.94zm-11 1L8.5 8.5l.94-2.06 2.06-.94-2.06-.94L8.5 2.5l-.94 2.06-2.06.94zm10 10l.94 2.06.94-2.06 2.06-.94-2.06-.94-.94-2.06-.94 2.06-2.06.94z\"/><path d=\"M17.41 7.96l-1.37-1.37c-.4-.4-.92-.59-1.43-.59-.52 0-1.04.2-1.43.59L10.3 9.45l-7.72 7.72c-.78.78-.78 2.05 0 2.83L4 21.41c.39.39.9.59 1.41.59.51 0 1.02-.2 1.41-.59l7.78-7.78 2.81-2.81c.8-.78.8-2.07 0-2.86zM5.41 20L4 18.59l7.72-7.72 1.47 1.35L5.41 20z\"/>\n",
              "  </svg>\n",
              "      </button>\n",
              "      \n",
              "  <style>\n",
              "    .colab-df-container {\n",
              "      display:flex;\n",
              "      flex-wrap:wrap;\n",
              "      gap: 12px;\n",
              "    }\n",
              "\n",
              "    .colab-df-convert {\n",
              "      background-color: #E8F0FE;\n",
              "      border: none;\n",
              "      border-radius: 50%;\n",
              "      cursor: pointer;\n",
              "      display: none;\n",
              "      fill: #1967D2;\n",
              "      height: 32px;\n",
              "      padding: 0 0 0 0;\n",
              "      width: 32px;\n",
              "    }\n",
              "\n",
              "    .colab-df-convert:hover {\n",
              "      background-color: #E2EBFA;\n",
              "      box-shadow: 0px 1px 2px rgba(60, 64, 67, 0.3), 0px 1px 3px 1px rgba(60, 64, 67, 0.15);\n",
              "      fill: #174EA6;\n",
              "    }\n",
              "\n",
              "    [theme=dark] .colab-df-convert {\n",
              "      background-color: #3B4455;\n",
              "      fill: #D2E3FC;\n",
              "    }\n",
              "\n",
              "    [theme=dark] .colab-df-convert:hover {\n",
              "      background-color: #434B5C;\n",
              "      box-shadow: 0px 1px 3px 1px rgba(0, 0, 0, 0.15);\n",
              "      filter: drop-shadow(0px 1px 2px rgba(0, 0, 0, 0.3));\n",
              "      fill: #FFFFFF;\n",
              "    }\n",
              "  </style>\n",
              "\n",
              "      <script>\n",
              "        const buttonEl =\n",
              "          document.querySelector('#df-03ac0934-8ca2-4222-b6d2-c30d8db11068 button.colab-df-convert');\n",
              "        buttonEl.style.display =\n",
              "          google.colab.kernel.accessAllowed ? 'block' : 'none';\n",
              "\n",
              "        async function convertToInteractive(key) {\n",
              "          const element = document.querySelector('#df-03ac0934-8ca2-4222-b6d2-c30d8db11068');\n",
              "          const dataTable =\n",
              "            await google.colab.kernel.invokeFunction('convertToInteractive',\n",
              "                                                     [key], {});\n",
              "          if (!dataTable) return;\n",
              "\n",
              "          const docLinkHtml = 'Like what you see? Visit the ' +\n",
              "            '<a target=\"_blank\" href=https://colab.research.google.com/notebooks/data_table.ipynb>data table notebook</a>'\n",
              "            + ' to learn more about interactive tables.';\n",
              "          element.innerHTML = '';\n",
              "          dataTable['output_type'] = 'display_data';\n",
              "          await google.colab.output.renderOutput(dataTable, element);\n",
              "          const docLink = document.createElement('div');\n",
              "          docLink.innerHTML = docLinkHtml;\n",
              "          element.appendChild(docLink);\n",
              "        }\n",
              "      </script>\n",
              "    </div>\n",
              "  </div>\n",
              "  "
            ],
            "text/plain": [
              "  qid   docid                docno  rank      score  \\\n",
              "0   1  140220  S51530f3f-Ae32a4a1b     0  33.086531   \n",
              "1   1  100070  Sb0680508-Aa5189771     1  33.067429   \n",
              "2   1  315753  Sc065954f-A24a16870     2  33.034253   \n",
              "3   1  315755  Sc065954f-Ae72bc9c6     3  33.024700   \n",
              "4   1  324218  Sff0947ec-A46d54897     4  32.913585   \n",
              "\n",
              "                        query  \n",
              "0  should teachers get tenure  \n",
              "1  should teachers get tenure  \n",
              "2  should teachers get tenure  \n",
              "3  should teachers get tenure  \n",
              "4  should teachers get tenure  "
            ]
          },
          "execution_count": 49,
          "metadata": {},
          "output_type": "execute_result"
        }
      ],
      "source": [
        "ret_q.head()"
      ]
    },
    {
      "cell_type": "code",
      "execution_count": null,
      "metadata": {
        "id": "iwyA3KJqNFZO"
      },
      "outputs": [],
      "source": [
        "merged_df = pd.merge(ret_q, prova, left_on='docno', right_on='docno', how='left')\n",
        "\n"
      ]
    },
    {
      "cell_type": "code",
      "execution_count": null,
      "metadata": {
        "id": "st8HlHRMP_e9"
      },
      "outputs": [],
      "source": [
        "pd.reset_option('display.max_colwidth', None)"
      ]
    },
    {
      "cell_type": "code",
      "execution_count": null,
      "metadata": {
        "colab": {
          "base_uri": "https://localhost:8080/",
          "height": 418
        },
        "id": "kH5zNiPXO4L8",
        "outputId": "a50f2391-e7f9-49b7-97ee-e7060f75ffa3"
      },
      "outputs": [
        {
          "data": {
            "text/html": [
              "\n",
              "  <div id=\"df-9eaaa11c-5edf-4f44-9734-4c776daca0a9\">\n",
              "    <div class=\"colab-df-container\">\n",
              "      <div>\n",
              "<style scoped>\n",
              "    .dataframe tbody tr th:only-of-type {\n",
              "        vertical-align: middle;\n",
              "    }\n",
              "\n",
              "    .dataframe tbody tr th {\n",
              "        vertical-align: top;\n",
              "    }\n",
              "\n",
              "    .dataframe thead th {\n",
              "        text-align: right;\n",
              "    }\n",
              "</style>\n",
              "<table border=\"1\" class=\"dataframe\">\n",
              "  <thead>\n",
              "    <tr style=\"text-align: right;\">\n",
              "      <th></th>\n",
              "      <th>qid</th>\n",
              "      <th>docid</th>\n",
              "      <th>docno</th>\n",
              "      <th>rank</th>\n",
              "      <th>score</th>\n",
              "      <th>query</th>\n",
              "      <th>topic</th>\n",
              "      <th>conclusion</th>\n",
              "      <th>premises_text</th>\n",
              "      <th>stance</th>\n",
              "      <th>sentences</th>\n",
              "    </tr>\n",
              "  </thead>\n",
              "  <tbody>\n",
              "    <tr>\n",
              "      <th>0</th>\n",
              "      <td>1</td>\n",
              "      <td>140220</td>\n",
              "      <td>S51530f3f-Ae32a4a1b</td>\n",
              "      <td>0</td>\n",
              "      <td>33.086531</td>\n",
              "      <td>should teachers get tenure</td>\n",
              "      <td>Should Tenures Be Taken Away</td>\n",
              "      <td>Should Tenures Be Taken Away</td>\n",
              "      <td>Prevent Arbitrary Firings:If teachers did not ...</td>\n",
              "      <td>CON</td>\n",
              "      <td>[ArgsMeSentence(id='S51530f3f-Ae32a4a1b__PREMI...</td>\n",
              "    </tr>\n",
              "    <tr>\n",
              "      <th>1</th>\n",
              "      <td>1</td>\n",
              "      <td>100070</td>\n",
              "      <td>Sb0680508-Aa5189771</td>\n",
              "      <td>1</td>\n",
              "      <td>33.067429</td>\n",
              "      <td>should teachers get tenure</td>\n",
              "      <td>Teacher Tenure</td>\n",
              "      <td>Teacher Tenure</td>\n",
              "      <td>Here are some facts against Teacher Tenure: Te...</td>\n",
              "      <td>CON</td>\n",
              "      <td>[ArgsMeSentence(id='Sb0680508-Aa5189771__PREMI...</td>\n",
              "    </tr>\n",
              "    <tr>\n",
              "      <th>2</th>\n",
              "      <td>1</td>\n",
              "      <td>315753</td>\n",
              "      <td>Sc065954f-A24a16870</td>\n",
              "      <td>2</td>\n",
              "      <td>33.034253</td>\n",
              "      <td>should teachers get tenure</td>\n",
              "      <td>There should not be a teacher tenure.</td>\n",
              "      <td>There should not be a teacher tenure.</td>\n",
              "      <td>I will include my first round arguments down b...</td>\n",
              "      <td>PRO</td>\n",
              "      <td>[ArgsMeSentence(id='Sc065954f-A24a16870__PREMI...</td>\n",
              "    </tr>\n",
              "    <tr>\n",
              "      <th>3</th>\n",
              "      <td>1</td>\n",
              "      <td>315755</td>\n",
              "      <td>Sc065954f-Ae72bc9c6</td>\n",
              "      <td>3</td>\n",
              "      <td>33.024700</td>\n",
              "      <td>should teachers get tenure</td>\n",
              "      <td>There should not be a teacher tenure.</td>\n",
              "      <td>There should not be a teacher tenure.</td>\n",
              "      <td>Thank you for accepting my debate (This round ...</td>\n",
              "      <td>PRO</td>\n",
              "      <td>[ArgsMeSentence(id='Sc065954f-Ae72bc9c6__PREMI...</td>\n",
              "    </tr>\n",
              "    <tr>\n",
              "      <th>4</th>\n",
              "      <td>1</td>\n",
              "      <td>324218</td>\n",
              "      <td>Sff0947ec-A46d54897</td>\n",
              "      <td>4</td>\n",
              "      <td>32.913585</td>\n",
              "      <td>should teachers get tenure</td>\n",
              "      <td>Colleges should abolish the ability for teache...</td>\n",
              "      <td>Colleges should abolish the ability for teache...</td>\n",
              "      <td>I thank Pro for challenging me to this debate....</td>\n",
              "      <td>CON</td>\n",
              "      <td>[ArgsMeSentence(id='Sff0947ec-A46d54897__PREMI...</td>\n",
              "    </tr>\n",
              "  </tbody>\n",
              "</table>\n",
              "</div>\n",
              "      <button class=\"colab-df-convert\" onclick=\"convertToInteractive('df-9eaaa11c-5edf-4f44-9734-4c776daca0a9')\"\n",
              "              title=\"Convert this dataframe to an interactive table.\"\n",
              "              style=\"display:none;\">\n",
              "        \n",
              "  <svg xmlns=\"http://www.w3.org/2000/svg\" height=\"24px\"viewBox=\"0 0 24 24\"\n",
              "       width=\"24px\">\n",
              "    <path d=\"M0 0h24v24H0V0z\" fill=\"none\"/>\n",
              "    <path d=\"M18.56 5.44l.94 2.06.94-2.06 2.06-.94-2.06-.94-.94-2.06-.94 2.06-2.06.94zm-11 1L8.5 8.5l.94-2.06 2.06-.94-2.06-.94L8.5 2.5l-.94 2.06-2.06.94zm10 10l.94 2.06.94-2.06 2.06-.94-2.06-.94-.94-2.06-.94 2.06-2.06.94z\"/><path d=\"M17.41 7.96l-1.37-1.37c-.4-.4-.92-.59-1.43-.59-.52 0-1.04.2-1.43.59L10.3 9.45l-7.72 7.72c-.78.78-.78 2.05 0 2.83L4 21.41c.39.39.9.59 1.41.59.51 0 1.02-.2 1.41-.59l7.78-7.78 2.81-2.81c.8-.78.8-2.07 0-2.86zM5.41 20L4 18.59l7.72-7.72 1.47 1.35L5.41 20z\"/>\n",
              "  </svg>\n",
              "      </button>\n",
              "      \n",
              "  <style>\n",
              "    .colab-df-container {\n",
              "      display:flex;\n",
              "      flex-wrap:wrap;\n",
              "      gap: 12px;\n",
              "    }\n",
              "\n",
              "    .colab-df-convert {\n",
              "      background-color: #E8F0FE;\n",
              "      border: none;\n",
              "      border-radius: 50%;\n",
              "      cursor: pointer;\n",
              "      display: none;\n",
              "      fill: #1967D2;\n",
              "      height: 32px;\n",
              "      padding: 0 0 0 0;\n",
              "      width: 32px;\n",
              "    }\n",
              "\n",
              "    .colab-df-convert:hover {\n",
              "      background-color: #E2EBFA;\n",
              "      box-shadow: 0px 1px 2px rgba(60, 64, 67, 0.3), 0px 1px 3px 1px rgba(60, 64, 67, 0.15);\n",
              "      fill: #174EA6;\n",
              "    }\n",
              "\n",
              "    [theme=dark] .colab-df-convert {\n",
              "      background-color: #3B4455;\n",
              "      fill: #D2E3FC;\n",
              "    }\n",
              "\n",
              "    [theme=dark] .colab-df-convert:hover {\n",
              "      background-color: #434B5C;\n",
              "      box-shadow: 0px 1px 3px 1px rgba(0, 0, 0, 0.15);\n",
              "      filter: drop-shadow(0px 1px 2px rgba(0, 0, 0, 0.3));\n",
              "      fill: #FFFFFF;\n",
              "    }\n",
              "  </style>\n",
              "\n",
              "      <script>\n",
              "        const buttonEl =\n",
              "          document.querySelector('#df-9eaaa11c-5edf-4f44-9734-4c776daca0a9 button.colab-df-convert');\n",
              "        buttonEl.style.display =\n",
              "          google.colab.kernel.accessAllowed ? 'block' : 'none';\n",
              "\n",
              "        async function convertToInteractive(key) {\n",
              "          const element = document.querySelector('#df-9eaaa11c-5edf-4f44-9734-4c776daca0a9');\n",
              "          const dataTable =\n",
              "            await google.colab.kernel.invokeFunction('convertToInteractive',\n",
              "                                                     [key], {});\n",
              "          if (!dataTable) return;\n",
              "\n",
              "          const docLinkHtml = 'Like what you see? Visit the ' +\n",
              "            '<a target=\"_blank\" href=https://colab.research.google.com/notebooks/data_table.ipynb>data table notebook</a>'\n",
              "            + ' to learn more about interactive tables.';\n",
              "          element.innerHTML = '';\n",
              "          dataTable['output_type'] = 'display_data';\n",
              "          await google.colab.output.renderOutput(dataTable, element);\n",
              "          const docLink = document.createElement('div');\n",
              "          docLink.innerHTML = docLinkHtml;\n",
              "          element.appendChild(docLink);\n",
              "        }\n",
              "      </script>\n",
              "    </div>\n",
              "  </div>\n",
              "  "
            ],
            "text/plain": [
              "  qid   docid                docno  rank      score  \\\n",
              "0   1  140220  S51530f3f-Ae32a4a1b     0  33.086531   \n",
              "1   1  100070  Sb0680508-Aa5189771     1  33.067429   \n",
              "2   1  315753  Sc065954f-A24a16870     2  33.034253   \n",
              "3   1  315755  Sc065954f-Ae72bc9c6     3  33.024700   \n",
              "4   1  324218  Sff0947ec-A46d54897     4  32.913585   \n",
              "\n",
              "                        query  \\\n",
              "0  should teachers get tenure   \n",
              "1  should teachers get tenure   \n",
              "2  should teachers get tenure   \n",
              "3  should teachers get tenure   \n",
              "4  should teachers get tenure   \n",
              "\n",
              "                                               topic  \\\n",
              "0                       Should Tenures Be Taken Away   \n",
              "1                                     Teacher Tenure   \n",
              "2              There should not be a teacher tenure.   \n",
              "3              There should not be a teacher tenure.   \n",
              "4  Colleges should abolish the ability for teache...   \n",
              "\n",
              "                                          conclusion  \\\n",
              "0                       Should Tenures Be Taken Away   \n",
              "1                                     Teacher Tenure   \n",
              "2              There should not be a teacher tenure.   \n",
              "3              There should not be a teacher tenure.   \n",
              "4  Colleges should abolish the ability for teache...   \n",
              "\n",
              "                                       premises_text stance  \\\n",
              "0  Prevent Arbitrary Firings:If teachers did not ...    CON   \n",
              "1  Here are some facts against Teacher Tenure: Te...    CON   \n",
              "2  I will include my first round arguments down b...    PRO   \n",
              "3  Thank you for accepting my debate (This round ...    PRO   \n",
              "4  I thank Pro for challenging me to this debate....    CON   \n",
              "\n",
              "                                           sentences  \n",
              "0  [ArgsMeSentence(id='S51530f3f-Ae32a4a1b__PREMI...  \n",
              "1  [ArgsMeSentence(id='Sb0680508-Aa5189771__PREMI...  \n",
              "2  [ArgsMeSentence(id='Sc065954f-A24a16870__PREMI...  \n",
              "3  [ArgsMeSentence(id='Sc065954f-Ae72bc9c6__PREMI...  \n",
              "4  [ArgsMeSentence(id='Sff0947ec-A46d54897__PREMI...  "
            ]
          },
          "execution_count": 52,
          "metadata": {},
          "output_type": "execute_result"
        }
      ],
      "source": [
        "merged_df.head()"
      ]
    },
    {
      "cell_type": "code",
      "execution_count": null,
      "metadata": {
        "colab": {
          "base_uri": "https://localhost:8080/"
        },
        "id": "7gVLvGh_QHGd",
        "outputId": "4a610858-2b8b-43ea-f59c-c42c11b9c51c"
      },
      "outputs": [
        {
          "data": {
            "text/plain": [
              "44318"
            ]
          },
          "execution_count": 53,
          "metadata": {},
          "output_type": "execute_result"
        }
      ],
      "source": [
        "merged_df['docno'].nunique()  "
      ]
    },
    {
      "cell_type": "code",
      "execution_count": null,
      "metadata": {
        "colab": {
          "base_uri": "https://localhost:8080/"
        },
        "id": "NunsnhiaS9mP",
        "outputId": "d934f0f3-d6a7-45cc-bc79-e4f24321e610"
      },
      "outputs": [
        {
          "data": {
            "text/plain": [
              "(50196, 11)"
            ]
          },
          "execution_count": 54,
          "metadata": {},
          "output_type": "execute_result"
        }
      ],
      "source": [
        "merged_df.shape"
      ]
    },
    {
      "cell_type": "code",
      "execution_count": null,
      "metadata": {
        "colab": {
          "base_uri": "https://localhost:8080/",
          "height": 35
        },
        "id": "Xxiy1yLoTo8r",
        "outputId": "0fac4b2e-4bd3-4b82-fd59-9eada32d9838"
      },
      "outputs": [
        {
          "data": {
            "application/vnd.google.colaboratory.intrinsic+json": {
              "type": "string"
            },
            "text/plain": [
              "'Sb0680508-Aa5189771'"
            ]
          },
          "execution_count": 24,
          "metadata": {},
          "output_type": "execute_result"
        }
      ],
      "source": [
        "ret_q.loc[1,'docno']"
      ]
    },
    {
      "cell_type": "code",
      "execution_count": null,
      "metadata": {
        "colab": {
          "base_uri": "https://localhost:8080/",
          "height": 35
        },
        "id": "7kMjWwRjTWZR",
        "outputId": "a38cdcfa-f2f3-491f-d926-40072df9ec46"
      },
      "outputs": [
        {
          "data": {
            "application/vnd.google.colaboratory.intrinsic+json": {
              "type": "string"
            },
            "text/plain": [
              "'Sb0680508-Aa5189771'"
            ]
          },
          "execution_count": 112,
          "metadata": {},
          "output_type": "execute_result"
        }
      ],
      "source": [
        "ret_q.iloc[1,2]"
      ]
    },
    {
      "cell_type": "code",
      "execution_count": null,
      "metadata": {
        "colab": {
          "base_uri": "https://localhost:8080/",
          "height": 1000
        },
        "id": "nf5vpVp9Qp_z",
        "outputId": "96f3d8e5-87cb-4b4e-ebee-85104366e370"
      },
      "outputs": [
        {
          "data": {
            "text/html": [
              "\n",
              "  <div id=\"df-d9011b56-1425-4c9e-8f82-49a86460ee0c\">\n",
              "    <div class=\"colab-df-container\">\n",
              "      <div>\n",
              "<style scoped>\n",
              "    .dataframe tbody tr th:only-of-type {\n",
              "        vertical-align: middle;\n",
              "    }\n",
              "\n",
              "    .dataframe tbody tr th {\n",
              "        vertical-align: top;\n",
              "    }\n",
              "\n",
              "    .dataframe thead th {\n",
              "        text-align: right;\n",
              "    }\n",
              "</style>\n",
              "<table border=\"1\" class=\"dataframe\">\n",
              "  <thead>\n",
              "    <tr style=\"text-align: right;\">\n",
              "      <th></th>\n",
              "      <th>docid</th>\n",
              "      <th>docno</th>\n",
              "      <th>rank</th>\n",
              "      <th>score</th>\n",
              "      <th>query</th>\n",
              "      <th>topic</th>\n",
              "      <th>conclusion</th>\n",
              "      <th>premises_text</th>\n",
              "      <th>stance</th>\n",
              "      <th>sentences</th>\n",
              "    </tr>\n",
              "    <tr>\n",
              "      <th>qid</th>\n",
              "      <th></th>\n",
              "      <th></th>\n",
              "      <th></th>\n",
              "      <th></th>\n",
              "      <th></th>\n",
              "      <th></th>\n",
              "      <th></th>\n",
              "      <th></th>\n",
              "      <th></th>\n",
              "      <th></th>\n",
              "    </tr>\n",
              "  </thead>\n",
              "  <tbody>\n",
              "    <tr>\n",
              "      <th>1</th>\n",
              "      <td>1020</td>\n",
              "      <td>1020</td>\n",
              "      <td>1020</td>\n",
              "      <td>1020</td>\n",
              "      <td>1020</td>\n",
              "      <td>1020</td>\n",
              "      <td>1020</td>\n",
              "      <td>1020</td>\n",
              "      <td>1020</td>\n",
              "      <td>1020</td>\n",
              "    </tr>\n",
              "    <tr>\n",
              "      <th>10</th>\n",
              "      <td>1002</td>\n",
              "      <td>1002</td>\n",
              "      <td>1002</td>\n",
              "      <td>1002</td>\n",
              "      <td>1002</td>\n",
              "      <td>1002</td>\n",
              "      <td>1002</td>\n",
              "      <td>1002</td>\n",
              "      <td>1002</td>\n",
              "      <td>1002</td>\n",
              "    </tr>\n",
              "    <tr>\n",
              "      <th>11</th>\n",
              "      <td>1002</td>\n",
              "      <td>1002</td>\n",
              "      <td>1002</td>\n",
              "      <td>1002</td>\n",
              "      <td>1002</td>\n",
              "      <td>1002</td>\n",
              "      <td>1002</td>\n",
              "      <td>1002</td>\n",
              "      <td>1002</td>\n",
              "      <td>1002</td>\n",
              "    </tr>\n",
              "    <tr>\n",
              "      <th>12</th>\n",
              "      <td>1000</td>\n",
              "      <td>1000</td>\n",
              "      <td>1000</td>\n",
              "      <td>1000</td>\n",
              "      <td>1000</td>\n",
              "      <td>1000</td>\n",
              "      <td>1000</td>\n",
              "      <td>1000</td>\n",
              "      <td>1000</td>\n",
              "      <td>1000</td>\n",
              "    </tr>\n",
              "    <tr>\n",
              "      <th>13</th>\n",
              "      <td>1000</td>\n",
              "      <td>1000</td>\n",
              "      <td>1000</td>\n",
              "      <td>1000</td>\n",
              "      <td>1000</td>\n",
              "      <td>1000</td>\n",
              "      <td>1000</td>\n",
              "      <td>1000</td>\n",
              "      <td>1000</td>\n",
              "      <td>1000</td>\n",
              "    </tr>\n",
              "    <tr>\n",
              "      <th>14</th>\n",
              "      <td>1002</td>\n",
              "      <td>1002</td>\n",
              "      <td>1002</td>\n",
              "      <td>1002</td>\n",
              "      <td>1002</td>\n",
              "      <td>1002</td>\n",
              "      <td>1002</td>\n",
              "      <td>1002</td>\n",
              "      <td>1002</td>\n",
              "      <td>1002</td>\n",
              "    </tr>\n",
              "    <tr>\n",
              "      <th>15</th>\n",
              "      <td>1000</td>\n",
              "      <td>1000</td>\n",
              "      <td>1000</td>\n",
              "      <td>1000</td>\n",
              "      <td>1000</td>\n",
              "      <td>1000</td>\n",
              "      <td>1000</td>\n",
              "      <td>1000</td>\n",
              "      <td>1000</td>\n",
              "      <td>1000</td>\n",
              "    </tr>\n",
              "    <tr>\n",
              "      <th>16</th>\n",
              "      <td>1000</td>\n",
              "      <td>1000</td>\n",
              "      <td>1000</td>\n",
              "      <td>1000</td>\n",
              "      <td>1000</td>\n",
              "      <td>1000</td>\n",
              "      <td>1000</td>\n",
              "      <td>1000</td>\n",
              "      <td>1000</td>\n",
              "      <td>1000</td>\n",
              "    </tr>\n",
              "    <tr>\n",
              "      <th>17</th>\n",
              "      <td>1006</td>\n",
              "      <td>1006</td>\n",
              "      <td>1006</td>\n",
              "      <td>1006</td>\n",
              "      <td>1006</td>\n",
              "      <td>1006</td>\n",
              "      <td>1006</td>\n",
              "      <td>1006</td>\n",
              "      <td>1006</td>\n",
              "      <td>1006</td>\n",
              "    </tr>\n",
              "    <tr>\n",
              "      <th>18</th>\n",
              "      <td>1002</td>\n",
              "      <td>1002</td>\n",
              "      <td>1002</td>\n",
              "      <td>1002</td>\n",
              "      <td>1002</td>\n",
              "      <td>1002</td>\n",
              "      <td>1002</td>\n",
              "      <td>1002</td>\n",
              "      <td>1002</td>\n",
              "      <td>1002</td>\n",
              "    </tr>\n",
              "    <tr>\n",
              "      <th>19</th>\n",
              "      <td>1006</td>\n",
              "      <td>1006</td>\n",
              "      <td>1006</td>\n",
              "      <td>1006</td>\n",
              "      <td>1006</td>\n",
              "      <td>1006</td>\n",
              "      <td>1006</td>\n",
              "      <td>1006</td>\n",
              "      <td>1006</td>\n",
              "      <td>1006</td>\n",
              "    </tr>\n",
              "    <tr>\n",
              "      <th>2</th>\n",
              "      <td>1000</td>\n",
              "      <td>1000</td>\n",
              "      <td>1000</td>\n",
              "      <td>1000</td>\n",
              "      <td>1000</td>\n",
              "      <td>1000</td>\n",
              "      <td>1000</td>\n",
              "      <td>1000</td>\n",
              "      <td>1000</td>\n",
              "      <td>1000</td>\n",
              "    </tr>\n",
              "    <tr>\n",
              "      <th>20</th>\n",
              "      <td>1000</td>\n",
              "      <td>1000</td>\n",
              "      <td>1000</td>\n",
              "      <td>1000</td>\n",
              "      <td>1000</td>\n",
              "      <td>1000</td>\n",
              "      <td>1000</td>\n",
              "      <td>1000</td>\n",
              "      <td>1000</td>\n",
              "      <td>1000</td>\n",
              "    </tr>\n",
              "    <tr>\n",
              "      <th>21</th>\n",
              "      <td>1000</td>\n",
              "      <td>1000</td>\n",
              "      <td>1000</td>\n",
              "      <td>1000</td>\n",
              "      <td>1000</td>\n",
              "      <td>1000</td>\n",
              "      <td>1000</td>\n",
              "      <td>1000</td>\n",
              "      <td>1000</td>\n",
              "      <td>1000</td>\n",
              "    </tr>\n",
              "    <tr>\n",
              "      <th>22</th>\n",
              "      <td>1004</td>\n",
              "      <td>1004</td>\n",
              "      <td>1004</td>\n",
              "      <td>1004</td>\n",
              "      <td>1004</td>\n",
              "      <td>1004</td>\n",
              "      <td>1004</td>\n",
              "      <td>1004</td>\n",
              "      <td>1004</td>\n",
              "      <td>1004</td>\n",
              "    </tr>\n",
              "    <tr>\n",
              "      <th>23</th>\n",
              "      <td>1010</td>\n",
              "      <td>1010</td>\n",
              "      <td>1010</td>\n",
              "      <td>1010</td>\n",
              "      <td>1010</td>\n",
              "      <td>1010</td>\n",
              "      <td>1010</td>\n",
              "      <td>1010</td>\n",
              "      <td>1010</td>\n",
              "      <td>1010</td>\n",
              "    </tr>\n",
              "    <tr>\n",
              "      <th>24</th>\n",
              "      <td>1000</td>\n",
              "      <td>1000</td>\n",
              "      <td>1000</td>\n",
              "      <td>1000</td>\n",
              "      <td>1000</td>\n",
              "      <td>1000</td>\n",
              "      <td>1000</td>\n",
              "      <td>1000</td>\n",
              "      <td>1000</td>\n",
              "      <td>1000</td>\n",
              "    </tr>\n",
              "    <tr>\n",
              "      <th>25</th>\n",
              "      <td>1006</td>\n",
              "      <td>1006</td>\n",
              "      <td>1006</td>\n",
              "      <td>1006</td>\n",
              "      <td>1006</td>\n",
              "      <td>1006</td>\n",
              "      <td>1006</td>\n",
              "      <td>1006</td>\n",
              "      <td>1006</td>\n",
              "      <td>1006</td>\n",
              "    </tr>\n",
              "    <tr>\n",
              "      <th>26</th>\n",
              "      <td>1000</td>\n",
              "      <td>1000</td>\n",
              "      <td>1000</td>\n",
              "      <td>1000</td>\n",
              "      <td>1000</td>\n",
              "      <td>1000</td>\n",
              "      <td>1000</td>\n",
              "      <td>1000</td>\n",
              "      <td>1000</td>\n",
              "      <td>1000</td>\n",
              "    </tr>\n",
              "    <tr>\n",
              "      <th>27</th>\n",
              "      <td>1004</td>\n",
              "      <td>1004</td>\n",
              "      <td>1004</td>\n",
              "      <td>1004</td>\n",
              "      <td>1004</td>\n",
              "      <td>1004</td>\n",
              "      <td>1004</td>\n",
              "      <td>1004</td>\n",
              "      <td>1004</td>\n",
              "      <td>1004</td>\n",
              "    </tr>\n",
              "    <tr>\n",
              "      <th>28</th>\n",
              "      <td>1004</td>\n",
              "      <td>1004</td>\n",
              "      <td>1004</td>\n",
              "      <td>1004</td>\n",
              "      <td>1004</td>\n",
              "      <td>1004</td>\n",
              "      <td>1004</td>\n",
              "      <td>1004</td>\n",
              "      <td>1004</td>\n",
              "      <td>1004</td>\n",
              "    </tr>\n",
              "    <tr>\n",
              "      <th>29</th>\n",
              "      <td>1000</td>\n",
              "      <td>1000</td>\n",
              "      <td>1000</td>\n",
              "      <td>1000</td>\n",
              "      <td>1000</td>\n",
              "      <td>1000</td>\n",
              "      <td>1000</td>\n",
              "      <td>1000</td>\n",
              "      <td>1000</td>\n",
              "      <td>1000</td>\n",
              "    </tr>\n",
              "    <tr>\n",
              "      <th>3</th>\n",
              "      <td>1000</td>\n",
              "      <td>1000</td>\n",
              "      <td>1000</td>\n",
              "      <td>1000</td>\n",
              "      <td>1000</td>\n",
              "      <td>1000</td>\n",
              "      <td>1000</td>\n",
              "      <td>1000</td>\n",
              "      <td>1000</td>\n",
              "      <td>1000</td>\n",
              "    </tr>\n",
              "    <tr>\n",
              "      <th>30</th>\n",
              "      <td>1002</td>\n",
              "      <td>1002</td>\n",
              "      <td>1002</td>\n",
              "      <td>1002</td>\n",
              "      <td>1002</td>\n",
              "      <td>1002</td>\n",
              "      <td>1002</td>\n",
              "      <td>1002</td>\n",
              "      <td>1002</td>\n",
              "      <td>1002</td>\n",
              "    </tr>\n",
              "    <tr>\n",
              "      <th>31</th>\n",
              "      <td>1004</td>\n",
              "      <td>1004</td>\n",
              "      <td>1004</td>\n",
              "      <td>1004</td>\n",
              "      <td>1004</td>\n",
              "      <td>1004</td>\n",
              "      <td>1004</td>\n",
              "      <td>1004</td>\n",
              "      <td>1004</td>\n",
              "      <td>1004</td>\n",
              "    </tr>\n",
              "    <tr>\n",
              "      <th>32</th>\n",
              "      <td>1004</td>\n",
              "      <td>1004</td>\n",
              "      <td>1004</td>\n",
              "      <td>1004</td>\n",
              "      <td>1004</td>\n",
              "      <td>1004</td>\n",
              "      <td>1004</td>\n",
              "      <td>1004</td>\n",
              "      <td>1004</td>\n",
              "      <td>1004</td>\n",
              "    </tr>\n",
              "    <tr>\n",
              "      <th>33</th>\n",
              "      <td>1008</td>\n",
              "      <td>1008</td>\n",
              "      <td>1008</td>\n",
              "      <td>1008</td>\n",
              "      <td>1008</td>\n",
              "      <td>1008</td>\n",
              "      <td>1008</td>\n",
              "      <td>1008</td>\n",
              "      <td>1008</td>\n",
              "      <td>1008</td>\n",
              "    </tr>\n",
              "    <tr>\n",
              "      <th>34</th>\n",
              "      <td>1002</td>\n",
              "      <td>1002</td>\n",
              "      <td>1002</td>\n",
              "      <td>1002</td>\n",
              "      <td>1002</td>\n",
              "      <td>1002</td>\n",
              "      <td>1002</td>\n",
              "      <td>1002</td>\n",
              "      <td>1002</td>\n",
              "      <td>1002</td>\n",
              "    </tr>\n",
              "    <tr>\n",
              "      <th>35</th>\n",
              "      <td>1002</td>\n",
              "      <td>1002</td>\n",
              "      <td>1002</td>\n",
              "      <td>1002</td>\n",
              "      <td>1002</td>\n",
              "      <td>1002</td>\n",
              "      <td>1002</td>\n",
              "      <td>1002</td>\n",
              "      <td>1002</td>\n",
              "      <td>1002</td>\n",
              "    </tr>\n",
              "    <tr>\n",
              "      <th>36</th>\n",
              "      <td>1000</td>\n",
              "      <td>1000</td>\n",
              "      <td>1000</td>\n",
              "      <td>1000</td>\n",
              "      <td>1000</td>\n",
              "      <td>1000</td>\n",
              "      <td>1000</td>\n",
              "      <td>1000</td>\n",
              "      <td>1000</td>\n",
              "      <td>1000</td>\n",
              "    </tr>\n",
              "    <tr>\n",
              "      <th>37</th>\n",
              "      <td>1004</td>\n",
              "      <td>1004</td>\n",
              "      <td>1004</td>\n",
              "      <td>1004</td>\n",
              "      <td>1004</td>\n",
              "      <td>1004</td>\n",
              "      <td>1004</td>\n",
              "      <td>1004</td>\n",
              "      <td>1004</td>\n",
              "      <td>1004</td>\n",
              "    </tr>\n",
              "    <tr>\n",
              "      <th>38</th>\n",
              "      <td>1002</td>\n",
              "      <td>1002</td>\n",
              "      <td>1002</td>\n",
              "      <td>1002</td>\n",
              "      <td>1002</td>\n",
              "      <td>1002</td>\n",
              "      <td>1002</td>\n",
              "      <td>1002</td>\n",
              "      <td>1002</td>\n",
              "      <td>1002</td>\n",
              "    </tr>\n",
              "    <tr>\n",
              "      <th>39</th>\n",
              "      <td>1002</td>\n",
              "      <td>1002</td>\n",
              "      <td>1002</td>\n",
              "      <td>1002</td>\n",
              "      <td>1002</td>\n",
              "      <td>1002</td>\n",
              "      <td>1002</td>\n",
              "      <td>1002</td>\n",
              "      <td>1002</td>\n",
              "      <td>1002</td>\n",
              "    </tr>\n",
              "    <tr>\n",
              "      <th>4</th>\n",
              "      <td>1006</td>\n",
              "      <td>1006</td>\n",
              "      <td>1006</td>\n",
              "      <td>1006</td>\n",
              "      <td>1006</td>\n",
              "      <td>1006</td>\n",
              "      <td>1006</td>\n",
              "      <td>1006</td>\n",
              "      <td>1006</td>\n",
              "      <td>1006</td>\n",
              "    </tr>\n",
              "    <tr>\n",
              "      <th>40</th>\n",
              "      <td>1000</td>\n",
              "      <td>1000</td>\n",
              "      <td>1000</td>\n",
              "      <td>1000</td>\n",
              "      <td>1000</td>\n",
              "      <td>1000</td>\n",
              "      <td>1000</td>\n",
              "      <td>1000</td>\n",
              "      <td>1000</td>\n",
              "      <td>1000</td>\n",
              "    </tr>\n",
              "    <tr>\n",
              "      <th>41</th>\n",
              "      <td>1000</td>\n",
              "      <td>1000</td>\n",
              "      <td>1000</td>\n",
              "      <td>1000</td>\n",
              "      <td>1000</td>\n",
              "      <td>1000</td>\n",
              "      <td>1000</td>\n",
              "      <td>1000</td>\n",
              "      <td>1000</td>\n",
              "      <td>1000</td>\n",
              "    </tr>\n",
              "    <tr>\n",
              "      <th>42</th>\n",
              "      <td>1012</td>\n",
              "      <td>1012</td>\n",
              "      <td>1012</td>\n",
              "      <td>1012</td>\n",
              "      <td>1012</td>\n",
              "      <td>1012</td>\n",
              "      <td>1012</td>\n",
              "      <td>1012</td>\n",
              "      <td>1012</td>\n",
              "      <td>1012</td>\n",
              "    </tr>\n",
              "    <tr>\n",
              "      <th>43</th>\n",
              "      <td>1002</td>\n",
              "      <td>1002</td>\n",
              "      <td>1002</td>\n",
              "      <td>1002</td>\n",
              "      <td>1002</td>\n",
              "      <td>1002</td>\n",
              "      <td>1002</td>\n",
              "      <td>1002</td>\n",
              "      <td>1002</td>\n",
              "      <td>1002</td>\n",
              "    </tr>\n",
              "    <tr>\n",
              "      <th>44</th>\n",
              "      <td>1010</td>\n",
              "      <td>1010</td>\n",
              "      <td>1010</td>\n",
              "      <td>1010</td>\n",
              "      <td>1010</td>\n",
              "      <td>1010</td>\n",
              "      <td>1010</td>\n",
              "      <td>1010</td>\n",
              "      <td>1010</td>\n",
              "      <td>1010</td>\n",
              "    </tr>\n",
              "    <tr>\n",
              "      <th>45</th>\n",
              "      <td>1004</td>\n",
              "      <td>1004</td>\n",
              "      <td>1004</td>\n",
              "      <td>1004</td>\n",
              "      <td>1004</td>\n",
              "      <td>1004</td>\n",
              "      <td>1004</td>\n",
              "      <td>1004</td>\n",
              "      <td>1004</td>\n",
              "      <td>1004</td>\n",
              "    </tr>\n",
              "    <tr>\n",
              "      <th>46</th>\n",
              "      <td>1000</td>\n",
              "      <td>1000</td>\n",
              "      <td>1000</td>\n",
              "      <td>1000</td>\n",
              "      <td>1000</td>\n",
              "      <td>1000</td>\n",
              "      <td>1000</td>\n",
              "      <td>1000</td>\n",
              "      <td>1000</td>\n",
              "      <td>1000</td>\n",
              "    </tr>\n",
              "    <tr>\n",
              "      <th>47</th>\n",
              "      <td>1016</td>\n",
              "      <td>1016</td>\n",
              "      <td>1016</td>\n",
              "      <td>1016</td>\n",
              "      <td>1016</td>\n",
              "      <td>1016</td>\n",
              "      <td>1016</td>\n",
              "      <td>1016</td>\n",
              "      <td>1016</td>\n",
              "      <td>1016</td>\n",
              "    </tr>\n",
              "    <tr>\n",
              "      <th>48</th>\n",
              "      <td>1006</td>\n",
              "      <td>1006</td>\n",
              "      <td>1006</td>\n",
              "      <td>1006</td>\n",
              "      <td>1006</td>\n",
              "      <td>1006</td>\n",
              "      <td>1006</td>\n",
              "      <td>1006</td>\n",
              "      <td>1006</td>\n",
              "      <td>1006</td>\n",
              "    </tr>\n",
              "    <tr>\n",
              "      <th>49</th>\n",
              "      <td>1006</td>\n",
              "      <td>1006</td>\n",
              "      <td>1006</td>\n",
              "      <td>1006</td>\n",
              "      <td>1006</td>\n",
              "      <td>1006</td>\n",
              "      <td>1006</td>\n",
              "      <td>1006</td>\n",
              "      <td>1006</td>\n",
              "      <td>1006</td>\n",
              "    </tr>\n",
              "    <tr>\n",
              "      <th>5</th>\n",
              "      <td>1008</td>\n",
              "      <td>1008</td>\n",
              "      <td>1008</td>\n",
              "      <td>1008</td>\n",
              "      <td>1008</td>\n",
              "      <td>1008</td>\n",
              "      <td>1008</td>\n",
              "      <td>1008</td>\n",
              "      <td>1008</td>\n",
              "      <td>1008</td>\n",
              "    </tr>\n",
              "    <tr>\n",
              "      <th>50</th>\n",
              "      <td>1006</td>\n",
              "      <td>1006</td>\n",
              "      <td>1006</td>\n",
              "      <td>1006</td>\n",
              "      <td>1006</td>\n",
              "      <td>1006</td>\n",
              "      <td>1006</td>\n",
              "      <td>1006</td>\n",
              "      <td>1006</td>\n",
              "      <td>1006</td>\n",
              "    </tr>\n",
              "    <tr>\n",
              "      <th>6</th>\n",
              "      <td>1002</td>\n",
              "      <td>1002</td>\n",
              "      <td>1002</td>\n",
              "      <td>1002</td>\n",
              "      <td>1002</td>\n",
              "      <td>1002</td>\n",
              "      <td>1002</td>\n",
              "      <td>1002</td>\n",
              "      <td>1002</td>\n",
              "      <td>1002</td>\n",
              "    </tr>\n",
              "    <tr>\n",
              "      <th>7</th>\n",
              "      <td>1008</td>\n",
              "      <td>1008</td>\n",
              "      <td>1008</td>\n",
              "      <td>1008</td>\n",
              "      <td>1008</td>\n",
              "      <td>1008</td>\n",
              "      <td>1008</td>\n",
              "      <td>1008</td>\n",
              "      <td>1008</td>\n",
              "      <td>1008</td>\n",
              "    </tr>\n",
              "    <tr>\n",
              "      <th>8</th>\n",
              "      <td>1008</td>\n",
              "      <td>1008</td>\n",
              "      <td>1008</td>\n",
              "      <td>1008</td>\n",
              "      <td>1008</td>\n",
              "      <td>1008</td>\n",
              "      <td>1008</td>\n",
              "      <td>1008</td>\n",
              "      <td>1008</td>\n",
              "      <td>1008</td>\n",
              "    </tr>\n",
              "    <tr>\n",
              "      <th>9</th>\n",
              "      <td>1004</td>\n",
              "      <td>1004</td>\n",
              "      <td>1004</td>\n",
              "      <td>1004</td>\n",
              "      <td>1004</td>\n",
              "      <td>1004</td>\n",
              "      <td>1004</td>\n",
              "      <td>1004</td>\n",
              "      <td>1004</td>\n",
              "      <td>1004</td>\n",
              "    </tr>\n",
              "  </tbody>\n",
              "</table>\n",
              "</div>\n",
              "      <button class=\"colab-df-convert\" onclick=\"convertToInteractive('df-d9011b56-1425-4c9e-8f82-49a86460ee0c')\"\n",
              "              title=\"Convert this dataframe to an interactive table.\"\n",
              "              style=\"display:none;\">\n",
              "        \n",
              "  <svg xmlns=\"http://www.w3.org/2000/svg\" height=\"24px\"viewBox=\"0 0 24 24\"\n",
              "       width=\"24px\">\n",
              "    <path d=\"M0 0h24v24H0V0z\" fill=\"none\"/>\n",
              "    <path d=\"M18.56 5.44l.94 2.06.94-2.06 2.06-.94-2.06-.94-.94-2.06-.94 2.06-2.06.94zm-11 1L8.5 8.5l.94-2.06 2.06-.94-2.06-.94L8.5 2.5l-.94 2.06-2.06.94zm10 10l.94 2.06.94-2.06 2.06-.94-2.06-.94-.94-2.06-.94 2.06-2.06.94z\"/><path d=\"M17.41 7.96l-1.37-1.37c-.4-.4-.92-.59-1.43-.59-.52 0-1.04.2-1.43.59L10.3 9.45l-7.72 7.72c-.78.78-.78 2.05 0 2.83L4 21.41c.39.39.9.59 1.41.59.51 0 1.02-.2 1.41-.59l7.78-7.78 2.81-2.81c.8-.78.8-2.07 0-2.86zM5.41 20L4 18.59l7.72-7.72 1.47 1.35L5.41 20z\"/>\n",
              "  </svg>\n",
              "      </button>\n",
              "      \n",
              "  <style>\n",
              "    .colab-df-container {\n",
              "      display:flex;\n",
              "      flex-wrap:wrap;\n",
              "      gap: 12px;\n",
              "    }\n",
              "\n",
              "    .colab-df-convert {\n",
              "      background-color: #E8F0FE;\n",
              "      border: none;\n",
              "      border-radius: 50%;\n",
              "      cursor: pointer;\n",
              "      display: none;\n",
              "      fill: #1967D2;\n",
              "      height: 32px;\n",
              "      padding: 0 0 0 0;\n",
              "      width: 32px;\n",
              "    }\n",
              "\n",
              "    .colab-df-convert:hover {\n",
              "      background-color: #E2EBFA;\n",
              "      box-shadow: 0px 1px 2px rgba(60, 64, 67, 0.3), 0px 1px 3px 1px rgba(60, 64, 67, 0.15);\n",
              "      fill: #174EA6;\n",
              "    }\n",
              "\n",
              "    [theme=dark] .colab-df-convert {\n",
              "      background-color: #3B4455;\n",
              "      fill: #D2E3FC;\n",
              "    }\n",
              "\n",
              "    [theme=dark] .colab-df-convert:hover {\n",
              "      background-color: #434B5C;\n",
              "      box-shadow: 0px 1px 3px 1px rgba(0, 0, 0, 0.15);\n",
              "      filter: drop-shadow(0px 1px 2px rgba(0, 0, 0, 0.3));\n",
              "      fill: #FFFFFF;\n",
              "    }\n",
              "  </style>\n",
              "\n",
              "      <script>\n",
              "        const buttonEl =\n",
              "          document.querySelector('#df-d9011b56-1425-4c9e-8f82-49a86460ee0c button.colab-df-convert');\n",
              "        buttonEl.style.display =\n",
              "          google.colab.kernel.accessAllowed ? 'block' : 'none';\n",
              "\n",
              "        async function convertToInteractive(key) {\n",
              "          const element = document.querySelector('#df-d9011b56-1425-4c9e-8f82-49a86460ee0c');\n",
              "          const dataTable =\n",
              "            await google.colab.kernel.invokeFunction('convertToInteractive',\n",
              "                                                     [key], {});\n",
              "          if (!dataTable) return;\n",
              "\n",
              "          const docLinkHtml = 'Like what you see? Visit the ' +\n",
              "            '<a target=\"_blank\" href=https://colab.research.google.com/notebooks/data_table.ipynb>data table notebook</a>'\n",
              "            + ' to learn more about interactive tables.';\n",
              "          element.innerHTML = '';\n",
              "          dataTable['output_type'] = 'display_data';\n",
              "          await google.colab.output.renderOutput(dataTable, element);\n",
              "          const docLink = document.createElement('div');\n",
              "          docLink.innerHTML = docLinkHtml;\n",
              "          element.appendChild(docLink);\n",
              "        }\n",
              "      </script>\n",
              "    </div>\n",
              "  </div>\n",
              "  "
            ],
            "text/plain": [
              "     docid  docno  rank  score  query  topic  conclusion  premises_text  \\\n",
              "qid                                                                       \n",
              "1     1020   1020  1020   1020   1020   1020        1020           1020   \n",
              "10    1002   1002  1002   1002   1002   1002        1002           1002   \n",
              "11    1002   1002  1002   1002   1002   1002        1002           1002   \n",
              "12    1000   1000  1000   1000   1000   1000        1000           1000   \n",
              "13    1000   1000  1000   1000   1000   1000        1000           1000   \n",
              "14    1002   1002  1002   1002   1002   1002        1002           1002   \n",
              "15    1000   1000  1000   1000   1000   1000        1000           1000   \n",
              "16    1000   1000  1000   1000   1000   1000        1000           1000   \n",
              "17    1006   1006  1006   1006   1006   1006        1006           1006   \n",
              "18    1002   1002  1002   1002   1002   1002        1002           1002   \n",
              "19    1006   1006  1006   1006   1006   1006        1006           1006   \n",
              "2     1000   1000  1000   1000   1000   1000        1000           1000   \n",
              "20    1000   1000  1000   1000   1000   1000        1000           1000   \n",
              "21    1000   1000  1000   1000   1000   1000        1000           1000   \n",
              "22    1004   1004  1004   1004   1004   1004        1004           1004   \n",
              "23    1010   1010  1010   1010   1010   1010        1010           1010   \n",
              "24    1000   1000  1000   1000   1000   1000        1000           1000   \n",
              "25    1006   1006  1006   1006   1006   1006        1006           1006   \n",
              "26    1000   1000  1000   1000   1000   1000        1000           1000   \n",
              "27    1004   1004  1004   1004   1004   1004        1004           1004   \n",
              "28    1004   1004  1004   1004   1004   1004        1004           1004   \n",
              "29    1000   1000  1000   1000   1000   1000        1000           1000   \n",
              "3     1000   1000  1000   1000   1000   1000        1000           1000   \n",
              "30    1002   1002  1002   1002   1002   1002        1002           1002   \n",
              "31    1004   1004  1004   1004   1004   1004        1004           1004   \n",
              "32    1004   1004  1004   1004   1004   1004        1004           1004   \n",
              "33    1008   1008  1008   1008   1008   1008        1008           1008   \n",
              "34    1002   1002  1002   1002   1002   1002        1002           1002   \n",
              "35    1002   1002  1002   1002   1002   1002        1002           1002   \n",
              "36    1000   1000  1000   1000   1000   1000        1000           1000   \n",
              "37    1004   1004  1004   1004   1004   1004        1004           1004   \n",
              "38    1002   1002  1002   1002   1002   1002        1002           1002   \n",
              "39    1002   1002  1002   1002   1002   1002        1002           1002   \n",
              "4     1006   1006  1006   1006   1006   1006        1006           1006   \n",
              "40    1000   1000  1000   1000   1000   1000        1000           1000   \n",
              "41    1000   1000  1000   1000   1000   1000        1000           1000   \n",
              "42    1012   1012  1012   1012   1012   1012        1012           1012   \n",
              "43    1002   1002  1002   1002   1002   1002        1002           1002   \n",
              "44    1010   1010  1010   1010   1010   1010        1010           1010   \n",
              "45    1004   1004  1004   1004   1004   1004        1004           1004   \n",
              "46    1000   1000  1000   1000   1000   1000        1000           1000   \n",
              "47    1016   1016  1016   1016   1016   1016        1016           1016   \n",
              "48    1006   1006  1006   1006   1006   1006        1006           1006   \n",
              "49    1006   1006  1006   1006   1006   1006        1006           1006   \n",
              "5     1008   1008  1008   1008   1008   1008        1008           1008   \n",
              "50    1006   1006  1006   1006   1006   1006        1006           1006   \n",
              "6     1002   1002  1002   1002   1002   1002        1002           1002   \n",
              "7     1008   1008  1008   1008   1008   1008        1008           1008   \n",
              "8     1008   1008  1008   1008   1008   1008        1008           1008   \n",
              "9     1004   1004  1004   1004   1004   1004        1004           1004   \n",
              "\n",
              "     stance  sentences  \n",
              "qid                     \n",
              "1      1020       1020  \n",
              "10     1002       1002  \n",
              "11     1002       1002  \n",
              "12     1000       1000  \n",
              "13     1000       1000  \n",
              "14     1002       1002  \n",
              "15     1000       1000  \n",
              "16     1000       1000  \n",
              "17     1006       1006  \n",
              "18     1002       1002  \n",
              "19     1006       1006  \n",
              "2      1000       1000  \n",
              "20     1000       1000  \n",
              "21     1000       1000  \n",
              "22     1004       1004  \n",
              "23     1010       1010  \n",
              "24     1000       1000  \n",
              "25     1006       1006  \n",
              "26     1000       1000  \n",
              "27     1004       1004  \n",
              "28     1004       1004  \n",
              "29     1000       1000  \n",
              "3      1000       1000  \n",
              "30     1002       1002  \n",
              "31     1004       1004  \n",
              "32     1004       1004  \n",
              "33     1008       1008  \n",
              "34     1002       1002  \n",
              "35     1002       1002  \n",
              "36     1000       1000  \n",
              "37     1004       1004  \n",
              "38     1002       1002  \n",
              "39     1002       1002  \n",
              "4      1006       1006  \n",
              "40     1000       1000  \n",
              "41     1000       1000  \n",
              "42     1012       1012  \n",
              "43     1002       1002  \n",
              "44     1010       1010  \n",
              "45     1004       1004  \n",
              "46     1000       1000  \n",
              "47     1016       1016  \n",
              "48     1006       1006  \n",
              "49     1006       1006  \n",
              "5      1008       1008  \n",
              "50     1006       1006  \n",
              "6      1002       1002  \n",
              "7      1008       1008  \n",
              "8      1008       1008  \n",
              "9      1004       1004  "
            ]
          },
          "execution_count": 55,
          "metadata": {},
          "output_type": "execute_result"
        }
      ],
      "source": [
        "merged_df.groupby('qid').count() "
      ]
    },
    {
      "cell_type": "markdown",
      "metadata": {},
      "source": [
        "#### **Indexing sentences**"
      ]
    },
    {
      "cell_type": "markdown",
      "metadata": {},
      "source": [
        "To index sentences, sentences must be obtained from the corpus df. Once we have a sentence for each row, we can retrieve them.\n",
        "QRELS df needs to be splitted too, having one sentence per row.\n",
        "In such a way, evaluation can be performed."
      ]
    },
    {
      "cell_type": "code",
      "execution_count": 4,
      "metadata": {},
      "outputs": [],
      "source": [
        "# df = pd.read_csv(\"dataset2022.csv\")\n",
        "dataset = pt.get_dataset('irds:argsme/2020-04-01/processed/touche-2022-task-1')"
      ]
    },
    {
      "cell_type": "code",
      "execution_count": 5,
      "metadata": {},
      "outputs": [
        {
          "name": "stderr",
          "output_type": "stream",
          "text": [
            "argsme/2020-04-01/processed/touche-2022-task-1 documents:   0%|          | 0/365408 [00:00<?, ?it/s]"
          ]
        },
        {
          "name": "stderr",
          "output_type": "stream",
          "text": [
            "argsme/2020-04-01/processed/touche-2022-task-1 documents: 100%|██████████| 365408/365408 [04:16<00:00, 1423.31it/s]\n"
          ]
        }
      ],
      "source": [
        "# #iterator over the documents\n",
        "corpus_iter = dataset.get_corpus_iter()\n",
        "\n",
        "# Convert the iterator to a list \n",
        "corpus_list = list(corpus_iter)\n"
      ]
    },
    {
      "cell_type": "code",
      "execution_count": 6,
      "metadata": {},
      "outputs": [],
      "source": [
        "#Convert the list of documents to a Pandas DataFrame\n",
        "df = pd.DataFrame(corpus_list)"
      ]
    },
    {
      "cell_type": "code",
      "execution_count": 10,
      "metadata": {},
      "outputs": [
        {
          "data": {
            "text/plain": [
              "list"
            ]
          },
          "execution_count": 10,
          "metadata": {},
          "output_type": "execute_result"
        }
      ],
      "source": [
        "type(df.sentences.iloc[0]) #sentences column are a list of sentences that we need to split"
      ]
    },
    {
      "cell_type": "code",
      "execution_count": 12,
      "metadata": {},
      "outputs": [
        {
          "data": {
            "text/plain": [
              "'His removal provides stability and security not only for Iraq but for the Middle East as a region'"
            ]
          },
          "execution_count": 12,
          "metadata": {},
          "output_type": "execute_result"
        }
      ],
      "source": [
        "df.sentences.iloc[0][0][1]"
      ]
    },
    {
      "cell_type": "markdown",
      "metadata": {},
      "source": [
        "sentences column is a list, containing premises and conclusions. These one are represented as an object ArgsMeSentence. We first split the sentences into different rows, and then we extract sentences no and text into two different columns."
      ]
    },
    {
      "cell_type": "code",
      "execution_count": 13,
      "metadata": {},
      "outputs": [
        {
          "data": {
            "text/plain": [
              "ir_datasets.formats.argsme.ArgsMeSentence"
            ]
          },
          "execution_count": 13,
          "metadata": {},
          "output_type": "execute_result"
        }
      ],
      "source": [
        "type(df.sentences.iloc[0][0])"
      ]
    },
    {
      "cell_type": "code",
      "execution_count": 14,
      "metadata": {},
      "outputs": [],
      "source": [
        "# Set the minimum column width\n",
        "pd.set_option('display.max_colwidth', 20)"
      ]
    },
    {
      "cell_type": "code",
      "execution_count": 13,
      "metadata": {},
      "outputs": [
        {
          "name": "stdout",
          "output_type": "stream",
          "text": [
            "The corpus contains 365408 documents and 26 columns\n"
          ]
        }
      ],
      "source": [
        "print('The corpus contains', df.shape[0], 'documents and', df.shape[1], 'columns')"
      ]
    },
    {
      "cell_type": "code",
      "execution_count": 14,
      "metadata": {},
      "outputs": [],
      "source": [
        "df = df.dropna(axis=1,how='any') #drop columns that contain any NA values\n",
        "df = df.drop(['aspects', #Drop columns I dont need for retrieval \n",
        "       'source_domain', 'source_text',\n",
        "       'source_text_conclusion_start', 'source_text_conclusion_end',\n",
        "       'source_text_premise_start', 'source_text_premise_end', 'acquisition','mode'], axis=1)"
      ]
    },
    {
      "cell_type": "code",
      "execution_count": 15,
      "metadata": {},
      "outputs": [
        {
          "name": "stdout",
          "output_type": "stream",
          "text": [
            "After removing the columns with any NA values, the corpus contains 365408 documents and 9 columns\n"
          ]
        }
      ],
      "source": [
        "print('After removing the columns with any NA values, the corpus contains', df.shape[0], 'documents and', df.shape[1], 'columns')"
      ]
    },
    {
      "cell_type": "code",
      "execution_count": 16,
      "metadata": {},
      "outputs": [
        {
          "data": {
            "text/html": [
              "<div>\n",
              "<style scoped>\n",
              "    .dataframe tbody tr th:only-of-type {\n",
              "        vertical-align: middle;\n",
              "    }\n",
              "\n",
              "    .dataframe tbody tr th {\n",
              "        vertical-align: top;\n",
              "    }\n",
              "\n",
              "    .dataframe thead th {\n",
              "        text-align: right;\n",
              "    }\n",
              "</style>\n",
              "<table border=\"1\" class=\"dataframe\">\n",
              "  <thead>\n",
              "    <tr style=\"text-align: right;\">\n",
              "      <th></th>\n",
              "      <th>conclusion</th>\n",
              "      <th>premises</th>\n",
              "      <th>premises_texts</th>\n",
              "      <th>aspects_names</th>\n",
              "      <th>source_id</th>\n",
              "      <th>source_title</th>\n",
              "      <th>topic</th>\n",
              "      <th>sentences</th>\n",
              "      <th>docno</th>\n",
              "    </tr>\n",
              "  </thead>\n",
              "  <tbody>\n",
              "    <tr>\n",
              "      <th>0</th>\n",
              "      <td>the War in Iraq was Worth the Cost</td>\n",
              "      <td>[(His removal provides stability and security ...</td>\n",
              "      <td>His removal provides stability and security no...</td>\n",
              "      <td></td>\n",
              "      <td>Sf9294c83</td>\n",
              "      <td>This House Believes that the War in Iraq was W...</td>\n",
              "      <td>the War in Iraq was Worth the Cost</td>\n",
              "      <td>[(Sf9294c83-Af186e851__PREMISE__1, His removal...</td>\n",
              "      <td>Sf9294c83-Af186e851</td>\n",
              "    </tr>\n",
              "    <tr>\n",
              "      <th>1</th>\n",
              "      <td>Saddam Hussein is gone and Iraq is now functio...</td>\n",
              "      <td>[(It's important to be clear that this debate ...</td>\n",
              "      <td>It's important to be clear that this debate is...</td>\n",
              "      <td>Donald Rumsfeld Genocide Saddam Hussein Torture</td>\n",
              "      <td>Sf9294c83</td>\n",
              "      <td>This House Believes that the War in Iraq was W...</td>\n",
              "      <td>the War in Iraq was Worth the Cost</td>\n",
              "      <td>[(Sf9294c83-A9a4e056e__PREMISE__1, It's import...</td>\n",
              "      <td>Sf9294c83-A9a4e056e</td>\n",
              "    </tr>\n",
              "  </tbody>\n",
              "</table>\n",
              "</div>"
            ],
            "text/plain": [
              "                                          conclusion   \n",
              "0                 the War in Iraq was Worth the Cost  \\\n",
              "1  Saddam Hussein is gone and Iraq is now functio...   \n",
              "\n",
              "                                            premises   \n",
              "0  [(His removal provides stability and security ...  \\\n",
              "1  [(It's important to be clear that this debate ...   \n",
              "\n",
              "                                      premises_texts   \n",
              "0  His removal provides stability and security no...  \\\n",
              "1  It's important to be clear that this debate is...   \n",
              "\n",
              "                                     aspects_names  source_id   \n",
              "0                                                   Sf9294c83  \\\n",
              "1  Donald Rumsfeld Genocide Saddam Hussein Torture  Sf9294c83   \n",
              "\n",
              "                                        source_title   \n",
              "0  This House Believes that the War in Iraq was W...  \\\n",
              "1  This House Believes that the War in Iraq was W...   \n",
              "\n",
              "                                topic   \n",
              "0  the War in Iraq was Worth the Cost  \\\n",
              "1  the War in Iraq was Worth the Cost   \n",
              "\n",
              "                                           sentences                docno  \n",
              "0  [(Sf9294c83-Af186e851__PREMISE__1, His removal...  Sf9294c83-Af186e851  \n",
              "1  [(Sf9294c83-A9a4e056e__PREMISE__1, It's import...  Sf9294c83-A9a4e056e  "
            ]
          },
          "execution_count": 16,
          "metadata": {},
          "output_type": "execute_result"
        }
      ],
      "source": [
        "df.head(2)"
      ]
    },
    {
      "cell_type": "code",
      "execution_count": 17,
      "metadata": {},
      "outputs": [
        {
          "data": {
            "text/html": [
              "<div>\n",
              "<style scoped>\n",
              "    .dataframe tbody tr th:only-of-type {\n",
              "        vertical-align: middle;\n",
              "    }\n",
              "\n",
              "    .dataframe tbody tr th {\n",
              "        vertical-align: top;\n",
              "    }\n",
              "\n",
              "    .dataframe thead th {\n",
              "        text-align: right;\n",
              "    }\n",
              "</style>\n",
              "<table border=\"1\" class=\"dataframe\">\n",
              "  <thead>\n",
              "    <tr style=\"text-align: right;\">\n",
              "      <th></th>\n",
              "      <th>conclusion</th>\n",
              "      <th>premises</th>\n",
              "      <th>premises_texts</th>\n",
              "      <th>aspects_names</th>\n",
              "      <th>source_id</th>\n",
              "      <th>source_title</th>\n",
              "      <th>topic</th>\n",
              "      <th>sentences</th>\n",
              "      <th>docno</th>\n",
              "    </tr>\n",
              "  </thead>\n",
              "  <tbody>\n",
              "    <tr>\n",
              "      <th>196152</th>\n",
              "      <td>we should return to the gold standard</td>\n",
              "      <td>[(https://docs.google.com..., ArgsMeStance.PRO...</td>\n",
              "      <td>https://docs.google.com...</td>\n",
              "      <td></td>\n",
              "      <td>Sd5c342bd</td>\n",
              "      <td>Debate: we should return to the gold standard ...</td>\n",
              "      <td>we should return to the gold standard</td>\n",
              "      <td>[(Sd5c342bd-A6718cbc0__PREMISE__1, https://doc...</td>\n",
              "      <td>Sd5c342bd-A6718cbc0</td>\n",
              "    </tr>\n",
              "    <tr>\n",
              "      <th>196154</th>\n",
              "      <td>we should return to the gold standard</td>\n",
              "      <td>[(https://docs.google.com..., ArgsMeStance.PRO...</td>\n",
              "      <td>https://docs.google.com...</td>\n",
              "      <td></td>\n",
              "      <td>Sd5c342bd</td>\n",
              "      <td>Debate: we should return to the gold standard ...</td>\n",
              "      <td>we should return to the gold standard</td>\n",
              "      <td>[(Sd5c342bd-A6718cbc0__PREMISE__1, https://doc...</td>\n",
              "      <td>Sd5c342bd-A6718cbc0</td>\n",
              "    </tr>\n",
              "  </tbody>\n",
              "</table>\n",
              "</div>"
            ],
            "text/plain": [
              "                                   conclusion   \n",
              "196152  we should return to the gold standard  \\\n",
              "196154  we should return to the gold standard   \n",
              "\n",
              "                                                 premises   \n",
              "196152  [(https://docs.google.com..., ArgsMeStance.PRO...  \\\n",
              "196154  [(https://docs.google.com..., ArgsMeStance.PRO...   \n",
              "\n",
              "                    premises_texts aspects_names  source_id   \n",
              "196152  https://docs.google.com...                Sd5c342bd  \\\n",
              "196154  https://docs.google.com...                Sd5c342bd   \n",
              "\n",
              "                                             source_title   \n",
              "196152  Debate: we should return to the gold standard ...  \\\n",
              "196154  Debate: we should return to the gold standard ...   \n",
              "\n",
              "                                        topic   \n",
              "196152  we should return to the gold standard  \\\n",
              "196154  we should return to the gold standard   \n",
              "\n",
              "                                                sentences                docno  \n",
              "196152  [(Sd5c342bd-A6718cbc0__PREMISE__1, https://doc...  Sd5c342bd-A6718cbc0  \n",
              "196154  [(Sd5c342bd-A6718cbc0__PREMISE__1, https://doc...  Sd5c342bd-A6718cbc0  "
            ]
          },
          "execution_count": 17,
          "metadata": {},
          "output_type": "execute_result"
        }
      ],
      "source": [
        "df[df['docno'] == 'Sd5c342bd-A6718cbc0']"
      ]
    },
    {
      "cell_type": "code",
      "execution_count": 18,
      "metadata": {},
      "outputs": [
        {
          "data": {
            "text/plain": [
              "1216"
            ]
          },
          "execution_count": 18,
          "metadata": {},
          "output_type": "execute_result"
        }
      ],
      "source": [
        "df.docno.duplicated().sum()"
      ]
    },
    {
      "cell_type": "code",
      "execution_count": 19,
      "metadata": {},
      "outputs": [],
      "source": [
        "import pandas"
      ]
    },
    {
      "cell_type": "code",
      "execution_count": null,
      "metadata": {},
      "outputs": [],
      "source": [
        "# df.sentences.duplicated().sum()"
      ]
    },
    {
      "cell_type": "code",
      "execution_count": 20,
      "metadata": {},
      "outputs": [],
      "source": [
        "df = df.drop_duplicates(subset='docno', keep='first') #drop duplicates, keep only the first occurance \n"
      ]
    },
    {
      "cell_type": "markdown",
      "metadata": {},
      "source": [
        "create new df with the sentences splitted, in order to have two columns - id and text"
      ]
    },
    {
      "cell_type": "code",
      "execution_count": 21,
      "metadata": {},
      "outputs": [],
      "source": [
        "sent = df.explode(\"sentences\")"
      ]
    },
    {
      "cell_type": "markdown",
      "metadata": {},
      "source": [
        "Create new columns with sentences \"text\" and sentences \"docno\". In this way we'll index sentences and use sentences docno for evaluation"
      ]
    },
    {
      "cell_type": "code",
      "execution_count": 22,
      "metadata": {},
      "outputs": [],
      "source": [
        "sent['sentno'] = sent.sentences.apply(lambda x: x[0])\n",
        "sent['sentext'] = sent.sentences.apply(lambda x: x[1])"
      ]
    },
    {
      "cell_type": "code",
      "execution_count": 23,
      "metadata": {},
      "outputs": [
        {
          "data": {
            "text/html": [
              "<div>\n",
              "<style scoped>\n",
              "    .dataframe tbody tr th:only-of-type {\n",
              "        vertical-align: middle;\n",
              "    }\n",
              "\n",
              "    .dataframe tbody tr th {\n",
              "        vertical-align: top;\n",
              "    }\n",
              "\n",
              "    .dataframe thead th {\n",
              "        text-align: right;\n",
              "    }\n",
              "</style>\n",
              "<table border=\"1\" class=\"dataframe\">\n",
              "  <thead>\n",
              "    <tr style=\"text-align: right;\">\n",
              "      <th></th>\n",
              "      <th>conclusion</th>\n",
              "      <th>premises</th>\n",
              "      <th>premises_texts</th>\n",
              "      <th>aspects_names</th>\n",
              "      <th>source_id</th>\n",
              "      <th>source_title</th>\n",
              "      <th>topic</th>\n",
              "      <th>sentences</th>\n",
              "      <th>docno</th>\n",
              "      <th>sentno</th>\n",
              "      <th>sentext</th>\n",
              "    </tr>\n",
              "  </thead>\n",
              "  <tbody>\n",
              "    <tr>\n",
              "      <th>0</th>\n",
              "      <td>the War in Iraq was Worth the Cost</td>\n",
              "      <td>[(His removal provides stability and security ...</td>\n",
              "      <td>His removal provides stability and security no...</td>\n",
              "      <td></td>\n",
              "      <td>Sf9294c83</td>\n",
              "      <td>This House Believes that the War in Iraq was W...</td>\n",
              "      <td>the War in Iraq was Worth the Cost</td>\n",
              "      <td>(Sf9294c83-Af186e851__PREMISE__1, His removal ...</td>\n",
              "      <td>Sf9294c83-Af186e851</td>\n",
              "      <td>Sf9294c83-Af186e851__PREMISE__1</td>\n",
              "      <td>His removal provides stability and security no...</td>\n",
              "    </tr>\n",
              "    <tr>\n",
              "      <th>0</th>\n",
              "      <td>the War in Iraq was Worth the Cost</td>\n",
              "      <td>[(His removal provides stability and security ...</td>\n",
              "      <td>His removal provides stability and security no...</td>\n",
              "      <td></td>\n",
              "      <td>Sf9294c83</td>\n",
              "      <td>This House Believes that the War in Iraq was W...</td>\n",
              "      <td>the War in Iraq was Worth the Cost</td>\n",
              "      <td>(Sf9294c83-Af186e851__CONC__1, the War in Iraq...</td>\n",
              "      <td>Sf9294c83-Af186e851</td>\n",
              "      <td>Sf9294c83-Af186e851__CONC__1</td>\n",
              "      <td>the War in Iraq was Worth the Cost</td>\n",
              "    </tr>\n",
              "  </tbody>\n",
              "</table>\n",
              "</div>"
            ],
            "text/plain": [
              "                           conclusion   \n",
              "0  the War in Iraq was Worth the Cost  \\\n",
              "0  the War in Iraq was Worth the Cost   \n",
              "\n",
              "                                            premises   \n",
              "0  [(His removal provides stability and security ...  \\\n",
              "0  [(His removal provides stability and security ...   \n",
              "\n",
              "                                      premises_texts aspects_names  source_id   \n",
              "0  His removal provides stability and security no...                Sf9294c83  \\\n",
              "0  His removal provides stability and security no...                Sf9294c83   \n",
              "\n",
              "                                        source_title   \n",
              "0  This House Believes that the War in Iraq was W...  \\\n",
              "0  This House Believes that the War in Iraq was W...   \n",
              "\n",
              "                                topic   \n",
              "0  the War in Iraq was Worth the Cost  \\\n",
              "0  the War in Iraq was Worth the Cost   \n",
              "\n",
              "                                           sentences                docno   \n",
              "0  (Sf9294c83-Af186e851__PREMISE__1, His removal ...  Sf9294c83-Af186e851  \\\n",
              "0  (Sf9294c83-Af186e851__CONC__1, the War in Iraq...  Sf9294c83-Af186e851   \n",
              "\n",
              "                            sentno   \n",
              "0  Sf9294c83-Af186e851__PREMISE__1  \\\n",
              "0     Sf9294c83-Af186e851__CONC__1   \n",
              "\n",
              "                                             sentext  \n",
              "0  His removal provides stability and security no...  \n",
              "0                 the War in Iraq was Worth the Cost  "
            ]
          },
          "execution_count": 23,
          "metadata": {},
          "output_type": "execute_result"
        }
      ],
      "source": [
        "sent.head(2)"
      ]
    },
    {
      "cell_type": "code",
      "execution_count": 24,
      "metadata": {},
      "outputs": [
        {
          "data": {
            "text/plain": [
              "(6118957, 11)"
            ]
          },
          "execution_count": 24,
          "metadata": {},
          "output_type": "execute_result"
        }
      ],
      "source": [
        "sent.shape"
      ]
    },
    {
      "cell_type": "code",
      "execution_count": 21,
      "metadata": {},
      "outputs": [],
      "source": [
        "pd.set_option('display.max_colwidth', None)"
      ]
    },
    {
      "cell_type": "markdown",
      "metadata": {},
      "source": [
        "Sentext is just a link:\n"
      ]
    },
    {
      "cell_type": "code",
      "execution_count": 25,
      "metadata": {},
      "outputs": [
        {
          "data": {
            "text/html": [
              "<div>\n",
              "<style scoped>\n",
              "    .dataframe tbody tr th:only-of-type {\n",
              "        vertical-align: middle;\n",
              "    }\n",
              "\n",
              "    .dataframe tbody tr th {\n",
              "        vertical-align: top;\n",
              "    }\n",
              "\n",
              "    .dataframe thead th {\n",
              "        text-align: right;\n",
              "    }\n",
              "</style>\n",
              "<table border=\"1\" class=\"dataframe\">\n",
              "  <thead>\n",
              "    <tr style=\"text-align: right;\">\n",
              "      <th></th>\n",
              "      <th>conclusion</th>\n",
              "      <th>premises</th>\n",
              "      <th>premises_texts</th>\n",
              "      <th>aspects_names</th>\n",
              "      <th>source_id</th>\n",
              "      <th>source_title</th>\n",
              "      <th>topic</th>\n",
              "      <th>sentences</th>\n",
              "      <th>docno</th>\n",
              "      <th>sentno</th>\n",
              "      <th>sentext</th>\n",
              "    </tr>\n",
              "  </thead>\n",
              "  <tbody>\n",
              "    <tr>\n",
              "      <th>196152</th>\n",
              "      <td>we should return to the gold standard</td>\n",
              "      <td>[(https://docs.google.com..., ArgsMeStance.PRO...</td>\n",
              "      <td>https://docs.google.com...</td>\n",
              "      <td></td>\n",
              "      <td>Sd5c342bd</td>\n",
              "      <td>Debate: we should return to the gold standard ...</td>\n",
              "      <td>we should return to the gold standard</td>\n",
              "      <td>(Sd5c342bd-A6718cbc0__PREMISE__1, https://docs...</td>\n",
              "      <td>Sd5c342bd-A6718cbc0</td>\n",
              "      <td>Sd5c342bd-A6718cbc0__PREMISE__1</td>\n",
              "      <td>https://docs.google.com...</td>\n",
              "    </tr>\n",
              "  </tbody>\n",
              "</table>\n",
              "</div>"
            ],
            "text/plain": [
              "                                   conclusion   \n",
              "196152  we should return to the gold standard  \\\n",
              "\n",
              "                                                 premises   \n",
              "196152  [(https://docs.google.com..., ArgsMeStance.PRO...  \\\n",
              "\n",
              "                    premises_texts aspects_names  source_id   \n",
              "196152  https://docs.google.com...                Sd5c342bd  \\\n",
              "\n",
              "                                             source_title   \n",
              "196152  Debate: we should return to the gold standard ...  \\\n",
              "\n",
              "                                        topic   \n",
              "196152  we should return to the gold standard  \\\n",
              "\n",
              "                                                sentences   \n",
              "196152  (Sd5c342bd-A6718cbc0__PREMISE__1, https://docs...  \\\n",
              "\n",
              "                      docno                           sentno   \n",
              "196152  Sd5c342bd-A6718cbc0  Sd5c342bd-A6718cbc0__PREMISE__1  \\\n",
              "\n",
              "                           sentext  \n",
              "196152  https://docs.google.com...  "
            ]
          },
          "execution_count": 25,
          "metadata": {},
          "output_type": "execute_result"
        }
      ],
      "source": [
        "sent[sent['sentno'] == \"Sd5c342bd-A6718cbc0__PREMISE__1\"]"
      ]
    },
    {
      "cell_type": "markdown",
      "metadata": {},
      "source": [
        "Sentext is just a word"
      ]
    },
    {
      "cell_type": "code",
      "execution_count": 26,
      "metadata": {},
      "outputs": [
        {
          "data": {
            "text/html": [
              "<div>\n",
              "<style scoped>\n",
              "    .dataframe tbody tr th:only-of-type {\n",
              "        vertical-align: middle;\n",
              "    }\n",
              "\n",
              "    .dataframe tbody tr th {\n",
              "        vertical-align: top;\n",
              "    }\n",
              "\n",
              "    .dataframe thead th {\n",
              "        text-align: right;\n",
              "    }\n",
              "</style>\n",
              "<table border=\"1\" class=\"dataframe\">\n",
              "  <thead>\n",
              "    <tr style=\"text-align: right;\">\n",
              "      <th></th>\n",
              "      <th>conclusion</th>\n",
              "      <th>premises</th>\n",
              "      <th>premises_texts</th>\n",
              "      <th>aspects_names</th>\n",
              "      <th>source_id</th>\n",
              "      <th>source_title</th>\n",
              "      <th>topic</th>\n",
              "      <th>sentences</th>\n",
              "      <th>docno</th>\n",
              "      <th>sentno</th>\n",
              "      <th>sentext</th>\n",
              "    </tr>\n",
              "  </thead>\n",
              "  <tbody>\n",
              "    <tr>\n",
              "      <th>249</th>\n",
              "      <td>Judiciary are undermined</td>\n",
              "      <td>[(Should Guinea-Bissau become the new front of...</td>\n",
              "      <td>Should Guinea-Bissau become the new front of t...</td>\n",
              "      <td></td>\n",
              "      <td>S444c08ff</td>\n",
              "      <td>This House believes Guinea-Bissau should not l...</td>\n",
              "      <td>Guinea-Bissau should not let itself be turned ...</td>\n",
              "      <td>(S444c08ff-A29c534a3__PREMISE__8, ‘U.S.)</td>\n",
              "      <td>S444c08ff-A29c534a3</td>\n",
              "      <td>S444c08ff-A29c534a3__PREMISE__8</td>\n",
              "      <td>‘U.S.</td>\n",
              "    </tr>\n",
              "  </tbody>\n",
              "</table>\n",
              "</div>"
            ],
            "text/plain": [
              "                   conclusion   \n",
              "249  Judiciary are undermined  \\\n",
              "\n",
              "                                              premises   \n",
              "249  [(Should Guinea-Bissau become the new front of...  \\\n",
              "\n",
              "                                        premises_texts aspects_names   \n",
              "249  Should Guinea-Bissau become the new front of t...                \\\n",
              "\n",
              "     source_id                                       source_title   \n",
              "249  S444c08ff  This House believes Guinea-Bissau should not l...  \\\n",
              "\n",
              "                                                 topic   \n",
              "249  Guinea-Bissau should not let itself be turned ...  \\\n",
              "\n",
              "                                    sentences                docno   \n",
              "249  (S444c08ff-A29c534a3__PREMISE__8, ‘U.S.)  S444c08ff-A29c534a3  \\\n",
              "\n",
              "                              sentno sentext  \n",
              "249  S444c08ff-A29c534a3__PREMISE__8   ‘U.S.  "
            ]
          },
          "execution_count": 26,
          "metadata": {},
          "output_type": "execute_result"
        }
      ],
      "source": [
        "sent[sent['sentno'] == 'S444c08ff-A29c534a3__PREMISE__8']"
      ]
    },
    {
      "cell_type": "markdown",
      "metadata": {},
      "source": [
        "Extract STANCE\n",
        "lista contentente un ArgsMeStance di 3 elementi, ci interessa il primo posizione 1"
      ]
    },
    {
      "cell_type": "code",
      "execution_count": 27,
      "metadata": {},
      "outputs": [],
      "source": [
        "#Extract Stance from Args\n",
        "def extract_args_me_stance(input_string):\n",
        "    pattern = re.compile(r'ArgsMeStance\\.([a-zA-Z]+)')\n",
        "    s = str(input_string[0][1])\n",
        "    matches = pattern.findall(s)\n",
        "    return matches"
      ]
    },
    {
      "cell_type": "code",
      "execution_count": 28,
      "metadata": {},
      "outputs": [],
      "source": [
        "sent['stance'] = sent['premises'].apply(extract_args_me_stance)"
      ]
    },
    {
      "cell_type": "code",
      "execution_count": 29,
      "metadata": {},
      "outputs": [
        {
          "data": {
            "text/plain": [
              "stance\n",
              "[PRO]    3099937\n",
              "[CON]    3019020\n",
              "Name: count, dtype: int64"
            ]
          },
          "execution_count": 29,
          "metadata": {},
          "output_type": "execute_result"
        }
      ],
      "source": [
        "sent.stance.value_counts()"
      ]
    },
    {
      "cell_type": "code",
      "execution_count": 30,
      "metadata": {},
      "outputs": [],
      "source": [
        "def remove_punctuation(input_string):\n",
        "    return ''.join(char for char in input_string if char not in string.punctuation)"
      ]
    },
    {
      "cell_type": "code",
      "execution_count": 31,
      "metadata": {},
      "outputs": [],
      "source": [
        "# Remove punctuation from the 'stance' column\n",
        "sent['stance'] = sent['stance'].apply(lambda x: remove_punctuation(x))"
      ]
    },
    {
      "cell_type": "code",
      "execution_count": 32,
      "metadata": {},
      "outputs": [
        {
          "data": {
            "text/html": [
              "<div>\n",
              "<style scoped>\n",
              "    .dataframe tbody tr th:only-of-type {\n",
              "        vertical-align: middle;\n",
              "    }\n",
              "\n",
              "    .dataframe tbody tr th {\n",
              "        vertical-align: top;\n",
              "    }\n",
              "\n",
              "    .dataframe thead th {\n",
              "        text-align: right;\n",
              "    }\n",
              "</style>\n",
              "<table border=\"1\" class=\"dataframe\">\n",
              "  <thead>\n",
              "    <tr style=\"text-align: right;\">\n",
              "      <th></th>\n",
              "      <th>conclusion</th>\n",
              "      <th>premises</th>\n",
              "      <th>premises_texts</th>\n",
              "      <th>aspects_names</th>\n",
              "      <th>source_id</th>\n",
              "      <th>source_title</th>\n",
              "      <th>topic</th>\n",
              "      <th>sentences</th>\n",
              "      <th>docno</th>\n",
              "      <th>sentno</th>\n",
              "      <th>sentext</th>\n",
              "      <th>stance</th>\n",
              "    </tr>\n",
              "  </thead>\n",
              "  <tbody>\n",
              "    <tr>\n",
              "      <th>0</th>\n",
              "      <td>the War in Iraq was Worth the Cost</td>\n",
              "      <td>[(His removal provides stability and security ...</td>\n",
              "      <td>His removal provides stability and security no...</td>\n",
              "      <td></td>\n",
              "      <td>Sf9294c83</td>\n",
              "      <td>This House Believes that the War in Iraq was W...</td>\n",
              "      <td>the War in Iraq was Worth the Cost</td>\n",
              "      <td>(Sf9294c83-Af186e851__PREMISE__1, His removal ...</td>\n",
              "      <td>Sf9294c83-Af186e851</td>\n",
              "      <td>Sf9294c83-Af186e851__PREMISE__1</td>\n",
              "      <td>His removal provides stability and security no...</td>\n",
              "      <td>PRO</td>\n",
              "    </tr>\n",
              "    <tr>\n",
              "      <th>0</th>\n",
              "      <td>the War in Iraq was Worth the Cost</td>\n",
              "      <td>[(His removal provides stability and security ...</td>\n",
              "      <td>His removal provides stability and security no...</td>\n",
              "      <td></td>\n",
              "      <td>Sf9294c83</td>\n",
              "      <td>This House Believes that the War in Iraq was W...</td>\n",
              "      <td>the War in Iraq was Worth the Cost</td>\n",
              "      <td>(Sf9294c83-Af186e851__CONC__1, the War in Iraq...</td>\n",
              "      <td>Sf9294c83-Af186e851</td>\n",
              "      <td>Sf9294c83-Af186e851__CONC__1</td>\n",
              "      <td>the War in Iraq was Worth the Cost</td>\n",
              "      <td>PRO</td>\n",
              "    </tr>\n",
              "  </tbody>\n",
              "</table>\n",
              "</div>"
            ],
            "text/plain": [
              "                           conclusion   \n",
              "0  the War in Iraq was Worth the Cost  \\\n",
              "0  the War in Iraq was Worth the Cost   \n",
              "\n",
              "                                            premises   \n",
              "0  [(His removal provides stability and security ...  \\\n",
              "0  [(His removal provides stability and security ...   \n",
              "\n",
              "                                      premises_texts aspects_names  source_id   \n",
              "0  His removal provides stability and security no...                Sf9294c83  \\\n",
              "0  His removal provides stability and security no...                Sf9294c83   \n",
              "\n",
              "                                        source_title   \n",
              "0  This House Believes that the War in Iraq was W...  \\\n",
              "0  This House Believes that the War in Iraq was W...   \n",
              "\n",
              "                                topic   \n",
              "0  the War in Iraq was Worth the Cost  \\\n",
              "0  the War in Iraq was Worth the Cost   \n",
              "\n",
              "                                           sentences                docno   \n",
              "0  (Sf9294c83-Af186e851__PREMISE__1, His removal ...  Sf9294c83-Af186e851  \\\n",
              "0  (Sf9294c83-Af186e851__CONC__1, the War in Iraq...  Sf9294c83-Af186e851   \n",
              "\n",
              "                            sentno   \n",
              "0  Sf9294c83-Af186e851__PREMISE__1  \\\n",
              "0     Sf9294c83-Af186e851__CONC__1   \n",
              "\n",
              "                                             sentext stance  \n",
              "0  His removal provides stability and security no...    PRO  \n",
              "0                 the War in Iraq was Worth the Cost    PRO  "
            ]
          },
          "execution_count": 32,
          "metadata": {},
          "output_type": "execute_result"
        }
      ],
      "source": [
        "sent.head(2)"
      ]
    },
    {
      "cell_type": "markdown",
      "metadata": {},
      "source": [
        "Rename columns for indexig purposes"
      ]
    },
    {
      "cell_type": "code",
      "execution_count": 33,
      "metadata": {},
      "outputs": [],
      "source": [
        "new_columns = {'docno': 'documentno', 'sentno': 'docno', 'sentext':'text'} \n",
        "sent.rename(columns=new_columns, inplace=True)"
      ]
    },
    {
      "cell_type": "code",
      "execution_count": 34,
      "metadata": {},
      "outputs": [
        {
          "data": {
            "text/html": [
              "<div>\n",
              "<style scoped>\n",
              "    .dataframe tbody tr th:only-of-type {\n",
              "        vertical-align: middle;\n",
              "    }\n",
              "\n",
              "    .dataframe tbody tr th {\n",
              "        vertical-align: top;\n",
              "    }\n",
              "\n",
              "    .dataframe thead th {\n",
              "        text-align: right;\n",
              "    }\n",
              "</style>\n",
              "<table border=\"1\" class=\"dataframe\">\n",
              "  <thead>\n",
              "    <tr style=\"text-align: right;\">\n",
              "      <th></th>\n",
              "      <th>conclusion</th>\n",
              "      <th>premises</th>\n",
              "      <th>premises_texts</th>\n",
              "      <th>aspects_names</th>\n",
              "      <th>source_id</th>\n",
              "      <th>source_title</th>\n",
              "      <th>topic</th>\n",
              "      <th>sentences</th>\n",
              "      <th>documentno</th>\n",
              "      <th>docno</th>\n",
              "      <th>text</th>\n",
              "      <th>stance</th>\n",
              "    </tr>\n",
              "  </thead>\n",
              "  <tbody>\n",
              "    <tr>\n",
              "      <th>0</th>\n",
              "      <td>the War in Iraq was Worth the Cost</td>\n",
              "      <td>[(His removal provides stability and security ...</td>\n",
              "      <td>His removal provides stability and security no...</td>\n",
              "      <td></td>\n",
              "      <td>Sf9294c83</td>\n",
              "      <td>This House Believes that the War in Iraq was W...</td>\n",
              "      <td>the War in Iraq was Worth the Cost</td>\n",
              "      <td>(Sf9294c83-Af186e851__PREMISE__1, His removal ...</td>\n",
              "      <td>Sf9294c83-Af186e851</td>\n",
              "      <td>Sf9294c83-Af186e851__PREMISE__1</td>\n",
              "      <td>His removal provides stability and security no...</td>\n",
              "      <td>PRO</td>\n",
              "    </tr>\n",
              "  </tbody>\n",
              "</table>\n",
              "</div>"
            ],
            "text/plain": [
              "                           conclusion   \n",
              "0  the War in Iraq was Worth the Cost  \\\n",
              "\n",
              "                                            premises   \n",
              "0  [(His removal provides stability and security ...  \\\n",
              "\n",
              "                                      premises_texts aspects_names  source_id   \n",
              "0  His removal provides stability and security no...                Sf9294c83  \\\n",
              "\n",
              "                                        source_title   \n",
              "0  This House Believes that the War in Iraq was W...  \\\n",
              "\n",
              "                                topic   \n",
              "0  the War in Iraq was Worth the Cost  \\\n",
              "\n",
              "                                           sentences           documentno   \n",
              "0  (Sf9294c83-Af186e851__PREMISE__1, His removal ...  Sf9294c83-Af186e851  \\\n",
              "\n",
              "                             docno   \n",
              "0  Sf9294c83-Af186e851__PREMISE__1  \\\n",
              "\n",
              "                                                text stance  \n",
              "0  His removal provides stability and security no...    PRO  "
            ]
          },
          "execution_count": 34,
          "metadata": {},
          "output_type": "execute_result"
        }
      ],
      "source": [
        "sent.head(1)"
      ]
    },
    {
      "cell_type": "markdown",
      "metadata": {},
      "source": [
        "Eliminate duplicates with respect to 'text' column:"
      ]
    },
    {
      "cell_type": "code",
      "execution_count": 35,
      "metadata": {},
      "outputs": [
        {
          "data": {
            "text/plain": [
              "0"
            ]
          },
          "execution_count": 35,
          "metadata": {},
          "output_type": "execute_result"
        }
      ],
      "source": [
        "sent.docno.duplicated().sum()"
      ]
    },
    {
      "cell_type": "code",
      "execution_count": 36,
      "metadata": {},
      "outputs": [
        {
          "data": {
            "text/plain": [
              "str"
            ]
          },
          "execution_count": 36,
          "metadata": {},
          "output_type": "execute_result"
        }
      ],
      "source": [
        "type(sent.text.iloc[0])"
      ]
    },
    {
      "cell_type": "code",
      "execution_count": 37,
      "metadata": {},
      "outputs": [
        {
          "name": "stdout",
          "output_type": "stream",
          "text": [
            "shape of sentcens: (6118957, 12)\n",
            "Duplicated sentences: 781548\n"
          ]
        }
      ],
      "source": [
        "print(\"shape of sentcens:\", sent.shape)\n",
        "print(\"Duplicated sentences:\", sent.text.duplicated().sum())"
      ]
    },
    {
      "cell_type": "code",
      "execution_count": 38,
      "metadata": {},
      "outputs": [],
      "source": [
        "sent.drop_duplicates(subset=['text'], inplace=True)"
      ]
    },
    {
      "cell_type": "code",
      "execution_count": 39,
      "metadata": {},
      "outputs": [
        {
          "name": "stdout",
          "output_type": "stream",
          "text": [
            "shape of sentcens: (5337409, 12)\n"
          ]
        }
      ],
      "source": [
        "print(\"shape of sentcens:\", sent.shape)"
      ]
    },
    {
      "cell_type": "markdown",
      "metadata": {},
      "source": [
        "##### The next objective consists in **indexing** the dataframe containing sentences - DFIndexer"
      ]
    },
    {
      "cell_type": "code",
      "execution_count": 43,
      "metadata": {},
      "outputs": [
        {
          "name": "stdout",
          "output_type": "stream",
          "text": [
            "11:16:02.981 [main] WARN org.terrier.structures.indexing.Indexer - Adding an empty document to the index (S444c08ff-A29c534a3__PREMISE__8) - further warnings are suppressed\n",
            "11:38:19.906 [main] WARN org.terrier.structures.indexing.Indexer - Indexed 15971 empty documents\n",
            "/Users/juliabuixuan/Desktop/TOUCHE/index22sent/data.properties\n"
          ]
        }
      ],
      "source": [
        "pt_index_path_sent = '/Users/juliabuixuan/Desktop/TOUCHE/index22sent' #25min #run again with no sentences duplicated \n",
        "\n",
        "indexer = pt.DFIndexer(pt_index_path_sent, overwrite=True)\n",
        "\n",
        "index_ref = indexer.index(sent[\"text\"], sent[\"docno\"])\n",
        "print(index_ref.toString())\n"
      ]
    },
    {
      "cell_type": "code",
      "execution_count": null,
      "metadata": {},
      "outputs": [],
      "source": [
        "#   # if you already have the index, use it.\n",
        "# index_ref = pt.IndexRef.of(pt_index_path_sent + \"/data.properties\")\n",
        "# index = pt.IndexFactory.of(index_ref)"
      ]
    },
    {
      "cell_type": "code",
      "execution_count": 45,
      "metadata": {},
      "outputs": [],
      "source": [
        "index = pt.IndexFactory.of(index_ref)"
      ]
    },
    {
      "cell_type": "code",
      "execution_count": 46,
      "metadata": {},
      "outputs": [
        {
          "name": "stdout",
          "output_type": "stream",
          "text": [
            "Number of documents: 5337409\n",
            "Number of terms: 327395\n",
            "Number of postings: 45957251\n",
            "Number of fields: 0\n",
            "Number of tokens: 49800997\n",
            "Field names: []\n",
            "Positions:   false\n",
            "\n"
          ]
        }
      ],
      "source": [
        "print(index.getCollectionStatistics())"
      ]
    },
    {
      "cell_type": "markdown",
      "metadata": {},
      "source": [
        "#### Merge retrived df with sent df. In this way you can associate the text of sentences to the \"docno\" extracted."
      ]
    },
    {
      "cell_type": "code",
      "execution_count": 40,
      "metadata": {},
      "outputs": [],
      "source": [
        "retrieved = pd.read_csv(\"retrieved_sent22.csv\")"
      ]
    },
    {
      "cell_type": "code",
      "execution_count": 41,
      "metadata": {},
      "outputs": [
        {
          "data": {
            "text/html": [
              "<div>\n",
              "<style scoped>\n",
              "    .dataframe tbody tr th:only-of-type {\n",
              "        vertical-align: middle;\n",
              "    }\n",
              "\n",
              "    .dataframe tbody tr th {\n",
              "        vertical-align: top;\n",
              "    }\n",
              "\n",
              "    .dataframe thead th {\n",
              "        text-align: right;\n",
              "    }\n",
              "</style>\n",
              "<table border=\"1\" class=\"dataframe\">\n",
              "  <thead>\n",
              "    <tr style=\"text-align: right;\">\n",
              "      <th></th>\n",
              "      <th>qid</th>\n",
              "      <th>docid</th>\n",
              "      <th>docno</th>\n",
              "      <th>rank</th>\n",
              "      <th>score</th>\n",
              "      <th>query</th>\n",
              "    </tr>\n",
              "  </thead>\n",
              "  <tbody>\n",
              "    <tr>\n",
              "      <th>0</th>\n",
              "      <td>1</td>\n",
              "      <td>5530830</td>\n",
              "      <td>Sc065954f-A6deb09b6__CONC__1</td>\n",
              "      <td>0</td>\n",
              "      <td>31.819347</td>\n",
              "      <td>should teachers get tenure</td>\n",
              "    </tr>\n",
              "    <tr>\n",
              "      <th>1</th>\n",
              "      <td>1</td>\n",
              "      <td>5530887</td>\n",
              "      <td>Sc065954f-A24a16870__CONC__1</td>\n",
              "      <td>1</td>\n",
              "      <td>31.819347</td>\n",
              "      <td>should teachers get tenure</td>\n",
              "    </tr>\n",
              "    <tr>\n",
              "      <th>2</th>\n",
              "      <td>1</td>\n",
              "      <td>5530930</td>\n",
              "      <td>Sc065954f-A39b0539e__CONC__1</td>\n",
              "      <td>2</td>\n",
              "      <td>31.819347</td>\n",
              "      <td>should teachers get tenure</td>\n",
              "    </tr>\n",
              "    <tr>\n",
              "      <th>3</th>\n",
              "      <td>1</td>\n",
              "      <td>5530975</td>\n",
              "      <td>Sc065954f-Ae72bc9c6__CONC__1</td>\n",
              "      <td>3</td>\n",
              "      <td>31.819347</td>\n",
              "      <td>should teachers get tenure</td>\n",
              "    </tr>\n",
              "    <tr>\n",
              "      <th>4</th>\n",
              "      <td>1</td>\n",
              "      <td>5530977</td>\n",
              "      <td>Sc065954f-Ac3a1cfc1__CONC__1</td>\n",
              "      <td>4</td>\n",
              "      <td>31.819347</td>\n",
              "      <td>should teachers get tenure</td>\n",
              "    </tr>\n",
              "    <tr>\n",
              "      <th>...</th>\n",
              "      <td>...</td>\n",
              "      <td>...</td>\n",
              "      <td>...</td>\n",
              "      <td>...</td>\n",
              "      <td>...</td>\n",
              "      <td>...</td>\n",
              "    </tr>\n",
              "    <tr>\n",
              "      <th>49995</th>\n",
              "      <td>50</td>\n",
              "      <td>3318286</td>\n",
              "      <td>S338b77ee-A992365c8__PREMISE__48</td>\n",
              "      <td>995</td>\n",
              "      <td>11.940570</td>\n",
              "      <td>should everyone get a universal basic income</td>\n",
              "    </tr>\n",
              "    <tr>\n",
              "      <th>49996</th>\n",
              "      <td>50</td>\n",
              "      <td>3994914</td>\n",
              "      <td>S3b365097-Ad26213e1__PREMISE__12</td>\n",
              "      <td>996</td>\n",
              "      <td>11.940570</td>\n",
              "      <td>should everyone get a universal basic income</td>\n",
              "    </tr>\n",
              "    <tr>\n",
              "      <th>49997</th>\n",
              "      <td>50</td>\n",
              "      <td>3994963</td>\n",
              "      <td>S3b365097-A52f34d04__PREMISE__10</td>\n",
              "      <td>997</td>\n",
              "      <td>11.940570</td>\n",
              "      <td>should everyone get a universal basic income</td>\n",
              "    </tr>\n",
              "    <tr>\n",
              "      <th>49998</th>\n",
              "      <td>50</td>\n",
              "      <td>4304731</td>\n",
              "      <td>Sf87405ad-Ae94dd302__PREMISE__3</td>\n",
              "      <td>998</td>\n",
              "      <td>11.940570</td>\n",
              "      <td>should everyone get a universal basic income</td>\n",
              "    </tr>\n",
              "    <tr>\n",
              "      <th>49999</th>\n",
              "      <td>50</td>\n",
              "      <td>4326185</td>\n",
              "      <td>Saa6c9e2a-Ac4359445__PREMISE__20</td>\n",
              "      <td>999</td>\n",
              "      <td>11.940570</td>\n",
              "      <td>should everyone get a universal basic income</td>\n",
              "    </tr>\n",
              "  </tbody>\n",
              "</table>\n",
              "<p>50000 rows × 6 columns</p>\n",
              "</div>"
            ],
            "text/plain": [
              "       qid    docid                             docno  rank      score   \n",
              "0        1  5530830      Sc065954f-A6deb09b6__CONC__1     0  31.819347  \\\n",
              "1        1  5530887      Sc065954f-A24a16870__CONC__1     1  31.819347   \n",
              "2        1  5530930      Sc065954f-A39b0539e__CONC__1     2  31.819347   \n",
              "3        1  5530975      Sc065954f-Ae72bc9c6__CONC__1     3  31.819347   \n",
              "4        1  5530977      Sc065954f-Ac3a1cfc1__CONC__1     4  31.819347   \n",
              "...    ...      ...                               ...   ...        ...   \n",
              "49995   50  3318286  S338b77ee-A992365c8__PREMISE__48   995  11.940570   \n",
              "49996   50  3994914  S3b365097-Ad26213e1__PREMISE__12   996  11.940570   \n",
              "49997   50  3994963  S3b365097-A52f34d04__PREMISE__10   997  11.940570   \n",
              "49998   50  4304731   Sf87405ad-Ae94dd302__PREMISE__3   998  11.940570   \n",
              "49999   50  4326185  Saa6c9e2a-Ac4359445__PREMISE__20   999  11.940570   \n",
              "\n",
              "                                              query  \n",
              "0                        should teachers get tenure  \n",
              "1                        should teachers get tenure  \n",
              "2                        should teachers get tenure  \n",
              "3                        should teachers get tenure  \n",
              "4                        should teachers get tenure  \n",
              "...                                             ...  \n",
              "49995  should everyone get a universal basic income  \n",
              "49996  should everyone get a universal basic income  \n",
              "49997  should everyone get a universal basic income  \n",
              "49998  should everyone get a universal basic income  \n",
              "49999  should everyone get a universal basic income  \n",
              "\n",
              "[50000 rows x 6 columns]"
            ]
          },
          "execution_count": 41,
          "metadata": {},
          "output_type": "execute_result"
        }
      ],
      "source": [
        "retrieved"
      ]
    },
    {
      "cell_type": "code",
      "execution_count": 42,
      "metadata": {},
      "outputs": [],
      "source": [
        "sent2 = sent[['docno','text','stance']]"
      ]
    },
    {
      "cell_type": "code",
      "execution_count": 43,
      "metadata": {},
      "outputs": [
        {
          "data": {
            "text/html": [
              "<div>\n",
              "<style scoped>\n",
              "    .dataframe tbody tr th:only-of-type {\n",
              "        vertical-align: middle;\n",
              "    }\n",
              "\n",
              "    .dataframe tbody tr th {\n",
              "        vertical-align: top;\n",
              "    }\n",
              "\n",
              "    .dataframe thead th {\n",
              "        text-align: right;\n",
              "    }\n",
              "</style>\n",
              "<table border=\"1\" class=\"dataframe\">\n",
              "  <thead>\n",
              "    <tr style=\"text-align: right;\">\n",
              "      <th></th>\n",
              "      <th>docno</th>\n",
              "      <th>text</th>\n",
              "      <th>stance</th>\n",
              "    </tr>\n",
              "  </thead>\n",
              "  <tbody>\n",
              "    <tr>\n",
              "      <th>0</th>\n",
              "      <td>Sf9294c83-Af186e851__PREMISE__1</td>\n",
              "      <td>His removal provides stability and security no...</td>\n",
              "      <td>PRO</td>\n",
              "    </tr>\n",
              "    <tr>\n",
              "      <th>0</th>\n",
              "      <td>Sf9294c83-Af186e851__CONC__1</td>\n",
              "      <td>the War in Iraq was Worth the Cost</td>\n",
              "      <td>PRO</td>\n",
              "    </tr>\n",
              "    <tr>\n",
              "      <th>1</th>\n",
              "      <td>Sf9294c83-A9a4e056e__PREMISE__1</td>\n",
              "      <td>It's important to be clear that this debate is...</td>\n",
              "      <td>PRO</td>\n",
              "    </tr>\n",
              "    <tr>\n",
              "      <th>1</th>\n",
              "      <td>Sf9294c83-A9a4e056e__PREMISE__2</td>\n",
              "      <td>Whatever one thinks of the initial justificati...</td>\n",
              "      <td>PRO</td>\n",
              "    </tr>\n",
              "    <tr>\n",
              "      <th>1</th>\n",
              "      <td>Sf9294c83-A9a4e056e__PREMISE__3</td>\n",
              "      <td>It is easy to criticize the allies but it is w...</td>\n",
              "      <td>PRO</td>\n",
              "    </tr>\n",
              "    <tr>\n",
              "      <th>...</th>\n",
              "      <td>...</td>\n",
              "      <td>...</td>\n",
              "      <td>...</td>\n",
              "    </tr>\n",
              "    <tr>\n",
              "      <th>365406</th>\n",
              "      <td>S148bb110-A63b9848c__PREMISE__7</td>\n",
              "      <td>This can depend on local features such as shel...</td>\n",
              "      <td>PRO</td>\n",
              "    </tr>\n",
              "    <tr>\n",
              "      <th>365406</th>\n",
              "      <td>S148bb110-A63b9848c__PREMISE__8</td>\n",
              "      <td>This can mean that a lot of places just aren't...</td>\n",
              "      <td>PRO</td>\n",
              "    </tr>\n",
              "    <tr>\n",
              "      <th>365406</th>\n",
              "      <td>S148bb110-A63b9848c__PREMISE__9</td>\n",
              "      <td>When planning the location major consideration...</td>\n",
              "      <td>PRO</td>\n",
              "    </tr>\n",
              "    <tr>\n",
              "      <th>365407</th>\n",
              "      <td>S148bb110-A119d66b0__PREMISE__1</td>\n",
              "      <td>Barages are fairly massive objects, like Dams,...</td>\n",
              "      <td>PRO</td>\n",
              "    </tr>\n",
              "    <tr>\n",
              "      <th>365407</th>\n",
              "      <td>S148bb110-A119d66b0__PREMISE__2</td>\n",
              "      <td>These effects can be very ugly, causing frustr...</td>\n",
              "      <td>PRO</td>\n",
              "    </tr>\n",
              "  </tbody>\n",
              "</table>\n",
              "<p>5337409 rows × 3 columns</p>\n",
              "</div>"
            ],
            "text/plain": [
              "                                  docno   \n",
              "0       Sf9294c83-Af186e851__PREMISE__1  \\\n",
              "0          Sf9294c83-Af186e851__CONC__1   \n",
              "1       Sf9294c83-A9a4e056e__PREMISE__1   \n",
              "1       Sf9294c83-A9a4e056e__PREMISE__2   \n",
              "1       Sf9294c83-A9a4e056e__PREMISE__3   \n",
              "...                                 ...   \n",
              "365406  S148bb110-A63b9848c__PREMISE__7   \n",
              "365406  S148bb110-A63b9848c__PREMISE__8   \n",
              "365406  S148bb110-A63b9848c__PREMISE__9   \n",
              "365407  S148bb110-A119d66b0__PREMISE__1   \n",
              "365407  S148bb110-A119d66b0__PREMISE__2   \n",
              "\n",
              "                                                     text stance  \n",
              "0       His removal provides stability and security no...    PRO  \n",
              "0                      the War in Iraq was Worth the Cost    PRO  \n",
              "1       It's important to be clear that this debate is...    PRO  \n",
              "1       Whatever one thinks of the initial justificati...    PRO  \n",
              "1       It is easy to criticize the allies but it is w...    PRO  \n",
              "...                                                   ...    ...  \n",
              "365406  This can depend on local features such as shel...    PRO  \n",
              "365406  This can mean that a lot of places just aren't...    PRO  \n",
              "365406  When planning the location major consideration...    PRO  \n",
              "365407  Barages are fairly massive objects, like Dams,...    PRO  \n",
              "365407  These effects can be very ugly, causing frustr...    PRO  \n",
              "\n",
              "[5337409 rows x 3 columns]"
            ]
          },
          "execution_count": 43,
          "metadata": {},
          "output_type": "execute_result"
        }
      ],
      "source": [
        "sent2"
      ]
    },
    {
      "cell_type": "code",
      "execution_count": 44,
      "metadata": {},
      "outputs": [],
      "source": [
        "merged = pd.merge(retrieved, sent2, on=\"docno\", how = 'left')"
      ]
    },
    {
      "cell_type": "code",
      "execution_count": 45,
      "metadata": {},
      "outputs": [
        {
          "data": {
            "text/html": [
              "<div>\n",
              "<style scoped>\n",
              "    .dataframe tbody tr th:only-of-type {\n",
              "        vertical-align: middle;\n",
              "    }\n",
              "\n",
              "    .dataframe tbody tr th {\n",
              "        vertical-align: top;\n",
              "    }\n",
              "\n",
              "    .dataframe thead th {\n",
              "        text-align: right;\n",
              "    }\n",
              "</style>\n",
              "<table border=\"1\" class=\"dataframe\">\n",
              "  <thead>\n",
              "    <tr style=\"text-align: right;\">\n",
              "      <th></th>\n",
              "      <th>qid</th>\n",
              "      <th>docid</th>\n",
              "      <th>docno</th>\n",
              "      <th>rank</th>\n",
              "      <th>score</th>\n",
              "      <th>query</th>\n",
              "      <th>text</th>\n",
              "      <th>stance</th>\n",
              "    </tr>\n",
              "  </thead>\n",
              "  <tbody>\n",
              "    <tr>\n",
              "      <th>0</th>\n",
              "      <td>1</td>\n",
              "      <td>5530830</td>\n",
              "      <td>Sc065954f-A6deb09b6__CONC__1</td>\n",
              "      <td>0</td>\n",
              "      <td>31.819347</td>\n",
              "      <td>should teachers get tenure</td>\n",
              "      <td>There should not be a teacher tenure.</td>\n",
              "      <td>CON</td>\n",
              "    </tr>\n",
              "    <tr>\n",
              "      <th>1</th>\n",
              "      <td>1</td>\n",
              "      <td>5530887</td>\n",
              "      <td>Sc065954f-A24a16870__CONC__1</td>\n",
              "      <td>1</td>\n",
              "      <td>31.819347</td>\n",
              "      <td>should teachers get tenure</td>\n",
              "      <td>NaN</td>\n",
              "      <td>NaN</td>\n",
              "    </tr>\n",
              "    <tr>\n",
              "      <th>2</th>\n",
              "      <td>1</td>\n",
              "      <td>5530930</td>\n",
              "      <td>Sc065954f-A39b0539e__CONC__1</td>\n",
              "      <td>2</td>\n",
              "      <td>31.819347</td>\n",
              "      <td>should teachers get tenure</td>\n",
              "      <td>NaN</td>\n",
              "      <td>NaN</td>\n",
              "    </tr>\n",
              "    <tr>\n",
              "      <th>3</th>\n",
              "      <td>1</td>\n",
              "      <td>5530975</td>\n",
              "      <td>Sc065954f-Ae72bc9c6__CONC__1</td>\n",
              "      <td>3</td>\n",
              "      <td>31.819347</td>\n",
              "      <td>should teachers get tenure</td>\n",
              "      <td>NaN</td>\n",
              "      <td>NaN</td>\n",
              "    </tr>\n",
              "    <tr>\n",
              "      <th>4</th>\n",
              "      <td>1</td>\n",
              "      <td>5530977</td>\n",
              "      <td>Sc065954f-Ac3a1cfc1__CONC__1</td>\n",
              "      <td>4</td>\n",
              "      <td>31.819347</td>\n",
              "      <td>should teachers get tenure</td>\n",
              "      <td>NaN</td>\n",
              "      <td>NaN</td>\n",
              "    </tr>\n",
              "    <tr>\n",
              "      <th>...</th>\n",
              "      <td>...</td>\n",
              "      <td>...</td>\n",
              "      <td>...</td>\n",
              "      <td>...</td>\n",
              "      <td>...</td>\n",
              "      <td>...</td>\n",
              "      <td>...</td>\n",
              "      <td>...</td>\n",
              "    </tr>\n",
              "    <tr>\n",
              "      <th>49995</th>\n",
              "      <td>50</td>\n",
              "      <td>3318286</td>\n",
              "      <td>S338b77ee-A992365c8__PREMISE__48</td>\n",
              "      <td>995</td>\n",
              "      <td>11.940570</td>\n",
              "      <td>should everyone get a universal basic income</td>\n",
              "      <td>NaN</td>\n",
              "      <td>NaN</td>\n",
              "    </tr>\n",
              "    <tr>\n",
              "      <th>49996</th>\n",
              "      <td>50</td>\n",
              "      <td>3994914</td>\n",
              "      <td>S3b365097-Ad26213e1__PREMISE__12</td>\n",
              "      <td>996</td>\n",
              "      <td>11.940570</td>\n",
              "      <td>should everyone get a universal basic income</td>\n",
              "      <td>is outside the basics.</td>\n",
              "      <td>CON</td>\n",
              "    </tr>\n",
              "    <tr>\n",
              "      <th>49997</th>\n",
              "      <td>50</td>\n",
              "      <td>3994963</td>\n",
              "      <td>S3b365097-A52f34d04__PREMISE__10</td>\n",
              "      <td>997</td>\n",
              "      <td>11.940570</td>\n",
              "      <td>should everyone get a universal basic income</td>\n",
              "      <td>x+y=z is basic.</td>\n",
              "      <td>PRO</td>\n",
              "    </tr>\n",
              "    <tr>\n",
              "      <th>49998</th>\n",
              "      <td>50</td>\n",
              "      <td>4304731</td>\n",
              "      <td>Sf87405ad-Ae94dd302__PREMISE__3</td>\n",
              "      <td>998</td>\n",
              "      <td>11.940570</td>\n",
              "      <td>should everyone get a universal basic income</td>\n",
              "      <td>Also, we have basically the same username.</td>\n",
              "      <td>CON</td>\n",
              "    </tr>\n",
              "    <tr>\n",
              "      <th>49999</th>\n",
              "      <td>50</td>\n",
              "      <td>4326185</td>\n",
              "      <td>Saa6c9e2a-Ac4359445__PREMISE__20</td>\n",
              "      <td>999</td>\n",
              "      <td>11.940570</td>\n",
              "      <td>should everyone get a universal basic income</td>\n",
              "      <td>They are basically the same things.</td>\n",
              "      <td>PRO</td>\n",
              "    </tr>\n",
              "  </tbody>\n",
              "</table>\n",
              "<p>50000 rows × 8 columns</p>\n",
              "</div>"
            ],
            "text/plain": [
              "       qid    docid                             docno  rank      score   \n",
              "0        1  5530830      Sc065954f-A6deb09b6__CONC__1     0  31.819347  \\\n",
              "1        1  5530887      Sc065954f-A24a16870__CONC__1     1  31.819347   \n",
              "2        1  5530930      Sc065954f-A39b0539e__CONC__1     2  31.819347   \n",
              "3        1  5530975      Sc065954f-Ae72bc9c6__CONC__1     3  31.819347   \n",
              "4        1  5530977      Sc065954f-Ac3a1cfc1__CONC__1     4  31.819347   \n",
              "...    ...      ...                               ...   ...        ...   \n",
              "49995   50  3318286  S338b77ee-A992365c8__PREMISE__48   995  11.940570   \n",
              "49996   50  3994914  S3b365097-Ad26213e1__PREMISE__12   996  11.940570   \n",
              "49997   50  3994963  S3b365097-A52f34d04__PREMISE__10   997  11.940570   \n",
              "49998   50  4304731   Sf87405ad-Ae94dd302__PREMISE__3   998  11.940570   \n",
              "49999   50  4326185  Saa6c9e2a-Ac4359445__PREMISE__20   999  11.940570   \n",
              "\n",
              "                                              query   \n",
              "0                        should teachers get tenure  \\\n",
              "1                        should teachers get tenure   \n",
              "2                        should teachers get tenure   \n",
              "3                        should teachers get tenure   \n",
              "4                        should teachers get tenure   \n",
              "...                                             ...   \n",
              "49995  should everyone get a universal basic income   \n",
              "49996  should everyone get a universal basic income   \n",
              "49997  should everyone get a universal basic income   \n",
              "49998  should everyone get a universal basic income   \n",
              "49999  should everyone get a universal basic income   \n",
              "\n",
              "                                             text stance  \n",
              "0           There should not be a teacher tenure.    CON  \n",
              "1                                             NaN    NaN  \n",
              "2                                             NaN    NaN  \n",
              "3                                             NaN    NaN  \n",
              "4                                             NaN    NaN  \n",
              "...                                           ...    ...  \n",
              "49995                                         NaN    NaN  \n",
              "49996                      is outside the basics.    CON  \n",
              "49997                             x+y=z is basic.    PRO  \n",
              "49998  Also, we have basically the same username.    CON  \n",
              "49999         They are basically the same things.    PRO  \n",
              "\n",
              "[50000 rows x 8 columns]"
            ]
          },
          "execution_count": 45,
          "metadata": {},
          "output_type": "execute_result"
        }
      ],
      "source": [
        "merged"
      ]
    },
    {
      "cell_type": "code",
      "execution_count": 92,
      "metadata": {},
      "outputs": [],
      "source": [
        "merged.to_csv(\"merged_retreived_sent22.csv\", index = False)"
      ]
    },
    {
      "cell_type": "markdown",
      "metadata": {},
      "source": [
        "NO DUPLICATES: "
      ]
    },
    {
      "cell_type": "code",
      "execution_count": 47,
      "metadata": {},
      "outputs": [],
      "source": [
        "retrieved = pd.read_csv(\"unique_retrieved_sent22.csv\")"
      ]
    },
    {
      "cell_type": "code",
      "execution_count": 47,
      "metadata": {},
      "outputs": [],
      "source": [
        "sent2 = sent[['docno','text','stance']]"
      ]
    },
    {
      "cell_type": "code",
      "execution_count": 50,
      "metadata": {},
      "outputs": [],
      "source": [
        "merged = pd.merge(retrieved, sent2, on=\"docno\", how = 'left')"
      ]
    },
    {
      "cell_type": "code",
      "execution_count": 51,
      "metadata": {},
      "outputs": [
        {
          "data": {
            "text/html": [
              "<div>\n",
              "<style scoped>\n",
              "    .dataframe tbody tr th:only-of-type {\n",
              "        vertical-align: middle;\n",
              "    }\n",
              "\n",
              "    .dataframe tbody tr th {\n",
              "        vertical-align: top;\n",
              "    }\n",
              "\n",
              "    .dataframe thead th {\n",
              "        text-align: right;\n",
              "    }\n",
              "</style>\n",
              "<table border=\"1\" class=\"dataframe\">\n",
              "  <thead>\n",
              "    <tr style=\"text-align: right;\">\n",
              "      <th></th>\n",
              "      <th>qid</th>\n",
              "      <th>docid</th>\n",
              "      <th>docno</th>\n",
              "      <th>rank</th>\n",
              "      <th>score</th>\n",
              "      <th>query</th>\n",
              "      <th>text</th>\n",
              "      <th>stance</th>\n",
              "    </tr>\n",
              "  </thead>\n",
              "  <tbody>\n",
              "    <tr>\n",
              "      <th>0</th>\n",
              "      <td>1</td>\n",
              "      <td>4852096</td>\n",
              "      <td>Sc065954f-A6deb09b6__CONC__1</td>\n",
              "      <td>0</td>\n",
              "      <td>31.873663</td>\n",
              "      <td>should teachers get tenure</td>\n",
              "      <td>There should not be a teacher tenure.</td>\n",
              "      <td>CON</td>\n",
              "    </tr>\n",
              "    <tr>\n",
              "      <th>1</th>\n",
              "      <td>1</td>\n",
              "      <td>2130092</td>\n",
              "      <td>S51530f3f-Ab10cafd7__PREMISE__1</td>\n",
              "      <td>1</td>\n",
              "      <td>29.939285</td>\n",
              "      <td>should teachers get tenure</td>\n",
              "      <td>This is a debate of tenures for teachers.</td>\n",
              "      <td>PRO</td>\n",
              "    </tr>\n",
              "    <tr>\n",
              "      <th>2</th>\n",
              "      <td>1</td>\n",
              "      <td>1476828</td>\n",
              "      <td>Sb0680508-Aa5189771__PREMISE__1</td>\n",
              "      <td>2</td>\n",
              "      <td>29.274197</td>\n",
              "      <td>should teachers get tenure</td>\n",
              "      <td>Here are some facts against Teacher Tenure: Te...</td>\n",
              "      <td>CON</td>\n",
              "    </tr>\n",
              "    <tr>\n",
              "      <th>3</th>\n",
              "      <td>1</td>\n",
              "      <td>2074507</td>\n",
              "      <td>Sbfe05689-Ac1b8b63e__PREMISE__51</td>\n",
              "      <td>3</td>\n",
              "      <td>29.152149</td>\n",
              "      <td>should teachers get tenure</td>\n",
              "      <td>If only competent teachers are given tenure, t...</td>\n",
              "      <td>PRO</td>\n",
              "    </tr>\n",
              "    <tr>\n",
              "      <th>4</th>\n",
              "      <td>1</td>\n",
              "      <td>4852159</td>\n",
              "      <td>Sc065954f-A39b0539e__PREMISE__14</td>\n",
              "      <td>4</td>\n",
              "      <td>28.332152</td>\n",
              "      <td>should teachers get tenure</td>\n",
              "      <td>Teacher tenure protects the academic freedom o...</td>\n",
              "      <td>CON</td>\n",
              "    </tr>\n",
              "    <tr>\n",
              "      <th>...</th>\n",
              "      <td>...</td>\n",
              "      <td>...</td>\n",
              "      <td>...</td>\n",
              "      <td>...</td>\n",
              "      <td>...</td>\n",
              "      <td>...</td>\n",
              "      <td>...</td>\n",
              "      <td>...</td>\n",
              "    </tr>\n",
              "    <tr>\n",
              "      <th>49995</th>\n",
              "      <td>50</td>\n",
              "      <td>712040</td>\n",
              "      <td>Sd8d74905-Ab7eb61ad__PREMISE__35</td>\n",
              "      <td>995</td>\n",
              "      <td>11.372135</td>\n",
              "      <td>should everyone get a universal basic income</td>\n",
              "      <td>Under Reagan, the African-American community h...</td>\n",
              "      <td>PRO</td>\n",
              "    </tr>\n",
              "    <tr>\n",
              "      <th>49996</th>\n",
              "      <td>50</td>\n",
              "      <td>753520</td>\n",
              "      <td>Sd57a7309-Ac186179a__PREMISE__18</td>\n",
              "      <td>996</td>\n",
              "      <td>11.372135</td>\n",
              "      <td>should everyone get a universal basic income</td>\n",
              "      <td>It is a ratio between the threshold of a famil...</td>\n",
              "      <td>PRO</td>\n",
              "    </tr>\n",
              "    <tr>\n",
              "      <th>49997</th>\n",
              "      <td>50</td>\n",
              "      <td>768460</td>\n",
              "      <td>Scba94472-Ac52ad00b__PREMISE__7</td>\n",
              "      <td>997</td>\n",
              "      <td>11.372135</td>\n",
              "      <td>should everyone get a universal basic income</td>\n",
              "      <td>You're much more likely to have a 6 figure inc...</td>\n",
              "      <td>PRO</td>\n",
              "    </tr>\n",
              "    <tr>\n",
              "      <th>49998</th>\n",
              "      <td>50</td>\n",
              "      <td>844101</td>\n",
              "      <td>Sb50ede6b-Aedfb3f89__PREMISE__51</td>\n",
              "      <td>998</td>\n",
              "      <td>11.372135</td>\n",
              "      <td>should everyone get a universal basic income</td>\n",
              "      <td>The income acquired by low-income households i...</td>\n",
              "      <td>CON</td>\n",
              "    </tr>\n",
              "    <tr>\n",
              "      <th>49999</th>\n",
              "      <td>50</td>\n",
              "      <td>911048</td>\n",
              "      <td>Sb554c60c-A2eccddd3__PREMISE__7</td>\n",
              "      <td>999</td>\n",
              "      <td>11.372135</td>\n",
              "      <td>should everyone get a universal basic income</td>\n",
              "      <td>[1] When their income dries up, their outlays ...</td>\n",
              "      <td>PRO</td>\n",
              "    </tr>\n",
              "  </tbody>\n",
              "</table>\n",
              "<p>50000 rows × 8 columns</p>\n",
              "</div>"
            ],
            "text/plain": [
              "       qid    docid                             docno  rank      score   \n",
              "0        1  4852096      Sc065954f-A6deb09b6__CONC__1     0  31.873663  \\\n",
              "1        1  2130092   S51530f3f-Ab10cafd7__PREMISE__1     1  29.939285   \n",
              "2        1  1476828   Sb0680508-Aa5189771__PREMISE__1     2  29.274197   \n",
              "3        1  2074507  Sbfe05689-Ac1b8b63e__PREMISE__51     3  29.152149   \n",
              "4        1  4852159  Sc065954f-A39b0539e__PREMISE__14     4  28.332152   \n",
              "...    ...      ...                               ...   ...        ...   \n",
              "49995   50   712040  Sd8d74905-Ab7eb61ad__PREMISE__35   995  11.372135   \n",
              "49996   50   753520  Sd57a7309-Ac186179a__PREMISE__18   996  11.372135   \n",
              "49997   50   768460   Scba94472-Ac52ad00b__PREMISE__7   997  11.372135   \n",
              "49998   50   844101  Sb50ede6b-Aedfb3f89__PREMISE__51   998  11.372135   \n",
              "49999   50   911048   Sb554c60c-A2eccddd3__PREMISE__7   999  11.372135   \n",
              "\n",
              "                                              query   \n",
              "0                        should teachers get tenure  \\\n",
              "1                        should teachers get tenure   \n",
              "2                        should teachers get tenure   \n",
              "3                        should teachers get tenure   \n",
              "4                        should teachers get tenure   \n",
              "...                                             ...   \n",
              "49995  should everyone get a universal basic income   \n",
              "49996  should everyone get a universal basic income   \n",
              "49997  should everyone get a universal basic income   \n",
              "49998  should everyone get a universal basic income   \n",
              "49999  should everyone get a universal basic income   \n",
              "\n",
              "                                                    text stance  \n",
              "0                  There should not be a teacher tenure.    CON  \n",
              "1              This is a debate of tenures for teachers.    PRO  \n",
              "2      Here are some facts against Teacher Tenure: Te...    CON  \n",
              "3      If only competent teachers are given tenure, t...    PRO  \n",
              "4      Teacher tenure protects the academic freedom o...    CON  \n",
              "...                                                  ...    ...  \n",
              "49995  Under Reagan, the African-American community h...    PRO  \n",
              "49996  It is a ratio between the threshold of a famil...    PRO  \n",
              "49997  You're much more likely to have a 6 figure inc...    PRO  \n",
              "49998  The income acquired by low-income households i...    CON  \n",
              "49999  [1] When their income dries up, their outlays ...    PRO  \n",
              "\n",
              "[50000 rows x 8 columns]"
            ]
          },
          "execution_count": 51,
          "metadata": {},
          "output_type": "execute_result"
        }
      ],
      "source": [
        "merged"
      ]
    },
    {
      "cell_type": "markdown",
      "metadata": {},
      "source": [
        "Retrieved document sentences with BM25 where duplicated sentences were removed."
      ]
    },
    {
      "cell_type": "code",
      "execution_count": 52,
      "metadata": {},
      "outputs": [],
      "source": [
        "merged.to_csv(\"unique_merged_retreived_sent22.csv\", index = False) "
      ]
    },
    {
      "cell_type": "markdown",
      "metadata": {},
      "source": [
        "### No duplicates and merged with Dirchlet retrieved sentences:"
      ]
    },
    {
      "cell_type": "code",
      "execution_count": 46,
      "metadata": {},
      "outputs": [
        {
          "data": {
            "text/html": [
              "<div>\n",
              "<style scoped>\n",
              "    .dataframe tbody tr th:only-of-type {\n",
              "        vertical-align: middle;\n",
              "    }\n",
              "\n",
              "    .dataframe tbody tr th {\n",
              "        vertical-align: top;\n",
              "    }\n",
              "\n",
              "    .dataframe thead th {\n",
              "        text-align: right;\n",
              "    }\n",
              "</style>\n",
              "<table border=\"1\" class=\"dataframe\">\n",
              "  <thead>\n",
              "    <tr style=\"text-align: right;\">\n",
              "      <th></th>\n",
              "      <th>qid</th>\n",
              "      <th>docid</th>\n",
              "      <th>docno</th>\n",
              "      <th>rank</th>\n",
              "      <th>score</th>\n",
              "      <th>query</th>\n",
              "    </tr>\n",
              "  </thead>\n",
              "  <tbody>\n",
              "    <tr>\n",
              "      <th>0</th>\n",
              "      <td>1</td>\n",
              "      <td>4985300</td>\n",
              "      <td>Sff0947ec-A46d54897__PREMISE__34</td>\n",
              "      <td>0</td>\n",
              "      <td>9.095028</td>\n",
              "      <td>should teachers get tenure</td>\n",
              "    </tr>\n",
              "    <tr>\n",
              "      <th>1</th>\n",
              "      <td>1</td>\n",
              "      <td>4852132</td>\n",
              "      <td>Sc065954f-A24a16870__PREMISE__38</td>\n",
              "      <td>1</td>\n",
              "      <td>9.076845</td>\n",
              "      <td>should teachers get tenure</td>\n",
              "    </tr>\n",
              "    <tr>\n",
              "      <th>2</th>\n",
              "      <td>1</td>\n",
              "      <td>4852137</td>\n",
              "      <td>Sc065954f-A24a16870__PREMISE__43</td>\n",
              "      <td>2</td>\n",
              "      <td>9.064410</td>\n",
              "      <td>should teachers get tenure</td>\n",
              "    </tr>\n",
              "    <tr>\n",
              "      <th>3</th>\n",
              "      <td>1</td>\n",
              "      <td>4852192</td>\n",
              "      <td>Sc065954f-Ae72bc9c6__PREMISE__43</td>\n",
              "      <td>3</td>\n",
              "      <td>9.064410</td>\n",
              "      <td>should teachers get tenure</td>\n",
              "    </tr>\n",
              "    <tr>\n",
              "      <th>4</th>\n",
              "      <td>1</td>\n",
              "      <td>4852109</td>\n",
              "      <td>Sc065954f-A24a16870__PREMISE__15</td>\n",
              "      <td>4</td>\n",
              "      <td>9.002820</td>\n",
              "      <td>should teachers get tenure</td>\n",
              "    </tr>\n",
              "  </tbody>\n",
              "</table>\n",
              "</div>"
            ],
            "text/plain": [
              "   qid    docid                             docno  rank     score   \n",
              "0    1  4985300  Sff0947ec-A46d54897__PREMISE__34     0  9.095028  \\\n",
              "1    1  4852132  Sc065954f-A24a16870__PREMISE__38     1  9.076845   \n",
              "2    1  4852137  Sc065954f-A24a16870__PREMISE__43     2  9.064410   \n",
              "3    1  4852192  Sc065954f-Ae72bc9c6__PREMISE__43     3  9.064410   \n",
              "4    1  4852109  Sc065954f-A24a16870__PREMISE__15     4  9.002820   \n",
              "\n",
              "                        query  \n",
              "0  should teachers get tenure  \n",
              "1  should teachers get tenure  \n",
              "2  should teachers get tenure  \n",
              "3  should teachers get tenure  \n",
              "4  should teachers get tenure  "
            ]
          },
          "execution_count": 46,
          "metadata": {},
          "output_type": "execute_result"
        }
      ],
      "source": [
        "retrieved = pd.read_csv(\"DMunique_retrieved_sent22.csv\")\n",
        "retrieved.head()"
      ]
    },
    {
      "cell_type": "code",
      "execution_count": null,
      "metadata": {},
      "outputs": [],
      "source": [
        "sent2 = sent[['docno','text','stance']]"
      ]
    },
    {
      "cell_type": "code",
      "execution_count": 48,
      "metadata": {},
      "outputs": [],
      "source": [
        "merged = pd.merge(retrieved, sent2, on=\"docno\", how = 'left')"
      ]
    },
    {
      "cell_type": "code",
      "execution_count": 49,
      "metadata": {},
      "outputs": [
        {
          "data": {
            "text/html": [
              "<div>\n",
              "<style scoped>\n",
              "    .dataframe tbody tr th:only-of-type {\n",
              "        vertical-align: middle;\n",
              "    }\n",
              "\n",
              "    .dataframe tbody tr th {\n",
              "        vertical-align: top;\n",
              "    }\n",
              "\n",
              "    .dataframe thead th {\n",
              "        text-align: right;\n",
              "    }\n",
              "</style>\n",
              "<table border=\"1\" class=\"dataframe\">\n",
              "  <thead>\n",
              "    <tr style=\"text-align: right;\">\n",
              "      <th></th>\n",
              "      <th>qid</th>\n",
              "      <th>docid</th>\n",
              "      <th>docno</th>\n",
              "      <th>rank</th>\n",
              "      <th>score</th>\n",
              "      <th>query</th>\n",
              "      <th>text</th>\n",
              "      <th>stance</th>\n",
              "    </tr>\n",
              "  </thead>\n",
              "  <tbody>\n",
              "    <tr>\n",
              "      <th>0</th>\n",
              "      <td>1</td>\n",
              "      <td>4985300</td>\n",
              "      <td>Sff0947ec-A46d54897__PREMISE__34</td>\n",
              "      <td>0</td>\n",
              "      <td>9.095028</td>\n",
              "      <td>should teachers get tenure</td>\n",
              "      <td>[3]\" [C3]: Research supports tenure Not only h...</td>\n",
              "      <td>CON</td>\n",
              "    </tr>\n",
              "    <tr>\n",
              "      <th>1</th>\n",
              "      <td>1</td>\n",
              "      <td>4852132</td>\n",
              "      <td>Sc065954f-A24a16870__PREMISE__38</td>\n",
              "      <td>1</td>\n",
              "      <td>9.076845</td>\n",
              "      <td>should teachers get tenure</td>\n",
              "      <td>This quote further proves why tenure is pretty...</td>\n",
              "      <td>PRO</td>\n",
              "    </tr>\n",
              "    <tr>\n",
              "      <th>2</th>\n",
              "      <td>1</td>\n",
              "      <td>4852137</td>\n",
              "      <td>Sc065954f-A24a16870__PREMISE__43</td>\n",
              "      <td>2</td>\n",
              "      <td>9.064410</td>\n",
              "      <td>should teachers get tenure</td>\n",
              "      <td>Stephey, \"A Brief History of Tenure,\" www.time...</td>\n",
              "      <td>PRO</td>\n",
              "    </tr>\n",
              "    <tr>\n",
              "      <th>3</th>\n",
              "      <td>1</td>\n",
              "      <td>4852192</td>\n",
              "      <td>Sc065954f-Ae72bc9c6__PREMISE__43</td>\n",
              "      <td>3</td>\n",
              "      <td>9.064410</td>\n",
              "      <td>should teachers get tenure</td>\n",
              "      <td>Stephey, \"A Brief History of Tenure,\" www.time...</td>\n",
              "      <td>PRO</td>\n",
              "    </tr>\n",
              "    <tr>\n",
              "      <th>4</th>\n",
              "      <td>1</td>\n",
              "      <td>4852109</td>\n",
              "      <td>Sc065954f-A24a16870__PREMISE__15</td>\n",
              "      <td>4</td>\n",
              "      <td>9.002820</td>\n",
              "      <td>should teachers get tenure</td>\n",
              "      <td>(http://teachertenure.procon.org......) This m...</td>\n",
              "      <td>PRO</td>\n",
              "    </tr>\n",
              "  </tbody>\n",
              "</table>\n",
              "</div>"
            ],
            "text/plain": [
              "   qid    docid                             docno  rank     score   \n",
              "0    1  4985300  Sff0947ec-A46d54897__PREMISE__34     0  9.095028  \\\n",
              "1    1  4852132  Sc065954f-A24a16870__PREMISE__38     1  9.076845   \n",
              "2    1  4852137  Sc065954f-A24a16870__PREMISE__43     2  9.064410   \n",
              "3    1  4852192  Sc065954f-Ae72bc9c6__PREMISE__43     3  9.064410   \n",
              "4    1  4852109  Sc065954f-A24a16870__PREMISE__15     4  9.002820   \n",
              "\n",
              "                        query   \n",
              "0  should teachers get tenure  \\\n",
              "1  should teachers get tenure   \n",
              "2  should teachers get tenure   \n",
              "3  should teachers get tenure   \n",
              "4  should teachers get tenure   \n",
              "\n",
              "                                                text stance  \n",
              "0  [3]\" [C3]: Research supports tenure Not only h...    CON  \n",
              "1  This quote further proves why tenure is pretty...    PRO  \n",
              "2  Stephey, \"A Brief History of Tenure,\" www.time...    PRO  \n",
              "3  Stephey, \"A Brief History of Tenure,\" www.time...    PRO  \n",
              "4  (http://teachertenure.procon.org......) This m...    PRO  "
            ]
          },
          "execution_count": 49,
          "metadata": {},
          "output_type": "execute_result"
        }
      ],
      "source": [
        "merged.head()"
      ]
    },
    {
      "cell_type": "code",
      "execution_count": null,
      "metadata": {},
      "outputs": [],
      "source": [
        "merged.to_csv(\"DMunique_merged_retreived_sent22.csv\", index = False) "
      ]
    }
  ],
  "metadata": {
    "accelerator": "GPU",
    "colab": {
      "provenance": []
    },
    "gpuClass": "standard",
    "kernelspec": {
      "display_name": "Python 3",
      "name": "python3"
    },
    "language_info": {
      "codemirror_mode": {
        "name": "ipython",
        "version": 3
      },
      "file_extension": ".py",
      "mimetype": "text/x-python",
      "name": "python",
      "nbconvert_exporter": "python",
      "pygments_lexer": "ipython3",
      "version": "3.11.2"
    },
    "widgets": {
      "application/vnd.jupyter.widget-state+json": {
        "11719fe342494a728bf06e3fd0fb26fe": {
          "model_module": "@jupyter-widgets/base",
          "model_module_version": "1.2.0",
          "model_name": "LayoutModel",
          "state": {
            "_model_module": "@jupyter-widgets/base",
            "_model_module_version": "1.2.0",
            "_model_name": "LayoutModel",
            "_view_count": null,
            "_view_module": "@jupyter-widgets/base",
            "_view_module_version": "1.2.0",
            "_view_name": "LayoutView",
            "align_content": null,
            "align_items": null,
            "align_self": null,
            "border": null,
            "bottom": null,
            "display": null,
            "flex": null,
            "flex_flow": null,
            "grid_area": null,
            "grid_auto_columns": null,
            "grid_auto_flow": null,
            "grid_auto_rows": null,
            "grid_column": null,
            "grid_gap": null,
            "grid_row": null,
            "grid_template_areas": null,
            "grid_template_columns": null,
            "grid_template_rows": null,
            "height": null,
            "justify_content": null,
            "justify_items": null,
            "left": null,
            "margin": null,
            "max_height": null,
            "max_width": null,
            "min_height": null,
            "min_width": null,
            "object_fit": null,
            "object_position": null,
            "order": null,
            "overflow": null,
            "overflow_x": null,
            "overflow_y": null,
            "padding": null,
            "right": null,
            "top": null,
            "visibility": null,
            "width": null
          }
        },
        "17c61811ee7e4658a940f8d036a7be6d": {
          "model_module": "@jupyter-widgets/base",
          "model_module_version": "1.2.0",
          "model_name": "LayoutModel",
          "state": {
            "_model_module": "@jupyter-widgets/base",
            "_model_module_version": "1.2.0",
            "_model_name": "LayoutModel",
            "_view_count": null,
            "_view_module": "@jupyter-widgets/base",
            "_view_module_version": "1.2.0",
            "_view_name": "LayoutView",
            "align_content": null,
            "align_items": null,
            "align_self": null,
            "border": null,
            "bottom": null,
            "display": null,
            "flex": null,
            "flex_flow": null,
            "grid_area": null,
            "grid_auto_columns": null,
            "grid_auto_flow": null,
            "grid_auto_rows": null,
            "grid_column": null,
            "grid_gap": null,
            "grid_row": null,
            "grid_template_areas": null,
            "grid_template_columns": null,
            "grid_template_rows": null,
            "height": null,
            "justify_content": null,
            "justify_items": null,
            "left": null,
            "margin": null,
            "max_height": null,
            "max_width": null,
            "min_height": null,
            "min_width": null,
            "object_fit": null,
            "object_position": null,
            "order": null,
            "overflow": null,
            "overflow_x": null,
            "overflow_y": null,
            "padding": null,
            "right": null,
            "top": null,
            "visibility": null,
            "width": null
          }
        },
        "1c110b1822c948bd8275afdac612673a": {
          "model_module": "@jupyter-widgets/controls",
          "model_module_version": "1.5.0",
          "model_name": "FloatProgressModel",
          "state": {
            "_dom_classes": [],
            "_model_module": "@jupyter-widgets/controls",
            "_model_module_version": "1.5.0",
            "_model_name": "FloatProgressModel",
            "_view_count": null,
            "_view_module": "@jupyter-widgets/controls",
            "_view_module_version": "1.5.0",
            "_view_name": "ProgressView",
            "bar_style": "success",
            "description": "",
            "description_tooltip": null,
            "layout": "IPY_MODEL_bec1082e36aa4595b980159780450e04",
            "max": 365408,
            "min": 0,
            "orientation": "horizontal",
            "style": "IPY_MODEL_206366b078e249fcbf4458cdb8741556",
            "value": 365408
          }
        },
        "206366b078e249fcbf4458cdb8741556": {
          "model_module": "@jupyter-widgets/controls",
          "model_module_version": "1.5.0",
          "model_name": "ProgressStyleModel",
          "state": {
            "_model_module": "@jupyter-widgets/controls",
            "_model_module_version": "1.5.0",
            "_model_name": "ProgressStyleModel",
            "_view_count": null,
            "_view_module": "@jupyter-widgets/base",
            "_view_module_version": "1.2.0",
            "_view_name": "StyleView",
            "bar_color": null,
            "description_width": ""
          }
        },
        "26d9da30fdb34b719738b208734cec91": {
          "model_module": "@jupyter-widgets/controls",
          "model_module_version": "1.5.0",
          "model_name": "HBoxModel",
          "state": {
            "_dom_classes": [],
            "_model_module": "@jupyter-widgets/controls",
            "_model_module_version": "1.5.0",
            "_model_name": "HBoxModel",
            "_view_count": null,
            "_view_module": "@jupyter-widgets/controls",
            "_view_module_version": "1.5.0",
            "_view_name": "HBoxView",
            "box_style": "",
            "children": [
              "IPY_MODEL_eb2d31d454e04c72a1c8968dd0411394",
              "IPY_MODEL_8d758282d82a4bf3aa697e09cba241bf",
              "IPY_MODEL_30f3aed313f745948c7402fb07af34be"
            ],
            "layout": "IPY_MODEL_4cfee2e4409746ec93ac9f286ca5da6c"
          }
        },
        "293fe3ece50a45afb1a434437d4921ff": {
          "model_module": "@jupyter-widgets/controls",
          "model_module_version": "1.5.0",
          "model_name": "DescriptionStyleModel",
          "state": {
            "_model_module": "@jupyter-widgets/controls",
            "_model_module_version": "1.5.0",
            "_model_name": "DescriptionStyleModel",
            "_view_count": null,
            "_view_module": "@jupyter-widgets/base",
            "_view_module_version": "1.2.0",
            "_view_name": "StyleView",
            "description_width": ""
          }
        },
        "2b25e1c2bde84004b1d20b2fd266cfbd": {
          "model_module": "@jupyter-widgets/base",
          "model_module_version": "1.2.0",
          "model_name": "LayoutModel",
          "state": {
            "_model_module": "@jupyter-widgets/base",
            "_model_module_version": "1.2.0",
            "_model_name": "LayoutModel",
            "_view_count": null,
            "_view_module": "@jupyter-widgets/base",
            "_view_module_version": "1.2.0",
            "_view_name": "LayoutView",
            "align_content": null,
            "align_items": null,
            "align_self": null,
            "border": null,
            "bottom": null,
            "display": null,
            "flex": null,
            "flex_flow": null,
            "grid_area": null,
            "grid_auto_columns": null,
            "grid_auto_flow": null,
            "grid_auto_rows": null,
            "grid_column": null,
            "grid_gap": null,
            "grid_row": null,
            "grid_template_areas": null,
            "grid_template_columns": null,
            "grid_template_rows": null,
            "height": null,
            "justify_content": null,
            "justify_items": null,
            "left": null,
            "margin": null,
            "max_height": null,
            "max_width": null,
            "min_height": null,
            "min_width": null,
            "object_fit": null,
            "object_position": null,
            "order": null,
            "overflow": null,
            "overflow_x": null,
            "overflow_y": null,
            "padding": null,
            "right": null,
            "top": null,
            "visibility": null,
            "width": null
          }
        },
        "30f3aed313f745948c7402fb07af34be": {
          "model_module": "@jupyter-widgets/controls",
          "model_module_version": "1.5.0",
          "model_name": "HTMLModel",
          "state": {
            "_dom_classes": [],
            "_model_module": "@jupyter-widgets/controls",
            "_model_module_version": "1.5.0",
            "_model_name": "HTMLModel",
            "_view_count": null,
            "_view_module": "@jupyter-widgets/controls",
            "_view_module_version": "1.5.0",
            "_view_name": "HTMLView",
            "description": "",
            "description_tooltip": null,
            "layout": "IPY_MODEL_9f52b5e684fa4f0cac78c21730752304",
            "placeholder": "​",
            "style": "IPY_MODEL_fcc4c17da39e49e9abdffec7fb21516a",
            "value": " 4/365408 [00:00&lt;1:12:09, 84.40it/s]"
          }
        },
        "35b719badbf246e4b14340cd08829856": {
          "model_module": "@jupyter-widgets/controls",
          "model_module_version": "1.5.0",
          "model_name": "HTMLModel",
          "state": {
            "_dom_classes": [],
            "_model_module": "@jupyter-widgets/controls",
            "_model_module_version": "1.5.0",
            "_model_name": "HTMLModel",
            "_view_count": null,
            "_view_module": "@jupyter-widgets/controls",
            "_view_module_version": "1.5.0",
            "_view_name": "HTMLView",
            "description": "",
            "description_tooltip": null,
            "layout": "IPY_MODEL_2b25e1c2bde84004b1d20b2fd266cfbd",
            "placeholder": "​",
            "style": "IPY_MODEL_ad9803fc1ed445d49eef5ea860d6d04c",
            "value": "argsme/2020-04-01/processed/touche-2022-task-1 documents: 100%"
          }
        },
        "425b987de0e54e088580f8cd8d1543b7": {
          "model_module": "@jupyter-widgets/controls",
          "model_module_version": "1.5.0",
          "model_name": "HTMLModel",
          "state": {
            "_dom_classes": [],
            "_model_module": "@jupyter-widgets/controls",
            "_model_module_version": "1.5.0",
            "_model_name": "HTMLModel",
            "_view_count": null,
            "_view_module": "@jupyter-widgets/controls",
            "_view_module_version": "1.5.0",
            "_view_name": "HTMLView",
            "description": "",
            "description_tooltip": null,
            "layout": "IPY_MODEL_86bffcbbd8fd4ff68a20354ea3b69753",
            "placeholder": "​",
            "style": "IPY_MODEL_7be257a822aa4c8096b16f31e33e06b2",
            "value": " 365408/365408 [15:58&lt;00:00, 557.23it/s]"
          }
        },
        "4974d932079f4721a76c7c9a67b8d4d6": {
          "model_module": "@jupyter-widgets/controls",
          "model_module_version": "1.5.0",
          "model_name": "DescriptionStyleModel",
          "state": {
            "_model_module": "@jupyter-widgets/controls",
            "_model_module_version": "1.5.0",
            "_model_name": "DescriptionStyleModel",
            "_view_count": null,
            "_view_module": "@jupyter-widgets/base",
            "_view_module_version": "1.2.0",
            "_view_name": "StyleView",
            "description_width": ""
          }
        },
        "4cfee2e4409746ec93ac9f286ca5da6c": {
          "model_module": "@jupyter-widgets/base",
          "model_module_version": "1.2.0",
          "model_name": "LayoutModel",
          "state": {
            "_model_module": "@jupyter-widgets/base",
            "_model_module_version": "1.2.0",
            "_model_name": "LayoutModel",
            "_view_count": null,
            "_view_module": "@jupyter-widgets/base",
            "_view_module_version": "1.2.0",
            "_view_name": "LayoutView",
            "align_content": null,
            "align_items": null,
            "align_self": null,
            "border": null,
            "bottom": null,
            "display": null,
            "flex": null,
            "flex_flow": null,
            "grid_area": null,
            "grid_auto_columns": null,
            "grid_auto_flow": null,
            "grid_auto_rows": null,
            "grid_column": null,
            "grid_gap": null,
            "grid_row": null,
            "grid_template_areas": null,
            "grid_template_columns": null,
            "grid_template_rows": null,
            "height": null,
            "justify_content": null,
            "justify_items": null,
            "left": null,
            "margin": null,
            "max_height": null,
            "max_width": null,
            "min_height": null,
            "min_width": null,
            "object_fit": null,
            "object_position": null,
            "order": null,
            "overflow": null,
            "overflow_x": null,
            "overflow_y": null,
            "padding": null,
            "right": null,
            "top": null,
            "visibility": null,
            "width": null
          }
        },
        "6c63f71267fe420893c433843c4a6a8d": {
          "model_module": "@jupyter-widgets/controls",
          "model_module_version": "1.5.0",
          "model_name": "ProgressStyleModel",
          "state": {
            "_model_module": "@jupyter-widgets/controls",
            "_model_module_version": "1.5.0",
            "_model_name": "ProgressStyleModel",
            "_view_count": null,
            "_view_module": "@jupyter-widgets/base",
            "_view_module_version": "1.2.0",
            "_view_name": "StyleView",
            "bar_color": null,
            "description_width": ""
          }
        },
        "76d55b9834a8423c846e512d735ad2be": {
          "model_module": "@jupyter-widgets/base",
          "model_module_version": "1.2.0",
          "model_name": "LayoutModel",
          "state": {
            "_model_module": "@jupyter-widgets/base",
            "_model_module_version": "1.2.0",
            "_model_name": "LayoutModel",
            "_view_count": null,
            "_view_module": "@jupyter-widgets/base",
            "_view_module_version": "1.2.0",
            "_view_name": "LayoutView",
            "align_content": null,
            "align_items": null,
            "align_self": null,
            "border": null,
            "bottom": null,
            "display": null,
            "flex": null,
            "flex_flow": null,
            "grid_area": null,
            "grid_auto_columns": null,
            "grid_auto_flow": null,
            "grid_auto_rows": null,
            "grid_column": null,
            "grid_gap": null,
            "grid_row": null,
            "grid_template_areas": null,
            "grid_template_columns": null,
            "grid_template_rows": null,
            "height": null,
            "justify_content": null,
            "justify_items": null,
            "left": null,
            "margin": null,
            "max_height": null,
            "max_width": null,
            "min_height": null,
            "min_width": null,
            "object_fit": null,
            "object_position": null,
            "order": null,
            "overflow": null,
            "overflow_x": null,
            "overflow_y": null,
            "padding": null,
            "right": null,
            "top": null,
            "visibility": null,
            "width": null
          }
        },
        "7be257a822aa4c8096b16f31e33e06b2": {
          "model_module": "@jupyter-widgets/controls",
          "model_module_version": "1.5.0",
          "model_name": "DescriptionStyleModel",
          "state": {
            "_model_module": "@jupyter-widgets/controls",
            "_model_module_version": "1.5.0",
            "_model_name": "DescriptionStyleModel",
            "_view_count": null,
            "_view_module": "@jupyter-widgets/base",
            "_view_module_version": "1.2.0",
            "_view_name": "StyleView",
            "description_width": ""
          }
        },
        "7e9b161dbdee41289754ede0a603b2e2": {
          "model_module": "@jupyter-widgets/controls",
          "model_module_version": "1.5.0",
          "model_name": "HTMLModel",
          "state": {
            "_dom_classes": [],
            "_model_module": "@jupyter-widgets/controls",
            "_model_module_version": "1.5.0",
            "_model_name": "HTMLModel",
            "_view_count": null,
            "_view_module": "@jupyter-widgets/controls",
            "_view_module_version": "1.5.0",
            "_view_name": "HTMLView",
            "description": "",
            "description_tooltip": null,
            "layout": "IPY_MODEL_17c61811ee7e4658a940f8d036a7be6d",
            "placeholder": "​",
            "style": "IPY_MODEL_293fe3ece50a45afb1a434437d4921ff",
            "value": " 365408/365408 [30:14&lt;00:00, 194.75it/s]"
          }
        },
        "86bffcbbd8fd4ff68a20354ea3b69753": {
          "model_module": "@jupyter-widgets/base",
          "model_module_version": "1.2.0",
          "model_name": "LayoutModel",
          "state": {
            "_model_module": "@jupyter-widgets/base",
            "_model_module_version": "1.2.0",
            "_model_name": "LayoutModel",
            "_view_count": null,
            "_view_module": "@jupyter-widgets/base",
            "_view_module_version": "1.2.0",
            "_view_name": "LayoutView",
            "align_content": null,
            "align_items": null,
            "align_self": null,
            "border": null,
            "bottom": null,
            "display": null,
            "flex": null,
            "flex_flow": null,
            "grid_area": null,
            "grid_auto_columns": null,
            "grid_auto_flow": null,
            "grid_auto_rows": null,
            "grid_column": null,
            "grid_gap": null,
            "grid_row": null,
            "grid_template_areas": null,
            "grid_template_columns": null,
            "grid_template_rows": null,
            "height": null,
            "justify_content": null,
            "justify_items": null,
            "left": null,
            "margin": null,
            "max_height": null,
            "max_width": null,
            "min_height": null,
            "min_width": null,
            "object_fit": null,
            "object_position": null,
            "order": null,
            "overflow": null,
            "overflow_x": null,
            "overflow_y": null,
            "padding": null,
            "right": null,
            "top": null,
            "visibility": null,
            "width": null
          }
        },
        "8d758282d82a4bf3aa697e09cba241bf": {
          "model_module": "@jupyter-widgets/controls",
          "model_module_version": "1.5.0",
          "model_name": "FloatProgressModel",
          "state": {
            "_dom_classes": [],
            "_model_module": "@jupyter-widgets/controls",
            "_model_module_version": "1.5.0",
            "_model_name": "FloatProgressModel",
            "_view_count": null,
            "_view_module": "@jupyter-widgets/controls",
            "_view_module_version": "1.5.0",
            "_view_name": "ProgressView",
            "bar_style": "danger",
            "description": "",
            "description_tooltip": null,
            "layout": "IPY_MODEL_e6128bd366394971b9360255974de62e",
            "max": 365408,
            "min": 0,
            "orientation": "horizontal",
            "style": "IPY_MODEL_decacf34d5c440138429762707de9955",
            "value": 4
          }
        },
        "961e5ed02c074924a30a37388e118151": {
          "model_module": "@jupyter-widgets/base",
          "model_module_version": "1.2.0",
          "model_name": "LayoutModel",
          "state": {
            "_model_module": "@jupyter-widgets/base",
            "_model_module_version": "1.2.0",
            "_model_name": "LayoutModel",
            "_view_count": null,
            "_view_module": "@jupyter-widgets/base",
            "_view_module_version": "1.2.0",
            "_view_name": "LayoutView",
            "align_content": null,
            "align_items": null,
            "align_self": null,
            "border": null,
            "bottom": null,
            "display": null,
            "flex": null,
            "flex_flow": null,
            "grid_area": null,
            "grid_auto_columns": null,
            "grid_auto_flow": null,
            "grid_auto_rows": null,
            "grid_column": null,
            "grid_gap": null,
            "grid_row": null,
            "grid_template_areas": null,
            "grid_template_columns": null,
            "grid_template_rows": null,
            "height": null,
            "justify_content": null,
            "justify_items": null,
            "left": null,
            "margin": null,
            "max_height": null,
            "max_width": null,
            "min_height": null,
            "min_width": null,
            "object_fit": null,
            "object_position": null,
            "order": null,
            "overflow": null,
            "overflow_x": null,
            "overflow_y": null,
            "padding": null,
            "right": null,
            "top": null,
            "visibility": null,
            "width": null
          }
        },
        "9a583a78f4d9438d85ac1ac95d3ed34b": {
          "model_module": "@jupyter-widgets/base",
          "model_module_version": "1.2.0",
          "model_name": "LayoutModel",
          "state": {
            "_model_module": "@jupyter-widgets/base",
            "_model_module_version": "1.2.0",
            "_model_name": "LayoutModel",
            "_view_count": null,
            "_view_module": "@jupyter-widgets/base",
            "_view_module_version": "1.2.0",
            "_view_name": "LayoutView",
            "align_content": null,
            "align_items": null,
            "align_self": null,
            "border": null,
            "bottom": null,
            "display": null,
            "flex": null,
            "flex_flow": null,
            "grid_area": null,
            "grid_auto_columns": null,
            "grid_auto_flow": null,
            "grid_auto_rows": null,
            "grid_column": null,
            "grid_gap": null,
            "grid_row": null,
            "grid_template_areas": null,
            "grid_template_columns": null,
            "grid_template_rows": null,
            "height": null,
            "justify_content": null,
            "justify_items": null,
            "left": null,
            "margin": null,
            "max_height": null,
            "max_width": null,
            "min_height": null,
            "min_width": null,
            "object_fit": null,
            "object_position": null,
            "order": null,
            "overflow": null,
            "overflow_x": null,
            "overflow_y": null,
            "padding": null,
            "right": null,
            "top": null,
            "visibility": null,
            "width": null
          }
        },
        "9f52b5e684fa4f0cac78c21730752304": {
          "model_module": "@jupyter-widgets/base",
          "model_module_version": "1.2.0",
          "model_name": "LayoutModel",
          "state": {
            "_model_module": "@jupyter-widgets/base",
            "_model_module_version": "1.2.0",
            "_model_name": "LayoutModel",
            "_view_count": null,
            "_view_module": "@jupyter-widgets/base",
            "_view_module_version": "1.2.0",
            "_view_name": "LayoutView",
            "align_content": null,
            "align_items": null,
            "align_self": null,
            "border": null,
            "bottom": null,
            "display": null,
            "flex": null,
            "flex_flow": null,
            "grid_area": null,
            "grid_auto_columns": null,
            "grid_auto_flow": null,
            "grid_auto_rows": null,
            "grid_column": null,
            "grid_gap": null,
            "grid_row": null,
            "grid_template_areas": null,
            "grid_template_columns": null,
            "grid_template_rows": null,
            "height": null,
            "justify_content": null,
            "justify_items": null,
            "left": null,
            "margin": null,
            "max_height": null,
            "max_width": null,
            "min_height": null,
            "min_width": null,
            "object_fit": null,
            "object_position": null,
            "order": null,
            "overflow": null,
            "overflow_x": null,
            "overflow_y": null,
            "padding": null,
            "right": null,
            "top": null,
            "visibility": null,
            "width": null
          }
        },
        "ad9803fc1ed445d49eef5ea860d6d04c": {
          "model_module": "@jupyter-widgets/controls",
          "model_module_version": "1.5.0",
          "model_name": "DescriptionStyleModel",
          "state": {
            "_model_module": "@jupyter-widgets/controls",
            "_model_module_version": "1.5.0",
            "_model_name": "DescriptionStyleModel",
            "_view_count": null,
            "_view_module": "@jupyter-widgets/base",
            "_view_module_version": "1.2.0",
            "_view_name": "StyleView",
            "description_width": ""
          }
        },
        "adf1d6ff52d34e05aeba87d43a34e26c": {
          "model_module": "@jupyter-widgets/controls",
          "model_module_version": "1.5.0",
          "model_name": "HTMLModel",
          "state": {
            "_dom_classes": [],
            "_model_module": "@jupyter-widgets/controls",
            "_model_module_version": "1.5.0",
            "_model_name": "HTMLModel",
            "_view_count": null,
            "_view_module": "@jupyter-widgets/controls",
            "_view_module_version": "1.5.0",
            "_view_name": "HTMLView",
            "description": "",
            "description_tooltip": null,
            "layout": "IPY_MODEL_11719fe342494a728bf06e3fd0fb26fe",
            "placeholder": "​",
            "style": "IPY_MODEL_4974d932079f4721a76c7c9a67b8d4d6",
            "value": "argsme/2020-04-01/processed/touche-2022-task-1 documents: 100%"
          }
        },
        "bafde50f5eaf464e9ce746ae57a967f2": {
          "model_module": "@jupyter-widgets/controls",
          "model_module_version": "1.5.0",
          "model_name": "HBoxModel",
          "state": {
            "_dom_classes": [],
            "_model_module": "@jupyter-widgets/controls",
            "_model_module_version": "1.5.0",
            "_model_name": "HBoxModel",
            "_view_count": null,
            "_view_module": "@jupyter-widgets/controls",
            "_view_module_version": "1.5.0",
            "_view_name": "HBoxView",
            "box_style": "",
            "children": [
              "IPY_MODEL_35b719badbf246e4b14340cd08829856",
              "IPY_MODEL_1c110b1822c948bd8275afdac612673a",
              "IPY_MODEL_425b987de0e54e088580f8cd8d1543b7"
            ],
            "layout": "IPY_MODEL_76d55b9834a8423c846e512d735ad2be"
          }
        },
        "be3329135a364e68ab30313eaec9cfa3": {
          "model_module": "@jupyter-widgets/base",
          "model_module_version": "1.2.0",
          "model_name": "LayoutModel",
          "state": {
            "_model_module": "@jupyter-widgets/base",
            "_model_module_version": "1.2.0",
            "_model_name": "LayoutModel",
            "_view_count": null,
            "_view_module": "@jupyter-widgets/base",
            "_view_module_version": "1.2.0",
            "_view_name": "LayoutView",
            "align_content": null,
            "align_items": null,
            "align_self": null,
            "border": null,
            "bottom": null,
            "display": null,
            "flex": null,
            "flex_flow": null,
            "grid_area": null,
            "grid_auto_columns": null,
            "grid_auto_flow": null,
            "grid_auto_rows": null,
            "grid_column": null,
            "grid_gap": null,
            "grid_row": null,
            "grid_template_areas": null,
            "grid_template_columns": null,
            "grid_template_rows": null,
            "height": null,
            "justify_content": null,
            "justify_items": null,
            "left": null,
            "margin": null,
            "max_height": null,
            "max_width": null,
            "min_height": null,
            "min_width": null,
            "object_fit": null,
            "object_position": null,
            "order": null,
            "overflow": null,
            "overflow_x": null,
            "overflow_y": null,
            "padding": null,
            "right": null,
            "top": null,
            "visibility": null,
            "width": null
          }
        },
        "bec1082e36aa4595b980159780450e04": {
          "model_module": "@jupyter-widgets/base",
          "model_module_version": "1.2.0",
          "model_name": "LayoutModel",
          "state": {
            "_model_module": "@jupyter-widgets/base",
            "_model_module_version": "1.2.0",
            "_model_name": "LayoutModel",
            "_view_count": null,
            "_view_module": "@jupyter-widgets/base",
            "_view_module_version": "1.2.0",
            "_view_name": "LayoutView",
            "align_content": null,
            "align_items": null,
            "align_self": null,
            "border": null,
            "bottom": null,
            "display": null,
            "flex": null,
            "flex_flow": null,
            "grid_area": null,
            "grid_auto_columns": null,
            "grid_auto_flow": null,
            "grid_auto_rows": null,
            "grid_column": null,
            "grid_gap": null,
            "grid_row": null,
            "grid_template_areas": null,
            "grid_template_columns": null,
            "grid_template_rows": null,
            "height": null,
            "justify_content": null,
            "justify_items": null,
            "left": null,
            "margin": null,
            "max_height": null,
            "max_width": null,
            "min_height": null,
            "min_width": null,
            "object_fit": null,
            "object_position": null,
            "order": null,
            "overflow": null,
            "overflow_x": null,
            "overflow_y": null,
            "padding": null,
            "right": null,
            "top": null,
            "visibility": null,
            "width": null
          }
        },
        "c0775622dc92414fb887d82862017ae5": {
          "model_module": "@jupyter-widgets/controls",
          "model_module_version": "1.5.0",
          "model_name": "DescriptionStyleModel",
          "state": {
            "_model_module": "@jupyter-widgets/controls",
            "_model_module_version": "1.5.0",
            "_model_name": "DescriptionStyleModel",
            "_view_count": null,
            "_view_module": "@jupyter-widgets/base",
            "_view_module_version": "1.2.0",
            "_view_name": "StyleView",
            "description_width": ""
          }
        },
        "c74e3dab40a74531b22744c898bc9b77": {
          "model_module": "@jupyter-widgets/controls",
          "model_module_version": "1.5.0",
          "model_name": "HBoxModel",
          "state": {
            "_dom_classes": [],
            "_model_module": "@jupyter-widgets/controls",
            "_model_module_version": "1.5.0",
            "_model_name": "HBoxModel",
            "_view_count": null,
            "_view_module": "@jupyter-widgets/controls",
            "_view_module_version": "1.5.0",
            "_view_name": "HBoxView",
            "box_style": "",
            "children": [
              "IPY_MODEL_adf1d6ff52d34e05aeba87d43a34e26c",
              "IPY_MODEL_e4d0f3fac2574ee489d4874a94932ecc",
              "IPY_MODEL_7e9b161dbdee41289754ede0a603b2e2"
            ],
            "layout": "IPY_MODEL_9a583a78f4d9438d85ac1ac95d3ed34b"
          }
        },
        "decacf34d5c440138429762707de9955": {
          "model_module": "@jupyter-widgets/controls",
          "model_module_version": "1.5.0",
          "model_name": "ProgressStyleModel",
          "state": {
            "_model_module": "@jupyter-widgets/controls",
            "_model_module_version": "1.5.0",
            "_model_name": "ProgressStyleModel",
            "_view_count": null,
            "_view_module": "@jupyter-widgets/base",
            "_view_module_version": "1.2.0",
            "_view_name": "StyleView",
            "bar_color": null,
            "description_width": ""
          }
        },
        "e4d0f3fac2574ee489d4874a94932ecc": {
          "model_module": "@jupyter-widgets/controls",
          "model_module_version": "1.5.0",
          "model_name": "FloatProgressModel",
          "state": {
            "_dom_classes": [],
            "_model_module": "@jupyter-widgets/controls",
            "_model_module_version": "1.5.0",
            "_model_name": "FloatProgressModel",
            "_view_count": null,
            "_view_module": "@jupyter-widgets/controls",
            "_view_module_version": "1.5.0",
            "_view_name": "ProgressView",
            "bar_style": "success",
            "description": "",
            "description_tooltip": null,
            "layout": "IPY_MODEL_be3329135a364e68ab30313eaec9cfa3",
            "max": 365408,
            "min": 0,
            "orientation": "horizontal",
            "style": "IPY_MODEL_6c63f71267fe420893c433843c4a6a8d",
            "value": 365408
          }
        },
        "e6128bd366394971b9360255974de62e": {
          "model_module": "@jupyter-widgets/base",
          "model_module_version": "1.2.0",
          "model_name": "LayoutModel",
          "state": {
            "_model_module": "@jupyter-widgets/base",
            "_model_module_version": "1.2.0",
            "_model_name": "LayoutModel",
            "_view_count": null,
            "_view_module": "@jupyter-widgets/base",
            "_view_module_version": "1.2.0",
            "_view_name": "LayoutView",
            "align_content": null,
            "align_items": null,
            "align_self": null,
            "border": null,
            "bottom": null,
            "display": null,
            "flex": null,
            "flex_flow": null,
            "grid_area": null,
            "grid_auto_columns": null,
            "grid_auto_flow": null,
            "grid_auto_rows": null,
            "grid_column": null,
            "grid_gap": null,
            "grid_row": null,
            "grid_template_areas": null,
            "grid_template_columns": null,
            "grid_template_rows": null,
            "height": null,
            "justify_content": null,
            "justify_items": null,
            "left": null,
            "margin": null,
            "max_height": null,
            "max_width": null,
            "min_height": null,
            "min_width": null,
            "object_fit": null,
            "object_position": null,
            "order": null,
            "overflow": null,
            "overflow_x": null,
            "overflow_y": null,
            "padding": null,
            "right": null,
            "top": null,
            "visibility": null,
            "width": null
          }
        },
        "eb2d31d454e04c72a1c8968dd0411394": {
          "model_module": "@jupyter-widgets/controls",
          "model_module_version": "1.5.0",
          "model_name": "HTMLModel",
          "state": {
            "_dom_classes": [],
            "_model_module": "@jupyter-widgets/controls",
            "_model_module_version": "1.5.0",
            "_model_name": "HTMLModel",
            "_view_count": null,
            "_view_module": "@jupyter-widgets/controls",
            "_view_module_version": "1.5.0",
            "_view_name": "HTMLView",
            "description": "",
            "description_tooltip": null,
            "layout": "IPY_MODEL_961e5ed02c074924a30a37388e118151",
            "placeholder": "​",
            "style": "IPY_MODEL_c0775622dc92414fb887d82862017ae5",
            "value": "argsme/2020-04-01/processed/touche-2022-task-1 documents:   0%"
          }
        },
        "fcc4c17da39e49e9abdffec7fb21516a": {
          "model_module": "@jupyter-widgets/controls",
          "model_module_version": "1.5.0",
          "model_name": "DescriptionStyleModel",
          "state": {
            "_model_module": "@jupyter-widgets/controls",
            "_model_module_version": "1.5.0",
            "_model_name": "DescriptionStyleModel",
            "_view_count": null,
            "_view_module": "@jupyter-widgets/base",
            "_view_module_version": "1.2.0",
            "_view_name": "StyleView",
            "description_width": ""
          }
        }
      }
    }
  },
  "nbformat": 4,
  "nbformat_minor": 0
}
